{
 "cells": [
  {
   "cell_type": "markdown",
   "metadata": {},
   "source": [
    "# MUTAN: Multimodal Tucker Fusion for VQA"
   ]
  },
  {
   "cell_type": "markdown",
   "metadata": {},
   "source": [
    "- https://github.com/Cadene/vqa.pytorch\n",
    "<img src=\"./imgs/mutan_concept.jpg\" width=\"800\">"
   ]
  },
  {
   "cell_type": "markdown",
   "metadata": {},
   "source": [
    "- 이미지, 텍스트 정보를 어떻게 합할 것인가? → Bilinear model이 효과적\n",
    "  - encode fully-parametrized bilinear interaction\n",
    "  - 그런데 fully-parametrized bilinear interaction은 차원이 너무 커짐\n",
    "- Tucker decomposition을 활용하여 Image, Question의 bilinear interaction을 효율적으로 표현\n",
    "- Multimodal fusion scheme based on bilinear interactions between modalities\n",
    "- Contribution\n",
    "  - Tucker decomposition은 MCB, MLB 등의 다른 bilinear model을 더 일반화한 방법\n",
    "  - Sparsity constraint를 활용해 모델 파라미터 수를 조절 가능\n",
    "  - State-of-the-art on the most widely used [VQA dataset](http://visualqa.org/)"
   ]
  },
  {
   "cell_type": "markdown",
   "metadata": {},
   "source": [
    "## Model Architecture\n",
    "![model](./imgs/mutan_model.jpg)"
   ]
  },
  {
   "cell_type": "markdown",
   "metadata": {},
   "source": [
    "Bilinear interactions between the vectors $\\mathbf{q}$ and $\\mathbf{v}$ is\n",
    "\\begin{equation} \\mathbf{y} = \\mathcal{T} \\, \\small{\\times_1} \\, \\mathbf{q} \\, \\small{\\times_2} \\, \\mathbf{v}\\end{equation}\n",
    "where $\\scriptsize{\\mathcal{T} \\in \\mathbb{R}^{d_q \\times d_v \\times |\\mathcal{A}|}}$ and $\\scriptsize{\\times_k}$ is k-mode product.  \n",
    "여기서 $\\scriptsize{\\mathcal{T}}$를 그대로 사용하면 파라미터 수가 매우 많아지기 때문에 Tucker decomposition으로 factorize"
   ]
  },
  {
   "cell_type": "markdown",
   "metadata": {},
   "source": [
    "(참고) k-mode product  \n",
    "The k-mode product of a tensor $\\scriptsize{X \\in \\mathbb{R}^{I_1 \\times I_2 \\times \\dots \\times I_n}}$ with a matrix $\\scriptsize{A \\in \\mathbb{R}^{J \\times I_k}}$ is  \n",
    "\n",
    "\\begin{aligned} Y &= X \\, \\small{\\times_k} \\, A  \\\\\n",
    "\\small{\\text{where }} \\, y_{i_1 \\dots i_{k-1}ji_{k+1} \\dots i_n} &= \\sum_{i_k = 1}^{I_k} x_{i_1 \\dots i_n} a_{ji_k}  \\end{aligned}\n",
    "\n",
    "The size of resulting tensor $\\scriptsize{Y}$ is $\\scriptsize{I_1 \\times \\dots I_{K-1} \\times J \\times I_{k+1} \\dots \\times I_n}$ .\n",
    "- Property\n",
    "\\begin{aligned} X \\, \\small{\\times_m} \\, A \\, \\small{\\times_n} \\, B &= X \\, \\small{\\times_n} \\, B \\, \\small{\\times_m} \\, A \\, \\scriptsize{\\text{ where }} \\small{m \\neq n} \\\\\n",
    "X \\, \\small{\\times_n} \\, A \\, \\small{\\times_n} \\, B &= X \\, \\small{\\times_n} \\, (BA) \\quad (\\scriptsize{\\text{in general }} \\small{\\neq X \\, \\small{\\times_n} \\, B \\, \\small{\\times_n} \\, A})\\end{aligned}"
   ]
  },
  {
   "cell_type": "markdown",
   "metadata": {},
   "source": [
    "## Tucker decomposition\n",
    "<img src=\"./imgs/tucker.jpg\" width=\"300\">  \n",
    " \n",
    "- Higher order SVD\n",
    "- Higher order orthogonal iteration"
   ]
  },
  {
   "cell_type": "markdown",
   "metadata": {},
   "source": [
    "우리 문제에서는, \n",
    "\\begin{equation} \\mathcal{T} = \\mathcal{T_c} \\,\\, \\small{\\times_1} \\, W_q \\,\\, \\small{\\times_2} \\, W_v \\,\\, \\small{\\times_3} \\, W_o\\end{equation}\n",
    "where $\\scriptsize{W_q \\in \\mathbb{R}^{d_q \\times t_q}}$, $\\scriptsize{W_v \\in \\mathbb{R}^{d_v \\times t_v}}$, $\\scriptsize{W_o \\in \\mathbb{R}^{|\\mathcal{A}| \\times t_o}}$, $\\scriptsize{\\mathcal{T}_c \\in \\mathbb{R}^{t_q \\times t_v \\times t_o}}$.  \n",
    "\\begin{aligned} \\mathbf{y} &= \\mathcal{T} \\,\\, \\small{\\times_1} \\,\\, \\mathbf{q} \\,\\, \\small{\\times_2} \\,\\, \\mathbf{v} \\\\\n",
    "&= \\mathcal{T}_c \\,\\, \\small{\\times_1} \\,\\, (\\mathbf{q}^T W_q) \\,\\, \\small{\\times_2} \\,\\, (\\mathbf{v}^T W_v) \\,\\, \\small{\\times_3} \\,\\, W_o \\end{aligned}\n",
    "\n",
    "If we define $\\,\\scriptsize{\\tilde{\\mathbf{q}} := \\mathbf{q}^T W_q} \\in \\mathbb{R}^{t_q}\\,$  and  $\\,\\scriptsize{\\tilde{\\mathbf{v}} := \\mathbf{v}^T W_v} \\in \\mathbb{R}^{t_v}\\,$, then \n",
    "\\begin{aligned} \\mathbf{z} &:= \\mathcal{T}_c \\,\\, \\small{\\times_1} \\,\\, \\tilde{\\mathbf{q}}  \\,\\, \\small{\\times_2} \\,\\, \\tilde{\\mathbf{v}} \\in \\mathbb{R}^{t_o} \\\\\n",
    "\\mathbf{y} &= \\mathbf{z}^T W_o \\in \\mathbb{R}^{|\\mathcal{A}|} \\end{aligned}\n",
    "This is strictly equivalent to encode a full bilinear interaction of projections of $\\scriptsize{\\mathbf{q}}$ and $\\scriptsize{\\mathbf{v}}$ into a latent pair representation $\\scriptsize{\\mathbf{z}}$.  \n",
    "\n",
    "- $\\scriptsize{W_q}$, $\\scriptsize{W_v}$는 질문과 이미지를 각각 $\\scriptsize{t_q}$, $\\scriptsize{t_v}$차원으로 project  \n",
    "- $\\scriptsize{\\mathcal{T}_c}$는 질문과 이미지 간의 interaction을 $\\scriptsize{t_o}$ 차원으로 project\n",
    "- $\\scriptsize{t_q}$, $\\scriptsize{t_v}$ 차원 크기에 따라 모델의 question, image에 관한 complexity 반영"
   ]
  },
  {
   "cell_type": "markdown",
   "metadata": {},
   "source": [
    "## Tensor Sparsity\n",
    "- Interaction modeling에서는 expressivity와 complexity의 밸런스 필요  \n",
    "- Slice matrices in $\\scriptsize{\\mathcal{T}_c}$에 sparsity constraint $\\scriptsize{R}$ 적용  \n",
    "\n",
    "\\begin{aligned} \\mathbf{z}[k] &= \\tilde{\\mathbf{q}}^T \\, \\mathcal{T}_c[:,:,k] \\, \\tilde{\\mathbf{v}} \\\\\n",
    "\\mathcal{T}_c[:,:,k] &\\approx \\sum_{r=1}^{R} m_r^k \\otimes {n_r^k}^T \\, \\small{\\text{where }} \\, m_r^k \\in \\mathbb{R}^{t_q}, n_r^k \\in \\mathbb{R}^{t_v} \\\\\n",
    "\\mathbf{z}[k] &= \\sum_{r=1}^{R}(\\tilde{\\mathbf{q}}^T m_r^k) (\\tilde{\\mathbf{v}}^T n_r^k) \\end{aligned}\n",
    "If we define $\\scriptsize{R}$ matrices $\\scriptsize{M_r \\in \\mathbb{R}^{t_q \\times t_o}}$, $\\scriptsize{N_r \\in \\mathbb{R}^{t_v \\times t_o}}$ such as $\\scriptsize{M_r[:,k] = m_r^k}$, $\\scriptsize{N_r[:,k] = n_r^k}$ for all k, then the structured sparsity on $\\scriptsize{\\mathcal{T}_c}$ can be written as \n",
    "\\begin{aligned} \\mathbf{z} &= \\sum_{r=1}^R \\mathbf{z}_r \\\\\n",
    "\\small{\\text{where }} \\, \\mathbf{z}_r &= (\\tilde{\\mathbf{q}}^T M_r) * (\\tilde{\\mathbf{v}}^T N_r) \\end{aligned}\n",
    "- Interpretation\n",
    "\n",
    "\\begin{aligned} \\mathbf{z}_r[k] &= (\\tilde{\\mathbf{q}} \\small{\\text{ similar to }} \\normalsize{m_r^k}) \\scriptsize{\\text{ AND }} \\normalsize( \\tilde{\\mathbf{v}} \\small{\\text{ similar to }} \\normalsize n_r^k) \\\\\n",
    "\\mathbf{z}[k] &= \\mathbf{z}_1[k] \\, \\scriptsize{\\text{ OR }} \\, \\dots \\, \\scriptsize{\\text{ OR }} \\, \\normalsize \\mathbf{z}_R[k] \\end{aligned}"
   ]
  },
  {
   "cell_type": "markdown",
   "metadata": {},
   "source": [
    "## Model Setup\n",
    "<!-- - Resize images to be of size (448, 448) -->\n",
    "- Visual feature extractor\n",
    "  - use ResNet152 (feature maps of size 14 x 14 x 2048)\n",
    "  - Attention model: keep 14 x 14 tiling\n",
    "  - Without attention: average of 14 x 14 vectors\n",
    "- Question feature\n",
    "  - GNMT encoder\n",
    "  - cf. 기존 논문 : GRU initialized w/ pretrained Skip-thoughts model\n",
    "- Train to predict the most common answer in the 10 annotated responses\n",
    "- $\\scriptsize{t_q = t_v = t_o = 360}$, $\\scriptsize{R = 10}$\n",
    "- $\\scriptsize{|\\mathcal{A}|}$ is fixed to the 2000 most frequent answers\n",
    "- Use ADAM  "
   ]
  },
  {
   "cell_type": "markdown",
   "metadata": {},
   "source": []
  },
  {
   "cell_type": "markdown",
   "metadata": {},
   "source": [
    "# Without Attention"
   ]
  },
  {
   "cell_type": "code",
   "execution_count": 1,
   "metadata": {
    "ExecuteTime": {
     "end_time": "2018-05-02T16:39:55.710531Z",
     "start_time": "2018-05-02T16:39:54.445376Z"
    }
   },
   "outputs": [
    {
     "name": "stderr",
     "output_type": "stream",
     "text": [
      "/Users/jsh/anaconda3/lib/python3.6/site-packages/urllib3/contrib/pyopenssl.py:46: DeprecationWarning: OpenSSL.rand is deprecated - you should use os.urandom instead\n",
      "  import OpenSSL.SSL\n"
     ]
    }
   ],
   "source": [
    "import os\n",
    "import time\n",
    "import random\n",
    "import numpy as np\n",
    "from tqdm import tqdm\n",
    "import bisect\n",
    "import json\n",
    "import logging\n",
    "#logging.basicConfig(level=logging.INFO)\n",
    "\n",
    "import mxnet as mx\n",
    "from mxnet import nd, autograd, gluon\n",
    "import mxnet.gluon as gluon\n",
    "from mxnet.gluon import Parameter\n",
    "from mxnet.gluon import nn\n",
    "from mxnet.test_utils import download\n",
    "import mxnet.ndarray as F\n",
    "import mxnet.contrib.ndarray as C\n",
    "\n",
    "mx.random.seed(1)\n",
    "ctx = mx.cpu()"
   ]
  },
  {
   "cell_type": "code",
   "execution_count": 21,
   "metadata": {
    "ExecuteTime": {
     "end_time": "2018-05-02T18:20:10.172120Z",
     "start_time": "2018-05-02T18:20:10.168269Z"
    }
   },
   "outputs": [],
   "source": [
    "# Some parameters we are going to use\n",
    "batch_size = 512\n",
    "compute_size  = batch_size\n",
    "num_classes = 2000\n",
    "gpus = 1"
   ]
  },
  {
   "cell_type": "markdown",
   "metadata": {},
   "source": [
    "### Load Dataset\n",
    "- Ref: http://gluon.mxnet.io/chapter08_computer-vision/visual-question-answer.html?highlight=block"
   ]
  },
  {
   "cell_type": "code",
   "execution_count": 22,
   "metadata": {
    "ExecuteTime": {
     "end_time": "2018-05-02T18:20:16.828967Z",
     "start_time": "2018-05-02T18:20:16.811892Z"
    }
   },
   "outputs": [],
   "source": [
    "# Download the dataset\n",
    "dataset_files = {'train': ('train_question.npz','train_img.npz','train_ans.npz'),\n",
    "                 'validation': ('val_question.npz','val_img.npz','val_ans.npz'),\n",
    "                 'test':('test_question_id.npz','test_question.npz','test_img_id.npz','test_img.npz','atoi.json','test_question_txt.json')}\n",
    "\n",
    "train_q, train_i, train_a = dataset_files['train']\n",
    "val_q, val_i, val_a = dataset_files['validation']\n",
    "\n",
    "url_format = 'https://apache-mxnet.s3-accelerate.amazonaws.com/gluon/dataset/VQA-notebook/{}'\n",
    "if not os.path.exists(train_q):\n",
    "    download(url_format.format(train_q), overwrite=True)\n",
    "    download(url_format.format(train_i), overwrite=True)\n",
    "    download(url_format.format(train_a), overwrite=True)\n",
    "if not os.path.exists(val_q):\n",
    "    download(url_format.format(val_q), overwrite=True)\n",
    "    download(url_format.format(val_i), overwrite=True)\n",
    "    download(url_format.format(val_a), overwrite=True)"
   ]
  },
  {
   "cell_type": "code",
   "execution_count": 101,
   "metadata": {
    "ExecuteTime": {
     "end_time": "2018-05-02T20:24:03.613135Z",
     "start_time": "2018-05-02T20:24:03.167719Z"
    }
   },
   "outputs": [],
   "source": [
    "# Data Iterator\n",
    "class VQAtrainIter(mx.io.DataIter):\n",
    "    def __init__(self, img, sentences, answer, batch_size, buckets=None, invalid_label=-1,\n",
    "                 text_name='text', img_name = 'image', label_name='softmax_label', dtype='float32', layout='NTC'):\n",
    "        super(VQAtrainIter, self).__init__()\n",
    "        if not buckets:\n",
    "            buckets = [i for i, j in enumerate(np.bincount([len(s) for s in sentences]))\n",
    "                       if j >= batch_size]\n",
    "        buckets.sort()\n",
    "\n",
    "        ndiscard = 0\n",
    "        self.data = [[] for _ in buckets]\n",
    "        for i in range(len(sentences)):\n",
    "            buck = bisect.bisect_left(buckets, len(sentences[i]))\n",
    "            if buck == len(buckets):\n",
    "                ndiscard += 1\n",
    "                continue\n",
    "            buff = np.full((buckets[buck],), invalid_label, dtype=dtype)\n",
    "            buff[:len(sentences[i])] = sentences[i]\n",
    "            self.data[buck].append(buff)\n",
    "\n",
    "        self.data = [np.asarray(i, dtype=dtype) for i in self.data]\n",
    "        self.answer = answer\n",
    "        self.img = img\n",
    "        print(\"WARNING: discarded %d sentences longer than the largest bucket.\"%ndiscard)\n",
    "\n",
    "        self.batch_size = batch_size\n",
    "        self.buckets = buckets\n",
    "        self.text_name = text_name\n",
    "        self.img_name = img_name\n",
    "        self.label_name = label_name\n",
    "        self.dtype = dtype\n",
    "        self.invalid_label = invalid_label\n",
    "        self.nd_text = []\n",
    "        self.nd_img = []\n",
    "        self.ndlabel = []\n",
    "        self.major_axis = layout.find('N')\n",
    "        self.default_bucket_key = max(buckets)\n",
    "\n",
    "        if self.major_axis == 0:\n",
    "            self.provide_data = [(text_name, (batch_size, self.default_bucket_key)),\n",
    "                                 (img_name, (batch_size, self.default_bucket_key))]\n",
    "            self.provide_label = [(label_name, (batch_size, self.default_bucket_key))]\n",
    "        elif self.major_axis == 1:\n",
    "            self.provide_data = [(text_name, (self.default_bucket_key, batch_size)),\n",
    "                                 (img_name, (self.default_bucket_key, batch_size))]\n",
    "            self.provide_label = [(label_name, (self.default_bucket_key, batch_size))]\n",
    "        else:\n",
    "            raise ValueError(\"Invalid layout %s: Must by NT (batch major) or TN (time major)\")\n",
    "\n",
    "        self.idx = []\n",
    "        for i, buck in enumerate(self.data):\n",
    "            self.idx.extend([(i, j) for j in range(0, len(buck) - batch_size + 1, batch_size)])\n",
    "        self.curr_idx = 0\n",
    "\n",
    "        self.reset()\n",
    "\n",
    "    def reset(self):\n",
    "        self.curr_idx = 0\n",
    "        self.nd_text = []\n",
    "        self.nd_img = []\n",
    "        self.ndlabel = []\n",
    "        for buck in self.data:\n",
    "            label = np.empty_like(buck.shape[0])\n",
    "            label = self.answer\n",
    "            self.nd_text.append(mx.ndarray.array(buck, dtype=self.dtype))\n",
    "            self.nd_img.append(mx.ndarray.array(self.img, dtype=self.dtype))\n",
    "            self.ndlabel.append(mx.ndarray.array(label, dtype=self.dtype))\n",
    "\n",
    "    def next(self):\n",
    "        if self.curr_idx == len(self.idx):\n",
    "            raise StopIteration\n",
    "        i, j = self.idx[self.curr_idx]\n",
    "        self.curr_idx += 1\n",
    "\n",
    "        if self.major_axis == 1:\n",
    "            img = self.nd_img[i][j:j + self.batch_size].T\n",
    "            text = self.nd_text[i][j:j + self.batch_size].T\n",
    "            label = self.ndlabel[i][j:j+self.batch_size]\n",
    "        else:\n",
    "            img = self.nd_img[i][j:j + self.batch_size]\n",
    "            text = self.nd_text[i][j:j + self.batch_size]\n",
    "            label = self.ndlabel[i][j:j+self.batch_size]\n",
    "\n",
    "        data = [text, img]\n",
    "        return mx.io.DataBatch(data, [label],\n",
    "                         bucket_key=self.buckets[i],\n",
    "                         provide_data=[(self.text_name, text.shape),(self.img_name, img.shape)],\n",
    "                         provide_label=[(self.label_name, label.shape)])"
   ]
  },
  {
   "cell_type": "code",
   "execution_count": 102,
   "metadata": {
    "ExecuteTime": {
     "end_time": "2018-05-02T20:24:07.408735Z",
     "start_time": "2018-05-02T20:24:04.362602Z"
    }
   },
   "outputs": [
    {
     "name": "stdout",
     "output_type": "stream",
     "text": [
      "Total training sample: 21537\n",
      "Total validation sample: 1044\n",
      "WARNING: discarded 0 sentences longer than the largest bucket.\n",
      "WARNING: discarded 0 sentences longer than the largest bucket.\n"
     ]
    }
   ],
   "source": [
    "layout = 'NT'\n",
    "bucket = [1024]\n",
    "\n",
    "train_question = np.load(train_q)['x']\n",
    "val_question = np.load(val_q)['x']\n",
    "train_ans = np.load(train_a)['x']\n",
    "val_ans = np.load(val_a)['x']\n",
    "train_img = np.load(train_i)['x']\n",
    "val_img = np.load(val_i)['x']\n",
    "\n",
    "print(\"Total training sample:\",train_ans.shape[0])\n",
    "print(\"Total validation sample:\",val_ans.shape[0])\n",
    "\n",
    "data_train  = VQAtrainIter(train_img, train_question, train_ans, batch_size, buckets = bucket,layout=layout)\n",
    "data_eva = VQAtrainIter(val_img, val_question, val_ans, batch_size, buckets = bucket,layout=layout)"
   ]
  },
  {
   "cell_type": "markdown",
   "metadata": {},
   "source": [
    "### Network"
   ]
  },
  {
   "cell_type": "code",
   "execution_count": 103,
   "metadata": {
    "ExecuteTime": {
     "end_time": "2018-05-02T20:24:07.624662Z",
     "start_time": "2018-05-02T20:24:07.503094Z"
    }
   },
   "outputs": [],
   "source": [
    "class MutanNoAtt(gluon.Block):\n",
    "    def __init__(self):\n",
    "        super(MutanNoAtt, self).__init__()   \n",
    "        with self.name_scope():\n",
    "            self.drop_v = nn.Dropout(0.5)\n",
    "            self.drop_q = nn.Dropout(0.5)\n",
    "            \n",
    "            self.Wq = nn.Dense(360, activation='tanh')\n",
    "            self.Wv = nn.Dense(360, activation='tanh')\n",
    "\n",
    "            self.Mv = nn.Sequential()\n",
    "            for i in range(10):\n",
    "                self.Mv.add(nn.Dense(360))\n",
    "            self.Mq = nn.Sequential()\n",
    "            for i in range(10):\n",
    "                self.Mq.add(nn.Dense(360))\n",
    "            \n",
    "            self.drop_z = nn.Dropout(0.5)\n",
    "            self.fc = nn.Dense(num_classes)\n",
    "\n",
    "            \n",
    "    def forward(self, x):\n",
    "        q = x[0]\n",
    "        v = x[1]\n",
    "        batch_size = v.shape[0]\n",
    "\n",
    "        til_q = self.drop_q(q)\n",
    "        til_q= self.Wq(til_q)\n",
    "        til_v = self.drop_v(v)\n",
    "        til_v = self.Wv(til_v)\n",
    "        \n",
    "        z = F.zeros((batch_size, 360), ctx=ctx)\n",
    "        for i in range(10):\n",
    "            proj_til_q = self.Mq[i](til_q)\n",
    "            proj_til_v = self.Mv[i](til_v)\n",
    "            z = z + proj_til_q * proj_til_v\n",
    "\n",
    "        z = self.drop_z(z)\n",
    "        output = self.fc(z)\n",
    "        return output"
   ]
  },
  {
   "cell_type": "code",
   "execution_count": 155,
   "metadata": {
    "ExecuteTime": {
     "end_time": "2018-05-03T02:26:34.768026Z",
     "start_time": "2018-05-03T01:55:49.673250Z"
    }
   },
   "outputs": [],
   "source": [
    "net = MutanNoAtt()\n",
    "net.collect_params().initialize(mx.init.Xavier(), ctx=ctx)"
   ]
  },
  {
   "cell_type": "code",
   "execution_count": 105,
   "metadata": {
    "ExecuteTime": {
     "end_time": "2018-05-02T20:24:07.827759Z",
     "start_time": "2018-05-02T20:24:07.822605Z"
    }
   },
   "outputs": [
    {
     "name": "stdout",
     "output_type": "stream",
     "text": [
      "MutanNoAtt(\n",
      "  (drop_v): Dropout(p = 0.5)\n",
      "  (drop_q): Dropout(p = 0.5)\n",
      "  (Wq): Dense(None -> 360, Activation(tanh))\n",
      "  (Wv): Dense(None -> 360, Activation(tanh))\n",
      "  (Mv): Sequential(\n",
      "    (0): Dense(None -> 360, linear)\n",
      "    (1): Dense(None -> 360, linear)\n",
      "    (2): Dense(None -> 360, linear)\n",
      "    (3): Dense(None -> 360, linear)\n",
      "    (4): Dense(None -> 360, linear)\n",
      "    (5): Dense(None -> 360, linear)\n",
      "    (6): Dense(None -> 360, linear)\n",
      "    (7): Dense(None -> 360, linear)\n",
      "    (8): Dense(None -> 360, linear)\n",
      "    (9): Dense(None -> 360, linear)\n",
      "  )\n",
      "  (Mq): Sequential(\n",
      "    (0): Dense(None -> 360, linear)\n",
      "    (1): Dense(None -> 360, linear)\n",
      "    (2): Dense(None -> 360, linear)\n",
      "    (3): Dense(None -> 360, linear)\n",
      "    (4): Dense(None -> 360, linear)\n",
      "    (5): Dense(None -> 360, linear)\n",
      "    (6): Dense(None -> 360, linear)\n",
      "    (7): Dense(None -> 360, linear)\n",
      "    (8): Dense(None -> 360, linear)\n",
      "    (9): Dense(None -> 360, linear)\n",
      "  )\n",
      "  (drop_z): Dropout(p = 0.5)\n",
      "  (fc): Dense(None -> 2000, linear)\n",
      ")\n"
     ]
    }
   ],
   "source": [
    "print(net)"
   ]
  },
  {
   "cell_type": "code",
   "execution_count": 157,
   "metadata": {
    "ExecuteTime": {
     "end_time": "2018-05-03T02:26:34.768026Z",
     "start_time": "2018-05-03T01:55:49.673250Z"
    }
   },
   "outputs": [],
   "source": [
    "# LOSS & METRIC\n",
    "loss = gluon.loss.SoftmaxCrossEntropyLoss()\n",
    "\n",
    "metric = mx.metric.Accuracy()\n",
    "\n",
    "def evaluate_accuracy(data_iterator, net):\n",
    "    numerator = 0.\n",
    "    denominator = 0.\n",
    "\n",
    "    data_iterator.reset()\n",
    "    for i, batch in enumerate(data_iterator):\n",
    "        with autograd.record():\n",
    "            data1 = batch.data[0].as_in_context(ctx)\n",
    "            data2 = batch.data[1].as_in_context(ctx)\n",
    "            data = [data1,data2]\n",
    "            label = batch.label[0].as_in_context(ctx)\n",
    "            output = net(data)\n",
    "\n",
    "        metric.update([label], [output])\n",
    "    return metric.get()[1]"
   ]
  },
  {
   "cell_type": "code",
   "execution_count": 158,
   "metadata": {
    "ExecuteTime": {
     "end_time": "2018-05-03T02:26:34.768026Z",
     "start_time": "2018-05-03T01:55:49.673250Z"
    }
   },
   "outputs": [],
   "source": [
    "trainer = gluon.Trainer(net.collect_params(), 'adam', {'learning_rate': 0.0001})"
   ]
  },
  {
   "cell_type": "code",
   "execution_count": 159,
   "metadata": {
    "ExecuteTime": {
     "end_time": "2018-05-03T02:26:34.768026Z",
     "start_time": "2018-05-03T01:55:49.673250Z"
    },
    "scrolled": true
   },
   "outputs": [
    {
     "name": "stdout",
     "output_type": "stream",
     "text": [
      "Epoch 0. Loss: 6.47310750984, Train_acc 0.252796519886, Eval_acc 0.2607421875\n",
      "Epoch 1. Loss: 3.9276278616, Train_acc 0.269153941761, Eval_acc 0.253736413043\n",
      "Epoch 2. Loss: 2.53433336044, Train_acc 0.279015743371, Eval_acc 0.268988715278\n",
      "Epoch 3. Loss: 3.31506827758, Train_acc 0.286021839489, Eval_acc 0.279121968284\n",
      "Epoch 4. Loss: 1.93300294897, Train_acc 0.291184303977, Eval_acc 0.286286429073\n",
      "Epoch 5. Loss: 1.2653653638, Train_acc 0.295669093277, Eval_acc 0.291165188626\n",
      "Epoch 6. Loss: 2.17522404904, Train_acc 0.300527597403, Eval_acc 0.295634104793\n",
      "Epoch 7. Loss: 1.7483886643, Train_acc 0.304049405185, Eval_acc 0.300655241935\n",
      "Epoch 8. Loss: 1.6327262924, Train_acc 0.308001893939, Eval_acc 0.304229563912\n",
      "Epoch 9. Loss: 1.57852757177, Train_acc 0.311834161932, Eval_acc 0.308088293028\n",
      "Epoch 10. Loss: 2.03210647795, Train_acc 0.315187564566, Eval_acc 0.311894619627\n",
      "Epoch 11. Loss: 2.29145200224, Train_acc 0.318729285038, Eval_acc 0.31528903035\n",
      "Epoch 12. Loss: 1.12596724418, Train_acc 0.322255381337, Eval_acc 0.318853183962\n",
      "Epoch 13. Loss: 1.34151721189, Train_acc 0.325838955966, Eval_acc 0.322309859538\n",
      "Epoch 14. Loss: 1.59179022347, Train_acc 0.329074928977, Eval_acc 0.325893760113\n",
      "Epoch 15. Loss: 2.37118650186, Train_acc 0.332097833807, Eval_acc 0.329163519637\n",
      "Epoch 16. Loss: 1.14753922406, Train_acc 0.335067993817, Eval_acc 0.332213836756\n",
      "Epoch 17. Loss: 1.89190740607, Train_acc 0.338142163826, Eval_acc 0.335091145833\n",
      "Epoch 18. Loss: 1.02062790313, Train_acc 0.341084311453, Eval_acc 0.338230085013\n",
      "Epoch 19. Loss: 1.48257986237, Train_acc 0.343883167614, Eval_acc 0.341151271629\n",
      "Epoch 20. Loss: 1.18297899407, Train_acc 0.346569771374, Eval_acc 0.343944869615\n",
      "Epoch 21. Loss: 1.99565228026, Train_acc 0.349312774406, Eval_acc 0.346639612581\n",
      "Epoch 22. Loss: 1.5783972797, Train_acc 0.351981302495, Eval_acc 0.34936976482\n",
      "Epoch 23. Loss: 1.44516938979, Train_acc 0.354521780303, Eval_acc 0.352009368836\n",
      "Epoch 24. Loss: 1.65541169483, Train_acc 0.356905184659, Eval_acc 0.354508801985\n",
      "Epoch 25. Loss: 2.01953999923, Train_acc 0.359354512675, Eval_acc 0.356923845848\n",
      "Epoch 26. Loss: 1.93394406812, Train_acc 0.361742424242, Eval_acc 0.359376704298\n",
      "Epoch 27. Loss: 1.50554897772, Train_acc 0.364000989245, Eval_acc 0.361738445378\n",
      "Epoch 28. Loss: 2.99387454117, Train_acc 0.366486456701, Eval_acc 0.364023564121\n",
      "Epoch 29. Loss: 2.09864484279, Train_acc 0.368729285038, Eval_acc 0.366530345266\n",
      "Epoch 30. Loss: 1.87596068487, Train_acc 0.370857484879, Eval_acc 0.368726952534\n",
      "Epoch 31. Loss: 1.82046974593, Train_acc 0.372985839844, Eval_acc 0.370866409682\n",
      "Epoch 32. Loss: 2.35336280791, Train_acc 0.375098194301, Eval_acc 0.372973459663\n",
      "Epoch 33. Loss: 1.41199172908, Train_acc 0.377344794452, Eval_acc 0.37510880545\n",
      "Epoch 34. Loss: 1.955982451, Train_acc 0.379484577922, Eval_acc 0.377376867073\n",
      "Epoch 35. Loss: 1.38977132937, Train_acc 0.381589330808, Eval_acc 0.379459762078\n",
      "Epoch 36. Loss: 1.31729145363, Train_acc 0.383679889051, Eval_acc 0.38160441953\n",
      "Epoch 37. Loss: 2.66188505278, Train_acc 0.385857833059, Eval_acc 0.38367882477\n",
      "Epoch 38. Loss: 1.40329403331, Train_acc 0.387897909382, Eval_acc 0.385827359618\n",
      "Epoch 39. Loss: 1.33692943645, Train_acc 0.390014648438, Eval_acc 0.387889715512\n",
      "Epoch 40. Loss: 0.907805799128, Train_acc 0.392035710574, Eval_acc 0.390005364997\n",
      "Epoch 41. Loss: 2.07284593595, Train_acc 0.393949962798, Eval_acc 0.391998459994\n",
      "Epoch 42. Loss: 0.976988136609, Train_acc 0.395771050806, Eval_acc 0.393932643581\n",
      "Epoch 43. Loss: 1.96400069848, Train_acc 0.3978130246, Eval_acc 0.395770772835\n",
      "Epoch 44. Loss: 2.41376312596, Train_acc 0.399749447601, Eval_acc 0.397817700271\n",
      "Epoch 45. Loss: 1.6645472542, Train_acc 0.401724231102, Eval_acc 0.399743196582\n",
      "Epoch 46. Loss: 0.783450359688, Train_acc 0.403504480476, Eval_acc 0.401713274309\n",
      "Epoch 47. Loss: 0.929879307049, Train_acc 0.405340946082, Eval_acc 0.40348071407\n",
      "Epoch 48. Loss: 1.58162007194, Train_acc 0.407164961155, Eval_acc 0.405327947611\n",
      "Epoch 49. Loss: 0.854558372488, Train_acc 0.409026100852, Eval_acc 0.407156872683\n",
      "Epoch 50. Loss: 1.16794492643, Train_acc 0.410842977106, Eval_acc 0.40900229195\n",
      "Epoch 51. Loss: 1.69233726819, Train_acc 0.412776920345, Eval_acc 0.410821495158\n",
      "Epoch 52. Loss: 1.3150112725, Train_acc 0.414652122642, Eval_acc 0.412745633188\n",
      "Epoch 53. Loss: 2.16516897725, Train_acc 0.416401153462, Eval_acc 0.414626512961\n",
      "Epoch 54. Loss: 0.818880825852, Train_acc 0.418204416322, Eval_acc 0.416366333316\n",
      "Epoch 55. Loss: 0.907707109327, Train_acc 0.419969434862, Eval_acc 0.418188899928\n",
      "Epoch 56. Loss: 0.99347333943, Train_acc 0.421789336623, Eval_acc 0.419952763838\n",
      "Epoch 57. Loss: 1.4702194473, Train_acc 0.423500563284, Eval_acc 0.421763726345\n",
      "Epoch 58. Loss: 2.22892352605, Train_acc 0.425308015938, Eval_acc 0.423477113107\n",
      "Epoch 59. Loss: 1.54468999752, Train_acc 0.427035245028, Eval_acc 0.425287330398\n",
      "Epoch 60. Loss: 1.83824225684, Train_acc 0.428775702077, Eval_acc 0.42701359647\n",
      "Epoch 61. Loss: 2.00164756441, Train_acc 0.430480062088, Eval_acc 0.428750930752\n",
      "Epoch 62. Loss: 1.69752666238, Train_acc 0.432233890242, Eval_acc 0.430445856227\n",
      "Epoch 63. Loss: 0.701546515552, Train_acc 0.433907248757, Eval_acc 0.432190513473\n",
      "Epoch 64. Loss: 0.839758536243, Train_acc 0.435553021198, Eval_acc 0.433876530341\n",
      "Epoch 65. Loss: 1.36196175869, Train_acc 0.437126727144, Eval_acc 0.435512753319\n",
      "Epoch 66. Loss: 1.61621443887, Train_acc 0.438703808726, Eval_acc 0.437083297488\n",
      "Epoch 67. Loss: 1.90010127609, Train_acc 0.44036767317, Eval_acc 0.438675847458\n",
      "Epoch 68. Loss: 0.750578379747, Train_acc 0.441996819417, Eval_acc 0.440329878507\n",
      "Epoch 69. Loss: 1.2233118246, Train_acc 0.443692928166, Eval_acc 0.441956570935\n",
      "Epoch 70. Loss: 0.754796460046, Train_acc 0.445284365997, Eval_acc 0.443655955954\n",
      "Epoch 71. Loss: 1.47680290346, Train_acc 0.446891399345, Eval_acc 0.445248770393\n",
      "Epoch 72. Loss: 1.57890119534, Train_acc 0.448476294949, Eval_acc 0.446856516167\n",
      "Epoch 73. Loss: 1.36079062204, Train_acc 0.450118531173, Eval_acc 0.448442726159\n",
      "Epoch 74. Loss: 0.746569267506, Train_acc 0.451715198864, Eval_acc 0.450071218923\n",
      "Epoch 75. Loss: 2.38900976925, Train_acc 0.453266344572, Eval_acc 0.451662226492\n",
      "Epoch 76. Loss: 1.95459263186, Train_acc 0.45489480335, Eval_acc 0.453227150889\n",
      "Epoch 77. Loss: 1.63463967277, Train_acc 0.456482075867, Eval_acc 0.454866104351\n",
      "Epoch 78. Loss: 1.32567175937, Train_acc 0.457966794627, Eval_acc 0.456439169882\n",
      "Epoch 79. Loss: 1.71809441835, Train_acc 0.459548672763, Eval_acc 0.457920769839\n",
      "Epoch 80. Loss: 0.898251684264, Train_acc 0.461114508803, Eval_acc 0.459502879223\n",
      "Epoch 81. Loss: 1.78003430305, Train_acc 0.462661100333, Eval_acc 0.461073331464\n",
      "Epoch 82. Loss: 0.331317591131, Train_acc 0.464162402451, Eval_acc 0.462616862881\n",
      "Epoch 83. Loss: 1.9443307274, Train_acc 0.46564962544, Eval_acc 0.464110927237\n",
      "Epoch 84. Loss: 1.53282758924, Train_acc 0.467169222092, Eval_acc 0.465611162284\n",
      "Epoch 85. Loss: 1.50521119783, Train_acc 0.468672576969, Eval_acc 0.467128311231\n",
      "Epoch 86. Loss: 1.67109959845, Train_acc 0.470117901809, Eval_acc 0.468624125066\n",
      "Epoch 87. Loss: 1.5226275864, Train_acc 0.471510705869, Eval_acc 0.470061092526\n",
      "Epoch 88. Loss: 0.413477205564, Train_acc 0.472949019248, Eval_acc 0.471469451794\n",
      "Epoch 89. Loss: 0.878202002696, Train_acc 0.474425406408, Eval_acc 0.472906497256\n",
      "Epoch 90. Loss: 1.28477522563, Train_acc 0.475874223433, Eval_acc 0.474390005837\n",
      "Epoch 91. Loss: 2.74796885012, Train_acc 0.477273692255, Eval_acc 0.475831662662\n",
      "Epoch 92. Loss: 1.32247589797, Train_acc 0.478682681146, Eval_acc 0.477226080247\n",
      "Epoch 93. Loss: 1.98320196666, Train_acc 0.480149997733, Eval_acc 0.478639663227\n",
      "Epoch 94. Loss: 1.06142739585, Train_acc 0.481584087171, Eval_acc 0.480099648079\n",
      "Epoch 95. Loss: 1.37022763488, Train_acc 0.482967492306, Eval_acc 0.48153358142\n",
      "Epoch 96. Loss: 1.33749545835, Train_acc 0.484308645004, Eval_acc 0.482917319865\n",
      "Epoch 97. Loss: 1.44583494045, Train_acc 0.48565322791, Eval_acc 0.484260191013\n",
      "Epoch 98. Loss: 1.9368659442, Train_acc 0.487032523387, Eval_acc 0.485605097502\n",
      "Epoch 99. Loss: 0.579972942916, Train_acc 0.48841574929, Eval_acc 0.486979316057\n"
     ]
    }
   ],
   "source": [
    "epochs = 100\n",
    "moving_loss = 0.\n",
    "best_eva = 0\n",
    "for e in range(epochs):\n",
    "    data_train.reset()\n",
    "    for i, batch in enumerate(data_train):\n",
    "        data1 = batch.data[0].as_in_context(ctx)\n",
    "        data2 = batch.data[1].as_in_context(ctx)\n",
    "        data = [data1,data2]\n",
    "        label = batch.label[0].as_in_context(ctx)\n",
    "        with autograd.record():\n",
    "            output = net(data)\n",
    "            cross_entropy = loss(output, label)\n",
    "            cross_entropy.backward()\n",
    "        trainer.step(data[0].shape[0])\n",
    "\n",
    "        ##########################\n",
    "        #  Keep a moving average of the losses\n",
    "        ##########################\n",
    "        if i == 0:\n",
    "            moving_loss = np.mean(cross_entropy.asnumpy()[0])\n",
    "        else:\n",
    "            moving_loss = .99 * moving_loss + .01 * np.mean(cross_entropy.asnumpy()[0])\n",
    "    eva_accuracy = evaluate_accuracy(data_eva, net)\n",
    "    train_accuracy = evaluate_accuracy(data_train, net)\n",
    "    print(\"Epoch %s. Loss: %.5f, Train_acc %.5f, Eval_acc %.5f\" % (e, moving_loss, train_accuracy, eva_accuracy))"
   ]
  },
  {
   "cell_type": "code",
   "execution_count": 160,
   "metadata": {
    "ExecuteTime": {
     "end_time": "2018-05-03T02:27:16.952090Z",
     "start_time": "2018-05-03T02:27:16.885365Z"
    }
   },
   "outputs": [],
   "source": [
    "#filename = 'mutanNoatt100.params'\n",
    "#net.save_params(filename)\n",
    "#net.load_params(filename, ctx=ctx)"
   ]
  },
  {
   "cell_type": "markdown",
   "metadata": {},
   "source": [
    "### Test"
   ]
  },
  {
   "cell_type": "code",
   "execution_count": 161,
   "metadata": {
    "ExecuteTime": {
     "end_time": "2018-05-03T02:27:22.820321Z",
     "start_time": "2018-05-03T02:27:22.787510Z"
    }
   },
   "outputs": [],
   "source": [
    "test = True\n",
    "if test:\n",
    "    test_q_id, test_q, test_i_id, test_i, atoi,text = dataset_files['test']\n",
    "\n",
    "if test and not os.path.exists(test_q):\n",
    "    download(url_format.format(test_q_id),overwrite=True)\n",
    "    download(url_format.format(test_q),overwrite=True)\n",
    "    download(url_format.format(test_i_id),overwrite=True)\n",
    "    download(url_format.format(test_i),overwrite=True)\n",
    "    download(url_format.format(atoi),overwrite=True)\n",
    "    download(url_format.format(text),overwrite=True)\n",
    "\n",
    "if test:\n",
    "    test_question = np.load(\"test_question.npz\")['x']\n",
    "    test_img = np.load(\"test_img.npz\")['x']\n",
    "    test_question_id = np.load(\"test_question_id.npz\")['x']\n",
    "    test_img_id = np.load(\"test_img_id.npz\")['x']"
   ]
  },
  {
   "cell_type": "code",
   "execution_count": 162,
   "metadata": {
    "ExecuteTime": {
     "end_time": "2018-05-03T02:27:23.718498Z",
     "start_time": "2018-05-03T02:27:23.664674Z"
    }
   },
   "outputs": [
    {
     "name": "stdout",
     "output_type": "stream",
     "text": [
      "WARNING: discarded 0 sentences longer than the largest bucket.\n"
     ]
    }
   ],
   "source": [
    "data_test = VQAtrainIter(test_img, test_question, np.zeros((test_img.shape[0],1)), 10, buckets = bucket,layout=layout)\n",
    "for i, batch in enumerate(data_test):\n",
    "    with autograd.record():\n",
    "        data1 = batch.data[0].as_in_context(ctx)\n",
    "        data2 = batch.data[1].as_in_context(ctx)\n",
    "        data = [data1,data2]\n",
    "        #label = batch.label[0].as_in_context(ctx)\n",
    "        #label_one_hot = nd.one_hot(label, 10)\n",
    "        output = net(data)\n",
    "output = np.argmax(output.asnumpy(), axis = 1)"
   ]
  },
  {
   "cell_type": "code",
   "execution_count": 167,
   "metadata": {
    "ExecuteTime": {
     "end_time": "2018-05-03T02:27:42.624200Z",
     "start_time": "2018-05-03T02:27:42.614338Z"
    }
   },
   "outputs": [
    {
     "name": "stdout",
     "output_type": "stream",
     "text": [
      "9\n",
      "Question: Is the bird looking at the camera?\n"
     ]
    }
   ],
   "source": [
    "idx = np.random.randint(10)\n",
    "print(idx)\n",
    "question = json.load(open(text))\n",
    "print(\"Question:\", question[idx])"
   ]
  },
  {
   "cell_type": "code",
   "execution_count": 168,
   "metadata": {
    "ExecuteTime": {
     "end_time": "2018-05-03T02:27:47.923852Z",
     "start_time": "2018-05-03T02:27:43.116117Z"
    }
   },
   "outputs": [],
   "source": [
    "for i in range(10):\n",
    "    image_name = 'COCO_test2015_' + str(int(test_img_id[i])).zfill(12)+'.jpg'\n",
    "    download(url_format.format('test_images/'+image_name),overwrite=True)"
   ]
  },
  {
   "cell_type": "code",
   "execution_count": 169,
   "metadata": {
    "ExecuteTime": {
     "end_time": "2018-05-03T02:27:48.053989Z",
     "start_time": "2018-05-03T02:27:48.037754Z"
    }
   },
   "outputs": [
    {
     "data": {
      "image/jpeg": "[encoded data removed]",
      "text/plain": [
       "<IPython.core.display.Image object>"
      ]
     },
     "execution_count": 169,
     "metadata": {},
     "output_type": "execute_result"
    }
   ],
   "source": [
    "image_name = 'COCO_test2015_' + str(int(test_img_id[idx])).zfill(12)+'.jpg'\n",
    "if not os.path.exists(image_name):\n",
    "    logging.info('Downloading training dataset.')\n",
    "    download(url_format.format('test_images/'+image_name),overwrite=True)\n",
    "\n",
    "from IPython.display import Image\n",
    "Image(filename=image_name)"
   ]
  },
  {
   "cell_type": "code",
   "execution_count": 170,
   "metadata": {
    "ExecuteTime": {
     "end_time": "2018-05-03T02:27:48.191783Z",
     "start_time": "2018-05-03T02:27:48.182379Z"
    }
   },
   "outputs": [
    {
     "name": "stdout",
     "output_type": "stream",
     "text": [
      "Answer: yes\n"
     ]
    }
   ],
   "source": [
    "dataset = json.load(open('atoi.json'))\n",
    "ans = dataset['ix_to_ans'][str(output[idx]+1)]\n",
    "print(\"Answer:\", ans)"
   ]
  },
  {
   "cell_type": "code",
   "execution_count": null,
   "metadata": {},
   "outputs": [],
   "source": []
  },
  {
   "cell_type": "markdown",
   "metadata": {},
   "source": [
    "# With Attention"
   ]
  },
  {
   "cell_type": "markdown",
   "metadata": {},
   "source": [
    "<img src=\"./imgs/mutan_arch.jpg\" width=\"500\"></img>"
   ]
  },
  {
   "cell_type": "code",
   "execution_count": null,
   "metadata": {
    "ExecuteTime": {
     "end_time": "2018-05-03T02:26:34.768026Z",
     "start_time": "2018-05-03T01:55:49.673250Z"
    }
   },
   "outputs": [],
   "source": []
  }
 ],
 "metadata": {
  "kernelspec": {
   "display_name": "Python 3",
   "language": "python",
   "name": "python3"
  },
  "language_info": {
   "codemirror_mode": {
    "name": "ipython",
    "version": 3
   },
   "file_extension": ".py",
   "mimetype": "text/x-python",
   "name": "python",
   "nbconvert_exporter": "python",
   "pygments_lexer": "ipython3",
   "version": "3.6.2"
  },
  "varInspector": {
   "cols": {
    "lenName": 16,
    "lenType": 16,
    "lenVar": 40
   },
   "kernels_config": {
    "python": {
     "delete_cmd_postfix": "",
     "delete_cmd_prefix": "del ",
     "library": "var_list.py",
     "varRefreshCmd": "print(var_dic_list())"
    },
    "r": {
     "delete_cmd_postfix": ") ",
     "delete_cmd_prefix": "rm(",
     "library": "var_list.r",
     "varRefreshCmd": "cat(var_dic_list()) "
    }
   },
   "types_to_exclude": [
    "module",
    "function",
    "builtin_function_or_method",
    "instance",
    "_Feature"
   ],
   "window_display": false
  }
 },
 "nbformat": 4,
 "nbformat_minor": 2
}

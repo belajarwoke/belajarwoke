{
 "cells": [
  {
   "cell_type": "markdown",
   "metadata": {},
   "source": [
    "#### 그냥 GAN(I Goodfellow, 2014)의 경우\n",
    "\n",
    "- 학습이 잘 되지 않는다는 고질적인 문제가 있음\n",
    "- 실제로 앞의 original gan 노트북을 보면 mnist 조차도 생성이 잘 안됨"
   ]
  },
  {
   "cell_type": "markdown",
   "metadata": {},
   "source": [
    "## DCGAN(A Radford, 2015)의 등장\n",
    "- 여러 실험을 통해서 성능이 좋으면서 general한 gan architecture를 제시함\n",
    "- w-gan(M Arjovsky, 2017)의 경우에는 목적함수 측면으로 접근했고 dcgan(A Radford, 2015)은 네트워크 구조적인 측면으로 접근하여 gan 성능을 향상시키는 방향성 제기\n",
    "- all convolution net(Springenberg et al. 2014)구조와 batch normalization(Ioffe & Szegedy, 2015)을 활용한 것이 특징\n",
    "- 이후 많은 gan 관련 논문들이 DCGAN 구조를 차용하여 gan 설계 했다함"
   ]
  },
  {
   "cell_type": "markdown",
   "metadata": {},
   "source": [
    "#### all convolution net(Springenberg et al. 2014)\n",
    "- 기존에 친숙하게 사용하던 CNN은 VGG(K Simonyan, 2014)같이 conv operation 지난후 max pooling 적용, 반복 후 fully connected를 태우는 구조 \n",
    "- 근데 이 논문에서는 max pooling 대신 stride 줘서 pooling 효과를 대신하고 마지막에도 fully connected가 아니라 1d convolution 적용함"
   ]
  },
  {
   "cell_type": "markdown",
   "metadata": {},
   "source": [
    "#### batch normalization(Ioffe & Szegedy, 2015)\n",
    "- 네트워크 학습을 용이하게 하기 위해 배치 단위로 각 layer의 input을 normalize 하는 것"
   ]
  },
  {
   "cell_type": "markdown",
   "metadata": {},
   "source": [
    "reference\n",
    "- Goodfellow, Ian, et al. \"Generative adversarial nets.\" Advances in neural information processing systems. 2014.\n",
    "- Radford, Alec, Luke Metz, and Soumith Chintala. \"Unsupervised representation learning with deep convolutional generative adversarial networks.\" arXiv preprint arXiv:1511.06434 (2015).\n",
    "- Springenberg, Jost Tobias, et al. \"Striving for simplicity: The all convolutional net.\" arXiv preprint arXiv:1412.6806 (2014).\n",
    "- Ioffe, Sergey, and Christian Szegedy. \"Batch normalization: Accelerating deep network training by reducing internal covariate shift.\" arXiv preprint arXiv:1502.03167 (2015).\n",
    "- Arjovsky, Martin, Soumith Chintala, and Léon Bottou. \"Wasserstein gan.\" arXiv preprint arXiv:1701.07875 (2017).\n",
    "- https://github.com/carpedm20/DCGAN-tensorflow\n",
    "- https://github.com/aymericdamien/TensorFlow-Examples/blob/master/notebooks/3_NeuralNetworks/dcgan.ipynb\n",
    "- http://jaejunyoo.blogspot.com/2017/02/deep-convolutional-gan-dcgan-1.html"
   ]
  },
  {
   "cell_type": "code",
   "execution_count": 1,
   "metadata": {},
   "outputs": [
    {
     "name": "stderr",
     "output_type": "stream",
     "text": [
      "/home/skinet/py_libs/lib/python3.6/site-packages/h5py/__init__.py:36: FutureWarning: Conversion of the second argument of issubdtype from `float` to `np.floating` is deprecated. In future, it will be treated as `np.float64 == np.dtype(float).type`.\n",
      "  from ._conv import register_converters as _register_converters\n"
     ]
    }
   ],
   "source": [
    "import math\n",
    "import numpy as np\n",
    "import tensorflow as tf\n",
    "import matplotlib.pyplot as plt\n",
    "from tensorflow.examples.tutorials.mnist import input_data\n",
    "from tensorflow.contrib.layers import batch_norm, conv2d, conv2d_transpose, fully_connected"
   ]
  },
  {
   "cell_type": "code",
   "execution_count": 2,
   "metadata": {},
   "outputs": [
    {
     "name": "stdout",
     "output_type": "stream",
     "text": [
      "Extracting /home/skinet/my_glusterfs/ib_study_1/MNIST_data/train-images-idx3-ubyte.gz\n",
      "Extracting /home/skinet/my_glusterfs/ib_study_1/MNIST_data/train-labels-idx1-ubyte.gz\n",
      "Extracting /home/skinet/my_glusterfs/ib_study_1/MNIST_data/t10k-images-idx3-ubyte.gz\n",
      "Extracting /home/skinet/my_glusterfs/ib_study_1/MNIST_data/t10k-labels-idx1-ubyte.gz\n"
     ]
    }
   ],
   "source": [
    "mnist = input_data.read_data_sets('/home/skinet/my_glusterfs/ib_study_1/MNIST_data/', one_hot=True)"
   ]
  },
  {
   "cell_type": "code",
   "execution_count": 133,
   "metadata": {},
   "outputs": [
    {
     "data": {
      "text/plain": [
       "784"
      ]
     },
     "execution_count": 133,
     "metadata": {},
     "output_type": "execute_result"
    }
   ],
   "source": [
    "batch_size = 128\n",
    "z_dim=100\n",
    "n_epoches = 20\n",
    "ran = 1\n",
    "n_batches = int(mnist.train.images.shape[0]/batch_size)\n",
    "mnist.train.images.shape[1]"
   ]
  },
  {
   "cell_type": "code",
   "execution_count": 134,
   "metadata": {},
   "outputs": [],
   "source": [
    "tf.reset_default_graph()\n",
    "x = tf.placeholder(tf.float32, shape=[None, 28, 28, 1])\n",
    "z = tf.placeholder(tf.float32, shape=[None, z_dim])\n",
    "phase = tf.placeholder(tf.bool)"
   ]
  },
  {
   "cell_type": "code",
   "execution_count": 135,
   "metadata": {},
   "outputs": [],
   "source": [
    "def conv(input_, out_dim, name, phase, is_batch_norm = True):\n",
    "    with tf.variable_scope(name):\n",
    "        if is_batch_norm: # stride 줘서 pooling 역할 대신하고 batch_normalization 적용\n",
    "            h = tf.layers.conv2d(input_, out_dim, 5, strides=2,use_bias=False, padding='SAME', kernel_initializer=tf.random_normal_initializer(stddev=0.02))\n",
    "            out= tf.layers.batch_normalization(h,training=phase)\n",
    "        else:\n",
    "            out = tf.layers.conv2d(input_, out_dim, 5, strides=2,padding='SAME', kernel_initializer=tf.random_normal_initializer(stddev=0.02))\n",
    "            \n",
    "        return out\n",
    "            \n",
    "def conv_transpose(input_, out_dim, name, phase, is_batch_norm = True): # convolution transpose\n",
    "    with tf.variable_scope(name):\n",
    "        if is_batch_norm:\n",
    "            h = tf.layers.conv2d_transpose(input_, out_dim, 5, strides=2, use_bias=False, padding='SAME', kernel_initializer=tf.random_normal_initializer(stddev=0.02))\n",
    "            out = tf.layers.batch_normalization(h,training=phase)\n",
    "        else:\n",
    "            out = tf.layers.conv2d_transpose(input_, out_dim, 5, strides=2, padding='SAME', kernel_initializer=tf.random_normal_initializer(stddev=0.02))\n",
    "        \n",
    "        return out\n",
    "\n",
    "def fc(input_, out_dim, name, phase, is_batch_norm = True): # 1d convolution으로 할까 하다가 dcgan에서도 이부분이 명확하지 않고 aymericdamien님, carpedm20님의 코드가 fc로 되어있어서...\n",
    "    with tf.variable_scope(name):\n",
    "        if is_batch_norm:\n",
    "            h = tf.layers.dense(input_, out_dim, use_bias=False, kernel_initializer=tf.random_normal_initializer(stddev=0.02))\n",
    "            out = tf.layers.batch_normalization(h,training=phase)\n",
    "        else:\n",
    "            out = tf.layers.dense(input_, out_dim, kernel_initializer=tf.random_normal_initializer(stddev=0.02))\n",
    "        \n",
    "        return out\n",
    "    \n",
    "# For the discriminator, the last convolution layer is flattened and then fed into a single sigmoid output => 결국 Wx+b하라는거 아닌가...."
   ]
  },
  {
   "cell_type": "markdown",
   "metadata": {},
   "source": [
    "#### conv_transpose란?\n",
    "- https://zzsza.github.io/data/2018/02/23/introduction-convolution/\n",
    "- https://towardsdatascience.com/up-sampling-with-transposed-convolution-9ae4f2df52d0"
   ]
  },
  {
   "cell_type": "code",
   "execution_count": 136,
   "metadata": {},
   "outputs": [],
   "source": [
    "def generator(z):\n",
    "    with tf.variable_scope('generator'):\n",
    "        h0 = tf.nn.relu(fc(z, 7*7*128, name='g_0', phase=phase))\n",
    "        h0 = tf.reshape(h0, [-1, 7, 7, 128])\n",
    "        h1 = tf.nn.relu(conv_transpose(h0, 64, name='g_1', phase=phase))\n",
    "        out = tf.nn.tanh(conv_transpose(h1, 1, name='g_out', phase=phase, is_batch_norm=False)) # 마지막 output은 batchnorm 안거는게 좋음\n",
    "        \n",
    "        return out \n",
    "\n",
    "def discriminator(input_, reuse = False): # gan의 특성상 discriminator를 한번 더 써서 reuse 추가(gz 구분할때, x 구분할때)\n",
    "    with tf.variable_scope('discriminator', reuse=reuse):\n",
    "        h0 = tf.nn.leaky_relu(conv(input_, 64, name='d_0', phase=phase, is_batch_norm=False)) # 저자가 input layer에 걸지 말라해서\n",
    "        h1 = tf.nn.leaky_relu(conv(h0, 128, name='d_1', phase=phase))\n",
    "        out = fc(tf.reshape(h1, [-1, 7*7*128]),1,name='d_out',phase=phase, is_batch_norm=False) # 마지막 output은 batchnorm 안거는게 좋음\n",
    "                               \n",
    "        return out   "
   ]
  },
  {
   "cell_type": "markdown",
   "metadata": {},
   "source": [
    "#### 전체적인 구조\n",
    "- generator는 activation: relu 근데 마지막은 tanh (이 때 -1 ~ 1값이 나오는데 mnist 는 0 ~ 1 값이므로 tranform해주는 작업 따로 함)\n",
    "- discriminator는 activation: leaky relu"
   ]
  },
  {
   "cell_type": "code",
   "execution_count": 137,
   "metadata": {},
   "outputs": [],
   "source": [
    "gz = generator(z)\n",
    "dgz = discriminator(gz)\n",
    "dx = discriminator(x, reuse=True)"
   ]
  },
  {
   "cell_type": "code",
   "execution_count": 138,
   "metadata": {},
   "outputs": [
    {
     "data": {
      "text/plain": [
       "[<tf.Variable 'generator/g_0/dense/kernel:0' shape=(100, 6272) dtype=float32_ref>,\n",
       " <tf.Variable 'generator/g_0/batch_normalization/gamma:0' shape=(6272,) dtype=float32_ref>,\n",
       " <tf.Variable 'generator/g_0/batch_normalization/beta:0' shape=(6272,) dtype=float32_ref>,\n",
       " <tf.Variable 'generator/g_1/conv2d_transpose/kernel:0' shape=(5, 5, 64, 128) dtype=float32_ref>,\n",
       " <tf.Variable 'generator/g_1/batch_normalization/gamma:0' shape=(64,) dtype=float32_ref>,\n",
       " <tf.Variable 'generator/g_1/batch_normalization/beta:0' shape=(64,) dtype=float32_ref>,\n",
       " <tf.Variable 'generator/g_out/conv2d_transpose/kernel:0' shape=(5, 5, 1, 64) dtype=float32_ref>,\n",
       " <tf.Variable 'generator/g_out/conv2d_transpose/bias:0' shape=(1,) dtype=float32_ref>,\n",
       " <tf.Variable 'discriminator/d_0/conv2d/kernel:0' shape=(5, 5, 1, 64) dtype=float32_ref>,\n",
       " <tf.Variable 'discriminator/d_0/conv2d/bias:0' shape=(64,) dtype=float32_ref>,\n",
       " <tf.Variable 'discriminator/d_1/conv2d/kernel:0' shape=(5, 5, 64, 128) dtype=float32_ref>,\n",
       " <tf.Variable 'discriminator/d_1/batch_normalization/gamma:0' shape=(128,) dtype=float32_ref>,\n",
       " <tf.Variable 'discriminator/d_1/batch_normalization/beta:0' shape=(128,) dtype=float32_ref>,\n",
       " <tf.Variable 'discriminator/d_out/dense/kernel:0' shape=(6272, 1) dtype=float32_ref>,\n",
       " <tf.Variable 'discriminator/d_out/dense/bias:0' shape=(1,) dtype=float32_ref>]"
      ]
     },
     "execution_count": 138,
     "metadata": {},
     "output_type": "execute_result"
    }
   ],
   "source": [
    "tf.trainable_variables()"
   ]
  },
  {
   "cell_type": "code",
   "execution_count": 139,
   "metadata": {},
   "outputs": [
    {
     "data": {
      "text/plain": [
       "[<tf.Variable 'generator/g_0/dense/kernel:0' shape=(100, 6272) dtype=float32_ref>,\n",
       " <tf.Variable 'generator/g_0/batch_normalization/gamma:0' shape=(6272,) dtype=float32_ref>,\n",
       " <tf.Variable 'generator/g_0/batch_normalization/beta:0' shape=(6272,) dtype=float32_ref>,\n",
       " <tf.Variable 'generator/g_1/conv2d_transpose/kernel:0' shape=(5, 5, 64, 128) dtype=float32_ref>,\n",
       " <tf.Variable 'generator/g_1/batch_normalization/gamma:0' shape=(64,) dtype=float32_ref>,\n",
       " <tf.Variable 'generator/g_1/batch_normalization/beta:0' shape=(64,) dtype=float32_ref>,\n",
       " <tf.Variable 'generator/g_out/conv2d_transpose/kernel:0' shape=(5, 5, 1, 64) dtype=float32_ref>,\n",
       " <tf.Variable 'generator/g_out/conv2d_transpose/bias:0' shape=(1,) dtype=float32_ref>]"
      ]
     },
     "execution_count": 139,
     "metadata": {},
     "output_type": "execute_result"
    }
   ],
   "source": [
    "g_vars = tf.get_collection(tf.GraphKeys.TRAINABLE_VARIABLES, 'generator') # aymericdamien님 코드에서 본 꿀팁 1, 전체 variable중 해당 scope에 있는거만 가져오기\n",
    "g_vars"
   ]
  },
  {
   "cell_type": "code",
   "execution_count": 140,
   "metadata": {},
   "outputs": [
    {
     "data": {
      "text/plain": [
       "[<tf.Variable 'discriminator/d_0/conv2d/kernel:0' shape=(5, 5, 1, 64) dtype=float32_ref>,\n",
       " <tf.Variable 'discriminator/d_0/conv2d/bias:0' shape=(64,) dtype=float32_ref>,\n",
       " <tf.Variable 'discriminator/d_1/conv2d/kernel:0' shape=(5, 5, 64, 128) dtype=float32_ref>,\n",
       " <tf.Variable 'discriminator/d_1/batch_normalization/gamma:0' shape=(128,) dtype=float32_ref>,\n",
       " <tf.Variable 'discriminator/d_1/batch_normalization/beta:0' shape=(128,) dtype=float32_ref>,\n",
       " <tf.Variable 'discriminator/d_out/dense/kernel:0' shape=(6272, 1) dtype=float32_ref>,\n",
       " <tf.Variable 'discriminator/d_out/dense/bias:0' shape=(1,) dtype=float32_ref>]"
      ]
     },
     "execution_count": 140,
     "metadata": {},
     "output_type": "execute_result"
    }
   ],
   "source": [
    "d_vars = tf.get_collection(tf.GraphKeys.TRAINABLE_VARIABLES, 'discriminator')\n",
    "d_vars"
   ]
  },
  {
   "cell_type": "code",
   "execution_count": 141,
   "metadata": {},
   "outputs": [],
   "source": [
    "# min log(1 - D(G(Z))) => max D(G(Z))\n",
    "g_loss = tf.reduce_mean(tf.nn.sigmoid_cross_entropy_with_logits(logits=dgz, labels=tf.ones_like(dgz)))\n",
    "\n",
    "# max log(D(X)) + log(1-D(G(Z)))\n",
    "d_loss = tf.reduce_mean(tf.nn.sigmoid_cross_entropy_with_logits(logits=dx, labels=tf.ones_like(dx))) + tf.reduce_mean(tf.nn.sigmoid_cross_entropy_with_logits(logits=dgz, labels=tf.zeros_like(dgz)))"
   ]
  },
  {
   "cell_type": "code",
   "execution_count": 142,
   "metadata": {},
   "outputs": [],
   "source": [
    "g_adam = tf.train.AdamOptimizer(learning_rate=0.0002,beta1=0.5)\n",
    "d_adam = tf.train.AdamOptimizer(learning_rate=0.0002,beta1=0.5)"
   ]
  },
  {
   "cell_type": "markdown",
   "metadata": {},
   "source": [
    "## 중요포인트!! aymericdamien님 코드에서 본 꿀팁 2\n",
    "\n",
    "- batch normalization의 경우 네트워크 전체 대상으로 moving mean/std 계산하는데 gan 종류의 경우 generator,discriminator 따로 업데이트 되므로 이를 강제로 분리 시켜줘야함\n",
    "- 아래와 같이 generator batch norm operation 따로, discriminator batch norm operation 따로 설정\n",
    "- 이거 안해주면 학습이 제대로 안됨... 크리티컬"
   ]
  },
  {
   "cell_type": "code",
   "execution_count": 143,
   "metadata": {},
   "outputs": [
    {
     "data": {
      "text/plain": [
       "[<tf.Tensor 'generator/g_0/batch_normalization/AssignMovingAvg:0' shape=(6272,) dtype=float32_ref>,\n",
       " <tf.Tensor 'generator/g_0/batch_normalization/AssignMovingAvg_1:0' shape=(6272,) dtype=float32_ref>,\n",
       " <tf.Tensor 'generator/g_1/batch_normalization/AssignMovingAvg:0' shape=(64,) dtype=float32_ref>,\n",
       " <tf.Tensor 'generator/g_1/batch_normalization/AssignMovingAvg_1:0' shape=(64,) dtype=float32_ref>,\n",
       " <tf.Tensor 'discriminator/d_1/batch_normalization/AssignMovingAvg:0' shape=(128,) dtype=float32_ref>,\n",
       " <tf.Tensor 'discriminator/d_1/batch_normalization/AssignMovingAvg_1:0' shape=(128,) dtype=float32_ref>,\n",
       " <tf.Tensor 'discriminator_1/d_1/batch_normalization/AssignMovingAvg:0' shape=(128,) dtype=float32_ref>,\n",
       " <tf.Tensor 'discriminator_1/d_1/batch_normalization/AssignMovingAvg_1:0' shape=(128,) dtype=float32_ref>]"
      ]
     },
     "execution_count": 143,
     "metadata": {},
     "output_type": "execute_result"
    }
   ],
   "source": [
    "tf.get_collection(tf.GraphKeys.UPDATE_OPS)"
   ]
  },
  {
   "cell_type": "code",
   "execution_count": 144,
   "metadata": {},
   "outputs": [
    {
     "data": {
      "text/plain": [
       "[<tf.Tensor 'generator/g_0/batch_normalization/AssignMovingAvg:0' shape=(6272,) dtype=float32_ref>,\n",
       " <tf.Tensor 'generator/g_0/batch_normalization/AssignMovingAvg_1:0' shape=(6272,) dtype=float32_ref>,\n",
       " <tf.Tensor 'generator/g_1/batch_normalization/AssignMovingAvg:0' shape=(64,) dtype=float32_ref>,\n",
       " <tf.Tensor 'generator/g_1/batch_normalization/AssignMovingAvg_1:0' shape=(64,) dtype=float32_ref>]"
      ]
     },
     "execution_count": 144,
     "metadata": {},
     "output_type": "execute_result"
    }
   ],
   "source": [
    "g_bn_para = tf.get_collection(tf.GraphKeys.UPDATE_OPS, scope='generator')\n",
    "g_bn_para"
   ]
  },
  {
   "cell_type": "code",
   "execution_count": 145,
   "metadata": {},
   "outputs": [
    {
     "data": {
      "text/plain": [
       "[<tf.Tensor 'discriminator/d_1/batch_normalization/AssignMovingAvg:0' shape=(128,) dtype=float32_ref>,\n",
       " <tf.Tensor 'discriminator/d_1/batch_normalization/AssignMovingAvg_1:0' shape=(128,) dtype=float32_ref>,\n",
       " <tf.Tensor 'discriminator_1/d_1/batch_normalization/AssignMovingAvg:0' shape=(128,) dtype=float32_ref>,\n",
       " <tf.Tensor 'discriminator_1/d_1/batch_normalization/AssignMovingAvg_1:0' shape=(128,) dtype=float32_ref>]"
      ]
     },
     "execution_count": 145,
     "metadata": {},
     "output_type": "execute_result"
    }
   ],
   "source": [
    "d_bn_para = tf.get_collection(tf.GraphKeys.UPDATE_OPS, scope='discriminator')\n",
    "d_bn_para"
   ]
  },
  {
   "cell_type": "markdown",
   "metadata": {},
   "source": [
    "batch norm operation 분리"
   ]
  },
  {
   "cell_type": "code",
   "execution_count": 146,
   "metadata": {},
   "outputs": [],
   "source": [
    "with tf.control_dependencies(g_bn_para):\n",
    "    train_op_g = g_adam.minimize(g_loss, var_list=g_vars)\n",
    "    \n",
    "with tf.control_dependencies(d_bn_para):\n",
    "    train_op_d = d_adam.minimize(d_loss, var_list=d_vars)"
   ]
  },
  {
   "cell_type": "code",
   "execution_count": 147,
   "metadata": {},
   "outputs": [],
   "source": [
    "sess = tf.InteractiveSession()\n",
    "init = tf.global_variables_initializer()\n",
    "sess.run(init)"
   ]
  },
  {
   "cell_type": "code",
   "execution_count": 148,
   "metadata": {},
   "outputs": [
    {
     "name": "stdout",
     "output_type": "stream",
     "text": [
      "g_loss = 0.75551724\n",
      "d_loss = 0.8624749\n",
      "g_loss = 0.7250598\n",
      "d_loss = 1.0074375\n",
      "g_loss = 1.5026808\n",
      "d_loss = 0.8009883\n",
      "g_loss = 0.81179786\n",
      "d_loss = 0.9797878\n",
      "g_loss = 0.5316615\n",
      "d_loss = 1.1729816\n",
      "g_loss = 2.052391\n",
      "d_loss = 1.0413295\n",
      "g_loss = 1.2867608\n",
      "d_loss = 0.6886523\n",
      "g_loss = 1.5870848\n",
      "d_loss = 0.90886784\n",
      "g_loss = 1.0935974\n",
      "d_loss = 0.7365643\n",
      "g_loss = 0.7885923\n",
      "d_loss = 0.8538052\n",
      "g_loss = 1.1574951\n",
      "d_loss = 0.6725319\n",
      "g_loss = 0.7437848\n",
      "d_loss = 0.9803326\n",
      "g_loss = 1.0433217\n",
      "d_loss = 0.70369285\n",
      "g_loss = 1.4105415\n",
      "d_loss = 0.66288704\n",
      "g_loss = 2.053589\n",
      "d_loss = 0.5633873\n",
      "g_loss = 1.2126076\n",
      "d_loss = 0.8029945\n",
      "g_loss = 2.1581864\n",
      "d_loss = 0.5693188\n",
      "g_loss = 1.0947183\n",
      "d_loss = 0.72849536\n",
      "g_loss = 1.2264316\n",
      "d_loss = 0.690928\n",
      "g_loss = 1.0123668\n",
      "d_loss = 0.883422\n"
     ]
    }
   ],
   "source": [
    "try:\n",
    "    for i in range(n_epoches):\n",
    "        for j in range(n_batches):\n",
    "            batch_x, _ = mnist.train.next_batch(batch_size)\n",
    "            batch_x = batch_x.reshape([batch_size,28,28,1])\n",
    "            batch_x = batch_x*2-1\n",
    "            sess.run([train_op_g, train_op_d], feed_dict={x: batch_x, z:np.random.uniform(-ran,ran,[batch_size,z_dim]), phase:True})\n",
    "        print_g = sess.run(g_loss, feed_dict={z:np.random.uniform(-ran,ran,[batch_size,z_dim]),phase:True})\n",
    "        print_d = sess.run(d_loss, feed_dict={x:batch_x, z:np.random.uniform(-ran,ran,[batch_size,z_dim]),phase:True})\n",
    "        print('g_loss = '+str(print_g))\n",
    "        print('d_loss = '+str(print_d))\n",
    "except KeyboardInterrupt:\n",
    "    print('Stop Iterations')"
   ]
  },
  {
   "cell_type": "markdown",
   "metadata": {},
   "source": [
    "### 확실히 original gan보다 더 잘나옴"
   ]
  },
  {
   "cell_type": "code",
   "execution_count": 149,
   "metadata": {},
   "outputs": [
    {
     "data": {
      "image/png": "[encoded data removed]",
      "text/plain": [
       "<Figure size 720x720 with 16 Axes>"
      ]
     },
     "metadata": {},
     "output_type": "display_data"
    }
   ],
   "source": [
    "plt.figure(figsize=(10,10))\n",
    "for i in range(16):\n",
    "    plt.subplot(4,4,i+1)\n",
    "    plt.imshow((sess.run(gz, feed_dict={z:np.random.uniform(-ran,ran,[batch_size,z_dim]),phase:False})[i].reshape(28,28)+1)/2, cmap='gray')"
   ]
  },
  {
   "cell_type": "code",
   "execution_count": 82,
   "metadata": {},
   "outputs": [
    {
     "data": {
      "image/png": "[encoded data removed]",
      "text/plain": [
       "<Figure size 720x720 with 16 Axes>"
      ]
     },
     "metadata": {},
     "output_type": "display_data"
    }
   ],
   "source": [
    "plt.figure(figsize=(10,10))\n",
    "for i in range(16):\n",
    "    plt.subplot(4,4,i+1)\n",
    "    plt.imshow(((batch_x[i]+1)/2).reshape(28,28), cmap='gray')"
   ]
  }
 ],
 "metadata": {
  "kernelspec": {
   "display_name": "Python 3",
   "language": "python",
   "name": "python3"
  },
  "language_info": {
   "codemirror_mode": {
    "name": "ipython",
    "version": 3
   },
   "file_extension": ".py",
   "mimetype": "text/x-python",
   "name": "python",
   "nbconvert_exporter": "python",
   "pygments_lexer": "ipython3",
   "version": "3.6.3"
  }
 },
 "nbformat": 4,
 "nbformat_minor": 2
}

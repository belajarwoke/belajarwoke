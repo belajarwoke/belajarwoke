{
 "cells": [
  {
   "cell_type": "code",
   "execution_count": 1,
   "metadata": {
    "ExecuteTime": {
     "end_time": "2018-04-23T00:54:58.463171Z",
     "start_time": "2018-04-23T00:54:57.610381Z"
    }
   },
   "outputs": [
    {
     "name": "stderr",
     "output_type": "stream",
     "text": [
      "/home/skinet/py_libs/lib/python3.6/site-packages/h5py/__init__.py:36: FutureWarning: Conversion of the second argument of issubdtype from `float` to `np.floating` is deprecated. In future, it will be treated as `np.float64 == np.dtype(float).type`.\n",
      "  from ._conv import register_converters as _register_converters\n"
     ]
    }
   ],
   "source": [
    "import numpy as np\n",
    "import mxnet as mx\n",
    "from mxnet import gluon, autograd, nd\n",
    "from mxnet.gluon import nn,utils \n",
    "import mxnet.ndarray as F\n",
    "from tqdm import tqdm\n",
    "import os"
   ]
  },
  {
   "cell_type": "code",
   "execution_count": 2,
   "metadata": {
    "ExecuteTime": {
     "end_time": "2018-04-23T00:54:58.580276Z",
     "start_time": "2018-04-23T00:54:58.570848Z"
    }
   },
   "outputs": [
    {
     "data": {
      "text/plain": [
       "'1.1.0'"
      ]
     },
     "execution_count": 2,
     "metadata": {},
     "output_type": "execute_result"
    }
   ],
   "source": [
    "mx.__version__"
   ]
  },
  {
   "cell_type": "code",
   "execution_count": 3,
   "metadata": {
    "ExecuteTime": {
     "end_time": "2018-04-23T00:54:59.241393Z",
     "start_time": "2018-04-23T00:54:59.239020Z"
    }
   },
   "outputs": [],
   "source": [
    "ctx = mx.gpu()"
   ]
  },
  {
   "cell_type": "code",
   "execution_count": 4,
   "metadata": {
    "ExecuteTime": {
     "end_time": "2018-04-23T00:54:59.661255Z",
     "start_time": "2018-04-23T00:54:59.658274Z"
    }
   },
   "outputs": [],
   "source": [
    "os.environ['MXNET_ENGINE_TYPE'] = 'NaiveEngine'\n",
    "os.environ['MXNET_CUDNN_AUTOTUNE_DEFAULT'] = '1'"
   ]
  },
  {
   "cell_type": "code",
   "execution_count": 5,
   "metadata": {
    "ExecuteTime": {
     "end_time": "2018-04-23T00:55:00.204402Z",
     "start_time": "2018-04-23T00:55:00.189528Z"
    }
   },
   "outputs": [],
   "source": [
    "class DilatedCasualConv1d(nn.Block):\n",
    "    def __init__(self,channels,dilation=1,**kwargs):\n",
    "        super(DilatedCasualConv1d,self).__init__(**kwargs)\n",
    "        \n",
    "        self.conv = nn.Conv1D(channels,kernel_size=2,strides=1,dilation=dilation,padding=0,use_bias=False)\n",
    "    \n",
    "    #해당부분 확인 필요\n",
    "    def init_weight_for_test(self):\n",
    "        for m in self.modules():\n",
    "            if isinstance(m,nn.Conv1D):\n",
    "                m.weight.data()[:] = 1\n",
    "    def forward(self,x):\n",
    "        output = self.conv(x)\n",
    "        \n",
    "        return output"
   ]
  },
  {
   "cell_type": "code",
   "execution_count": 6,
   "metadata": {
    "ExecuteTime": {
     "end_time": "2018-04-23T00:55:00.792659Z",
     "start_time": "2018-04-23T00:55:00.778896Z"
    }
   },
   "outputs": [],
   "source": [
    "class CasualConv1d(nn.Block):\n",
    "    def __init__(self,in_channels,out_channels,**kwargs):\n",
    "        super(CasualConv1d,self).__init__(**kwargs)\n",
    "        \n",
    "        self.conv = nn.Conv1D(out_channels,kernel_size=2,strides=1,padding=1,use_bias=False)\n",
    "        \n",
    "    def init_weight_for_test(self):\n",
    "        for m in self.modules():\n",
    "            if isinstance(m,nn.Conv1D):\n",
    "                m.weight.data()[:] = 1\n",
    "                \n",
    "    def forward(self,x):\n",
    "        output = self.conv(x)\n",
    "        \n",
    "        return output[:,:,:-1]"
   ]
  },
  {
   "cell_type": "code",
   "execution_count": 7,
   "metadata": {
    "ExecuteTime": {
     "end_time": "2018-04-23T00:55:01.559700Z",
     "start_time": "2018-04-23T00:55:01.528630Z"
    }
   },
   "outputs": [],
   "source": [
    "class ResidualBlock(nn.Block):\n",
    "    def __init__(self,res_channels,skip_channels,dilation,**kwargs):\n",
    "        super(ResidualBlock,self).__init__(**kwargs)\n",
    "        with self.name_scope():\n",
    "            self.dilated = DilatedCasualConv1d(res_channels,dilation=dilation)\n",
    "            self.conv_res = nn.Conv1D(res_channels,kernel_size=1)\n",
    "            self.conv_skip = nn.Conv1D(res_channels,kernel_size=1)\n",
    "    \n",
    "    def forward(self,x,skip_size):\n",
    "        output = self.dilated(x)\n",
    "        \n",
    "        #PixelCNN gate\n",
    "        gated_tanh = F.tanh(output)\n",
    "        gated_sigmoid = F.sigmoid(output)\n",
    "        gated = gated_tanh * gated_sigmoid\n",
    "        \n",
    "        #Residual network\n",
    "        output = self.conv_res(gated)\n",
    "        input_cut = x[:,:,-output.shape[2]:]\n",
    "        #output += input_cut\n",
    "        output = output + input_cut\n",
    "        \n",
    "        #Skip connection\n",
    "        skip = self.conv_skip(gated)\n",
    "        skip = skip[:,:,-skip_size:]\n",
    "        \n",
    "        return output, skip\n",
    "        "
   ]
  },
  {
   "cell_type": "code",
   "execution_count": 8,
   "metadata": {
    "ExecuteTime": {
     "end_time": "2018-04-23T00:55:02.956189Z",
     "start_time": "2018-04-23T00:55:02.882810Z"
    }
   },
   "outputs": [],
   "source": [
    "class ResidualStack(nn.Block):\n",
    "    def __init__(self,layer_size,stack_size,res_channels,skip_channels,**kwargs):\n",
    "        super(ResidualStack,self).__init__(**kwargs)\n",
    "        \n",
    "        self.layer_size = layer_size\n",
    "        self.stack_size = stack_size\n",
    "        \n",
    "        self.res_blocks = self.stack_res_block(res_channels, skip_channels)\n",
    "    \n",
    "    @staticmethod\n",
    "    def _residual_block(res_channels,skip_channels,dilation):\n",
    "        block = ResidualBlock(res_channels,skip_channels,dilation)\n",
    "        \n",
    "        return block\n",
    "    \n",
    "    def build_dilations(self):\n",
    "        dilations = []\n",
    "        \n",
    "        # 5 = stack[layer1, layer2, layer3, layer4, layer5]\n",
    "        for s in range(0,self.stack_size):\n",
    "             # 10 = layer[dilation=1, dilation=2, 4, 8, 16, 32, 64, 128, 256, 512]\n",
    "            for l in range(0,self.layer_size):\n",
    "                dilations.append(2 ** l)\n",
    "                \n",
    "        return dilations\n",
    "    \n",
    "    def stack_res_block(self,res_channels, skip_channels):\n",
    "        \n",
    "        res_blocks = []\n",
    "        dilations = self.build_dilations()\n",
    "        \n",
    "        for dilation in dilations:\n",
    "            #block = self._residual_block(res_channels, skip_channels, dilation)\n",
    "            block = ResidualBlock(res_channels,skip_channels,dilation)\n",
    "            block.collect_params().initialize(ctx=mx.gpu())\n",
    "            res_blocks.append(block)\n",
    "        return res_blocks\n",
    "    \n",
    "    def forward(self,x,skip_size):\n",
    "        \n",
    "        output = x\n",
    "        skip_connections = []\n",
    "        \n",
    "        #print(len(self.res_blocks))\n",
    "        i = 0\n",
    "        for res_block in self.res_blocks:\n",
    "            output, skip =  res_block(output, skip_size)\n",
    "            #print(i)\n",
    "            i = i+1\n",
    "            #print(skip.shape)\n",
    "            skip_connections.append(skip)\n",
    "        #print(\"skip connection finished\")    \n",
    "        #return skip_connections\n",
    "        return F.stack(*skip_connections)"
   ]
  },
  {
   "cell_type": "code",
   "execution_count": 9,
   "metadata": {
    "ExecuteTime": {
     "end_time": "2018-04-23T00:55:03.611486Z",
     "start_time": "2018-04-23T00:55:03.597407Z"
    }
   },
   "outputs": [],
   "source": [
    "class DenseNet(nn.Block):\n",
    "    def __init__(self,channels,**kwargs):\n",
    "        super(DenseNet,self).__init__(**kwargs)\n",
    "        with self.name_scope():\n",
    "                   \n",
    "            self.conv1 = nn.Conv1D(channels,kernel_size=1)\n",
    "            self.conv2 = nn.Conv1D(channels,kernel_size=1)\n",
    "            \n",
    "    def forward(self,x):\n",
    "        output = F.relu(x)\n",
    "        output = self.conv1(output)\n",
    "        output = self.conv2(output)\n",
    "        \n",
    "        output = nd.softmax(output)\n",
    "        \n",
    "        return output"
   ]
  },
  {
   "cell_type": "code",
   "execution_count": 10,
   "metadata": {
    "ExecuteTime": {
     "end_time": "2018-04-23T00:55:04.468668Z",
     "start_time": "2018-04-23T00:55:04.409085Z"
    }
   },
   "outputs": [],
   "source": [
    "class WaveNet(nn.Block):\n",
    "    def __init__(self,layer_size,stack_size,in_channels,res_channels,**kwargs):\n",
    "        super(WaveNet,self).__init__(**kwargs)\n",
    "        \n",
    "        self.receptive_fields = self.calc_receptive_field(layer_size,stack_size)\n",
    "        with self.name_scope():\n",
    "            self.casual = CasualConv1d(in_channels, res_channels)\n",
    "            self.res_stack = ResidualStack(layer_size,stack_size,res_channels,in_channels)\n",
    "            self.densenet = DenseNet(in_channels)\n",
    "    \n",
    "    @staticmethod\n",
    "    def calc_receptive_field(layer_size,stack_size):\n",
    "        layers = [2 ** i for i in range(0,layer_size)] * stack_size\n",
    "        num_receptive_fields = np.sum(layers) \n",
    "        \n",
    "        return int(num_receptive_fields)\n",
    "    \n",
    "    def calc_output_size(self,x):\n",
    "        output_size = int(x.shape[2]) - self.receptive_fields\n",
    "        \n",
    "        #self.check_input_size(x,output_size)\n",
    "        \n",
    "        return output_size\n",
    "\n",
    "    #def check_input_size(self,x,output_size):\n",
    "    \n",
    "    def forward(self,x):\n",
    "        \n",
    "        output = F.transpose(x,axes=(0,2,1))\n",
    "        output_size = self.calc_output_size(output)\n",
    "        #print(\"casual network is executing...\")\n",
    "        output = self.casual(output)\n",
    "        #print(\"skip_connections is executing...\")\n",
    "        #print(\"output :{o} output_size:{os}\".format(o=output.shape,os=output_size))\n",
    "        skip_connections = self.res_stack(output,output_size)\n",
    "        output = skip_connections.sum(0)\n",
    "        #output = np.sum(skip_connections,axis=0)\n",
    "        #print(\"densenet is executing...\")\n",
    "        output = self.densenet(output)\n",
    "        \n",
    "        return F.transpose(output,axes=(0,2,1))\n",
    "        "
   ]
  },
  {
   "cell_type": "code",
   "execution_count": 11,
   "metadata": {
    "ExecuteTime": {
     "end_time": "2018-04-23T00:55:05.219786Z",
     "start_time": "2018-04-23T00:55:05.211687Z"
    }
   },
   "outputs": [],
   "source": [
    "args = dict()\n",
    "args['layer_size'] = 10 #10\n",
    "args['stack_size'] = 5 #5\n",
    "args['in_channels'] = 256\n",
    "args['res_channels'] = 512\n",
    "args['lr'] = 0.0002\n",
    "args['num_steps'] = 10000\n",
    "args['sample_size'] = 8000\n",
    "args['sample_rate'] = 16000\n",
    "args['data_dir'] = './data'\n",
    "args['ctx'] = mx.gpu()"
   ]
  },
  {
   "cell_type": "code",
   "execution_count": 12,
   "metadata": {
    "ExecuteTime": {
     "end_time": "2018-04-23T00:55:10.128999Z",
     "start_time": "2018-04-23T00:55:06.118710Z"
    }
   },
   "outputs": [],
   "source": [
    "wavenet = WaveNet(args['layer_size'],args['stack_size'],args['in_channels'],args['res_channels'])"
   ]
  },
  {
   "cell_type": "code",
   "execution_count": 13,
   "metadata": {
    "ExecuteTime": {
     "end_time": "2018-04-23T00:55:10.134361Z",
     "start_time": "2018-04-23T00:55:10.130681Z"
    }
   },
   "outputs": [
    {
     "data": {
      "text/plain": [
       "WaveNet(\n",
       "  (casual): CasualConv1d(\n",
       "    (conv): Conv1D(None -> 512, kernel_size=(2,), stride=(1,), padding=(1,), bias=False)\n",
       "  )\n",
       "  (res_stack): ResidualStack(\n",
       "  \n",
       "  )\n",
       "  (densenet): DenseNet(\n",
       "    (conv1): Conv1D(None -> 256, kernel_size=(1,), stride=(1,))\n",
       "    (conv2): Conv1D(None -> 256, kernel_size=(1,), stride=(1,))\n",
       "  )\n",
       ")"
      ]
     },
     "execution_count": 13,
     "metadata": {},
     "output_type": "execute_result"
    }
   ],
   "source": [
    "wavenet"
   ]
  },
  {
   "cell_type": "code",
   "execution_count": 14,
   "metadata": {
    "ExecuteTime": {
     "end_time": "2018-04-23T00:55:10.142750Z",
     "start_time": "2018-04-23T00:55:10.135927Z"
    }
   },
   "outputs": [
    {
     "name": "stderr",
     "output_type": "stream",
     "text": [
      "/opt/venv/lib/python3.6/site-packages/mxnet/gluon/block.py:228: UserWarning: \"ResidualStack.res_blocks\" is a container with Blocks. Note that Blocks inside the list, tuple or dict will not be registered automatically. Make sure to register them using register_child() or switching to nn.Sequential/nn.HybridSequential instead. \n",
      "  .format(name=self.__class__.__name__ + \".\" + k))\n"
     ]
    }
   ],
   "source": [
    "##initialize parameter\n",
    "wavenet.collect_params().initialize(ctx=args['ctx'])\n",
    "#set optimizer\n",
    "trainer = gluon.Trainer(wavenet.collect_params(),optimizer='adam',optimizer_params={'learning_rate':args['lr'] })"
   ]
  },
  {
   "cell_type": "code",
   "execution_count": 15,
   "metadata": {
    "ExecuteTime": {
     "end_time": "2018-04-23T00:55:11.530687Z",
     "start_time": "2018-04-23T00:55:11.528164Z"
    }
   },
   "outputs": [],
   "source": [
    "#define loss function\n",
    "loss = gluon.loss.SoftmaxCrossEntropyLoss()"
   ]
  },
  {
   "cell_type": "markdown",
   "metadata": {},
   "source": [
    "## Data loading"
   ]
  },
  {
   "cell_type": "code",
   "execution_count": 16,
   "metadata": {
    "ExecuteTime": {
     "end_time": "2018-04-23T00:55:13.381714Z",
     "start_time": "2018-04-23T00:55:13.138250Z"
    }
   },
   "outputs": [],
   "source": [
    "from data import *"
   ]
  },
  {
   "cell_type": "code",
   "execution_count": 17,
   "metadata": {
    "ExecuteTime": {
     "end_time": "2018-04-23T00:55:14.602205Z",
     "start_time": "2018-04-23T00:55:14.598560Z"
    }
   },
   "outputs": [
    {
     "data": {
      "text/plain": [
       "5115"
      ]
     },
     "execution_count": 17,
     "metadata": {},
     "output_type": "execute_result"
    }
   ],
   "source": [
    "wavenet.receptive_fields"
   ]
  },
  {
   "cell_type": "code",
   "execution_count": 18,
   "metadata": {
    "ExecuteTime": {
     "end_time": "2018-04-23T00:55:17.052789Z",
     "start_time": "2018-04-23T00:55:17.049051Z"
    }
   },
   "outputs": [
    {
     "data": {
      "text/plain": [
       "'./data'"
      ]
     },
     "execution_count": 18,
     "metadata": {},
     "output_type": "execute_result"
    }
   ],
   "source": [
    "args['data_dir']"
   ]
  },
  {
   "cell_type": "code",
   "execution_count": 19,
   "metadata": {
    "ExecuteTime": {
     "end_time": "2018-04-23T00:55:22.197503Z",
     "start_time": "2018-04-23T00:55:22.191334Z"
    }
   },
   "outputs": [],
   "source": [
    "data_loader = DataLoader(data_dir=args['data_dir'],receptive_fields=wavenet.receptive_fields,sample_size=args['sample_size'],sample_rate=args['sample_rate'],in_channels=args['in_channels'])"
   ]
  },
  {
   "cell_type": "code",
   "execution_count": 20,
   "metadata": {
    "ExecuteTime": {
     "end_time": "2018-04-23T00:55:25.143952Z",
     "start_time": "2018-04-23T00:55:25.139620Z"
    }
   },
   "outputs": [
    {
     "data": {
      "text/plain": [
       "<data.DataLoader at 0x7f31be474198>"
      ]
     },
     "execution_count": 20,
     "metadata": {},
     "output_type": "execute_result"
    }
   ],
   "source": [
    "data_loader"
   ]
  },
  {
   "cell_type": "code",
   "execution_count": 21,
   "metadata": {
    "ExecuteTime": {
     "end_time": "2018-04-23T00:55:25.657218Z",
     "start_time": "2018-04-23T00:55:25.655355Z"
    }
   },
   "outputs": [],
   "source": [
    "loss_for_epoch = list()"
   ]
  },
  {
   "cell_type": "code",
   "execution_count": 22,
   "metadata": {
    "ExecuteTime": {
     "end_time": "2018-04-23T02:05:43.035368Z",
     "start_time": "2018-04-23T00:55:26.478746Z"
    }
   },
   "outputs": [
    {
     "name": "stderr",
     "output_type": "stream",
     "text": [
      "1it [00:13, 13.31s/it]"
     ]
    },
    {
     "name": "stdout",
     "output_type": "stream",
     "text": [
      "0 iter loss val 5.545174598693848\n"
     ]
    },
    {
     "name": "stderr",
     "output_type": "stream",
     "text": [
      "57it [01:01,  1.09s/it]\n",
      "1it [00:01,  1.39s/it]"
     ]
    },
    {
     "name": "stdout",
     "output_type": "stream",
     "text": [
      "0 iter loss val 5.544887065887451\n"
     ]
    },
    {
     "name": "stderr",
     "output_type": "stream",
     "text": [
      "57it [00:42,  1.34it/s]\n",
      "1it [00:01,  1.48s/it]"
     ]
    },
    {
     "name": "stdout",
     "output_type": "stream",
     "text": [
      "0 iter loss val 5.543522357940674\n"
     ]
    },
    {
     "name": "stderr",
     "output_type": "stream",
     "text": [
      "57it [00:42,  1.34it/s]\n",
      "1it [00:01,  1.43s/it]"
     ]
    },
    {
     "name": "stdout",
     "output_type": "stream",
     "text": [
      "0 iter loss val 5.540606498718262\n"
     ]
    },
    {
     "name": "stderr",
     "output_type": "stream",
     "text": [
      "57it [00:42,  1.35it/s]\n",
      "1it [00:01,  1.44s/it]"
     ]
    },
    {
     "name": "stdout",
     "output_type": "stream",
     "text": [
      "0 iter loss val 5.536741256713867\n"
     ]
    },
    {
     "name": "stderr",
     "output_type": "stream",
     "text": [
      "57it [00:41,  1.36it/s]\n",
      "1it [00:01,  1.43s/it]"
     ]
    },
    {
     "name": "stdout",
     "output_type": "stream",
     "text": [
      "0 iter loss val 5.5329155921936035\n"
     ]
    },
    {
     "name": "stderr",
     "output_type": "stream",
     "text": [
      "57it [00:41,  1.36it/s]\n",
      "1it [00:01,  1.41s/it]"
     ]
    },
    {
     "name": "stdout",
     "output_type": "stream",
     "text": [
      "0 iter loss val 5.528903007507324\n"
     ]
    },
    {
     "name": "stderr",
     "output_type": "stream",
     "text": [
      "57it [00:41,  1.36it/s]\n",
      "1it [00:01,  1.42s/it]"
     ]
    },
    {
     "name": "stdout",
     "output_type": "stream",
     "text": [
      "0 iter loss val 5.5260539054870605\n"
     ]
    },
    {
     "name": "stderr",
     "output_type": "stream",
     "text": [
      "57it [00:42,  1.35it/s]\n",
      "1it [00:01,  1.60s/it]"
     ]
    },
    {
     "name": "stdout",
     "output_type": "stream",
     "text": [
      "0 iter loss val 5.5243940353393555\n"
     ]
    },
    {
     "name": "stderr",
     "output_type": "stream",
     "text": [
      "57it [00:42,  1.35it/s]\n",
      "1it [00:01,  1.43s/it]"
     ]
    },
    {
     "name": "stdout",
     "output_type": "stream",
     "text": [
      "0 iter loss val 5.522648334503174\n"
     ]
    },
    {
     "name": "stderr",
     "output_type": "stream",
     "text": [
      "57it [00:41,  1.36it/s]\n",
      "1it [00:01,  1.42s/it]"
     ]
    },
    {
     "name": "stdout",
     "output_type": "stream",
     "text": [
      "0 iter loss val 5.520928382873535\n"
     ]
    },
    {
     "name": "stderr",
     "output_type": "stream",
     "text": [
      "57it [00:41,  1.36it/s]\n",
      "1it [00:01,  1.42s/it]"
     ]
    },
    {
     "name": "stdout",
     "output_type": "stream",
     "text": [
      "0 iter loss val 5.520061492919922\n"
     ]
    },
    {
     "name": "stderr",
     "output_type": "stream",
     "text": [
      "57it [00:41,  1.36it/s]\n",
      "1it [00:01,  1.42s/it]"
     ]
    },
    {
     "name": "stdout",
     "output_type": "stream",
     "text": [
      "0 iter loss val 5.519546985626221\n"
     ]
    },
    {
     "name": "stderr",
     "output_type": "stream",
     "text": [
      "57it [00:41,  1.37it/s]\n",
      "1it [00:01,  1.38s/it]"
     ]
    },
    {
     "name": "stdout",
     "output_type": "stream",
     "text": [
      "0 iter loss val 5.519172668457031\n"
     ]
    },
    {
     "name": "stderr",
     "output_type": "stream",
     "text": [
      "57it [00:41,  1.37it/s]\n",
      "1it [00:01,  1.43s/it]"
     ]
    },
    {
     "name": "stdout",
     "output_type": "stream",
     "text": [
      "0 iter loss val 5.518852233886719\n"
     ]
    },
    {
     "name": "stderr",
     "output_type": "stream",
     "text": [
      "57it [00:41,  1.36it/s]\n",
      "1it [00:01,  1.42s/it]"
     ]
    },
    {
     "name": "stdout",
     "output_type": "stream",
     "text": [
      "0 iter loss val 5.51870059967041\n"
     ]
    },
    {
     "name": "stderr",
     "output_type": "stream",
     "text": [
      "57it [00:41,  1.36it/s]\n",
      "1it [00:01,  1.40s/it]"
     ]
    },
    {
     "name": "stdout",
     "output_type": "stream",
     "text": [
      "0 iter loss val 5.518684387207031\n"
     ]
    },
    {
     "name": "stderr",
     "output_type": "stream",
     "text": [
      "57it [00:41,  1.36it/s]\n",
      "1it [00:01,  1.40s/it]"
     ]
    },
    {
     "name": "stdout",
     "output_type": "stream",
     "text": [
      "0 iter loss val 5.518669605255127\n"
     ]
    },
    {
     "name": "stderr",
     "output_type": "stream",
     "text": [
      "57it [00:41,  1.37it/s]\n",
      "1it [00:01,  1.44s/it]"
     ]
    },
    {
     "name": "stdout",
     "output_type": "stream",
     "text": [
      "0 iter loss val 5.51865816116333\n"
     ]
    },
    {
     "name": "stderr",
     "output_type": "stream",
     "text": [
      "57it [00:41,  1.36it/s]\n",
      "1it [00:01,  1.40s/it]"
     ]
    },
    {
     "name": "stdout",
     "output_type": "stream",
     "text": [
      "0 iter loss val 5.518642425537109\n"
     ]
    },
    {
     "name": "stderr",
     "output_type": "stream",
     "text": [
      "57it [00:41,  1.37it/s]\n",
      "1it [00:01,  1.39s/it]"
     ]
    },
    {
     "name": "stdout",
     "output_type": "stream",
     "text": [
      "0 iter loss val 5.518632411956787\n"
     ]
    },
    {
     "name": "stderr",
     "output_type": "stream",
     "text": [
      "57it [00:41,  1.36it/s]\n",
      "1it [00:01,  1.49s/it]"
     ]
    },
    {
     "name": "stdout",
     "output_type": "stream",
     "text": [
      "0 iter loss val 5.518627166748047\n"
     ]
    },
    {
     "name": "stderr",
     "output_type": "stream",
     "text": [
      "57it [00:42,  1.35it/s]\n",
      "1it [00:01,  1.42s/it]"
     ]
    },
    {
     "name": "stdout",
     "output_type": "stream",
     "text": [
      "0 iter loss val 5.518621444702148\n"
     ]
    },
    {
     "name": "stderr",
     "output_type": "stream",
     "text": [
      "57it [00:41,  1.36it/s]\n",
      "1it [00:01,  1.49s/it]"
     ]
    },
    {
     "name": "stdout",
     "output_type": "stream",
     "text": [
      "0 iter loss val 5.518617153167725\n"
     ]
    },
    {
     "name": "stderr",
     "output_type": "stream",
     "text": [
      "57it [00:42,  1.35it/s]\n",
      "1it [00:01,  1.42s/it]"
     ]
    },
    {
     "name": "stdout",
     "output_type": "stream",
     "text": [
      "0 iter loss val 5.518612384796143\n"
     ]
    },
    {
     "name": "stderr",
     "output_type": "stream",
     "text": [
      "57it [00:42,  1.35it/s]\n",
      "1it [00:01,  1.42s/it]"
     ]
    },
    {
     "name": "stdout",
     "output_type": "stream",
     "text": [
      "0 iter loss val 5.518608093261719\n"
     ]
    },
    {
     "name": "stderr",
     "output_type": "stream",
     "text": [
      "57it [00:41,  1.36it/s]\n",
      "1it [00:01,  1.44s/it]"
     ]
    },
    {
     "name": "stdout",
     "output_type": "stream",
     "text": [
      "0 iter loss val 5.5186052322387695\n"
     ]
    },
    {
     "name": "stderr",
     "output_type": "stream",
     "text": [
      "57it [00:41,  1.36it/s]\n",
      "1it [00:01,  1.42s/it]"
     ]
    },
    {
     "name": "stdout",
     "output_type": "stream",
     "text": [
      "0 iter loss val 5.518603324890137\n"
     ]
    },
    {
     "name": "stderr",
     "output_type": "stream",
     "text": [
      "57it [00:41,  1.36it/s]\n",
      "1it [00:01,  1.44s/it]"
     ]
    },
    {
     "name": "stdout",
     "output_type": "stream",
     "text": [
      "0 iter loss val 5.518599510192871\n"
     ]
    },
    {
     "name": "stderr",
     "output_type": "stream",
     "text": [
      "57it [00:41,  1.36it/s]\n",
      "1it [00:01,  1.43s/it]"
     ]
    },
    {
     "name": "stdout",
     "output_type": "stream",
     "text": [
      "0 iter loss val 5.518597602844238\n"
     ]
    },
    {
     "name": "stderr",
     "output_type": "stream",
     "text": [
      "57it [00:41,  1.36it/s]\n",
      "1it [00:01,  1.43s/it]"
     ]
    },
    {
     "name": "stdout",
     "output_type": "stream",
     "text": [
      "0 iter loss val 5.518596172332764\n"
     ]
    },
    {
     "name": "stderr",
     "output_type": "stream",
     "text": [
      "57it [00:41,  1.36it/s]\n",
      "1it [00:01,  1.42s/it]"
     ]
    },
    {
     "name": "stdout",
     "output_type": "stream",
     "text": [
      "0 iter loss val 5.518594741821289\n"
     ]
    },
    {
     "name": "stderr",
     "output_type": "stream",
     "text": [
      "57it [00:41,  1.37it/s]\n",
      "1it [00:01,  1.40s/it]"
     ]
    },
    {
     "name": "stdout",
     "output_type": "stream",
     "text": [
      "0 iter loss val 5.518592834472656\n"
     ]
    },
    {
     "name": "stderr",
     "output_type": "stream",
     "text": [
      "57it [00:41,  1.37it/s]\n",
      "1it [00:01,  1.38s/it]"
     ]
    },
    {
     "name": "stdout",
     "output_type": "stream",
     "text": [
      "0 iter loss val 5.518591403961182\n"
     ]
    },
    {
     "name": "stderr",
     "output_type": "stream",
     "text": [
      "57it [00:41,  1.36it/s]\n",
      "1it [00:01,  1.40s/it]"
     ]
    },
    {
     "name": "stdout",
     "output_type": "stream",
     "text": [
      "0 iter loss val 5.518591403961182\n"
     ]
    },
    {
     "name": "stderr",
     "output_type": "stream",
     "text": [
      "57it [00:41,  1.37it/s]\n",
      "1it [00:01,  1.40s/it]"
     ]
    },
    {
     "name": "stdout",
     "output_type": "stream",
     "text": [
      "0 iter loss val 5.518590927124023\n"
     ]
    },
    {
     "name": "stderr",
     "output_type": "stream",
     "text": [
      "57it [00:41,  1.37it/s]\n",
      "1it [00:01,  1.41s/it]"
     ]
    },
    {
     "name": "stdout",
     "output_type": "stream",
     "text": [
      "0 iter loss val 5.518590927124023\n"
     ]
    },
    {
     "name": "stderr",
     "output_type": "stream",
     "text": [
      "57it [00:41,  1.37it/s]\n",
      "1it [00:01,  1.44s/it]"
     ]
    },
    {
     "name": "stdout",
     "output_type": "stream",
     "text": [
      "0 iter loss val 5.518589019775391\n"
     ]
    },
    {
     "name": "stderr",
     "output_type": "stream",
     "text": [
      "57it [00:41,  1.36it/s]\n",
      "1it [00:01,  1.41s/it]"
     ]
    },
    {
     "name": "stdout",
     "output_type": "stream",
     "text": [
      "0 iter loss val 5.518588066101074\n"
     ]
    },
    {
     "name": "stderr",
     "output_type": "stream",
     "text": [
      "57it [00:41,  1.36it/s]\n",
      "1it [00:01,  1.72s/it]"
     ]
    },
    {
     "name": "stdout",
     "output_type": "stream",
     "text": [
      "0 iter loss val 5.5185866355896\n"
     ]
    },
    {
     "name": "stderr",
     "output_type": "stream",
     "text": [
      "57it [00:42,  1.35it/s]\n",
      "1it [00:01,  1.39s/it]"
     ]
    },
    {
     "name": "stdout",
     "output_type": "stream",
     "text": [
      "0 iter loss val 5.518585681915283\n"
     ]
    },
    {
     "name": "stderr",
     "output_type": "stream",
     "text": [
      "57it [00:41,  1.37it/s]\n",
      "1it [00:01,  1.41s/it]"
     ]
    },
    {
     "name": "stdout",
     "output_type": "stream",
     "text": [
      "0 iter loss val 5.518584251403809\n"
     ]
    },
    {
     "name": "stderr",
     "output_type": "stream",
     "text": [
      "57it [00:41,  1.37it/s]\n",
      "1it [00:01,  1.42s/it]"
     ]
    },
    {
     "name": "stdout",
     "output_type": "stream",
     "text": [
      "0 iter loss val 5.518582820892334\n"
     ]
    },
    {
     "name": "stderr",
     "output_type": "stream",
     "text": [
      "57it [00:41,  1.36it/s]\n",
      "1it [00:01,  1.39s/it]"
     ]
    },
    {
     "name": "stdout",
     "output_type": "stream",
     "text": [
      "0 iter loss val 5.518581390380859\n"
     ]
    },
    {
     "name": "stderr",
     "output_type": "stream",
     "text": [
      "57it [00:41,  1.37it/s]\n",
      "1it [00:01,  1.63s/it]"
     ]
    },
    {
     "name": "stdout",
     "output_type": "stream",
     "text": [
      "0 iter loss val 5.518580913543701\n"
     ]
    },
    {
     "name": "stderr",
     "output_type": "stream",
     "text": [
      "57it [00:42,  1.35it/s]\n",
      "1it [00:01,  1.49s/it]"
     ]
    },
    {
     "name": "stdout",
     "output_type": "stream",
     "text": [
      "0 iter loss val 5.518580913543701\n"
     ]
    },
    {
     "name": "stderr",
     "output_type": "stream",
     "text": [
      "57it [00:41,  1.36it/s]\n",
      "1it [00:01,  1.48s/it]"
     ]
    },
    {
     "name": "stdout",
     "output_type": "stream",
     "text": [
      "0 iter loss val 5.518579959869385\n"
     ]
    },
    {
     "name": "stderr",
     "output_type": "stream",
     "text": [
      "57it [00:42,  1.35it/s]\n",
      "1it [00:01,  1.48s/it]"
     ]
    },
    {
     "name": "stdout",
     "output_type": "stream",
     "text": [
      "0 iter loss val 5.518579483032227\n"
     ]
    },
    {
     "name": "stderr",
     "output_type": "stream",
     "text": [
      "57it [00:42,  1.35it/s]\n",
      "1it [00:01,  1.40s/it]"
     ]
    },
    {
     "name": "stdout",
     "output_type": "stream",
     "text": [
      "0 iter loss val 5.51857852935791\n"
     ]
    },
    {
     "name": "stderr",
     "output_type": "stream",
     "text": [
      "57it [00:41,  1.37it/s]\n",
      "1it [00:01,  1.44s/it]"
     ]
    },
    {
     "name": "stdout",
     "output_type": "stream",
     "text": [
      "0 iter loss val 5.5185770988464355\n"
     ]
    },
    {
     "name": "stderr",
     "output_type": "stream",
     "text": [
      "57it [00:41,  1.36it/s]\n",
      "1it [00:01,  1.40s/it]"
     ]
    },
    {
     "name": "stdout",
     "output_type": "stream",
     "text": [
      "0 iter loss val 5.5185770988464355\n"
     ]
    },
    {
     "name": "stderr",
     "output_type": "stream",
     "text": [
      "57it [00:41,  1.37it/s]\n",
      "1it [00:01,  1.45s/it]"
     ]
    },
    {
     "name": "stdout",
     "output_type": "stream",
     "text": [
      "0 iter loss val 5.518576145172119\n"
     ]
    },
    {
     "name": "stderr",
     "output_type": "stream",
     "text": [
      "57it [00:41,  1.37it/s]\n",
      "1it [00:01,  1.39s/it]"
     ]
    },
    {
     "name": "stdout",
     "output_type": "stream",
     "text": [
      "0 iter loss val 5.518576622009277\n"
     ]
    },
    {
     "name": "stderr",
     "output_type": "stream",
     "text": [
      "57it [00:41,  1.37it/s]\n",
      "1it [00:01,  1.42s/it]"
     ]
    },
    {
     "name": "stdout",
     "output_type": "stream",
     "text": [
      "0 iter loss val 5.518576145172119\n"
     ]
    },
    {
     "name": "stderr",
     "output_type": "stream",
     "text": [
      "57it [00:41,  1.37it/s]\n",
      "1it [00:01,  1.42s/it]"
     ]
    },
    {
     "name": "stdout",
     "output_type": "stream",
     "text": [
      "0 iter loss val 5.518578052520752\n"
     ]
    },
    {
     "name": "stderr",
     "output_type": "stream",
     "text": [
      "57it [00:41,  1.37it/s]\n",
      "1it [00:01,  1.43s/it]"
     ]
    },
    {
     "name": "stdout",
     "output_type": "stream",
     "text": [
      "0 iter loss val 5.518578052520752\n"
     ]
    },
    {
     "name": "stderr",
     "output_type": "stream",
     "text": [
      "57it [00:41,  1.37it/s]\n",
      "1it [00:01,  1.40s/it]"
     ]
    },
    {
     "name": "stdout",
     "output_type": "stream",
     "text": [
      "0 iter loss val 5.518579959869385\n"
     ]
    },
    {
     "name": "stderr",
     "output_type": "stream",
     "text": [
      "57it [00:41,  1.37it/s]\n",
      "1it [00:01,  1.40s/it]"
     ]
    },
    {
     "name": "stdout",
     "output_type": "stream",
     "text": [
      "0 iter loss val 5.51857852935791\n"
     ]
    },
    {
     "name": "stderr",
     "output_type": "stream",
     "text": [
      "57it [00:41,  1.37it/s]\n",
      "1it [00:01,  1.41s/it]"
     ]
    },
    {
     "name": "stdout",
     "output_type": "stream",
     "text": [
      "0 iter loss val 5.518577575683594\n"
     ]
    },
    {
     "name": "stderr",
     "output_type": "stream",
     "text": [
      "57it [00:41,  1.37it/s]\n",
      "1it [00:01,  1.46s/it]"
     ]
    },
    {
     "name": "stdout",
     "output_type": "stream",
     "text": [
      "0 iter loss val 5.518577575683594\n"
     ]
    },
    {
     "name": "stderr",
     "output_type": "stream",
     "text": [
      "57it [00:41,  1.37it/s]\n",
      "1it [00:01,  1.55s/it]"
     ]
    },
    {
     "name": "stdout",
     "output_type": "stream",
     "text": [
      "0 iter loss val 5.518578052520752\n"
     ]
    },
    {
     "name": "stderr",
     "output_type": "stream",
     "text": [
      "57it [00:41,  1.37it/s]\n",
      "1it [00:01,  1.42s/it]"
     ]
    },
    {
     "name": "stdout",
     "output_type": "stream",
     "text": [
      "0 iter loss val 5.518577575683594\n"
     ]
    },
    {
     "name": "stderr",
     "output_type": "stream",
     "text": [
      "57it [00:41,  1.37it/s]\n",
      "1it [00:01,  1.40s/it]"
     ]
    },
    {
     "name": "stdout",
     "output_type": "stream",
     "text": [
      "0 iter loss val 5.518576622009277\n"
     ]
    },
    {
     "name": "stderr",
     "output_type": "stream",
     "text": [
      "57it [00:41,  1.37it/s]\n",
      "1it [00:01,  1.40s/it]"
     ]
    },
    {
     "name": "stdout",
     "output_type": "stream",
     "text": [
      "0 iter loss val 5.518577575683594\n"
     ]
    },
    {
     "name": "stderr",
     "output_type": "stream",
     "text": [
      "57it [00:41,  1.37it/s]\n",
      "1it [00:01,  1.43s/it]"
     ]
    },
    {
     "name": "stdout",
     "output_type": "stream",
     "text": [
      "0 iter loss val 5.518576145172119\n"
     ]
    },
    {
     "name": "stderr",
     "output_type": "stream",
     "text": [
      "57it [00:41,  1.37it/s]\n",
      "1it [00:01,  1.41s/it]"
     ]
    },
    {
     "name": "stdout",
     "output_type": "stream",
     "text": [
      "0 iter loss val 5.518575191497803\n"
     ]
    },
    {
     "name": "stderr",
     "output_type": "stream",
     "text": [
      "57it [00:41,  1.37it/s]\n",
      "1it [00:01,  1.37s/it]"
     ]
    },
    {
     "name": "stdout",
     "output_type": "stream",
     "text": [
      "0 iter loss val 5.518573760986328\n"
     ]
    },
    {
     "name": "stderr",
     "output_type": "stream",
     "text": [
      "57it [00:41,  1.38it/s]\n",
      "1it [00:01,  1.38s/it]"
     ]
    },
    {
     "name": "stdout",
     "output_type": "stream",
     "text": [
      "0 iter loss val 5.518572807312012\n"
     ]
    },
    {
     "name": "stderr",
     "output_type": "stream",
     "text": [
      "57it [00:41,  1.37it/s]\n",
      "1it [00:01,  1.37s/it]"
     ]
    },
    {
     "name": "stdout",
     "output_type": "stream",
     "text": [
      "0 iter loss val 5.518571853637695\n"
     ]
    },
    {
     "name": "stderr",
     "output_type": "stream",
     "text": [
      "57it [00:41,  1.37it/s]\n",
      "1it [00:01,  1.41s/it]"
     ]
    },
    {
     "name": "stdout",
     "output_type": "stream",
     "text": [
      "0 iter loss val 5.5185723304748535\n"
     ]
    },
    {
     "name": "stderr",
     "output_type": "stream",
     "text": [
      "57it [00:41,  1.37it/s]\n",
      "1it [00:01,  1.42s/it]"
     ]
    },
    {
     "name": "stdout",
     "output_type": "stream",
     "text": [
      "0 iter loss val 5.518573760986328\n"
     ]
    },
    {
     "name": "stderr",
     "output_type": "stream",
     "text": [
      "57it [00:41,  1.37it/s]\n",
      "1it [00:01,  1.41s/it]"
     ]
    },
    {
     "name": "stdout",
     "output_type": "stream",
     "text": [
      "0 iter loss val 5.518575191497803\n"
     ]
    },
    {
     "name": "stderr",
     "output_type": "stream",
     "text": [
      "57it [00:41,  1.37it/s]\n",
      "1it [00:01,  1.48s/it]"
     ]
    },
    {
     "name": "stdout",
     "output_type": "stream",
     "text": [
      "0 iter loss val 5.518576145172119\n"
     ]
    },
    {
     "name": "stderr",
     "output_type": "stream",
     "text": [
      "57it [00:41,  1.37it/s]\n",
      "1it [00:01,  1.40s/it]"
     ]
    },
    {
     "name": "stdout",
     "output_type": "stream",
     "text": [
      "0 iter loss val 5.5185770988464355\n"
     ]
    },
    {
     "name": "stderr",
     "output_type": "stream",
     "text": [
      "57it [00:41,  1.37it/s]\n",
      "1it [00:01,  1.40s/it]"
     ]
    },
    {
     "name": "stdout",
     "output_type": "stream",
     "text": [
      "0 iter loss val 5.518576622009277\n"
     ]
    },
    {
     "name": "stderr",
     "output_type": "stream",
     "text": [
      "57it [00:41,  1.37it/s]\n",
      "1it [00:01,  1.40s/it]"
     ]
    },
    {
     "name": "stdout",
     "output_type": "stream",
     "text": [
      "0 iter loss val 5.518579006195068\n"
     ]
    },
    {
     "name": "stderr",
     "output_type": "stream",
     "text": [
      "57it [00:41,  1.37it/s]\n",
      "1it [00:01,  1.42s/it]"
     ]
    },
    {
     "name": "stdout",
     "output_type": "stream",
     "text": [
      "0 iter loss val 5.518581390380859\n"
     ]
    },
    {
     "name": "stderr",
     "output_type": "stream",
     "text": [
      "57it [00:41,  1.37it/s]\n",
      "1it [00:01,  1.38s/it]"
     ]
    },
    {
     "name": "stdout",
     "output_type": "stream",
     "text": [
      "0 iter loss val 5.518589973449707\n"
     ]
    },
    {
     "name": "stderr",
     "output_type": "stream",
     "text": [
      "57it [00:41,  1.37it/s]\n",
      "1it [00:01,  1.43s/it]"
     ]
    },
    {
     "name": "stdout",
     "output_type": "stream",
     "text": [
      "0 iter loss val 5.518589496612549\n"
     ]
    },
    {
     "name": "stderr",
     "output_type": "stream",
     "text": [
      "57it [00:41,  1.37it/s]\n",
      "1it [00:01,  1.40s/it]"
     ]
    },
    {
     "name": "stdout",
     "output_type": "stream",
     "text": [
      "0 iter loss val 5.518584728240967\n"
     ]
    },
    {
     "name": "stderr",
     "output_type": "stream",
     "text": [
      "57it [00:41,  1.37it/s]\n",
      "1it [00:01,  1.40s/it]"
     ]
    },
    {
     "name": "stdout",
     "output_type": "stream",
     "text": [
      "0 iter loss val 5.518582820892334\n"
     ]
    },
    {
     "name": "stderr",
     "output_type": "stream",
     "text": [
      "57it [00:41,  1.37it/s]\n",
      "1it [00:01,  1.40s/it]"
     ]
    },
    {
     "name": "stdout",
     "output_type": "stream",
     "text": [
      "0 iter loss val 5.518580436706543\n"
     ]
    },
    {
     "name": "stderr",
     "output_type": "stream",
     "text": [
      "57it [00:42,  1.36it/s]\n",
      "1it [00:01,  1.54s/it]"
     ]
    },
    {
     "name": "stdout",
     "output_type": "stream",
     "text": [
      "0 iter loss val 5.518577575683594\n"
     ]
    },
    {
     "name": "stderr",
     "output_type": "stream",
     "text": [
      "57it [00:42,  1.34it/s]\n",
      "1it [00:01,  1.43s/it]"
     ]
    },
    {
     "name": "stdout",
     "output_type": "stream",
     "text": [
      "0 iter loss val 5.518575191497803\n"
     ]
    },
    {
     "name": "stderr",
     "output_type": "stream",
     "text": [
      "57it [00:42,  1.35it/s]\n",
      "1it [00:01,  1.44s/it]"
     ]
    },
    {
     "name": "stdout",
     "output_type": "stream",
     "text": [
      "0 iter loss val 5.518573760986328\n"
     ]
    },
    {
     "name": "stderr",
     "output_type": "stream",
     "text": [
      "57it [00:41,  1.36it/s]\n",
      "1it [00:01,  1.43s/it]"
     ]
    },
    {
     "name": "stdout",
     "output_type": "stream",
     "text": [
      "0 iter loss val 5.518571853637695\n"
     ]
    },
    {
     "name": "stderr",
     "output_type": "stream",
     "text": [
      "57it [00:42,  1.36it/s]\n",
      "1it [00:01,  1.42s/it]"
     ]
    },
    {
     "name": "stdout",
     "output_type": "stream",
     "text": [
      "0 iter loss val 5.518571376800537\n"
     ]
    },
    {
     "name": "stderr",
     "output_type": "stream",
     "text": [
      "57it [00:41,  1.36it/s]\n",
      "1it [00:01,  1.43s/it]"
     ]
    },
    {
     "name": "stdout",
     "output_type": "stream",
     "text": [
      "0 iter loss val 5.518569469451904\n"
     ]
    },
    {
     "name": "stderr",
     "output_type": "stream",
     "text": [
      "57it [00:41,  1.36it/s]\n",
      "1it [00:01,  1.37s/it]"
     ]
    },
    {
     "name": "stdout",
     "output_type": "stream",
     "text": [
      "0 iter loss val 5.518568992614746\n"
     ]
    },
    {
     "name": "stderr",
     "output_type": "stream",
     "text": [
      "57it [00:41,  1.36it/s]\n",
      "1it [00:01,  1.38s/it]"
     ]
    },
    {
     "name": "stdout",
     "output_type": "stream",
     "text": [
      "0 iter loss val 5.51856803894043\n"
     ]
    },
    {
     "name": "stderr",
     "output_type": "stream",
     "text": [
      "57it [00:41,  1.36it/s]\n",
      "1it [00:01,  1.45s/it]"
     ]
    },
    {
     "name": "stdout",
     "output_type": "stream",
     "text": [
      "0 iter loss val 5.51856803894043\n"
     ]
    },
    {
     "name": "stderr",
     "output_type": "stream",
     "text": [
      "57it [00:41,  1.36it/s]\n",
      "1it [00:01,  1.40s/it]"
     ]
    },
    {
     "name": "stdout",
     "output_type": "stream",
     "text": [
      "0 iter loss val 5.518567085266113\n"
     ]
    },
    {
     "name": "stderr",
     "output_type": "stream",
     "text": [
      "57it [00:41,  1.36it/s]\n",
      "1it [00:01,  1.40s/it]"
     ]
    },
    {
     "name": "stdout",
     "output_type": "stream",
     "text": [
      "0 iter loss val 5.518567085266113\n"
     ]
    },
    {
     "name": "stderr",
     "output_type": "stream",
     "text": [
      "57it [00:41,  1.36it/s]\n",
      "1it [00:01,  1.38s/it]"
     ]
    },
    {
     "name": "stdout",
     "output_type": "stream",
     "text": [
      "0 iter loss val 5.518566608428955\n"
     ]
    },
    {
     "name": "stderr",
     "output_type": "stream",
     "text": [
      "57it [00:41,  1.36it/s]\n",
      "1it [00:01,  1.39s/it]"
     ]
    },
    {
     "name": "stdout",
     "output_type": "stream",
     "text": [
      "0 iter loss val 5.518566131591797\n"
     ]
    },
    {
     "name": "stderr",
     "output_type": "stream",
     "text": [
      "57it [00:41,  1.37it/s]\n",
      "1it [00:01,  1.35s/it]"
     ]
    },
    {
     "name": "stdout",
     "output_type": "stream",
     "text": [
      "0 iter loss val 5.518567085266113\n"
     ]
    },
    {
     "name": "stderr",
     "output_type": "stream",
     "text": [
      "57it [00:41,  1.36it/s]\n",
      "1it [00:01,  1.38s/it]"
     ]
    },
    {
     "name": "stdout",
     "output_type": "stream",
     "text": [
      "0 iter loss val 5.51856803894043\n"
     ]
    },
    {
     "name": "stderr",
     "output_type": "stream",
     "text": [
      "57it [00:41,  1.36it/s]\n",
      "1it [00:01,  1.36s/it]"
     ]
    },
    {
     "name": "stdout",
     "output_type": "stream",
     "text": [
      "0 iter loss val 5.518569469451904\n"
     ]
    },
    {
     "name": "stderr",
     "output_type": "stream",
     "text": [
      "57it [00:41,  1.37it/s]\n",
      "1it [00:01,  1.40s/it]"
     ]
    },
    {
     "name": "stdout",
     "output_type": "stream",
     "text": [
      "0 iter loss val 5.51856803894043\n"
     ]
    },
    {
     "name": "stderr",
     "output_type": "stream",
     "text": [
      "57it [00:41,  1.36it/s]\n",
      "1it [00:01,  1.38s/it]"
     ]
    },
    {
     "name": "stdout",
     "output_type": "stream",
     "text": [
      "0 iter loss val 5.518568992614746\n"
     ]
    },
    {
     "name": "stderr",
     "output_type": "stream",
     "text": [
      "57it [00:41,  1.37it/s]\n"
     ]
    }
   ],
   "source": [
    "for e in range(args['num_steps']):\n",
    "    i = 0\n",
    "    for dataset in data_loader:\n",
    "        for inputs, targets in tqdm(dataset):\n",
    "            #print(\"input {i} target {t}\".format(i=inputs.shape,t=targets.shape))\n",
    "            inputs =inputs.copyto(mx.gpu())        \n",
    "            targets = targets.copyto(mx.gpu())     \n",
    "            with autograd.record():\n",
    "                outputs = wavenet(inputs)\n",
    "                loss_values = loss(outputs,targets)\n",
    "            loss_values.backward()\n",
    "            \n",
    "            \n",
    "            if (i % 200 == 0):\n",
    "                loss_for_epoch.append(loss_values.asscalar())\n",
    "                print(\"{e} epoch {i} iter loss val {l}\".format(e=e,i=i,l=loss_values.asscalar()))\n",
    "            trainer.step(1)\n",
    "            i = i + 1"
   ]
  },
  {
   "cell_type": "code",
   "execution_count": 25,
   "metadata": {
    "ExecuteTime": {
     "end_time": "2018-04-23T02:13:18.482678Z",
     "start_time": "2018-04-23T02:13:18.475459Z"
    }
   },
   "outputs": [
    {
     "data": {
      "text/plain": [
       "5.518569"
      ]
     },
     "execution_count": 25,
     "metadata": {},
     "output_type": "execute_result"
    }
   ],
   "source": [
    "loss_for_epoch[-1]"
   ]
  },
  {
   "cell_type": "code",
   "execution_count": 37,
   "metadata": {
    "ExecuteTime": {
     "end_time": "2018-04-20T07:28:48.651717Z",
     "start_time": "2018-04-20T07:28:48.648455Z"
    }
   },
   "outputs": [
    {
     "data": {
      "text/plain": [
       "(1, 89)"
      ]
     },
     "execution_count": 37,
     "metadata": {},
     "output_type": "execute_result"
    }
   ],
   "source": [
    "targets.shape"
   ]
  },
  {
   "cell_type": "code",
   "execution_count": 63,
   "metadata": {
    "ExecuteTime": {
     "end_time": "2018-04-20T07:36:10.893897Z",
     "start_time": "2018-04-20T07:36:10.890779Z"
    }
   },
   "outputs": [],
   "source": [
    "inputs =inputs.copyto(mx.gpu())"
   ]
  },
  {
   "cell_type": "code",
   "execution_count": 64,
   "metadata": {
    "ExecuteTime": {
     "end_time": "2018-04-20T07:36:18.359637Z",
     "start_time": "2018-04-20T07:36:11.822061Z"
    }
   },
   "outputs": [
    {
     "name": "stderr",
     "output_type": "stream",
     "text": [
      "\n",
      "  0%|          | 0/50 [00:00<?, ?it/s]\u001b[A"
     ]
    },
    {
     "name": "stdout",
     "output_type": "stream",
     "text": [
      "casual network is executing...\n",
      "skip_connections is executing...\n",
      "output :(1, 512, 8000) output_size:2885\n"
     ]
    },
    {
     "name": "stderr",
     "output_type": "stream",
     "text": [
      "\n",
      "  4%|▍         | 2/50 [00:00<00:09,  5.14it/s]\u001b[A\n",
      "  6%|▌         | 3/50 [00:00<00:07,  5.97it/s]\u001b[A\n",
      " 10%|█         | 5/50 [00:00<00:07,  6.11it/s]\u001b[A\n",
      " 12%|█▏        | 6/50 [00:01<00:08,  5.25it/s]\u001b[A\n",
      " 16%|█▌        | 8/50 [00:01<00:06,  6.09it/s]\u001b[A\n",
      " 20%|██        | 10/50 [00:01<00:05,  6.78it/s]\u001b[A\n",
      " 22%|██▏       | 11/50 [00:01<00:05,  6.82it/s]\u001b[A\n",
      " 26%|██▌       | 13/50 [00:01<00:05,  6.88it/s]\u001b[A\n",
      " 28%|██▊       | 14/50 [00:02<00:05,  6.45it/s]\u001b[A\n",
      " 32%|███▏      | 16/50 [00:02<00:04,  6.89it/s]\u001b[A\n",
      " 36%|███▌      | 18/50 [00:02<00:04,  7.27it/s]\u001b[A\n",
      " 38%|███▊      | 19/50 [00:02<00:04,  6.54it/s]\u001b[A\n",
      " 42%|████▏     | 21/50 [00:03<00:04,  6.78it/s]\u001b[A\n",
      " 46%|████▌     | 23/50 [00:03<00:04,  6.58it/s]\u001b[A\n",
      " 48%|████▊     | 24/50 [00:03<00:03,  6.59it/s]\u001b[A\n",
      " 52%|█████▏    | 26/50 [00:03<00:03,  6.85it/s]\u001b[A\n",
      " 56%|█████▌    | 28/50 [00:03<00:03,  7.12it/s]\u001b[A\n",
      " 60%|██████    | 30/50 [00:04<00:02,  7.39it/s]\u001b[A\n",
      " 64%|██████▍   | 32/50 [00:04<00:02,  7.57it/s]\u001b[A\n",
      " 68%|██████▊   | 34/50 [00:04<00:02,  7.25it/s]\u001b[A\n",
      " 72%|███████▏  | 36/50 [00:04<00:01,  7.48it/s]\u001b[A\n",
      " 76%|███████▌  | 38/50 [00:04<00:01,  7.71it/s]\u001b[A\n",
      " 80%|████████  | 40/50 [00:05<00:01,  7.39it/s]\u001b[A\n",
      " 84%|████████▍ | 42/50 [00:05<00:01,  7.53it/s]\u001b[A\n",
      " 88%|████████▊ | 44/50 [00:05<00:00,  7.72it/s]\u001b[A\n",
      " 92%|█████████▏| 46/50 [00:06<00:00,  7.40it/s]\u001b[A\n",
      " 96%|█████████▌| 48/50 [00:06<00:00,  7.55it/s]\u001b[A\n",
      "100%|██████████| 50/50 [00:06<00:00,  7.72it/s]\u001b[A\n",
      "\u001b[A"
     ]
    },
    {
     "name": "stdout",
     "output_type": "stream",
     "text": [
      "skip connection finished\n",
      "densenet is executing...\n"
     ]
    }
   ],
   "source": [
    "output = wavenet(inputs)"
   ]
  },
  {
   "cell_type": "code",
   "execution_count": 65,
   "metadata": {
    "ExecuteTime": {
     "end_time": "2018-04-20T07:36:20.457942Z",
     "start_time": "2018-04-20T07:36:20.454248Z"
    }
   },
   "outputs": [
    {
     "data": {
      "text/plain": [
       "(1, 2885, 256)"
      ]
     },
     "execution_count": 65,
     "metadata": {},
     "output_type": "execute_result"
    }
   ],
   "source": [
    "output.shape"
   ]
  },
  {
   "cell_type": "code",
   "execution_count": 66,
   "metadata": {
    "ExecuteTime": {
     "end_time": "2018-04-20T07:36:20.800755Z",
     "start_time": "2018-04-20T07:36:20.794539Z"
    }
   },
   "outputs": [
    {
     "data": {
      "text/plain": [
       "\n",
       "[[[1.77778289e-04 7.86370656e-05 1.45762417e-04 ... 7.66266836e-04\n",
       "   8.07149336e-05 2.03454052e-04]\n",
       "  [3.71660484e-04 7.03012774e-05 1.09471643e-04 ... 7.74058339e-04\n",
       "   5.66828239e-05 1.16148069e-04]\n",
       "  [1.89093218e-04 4.02802507e-05 1.96026303e-04 ... 2.61639245e-04\n",
       "   6.08311675e-05 1.06477855e-04]\n",
       "  ...\n",
       "  [4.51185006e-05 1.23523525e-04 1.10579262e-04 ... 7.20732569e-05\n",
       "   3.11169191e-04 1.32637040e-04]\n",
       "  [1.83395343e-04 3.56197066e-04 2.07478806e-04 ... 1.86811871e-04\n",
       "   1.28316542e-03 2.84411362e-04]\n",
       "  [1.02342688e-04 1.97070374e-04 1.46624341e-04 ... 3.69880901e-04\n",
       "   8.58376152e-04 1.37892275e-04]]]\n",
       "<NDArray 1x2885x256 @gpu(0)>"
      ]
     },
     "execution_count": 66,
     "metadata": {},
     "output_type": "execute_result"
    }
   ],
   "source": [
    "output"
   ]
  },
  {
   "cell_type": "code",
   "execution_count": 67,
   "metadata": {
    "ExecuteTime": {
     "end_time": "2018-04-20T07:36:21.881800Z",
     "start_time": "2018-04-20T07:36:21.878965Z"
    }
   },
   "outputs": [],
   "source": [
    "targets =targets.copyto(mx.gpu())"
   ]
  },
  {
   "cell_type": "code",
   "execution_count": 69,
   "metadata": {
    "ExecuteTime": {
     "end_time": "2018-04-20T07:36:28.231824Z",
     "start_time": "2018-04-20T07:36:28.228533Z"
    }
   },
   "outputs": [],
   "source": [
    "b = loss(output,targets)"
   ]
  },
  {
   "cell_type": "code",
   "execution_count": 70,
   "metadata": {
    "ExecuteTime": {
     "end_time": "2018-04-20T07:36:34.184057Z",
     "start_time": "2018-04-20T07:36:34.179897Z"
    }
   },
   "outputs": [
    {
     "data": {
      "text/plain": [
       "5.5452123"
      ]
     },
     "execution_count": 70,
     "metadata": {},
     "output_type": "execute_result"
    }
   ],
   "source": [
    "b.asscalar()"
   ]
  },
  {
   "cell_type": "code",
   "execution_count": null,
   "metadata": {},
   "outputs": [],
   "source": [
    "loss(inputs)"
   ]
  },
  {
   "cell_type": "code",
   "execution_count": 31,
   "metadata": {},
   "outputs": [
    {
     "data": {
      "text/plain": [
       "26624"
      ]
     },
     "execution_count": 31,
     "metadata": {},
     "output_type": "execute_result"
    }
   ],
   "source": [
    "104*256"
   ]
  },
  {
   "cell_type": "code",
   "execution_count": 24,
   "metadata": {},
   "outputs": [
    {
     "data": {
      "text/plain": [
       "(50, 104, 256)"
      ]
     },
     "execution_count": 24,
     "metadata": {},
     "output_type": "execute_result"
    }
   ],
   "source": [
    "output.shape"
   ]
  },
  {
   "cell_type": "code",
   "execution_count": 21,
   "metadata": {},
   "outputs": [],
   "source": [
    "filenames = [x for x in sorted(os.listdir( args['data_dir']))]"
   ]
  },
  {
   "cell_type": "code",
   "execution_count": 22,
   "metadata": {},
   "outputs": [
    {
     "data": {
      "text/plain": [
       "['.ipynb_checkpoints', 'miku.wav']"
      ]
     },
     "execution_count": 22,
     "metadata": {},
     "output_type": "execute_result"
    }
   ],
   "source": [
    "filenames"
   ]
  },
  {
   "cell_type": "code",
   "execution_count": null,
   "metadata": {},
   "outputs": [],
   "source": [
    "audio = dataset.asnumpy()\n",
    "audio = np.pad(audio, [[0, 0], [wavenet.receptive_fields, 0], [0, 0]], 'constant')"
   ]
  },
  {
   "cell_type": "code",
   "execution_count": 20,
   "metadata": {},
   "outputs": [
    {
     "ename": "TypeError",
     "evalue": "'NoneType' object is not iterable",
     "output_type": "error",
     "traceback": [
      "\u001b[0;31m---------------------------------------------------------------------------\u001b[0m",
      "\u001b[0;31mTypeError\u001b[0m                                 Traceback (most recent call last)",
      "\u001b[0;32m<ipython-input-20-f251621c4b20>\u001b[0m in \u001b[0;36m<module>\u001b[0;34m()\u001b[0m\n\u001b[0;32m----> 1\u001b[0;31m \u001b[0ma\u001b[0m\u001b[0;34m,\u001b[0m\u001b[0mb\u001b[0m \u001b[0;34m=\u001b[0m \u001b[0mdata_loader\u001b[0m\u001b[0;34m.\u001b[0m\u001b[0m_collate_fn\u001b[0m\u001b[0;34m(\u001b[0m\u001b[0mdataset\u001b[0m\u001b[0;34m)\u001b[0m\u001b[0;34m\u001b[0m\u001b[0m\n\u001b[0m",
      "\u001b[0;31mTypeError\u001b[0m: 'NoneType' object is not iterable"
     ]
    }
   ],
   "source": [
    "a,b = data_loader._collate_fn(dataset)"
   ]
  },
  {
   "cell_type": "code",
   "execution_count": 43,
   "metadata": {},
   "outputs": [],
   "source": [
    "audio = dataset.asnumpy()"
   ]
  },
  {
   "cell_type": "code",
   "execution_count": 24,
   "metadata": {},
   "outputs": [],
   "source": [
    "audio = np.pad(audio, [[0, 0], [wavenet.receptive_fields, 0], [0, 0]], 'constant')"
   ]
  },
  {
   "cell_type": "code",
   "execution_count": 28,
   "metadata": {},
   "outputs": [
    {
     "data": {
      "text/plain": [
       "(2393984, 256)"
      ]
     },
     "execution_count": 28,
     "metadata": {},
     "output_type": "execute_result"
    }
   ],
   "source": [
    "audio[0].shape"
   ]
  },
  {
   "cell_type": "code",
   "execution_count": 29,
   "metadata": {},
   "outputs": [],
   "source": [
    "inputs = audio[:, :args['sample_size'], :]"
   ]
  },
  {
   "cell_type": "code",
   "execution_count": 30,
   "metadata": {},
   "outputs": [
    {
     "data": {
      "text/plain": [
       "(1, 100000, 256)"
      ]
     },
     "execution_count": 30,
     "metadata": {},
     "output_type": "execute_result"
    }
   ],
   "source": [
    "inputs.shape"
   ]
  },
  {
   "cell_type": "code",
   "execution_count": 32,
   "metadata": {},
   "outputs": [],
   "source": [
    "targets = audio[:, wavenet.receptive_fields:args['sample_size'], :]"
   ]
  },
  {
   "cell_type": "code",
   "execution_count": 33,
   "metadata": {},
   "outputs": [
    {
     "data": {
      "text/plain": [
       "(1, 94885, 256)"
      ]
     },
     "execution_count": 33,
     "metadata": {},
     "output_type": "execute_result"
    }
   ],
   "source": [
    "targets.shape"
   ]
  },
  {
   "cell_type": "code",
   "execution_count": 35,
   "metadata": {},
   "outputs": [
    {
     "ename": "IndexError",
     "evalue": "arrays used as indices must be of integer (or boolean) type",
     "output_type": "error",
     "traceback": [
      "\u001b[0;31m---------------------------------------------------------------------------\u001b[0m",
      "\u001b[0;31mIndexError\u001b[0m                                Traceback (most recent call last)",
      "\u001b[0;32m<ipython-input-35-bc6e4b4ffbf9>\u001b[0m in \u001b[0;36m<module>\u001b[0;34m()\u001b[0m\n\u001b[0;32m----> 1\u001b[0;31m \u001b[0mone_hot_encode\u001b[0m\u001b[0;34m(\u001b[0m\u001b[0mtargets\u001b[0m\u001b[0;34m,\u001b[0m\u001b[0;36m2\u001b[0m\u001b[0;34m)\u001b[0m\u001b[0;34m\u001b[0m\u001b[0m\n\u001b[0m",
      "\u001b[0;32m~/work/gluon_study/Wavenet/data.py\u001b[0m in \u001b[0;36mone_hot_encode\u001b[0;34m(data, channels)\u001b[0m\n\u001b[1;32m     19\u001b[0m \u001b[0;32mdef\u001b[0m \u001b[0mone_hot_encode\u001b[0m\u001b[0;34m(\u001b[0m\u001b[0mdata\u001b[0m\u001b[0;34m,\u001b[0m \u001b[0mchannels\u001b[0m\u001b[0;34m=\u001b[0m\u001b[0;36m256\u001b[0m\u001b[0;34m)\u001b[0m\u001b[0;34m:\u001b[0m\u001b[0;34m\u001b[0m\u001b[0m\n\u001b[1;32m     20\u001b[0m     \u001b[0mone_hot\u001b[0m \u001b[0;34m=\u001b[0m \u001b[0mnp\u001b[0m\u001b[0;34m.\u001b[0m\u001b[0mzeros\u001b[0m\u001b[0;34m(\u001b[0m\u001b[0;34m(\u001b[0m\u001b[0mdata\u001b[0m\u001b[0;34m.\u001b[0m\u001b[0msize\u001b[0m\u001b[0;34m,\u001b[0m \u001b[0mchannels\u001b[0m\u001b[0;34m)\u001b[0m\u001b[0;34m,\u001b[0m \u001b[0mdtype\u001b[0m\u001b[0;34m=\u001b[0m\u001b[0mfloat\u001b[0m\u001b[0;34m)\u001b[0m\u001b[0;34m\u001b[0m\u001b[0m\n\u001b[0;32m---> 21\u001b[0;31m     \u001b[0mone_hot\u001b[0m\u001b[0;34m[\u001b[0m\u001b[0mnp\u001b[0m\u001b[0;34m.\u001b[0m\u001b[0marange\u001b[0m\u001b[0;34m(\u001b[0m\u001b[0mdata\u001b[0m\u001b[0;34m.\u001b[0m\u001b[0msize\u001b[0m\u001b[0;34m)\u001b[0m\u001b[0;34m,\u001b[0m \u001b[0mdata\u001b[0m\u001b[0;34m.\u001b[0m\u001b[0mravel\u001b[0m\u001b[0;34m(\u001b[0m\u001b[0;34m)\u001b[0m\u001b[0;34m]\u001b[0m \u001b[0;34m=\u001b[0m \u001b[0;36m1\u001b[0m\u001b[0;34m\u001b[0m\u001b[0m\n\u001b[0m\u001b[1;32m     22\u001b[0m \u001b[0;34m\u001b[0m\u001b[0m\n\u001b[1;32m     23\u001b[0m     \u001b[0;32mreturn\u001b[0m \u001b[0mone_hot\u001b[0m\u001b[0;34m\u001b[0m\u001b[0m\n",
      "\u001b[0;31mIndexError\u001b[0m: arrays used as indices must be of integer (or boolean) type"
     ]
    }
   ],
   "source": [
    "one_hot_encode(targets,2)"
   ]
  },
  {
   "cell_type": "code",
   "execution_count": 23,
   "metadata": {
    "ExecuteTime": {
     "end_time": "2018-04-12T06:11:19.253466Z",
     "start_time": "2018-04-12T06:11:19.249702Z"
    }
   },
   "outputs": [],
   "source": [
    "x = nd.array([1,2])\n",
    "y = nd.array([3,4])"
   ]
  },
  {
   "cell_type": "code",
   "execution_count": 24,
   "metadata": {
    "ExecuteTime": {
     "end_time": "2018-04-12T06:11:19.972412Z",
     "start_time": "2018-04-12T06:11:19.969065Z"
    }
   },
   "outputs": [],
   "source": [
    "c = list()\n",
    "c.append(x)\n",
    "c.append(y)"
   ]
  },
  {
   "cell_type": "code",
   "execution_count": 25,
   "metadata": {
    "ExecuteTime": {
     "end_time": "2018-04-12T06:11:21.275538Z",
     "start_time": "2018-04-12T06:11:21.271690Z"
    }
   },
   "outputs": [
    {
     "data": {
      "text/plain": [
       "2"
      ]
     },
     "execution_count": 25,
     "metadata": {},
     "output_type": "execute_result"
    }
   ],
   "source": [
    "len(c)"
   ]
  },
  {
   "cell_type": "code",
   "execution_count": 27,
   "metadata": {
    "ExecuteTime": {
     "end_time": "2018-04-12T06:11:29.777158Z",
     "start_time": "2018-04-12T06:11:29.768656Z"
    }
   },
   "outputs": [
    {
     "ename": "SyntaxError",
     "evalue": "can't use starred expression here (<ipython-input-27-df4d4dcd2de2>, line 1)",
     "output_type": "error",
     "traceback": [
      "\u001b[0;36m  File \u001b[0;32m\"<ipython-input-27-df4d4dcd2de2>\"\u001b[0;36m, line \u001b[0;32m1\u001b[0m\n\u001b[0;31m    *c\u001b[0m\n\u001b[0m      ^\u001b[0m\n\u001b[0;31mSyntaxError\u001b[0m\u001b[0;31m:\u001b[0m can't use starred expression here\n"
     ]
    }
   ],
   "source": [
    "*c"
   ]
  },
  {
   "cell_type": "code",
   "execution_count": 20,
   "metadata": {
    "ExecuteTime": {
     "end_time": "2018-04-12T06:00:11.208604Z",
     "start_time": "2018-04-12T06:00:11.199456Z"
    }
   },
   "outputs": [],
   "source": [
    "d = np.asarray(c)"
   ]
  }
 ],
 "metadata": {
  "kernelspec": {
   "display_name": "Python 3",
   "language": "python",
   "name": "python3"
  },
  "language_info": {
   "codemirror_mode": {
    "name": "ipython",
    "version": 3
   },
   "file_extension": ".py",
   "mimetype": "text/x-python",
   "name": "python",
   "nbconvert_exporter": "python",
   "pygments_lexer": "ipython3",
   "version": "3.6.3"
  }
 },
 "nbformat": 4,
 "nbformat_minor": 2
}

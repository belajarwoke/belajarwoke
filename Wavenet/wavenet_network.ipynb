{
 "cells": [
  {
   "cell_type": "code",
   "execution_count": 1,
   "metadata": {
    "ExecuteTime": {
     "end_time": "2018-05-10T23:54:19.017007Z",
     "start_time": "2018-05-10T23:54:18.240647Z"
    }
   },
   "outputs": [
    {
     "name": "stderr",
     "output_type": "stream",
     "text": [
      "/home/skinet/py_libs/lib/python3.6/site-packages/h5py/__init__.py:36: FutureWarning: Conversion of the second argument of issubdtype from `float` to `np.floating` is deprecated. In future, it will be treated as `np.float64 == np.dtype(float).type`.\n",
      "  from ._conv import register_converters as _register_converters\n"
     ]
    }
   ],
   "source": [
    "import numpy as np\n",
    "import mxnet as mx\n",
    "from mxnet import gluon, autograd, nd\n",
    "from mxnet.gluon import nn,utils \n",
    "import mxnet.ndarray as F\n",
    "from tqdm import tqdm\n",
    "import os"
   ]
  },
  {
   "cell_type": "code",
   "execution_count": 2,
   "metadata": {
    "ExecuteTime": {
     "end_time": "2018-05-10T23:54:19.911539Z",
     "start_time": "2018-05-10T23:54:19.902565Z"
    }
   },
   "outputs": [
    {
     "data": {
      "text/plain": [
       "'1.1.0'"
      ]
     },
     "execution_count": 2,
     "metadata": {},
     "output_type": "execute_result"
    }
   ],
   "source": [
    "mx.__version__"
   ]
  },
  {
   "cell_type": "code",
   "execution_count": 3,
   "metadata": {
    "ExecuteTime": {
     "end_time": "2018-05-10T23:54:20.459974Z",
     "start_time": "2018-05-10T23:54:20.458146Z"
    }
   },
   "outputs": [],
   "source": [
    "ctx = mx.gpu()"
   ]
  },
  {
   "cell_type": "code",
   "execution_count": 4,
   "metadata": {
    "ExecuteTime": {
     "end_time": "2018-05-10T23:54:20.983071Z",
     "start_time": "2018-05-10T23:54:20.981049Z"
    }
   },
   "outputs": [],
   "source": [
    "#os.environ['MXNET_ENGINE_TYPE'] = 'NaiveEngine'\n",
    "#os.environ['MXNET_CUDNN_AUTOTUNE_DEFAULT'] = '1'"
   ]
  },
  {
   "cell_type": "code",
   "execution_count": 5,
   "metadata": {
    "ExecuteTime": {
     "end_time": "2018-05-10T23:54:21.487904Z",
     "start_time": "2018-05-10T23:54:21.475477Z"
    }
   },
   "outputs": [],
   "source": [
    "class DilatedCasualConv1d(nn.Block):\n",
    "    def __init__(self,channels,dilation=1,**kwargs):\n",
    "        super(DilatedCasualConv1d,self).__init__(**kwargs)\n",
    "        \n",
    "        self.conv = nn.Conv1D(channels,kernel_size=2,strides=1,dilation=dilation,padding=0,use_bias=False)\n",
    "    \n",
    "    #해당부분 확인 필요\n",
    "    def init_weight_for_test(self):\n",
    "        for m in self.modules():\n",
    "            if isinstance(m,nn.Conv1D):\n",
    "                m.weight.data()[:] = 1\n",
    "    def forward(self,x):\n",
    "        output = self.conv(x)\n",
    "        \n",
    "        return output"
   ]
  },
  {
   "cell_type": "code",
   "execution_count": 6,
   "metadata": {
    "ExecuteTime": {
     "end_time": "2018-05-10T23:54:22.002310Z",
     "start_time": "2018-05-10T23:54:21.989080Z"
    }
   },
   "outputs": [],
   "source": [
    "class CasualConv1d(nn.Block):\n",
    "    def __init__(self,in_channels,out_channels,**kwargs):\n",
    "        super(CasualConv1d,self).__init__(**kwargs)\n",
    "        \n",
    "        self.conv = nn.Conv1D(out_channels,kernel_size=2,strides=1,padding=1,use_bias=False)\n",
    "        \n",
    "    def init_weight_for_test(self):\n",
    "        for m in self.modules():\n",
    "            if isinstance(m,nn.Conv1D):\n",
    "                m.weight.data()[:] = 1\n",
    "                \n",
    "    def forward(self,x):\n",
    "        output = self.conv(x)\n",
    "        \n",
    "        return output[:,:,:-1]"
   ]
  },
  {
   "cell_type": "code",
   "execution_count": 7,
   "metadata": {
    "ExecuteTime": {
     "end_time": "2018-05-10T23:54:22.597940Z",
     "start_time": "2018-05-10T23:54:22.567889Z"
    }
   },
   "outputs": [],
   "source": [
    "class ResidualBlock(nn.Block):\n",
    "    def __init__(self,res_channels,skip_channels,dilation,**kwargs):\n",
    "        super(ResidualBlock,self).__init__(**kwargs)\n",
    "        with self.name_scope():\n",
    "            self.dilated = DilatedCasualConv1d(res_channels,dilation=dilation)\n",
    "            self.conv_res = nn.Conv1D(res_channels,kernel_size=1)\n",
    "            self.conv_skip = nn.Conv1D(res_channels,kernel_size=1)\n",
    "    \n",
    "    def forward(self,x,skip_size):\n",
    "        output = self.dilated(x)\n",
    "        \n",
    "        #PixelCNN gate\n",
    "        gated_tanh = F.tanh(output)\n",
    "        gated_sigmoid = F.sigmoid(output)\n",
    "        gated = gated_tanh * gated_sigmoid\n",
    "        \n",
    "        #Residual network\n",
    "        output = self.conv_res(gated)\n",
    "        input_cut = x[:,:,-output.shape[2]:]\n",
    "        #output += input_cut\n",
    "        output = output + input_cut\n",
    "        \n",
    "        #Skip connection\n",
    "        skip = self.conv_skip(gated)\n",
    "        skip = skip[:,:,-skip_size:]\n",
    "        \n",
    "        return output, skip\n",
    "        "
   ]
  },
  {
   "cell_type": "code",
   "execution_count": 8,
   "metadata": {
    "ExecuteTime": {
     "end_time": "2018-05-10T23:54:23.425860Z",
     "start_time": "2018-05-10T23:54:23.360560Z"
    }
   },
   "outputs": [],
   "source": [
    "class ResidualStack(nn.Block):\n",
    "    def __init__(self,layer_size,stack_size,res_channels,skip_channels,**kwargs):\n",
    "        super(ResidualStack,self).__init__(**kwargs)\n",
    "        \n",
    "        self.layer_size = layer_size\n",
    "        self.stack_size = stack_size\n",
    "        \n",
    "        self.res_blocks = self.stack_res_block(res_channels, skip_channels)\n",
    "    \n",
    "    @staticmethod\n",
    "    def _residual_block(res_channels,skip_channels,dilation):\n",
    "        block = ResidualBlock(res_channels,skip_channels,dilation)\n",
    "        \n",
    "        return block\n",
    "    \n",
    "    def build_dilations(self):\n",
    "        dilations = []\n",
    "        \n",
    "        # 5 = stack[layer1, layer2, layer3, layer4, layer5]\n",
    "        for s in range(0,self.stack_size):\n",
    "             # 10 = layer[dilation=1, dilation=2, 4, 8, 16, 32, 64, 128, 256, 512]\n",
    "            for l in range(0,self.layer_size):\n",
    "                dilations.append(2 ** l)\n",
    "                \n",
    "        return dilations\n",
    "    \n",
    "    def stack_res_block(self,res_channels, skip_channels):\n",
    "        \n",
    "        res_blocks = []\n",
    "        dilations = self.build_dilations()\n",
    "        \n",
    "        for dilation in dilations:\n",
    "            #block = self._residual_block(res_channels, skip_channels, dilation)\n",
    "            block = ResidualBlock(res_channels,skip_channels,dilation)\n",
    "            block.collect_params().initialize(ctx=mx.gpu())\n",
    "            res_blocks.append(block)\n",
    "        return res_blocks\n",
    "    \n",
    "    def forward(self,x,skip_size):\n",
    "        \n",
    "        output = x\n",
    "        skip_connections = []\n",
    "        \n",
    "        #print(len(self.res_blocks))\n",
    "        i = 0\n",
    "        for res_block in self.res_blocks:\n",
    "            output, skip =  res_block(output, skip_size)\n",
    "            #print(i)\n",
    "            i = i+1\n",
    "            #print(skip.shape)\n",
    "            skip_connections.append(skip)\n",
    "        #print(\"skip connection finished\")    \n",
    "        #return skip_connections\n",
    "        return F.stack(*skip_connections)"
   ]
  },
  {
   "cell_type": "code",
   "execution_count": 9,
   "metadata": {
    "ExecuteTime": {
     "end_time": "2018-05-10T23:54:24.052846Z",
     "start_time": "2018-05-10T23:54:24.039662Z"
    }
   },
   "outputs": [],
   "source": [
    "class DenseNet(nn.Block):\n",
    "    def __init__(self,channels,**kwargs):\n",
    "        super(DenseNet,self).__init__(**kwargs)\n",
    "        with self.name_scope():\n",
    "                   \n",
    "            self.conv1 = nn.Conv1D(channels,kernel_size=1)\n",
    "            self.conv2 = nn.Conv1D(channels,kernel_size=1)\n",
    "            \n",
    "    def forward(self,x):\n",
    "        output = F.relu(x)\n",
    "        output = self.conv1(output)\n",
    "        output = self.conv2(output)\n",
    "        \n",
    "        output = nd.softmax(output)\n",
    "        \n",
    "        return output"
   ]
  },
  {
   "cell_type": "code",
   "execution_count": 10,
   "metadata": {
    "ExecuteTime": {
     "end_time": "2018-05-10T23:54:24.706278Z",
     "start_time": "2018-05-10T23:54:24.649350Z"
    }
   },
   "outputs": [],
   "source": [
    "class WaveNet(nn.Block):\n",
    "    def __init__(self,layer_size,stack_size,in_channels,res_channels,**kwargs):\n",
    "        super(WaveNet,self).__init__(**kwargs)\n",
    "        \n",
    "        self.receptive_fields = self.calc_receptive_field(layer_size,stack_size)\n",
    "        with self.name_scope():\n",
    "            self.casual = CasualConv1d(in_channels, res_channels)\n",
    "            self.res_stack = ResidualStack(layer_size,stack_size,res_channels,in_channels)\n",
    "            self.densenet = DenseNet(in_channels)\n",
    "    \n",
    "    @staticmethod\n",
    "    def calc_receptive_field(layer_size,stack_size):\n",
    "        layers = [2 ** i for i in range(0,layer_size)] * stack_size\n",
    "        num_receptive_fields = np.sum(layers) \n",
    "        \n",
    "        return int(num_receptive_fields)\n",
    "    \n",
    "    def calc_output_size(self,x):\n",
    "        output_size = int(x.shape[2]) - self.receptive_fields\n",
    "        \n",
    "        #self.check_input_size(x,output_size)\n",
    "        \n",
    "        return output_size\n",
    "\n",
    "    #def check_input_size(self,x,output_size):\n",
    "    \n",
    "    def forward(self,x):\n",
    "        \n",
    "        output = F.transpose(x,axes=(0,2,1))\n",
    "        output_size = self.calc_output_size(output)\n",
    "        #print(\"casual network is executing...\")\n",
    "        output = self.casual(output)\n",
    "        #print(\"skip_connections is executing...\")\n",
    "        #print(\"output :{o} output_size:{os}\".format(o=output.shape,os=output_size))\n",
    "        skip_connections = self.res_stack(output,output_size)\n",
    "        output = skip_connections.sum(0)\n",
    "        #output = np.sum(skip_connections,axis=0)\n",
    "        #print(\"densenet is executing...\")\n",
    "        output = self.densenet(output)\n",
    "        \n",
    "        return F.transpose(output,axes=(0,2,1))\n",
    "        "
   ]
  },
  {
   "cell_type": "code",
   "execution_count": 11,
   "metadata": {
    "ExecuteTime": {
     "end_time": "2018-05-10T23:54:25.543009Z",
     "start_time": "2018-05-10T23:54:25.536221Z"
    }
   },
   "outputs": [],
   "source": [
    "args = dict()\n",
    "args['layer_size'] = 10 #10\n",
    "args['stack_size'] = 5 #5\n",
    "args['in_channels'] = 256\n",
    "args['res_channels'] = 512\n",
    "args['lr'] = 0.0002\n",
    "args['num_steps'] = 10000\n",
    "args['sample_size'] = 8000\n",
    "args['sample_rate'] = 16000\n",
    "args['data_dir'] = './data'\n",
    "args['ctx'] = mx.gpu()"
   ]
  },
  {
   "cell_type": "code",
   "execution_count": 12,
   "metadata": {
    "ExecuteTime": {
     "end_time": "2018-05-10T23:54:29.420832Z",
     "start_time": "2018-05-10T23:54:26.529653Z"
    }
   },
   "outputs": [],
   "source": [
    "wavenet = WaveNet(args['layer_size'],args['stack_size'],args['in_channels'],args['res_channels'])"
   ]
  },
  {
   "cell_type": "code",
   "execution_count": 13,
   "metadata": {
    "ExecuteTime": {
     "end_time": "2018-05-10T23:54:44.174849Z",
     "start_time": "2018-05-10T23:54:44.170356Z"
    }
   },
   "outputs": [
    {
     "data": {
      "text/plain": [
       "WaveNet(\n",
       "  (casual): CasualConv1d(\n",
       "    (conv): Conv1D(None -> 512, kernel_size=(2,), stride=(1,), padding=(1,), bias=False)\n",
       "  )\n",
       "  (res_stack): ResidualStack(\n",
       "  \n",
       "  )\n",
       "  (densenet): DenseNet(\n",
       "    (conv1): Conv1D(None -> 256, kernel_size=(1,), stride=(1,))\n",
       "    (conv2): Conv1D(None -> 256, kernel_size=(1,), stride=(1,))\n",
       "  )\n",
       ")"
      ]
     },
     "execution_count": 13,
     "metadata": {},
     "output_type": "execute_result"
    }
   ],
   "source": [
    "wavenet"
   ]
  },
  {
   "cell_type": "code",
   "execution_count": 14,
   "metadata": {
    "ExecuteTime": {
     "end_time": "2018-05-10T23:54:45.081570Z",
     "start_time": "2018-05-10T23:54:45.076036Z"
    }
   },
   "outputs": [
    {
     "name": "stderr",
     "output_type": "stream",
     "text": [
      "/opt/venv/lib/python3.6/site-packages/mxnet/gluon/block.py:228: UserWarning: \"ResidualStack.res_blocks\" is a container with Blocks. Note that Blocks inside the list, tuple or dict will not be registered automatically. Make sure to register them using register_child() or switching to nn.Sequential/nn.HybridSequential instead. \n",
      "  .format(name=self.__class__.__name__ + \".\" + k))\n"
     ]
    }
   ],
   "source": [
    "##initialize parameter\n",
    "wavenet.collect_params().initialize(ctx=args['ctx'])\n",
    "#set optimizer\n",
    "trainer = gluon.Trainer(wavenet.collect_params(),optimizer='adam',optimizer_params={'learning_rate':args['lr'] })"
   ]
  },
  {
   "cell_type": "code",
   "execution_count": 15,
   "metadata": {
    "ExecuteTime": {
     "end_time": "2018-05-10T23:54:52.649413Z",
     "start_time": "2018-05-10T23:54:52.647067Z"
    }
   },
   "outputs": [],
   "source": [
    "#define loss function\n",
    "loss = gluon.loss.SoftmaxCrossEntropyLoss()"
   ]
  },
  {
   "cell_type": "markdown",
   "metadata": {},
   "source": [
    "## Data loading"
   ]
  },
  {
   "cell_type": "code",
   "execution_count": 16,
   "metadata": {
    "ExecuteTime": {
     "end_time": "2018-05-10T23:54:54.989467Z",
     "start_time": "2018-05-10T23:54:54.720684Z"
    }
   },
   "outputs": [],
   "source": [
    "from data import *"
   ]
  },
  {
   "cell_type": "code",
   "execution_count": 17,
   "metadata": {
    "ExecuteTime": {
     "end_time": "2018-05-10T23:54:55.295424Z",
     "start_time": "2018-05-10T23:54:55.292331Z"
    }
   },
   "outputs": [
    {
     "data": {
      "text/plain": [
       "5115"
      ]
     },
     "execution_count": 17,
     "metadata": {},
     "output_type": "execute_result"
    }
   ],
   "source": [
    "wavenet.receptive_fields"
   ]
  },
  {
   "cell_type": "code",
   "execution_count": 18,
   "metadata": {
    "ExecuteTime": {
     "end_time": "2018-05-10T23:54:56.061821Z",
     "start_time": "2018-05-10T23:54:56.058806Z"
    }
   },
   "outputs": [
    {
     "data": {
      "text/plain": [
       "'./data'"
      ]
     },
     "execution_count": 18,
     "metadata": {},
     "output_type": "execute_result"
    }
   ],
   "source": [
    "args['data_dir']"
   ]
  },
  {
   "cell_type": "code",
   "execution_count": 19,
   "metadata": {
    "ExecuteTime": {
     "end_time": "2018-05-10T23:54:56.826060Z",
     "start_time": "2018-05-10T23:54:56.815899Z"
    }
   },
   "outputs": [],
   "source": [
    "data_loader = DataLoader(data_dir=args['data_dir'],receptive_fields=wavenet.receptive_fields,sample_size=args['sample_size'],sample_rate=args['sample_rate'],in_channels=args['in_channels'])"
   ]
  },
  {
   "cell_type": "code",
   "execution_count": 20,
   "metadata": {
    "ExecuteTime": {
     "end_time": "2018-05-10T23:54:57.603680Z",
     "start_time": "2018-05-10T23:54:57.600961Z"
    }
   },
   "outputs": [
    {
     "data": {
      "text/plain": [
       "<data.DataLoader at 0x7f4251646470>"
      ]
     },
     "execution_count": 20,
     "metadata": {},
     "output_type": "execute_result"
    }
   ],
   "source": [
    "data_loader"
   ]
  },
  {
   "cell_type": "code",
   "execution_count": 21,
   "metadata": {
    "ExecuteTime": {
     "end_time": "2018-05-10T23:54:58.420561Z",
     "start_time": "2018-05-10T23:54:58.418760Z"
    }
   },
   "outputs": [],
   "source": [
    "loss_for_epoch = list()"
   ]
  },
  {
   "cell_type": "code",
   "execution_count": 22,
   "metadata": {
    "ExecuteTime": {
     "end_time": "2018-05-11T02:37:32.101216Z",
     "start_time": "2018-05-10T23:54:59.646208Z"
    }
   },
   "outputs": [
    {
     "name": "stderr",
     "output_type": "stream",
     "text": [
      "2it [00:11,  5.93s/it]\n",
      "1it [00:05,  5.17s/it]\n",
      "2it [00:04,  2.42s/it]\n",
      "5it [00:05,  1.06s/it]\n",
      "2it [00:05,  2.74s/it]\n",
      "1it [00:05,  5.64s/it]\n",
      "1it [00:05,  5.79s/it]\n",
      "2it [00:04,  2.22s/it]\n",
      "1it [00:05,  5.83s/it]\n",
      "2it [00:04,  2.49s/it]\n",
      "2it [00:04,  2.11s/it]\n",
      "4it [00:05,  1.44s/it]\n",
      "5it [00:05,  1.05s/it]\n",
      "1it [00:06,  6.42s/it]\n",
      "4it [00:05,  1.47s/it]\n",
      "1it [00:06,  6.56s/it]\n",
      "1it [00:05,  5.84s/it]\n",
      "4it [00:04,  1.22s/it]\n",
      "1it [00:04,  4.97s/it]\n",
      "5it [00:00, 11.77it/s]\n",
      "2it [00:04,  2.32s/it]\n",
      "2it [00:00, 15.92it/s]\n",
      "2it [00:04,  2.45s/it]\n",
      "5it [00:00, 12.24it/s]\n",
      "2it [00:06,  3.30s/it]\n",
      "1it [00:05,  5.48s/it]\n",
      "3it [00:03,  1.23s/it]\n",
      "1it [00:03,  3.88s/it]\n",
      "4it [00:05,  1.48s/it]\n",
      "1it [00:05,  5.23s/it]\n",
      "2it [00:05,  2.58s/it]\n",
      "2it [00:00, 13.82it/s]"
     ]
    },
    {
     "name": "stdout",
     "output_type": "stream",
     "text": [
      "0 epoch 72 iter loss val 5.544847011566162\n"
     ]
    },
    {
     "name": "stderr",
     "output_type": "stream",
     "text": [
      "3it [00:00, 14.64it/s]\n",
      "2it [00:00, 15.09it/s]\n",
      "1it [00:00, 14.33it/s]\n",
      "5it [00:00,  8.42it/s]\n",
      "1it [00:00,  5.78it/s]\n",
      "2it [00:00, 16.81it/s]\n",
      "2it [00:00, 13.02it/s]\n",
      "2it [00:00, 15.50it/s]\n",
      "4it [00:00, 14.15it/s]\n",
      "1it [00:00, 13.65it/s]\n",
      "2it [00:00, 14.45it/s]\n",
      "5it [00:00, 14.09it/s]\n",
      "1it [00:00, 16.76it/s]\n",
      "2it [00:00, 17.30it/s]\n",
      "5it [00:00, 11.26it/s]\n",
      "4it [00:00, 15.12it/s]\n",
      "1it [00:00, 15.54it/s]\n",
      "1it [00:00, 15.60it/s]\n",
      "2it [00:00, 14.77it/s]\n",
      "4it [00:00, 14.39it/s]\n",
      "2it [00:00,  6.27it/s]\n",
      "2it [00:00, 11.95it/s]\n",
      "1it [00:00, 16.89it/s]\n",
      "1it [00:00, 15.58it/s]\n",
      "5it [00:00, 15.24it/s]\n",
      "2it [00:00, 18.22it/s]\n",
      "1it [00:00, 13.55it/s]\n",
      "4it [00:00, 15.03it/s]\n",
      "1it [00:00, 17.15it/s]\n",
      "1it [00:00, 15.77it/s]\n",
      "2it [00:00, 17.12it/s]\n",
      "1it [00:00, 11.39it/s]\n",
      "1it [00:00, 18.68it/s]\n",
      "0it [00:00, ?it/s]"
     ]
    },
    {
     "name": "stdout",
     "output_type": "stream",
     "text": [
      "1 epoch 72 iter loss val 5.470922946929932\n"
     ]
    },
    {
     "name": "stderr",
     "output_type": "stream",
     "text": [
      "2it [00:00, 14.06it/s]\n",
      "2it [00:00, 14.09it/s]\n",
      "5it [00:00, 14.45it/s]\n",
      "1it [00:00, 17.42it/s]\n",
      "2it [00:00, 13.87it/s]\n",
      "2it [00:00, 17.20it/s]\n",
      "5it [00:00, 15.51it/s]\n",
      "2it [00:00, 17.22it/s]\n",
      "4it [00:00, 15.28it/s]\n",
      "1it [00:00, 18.51it/s]\n",
      "1it [00:00, 17.84it/s]\n",
      "2it [00:00, 17.20it/s]\n",
      "2it [00:00, 16.70it/s]\n",
      "1it [00:00, 16.01it/s]\n",
      "2it [00:00, 16.97it/s]\n",
      "1it [00:00, 15.83it/s]\n",
      "4it [00:00, 15.05it/s]\n",
      "1it [00:00, 18.49it/s]\n",
      "2it [00:00, 16.84it/s]\n",
      "2it [00:00, 16.96it/s]\n",
      "5it [00:00, 14.77it/s]\n",
      "1it [00:00, 16.00it/s]\n",
      "1it [00:00, 18.01it/s]\n",
      "3it [00:00, 18.53it/s]\n",
      "5it [00:00, 15.85it/s]\n",
      "4it [00:00, 12.59it/s]\n",
      "1it [00:00, 15.72it/s]\n",
      "4it [00:00, 17.27it/s]\n",
      "2it [00:00, 17.06it/s]\n",
      "1it [00:00,  8.56it/s]"
     ]
    },
    {
     "name": "stdout",
     "output_type": "stream",
     "text": [
      "2 epoch 72 iter loss val 5.329460620880127\n"
     ]
    },
    {
     "name": "stderr",
     "output_type": "stream",
     "text": [
      "4it [00:00, 10.62it/s]\n",
      "1it [00:00, 15.56it/s]\n",
      "1it [00:00, 17.60it/s]\n",
      "1it [00:00, 15.86it/s]\n",
      "1it [00:00,  1.97it/s]\n",
      "5it [00:00, 14.81it/s]\n",
      "1it [00:00, 17.76it/s]\n",
      "1it [00:00, 17.22it/s]\n",
      "5it [00:00, 11.18it/s]\n",
      "5it [00:00, 16.46it/s]\n",
      "2it [00:00, 15.33it/s]\n",
      "2it [00:00, 18.13it/s]\n",
      "2it [00:00, 16.65it/s]\n",
      "3it [00:00, 18.44it/s]\n",
      "1it [00:00, 16.58it/s]\n",
      "5it [00:00, 13.54it/s]\n",
      "2it [00:00, 19.41it/s]\n",
      "4it [00:00, 15.71it/s]\n",
      "2it [00:00, 17.45it/s]\n",
      "2it [00:00, 17.08it/s]\n",
      "4it [00:00, 12.32it/s]\n",
      "2it [00:00, 16.00it/s]\n",
      "2it [00:00, 17.09it/s]\n",
      "1it [00:00,  9.89it/s]\n",
      "2it [00:00, 17.85it/s]\n",
      "4it [00:00, 15.94it/s]\n",
      "1it [00:00, 16.41it/s]\n",
      "1it [00:00, 16.46it/s]\n",
      "1it [00:00, 15.98it/s]\n",
      "2it [00:00, 11.77it/s]\n",
      "2it [00:00, 17.67it/s]\n",
      "2it [00:00, 14.80it/s]"
     ]
    },
    {
     "name": "stdout",
     "output_type": "stream",
     "text": [
      "3 epoch 72 iter loss val 5.545092582702637\n"
     ]
    },
    {
     "name": "stderr",
     "output_type": "stream",
     "text": [
      "3it [00:00, 15.92it/s]\n",
      "1it [00:00,  6.58it/s]\n",
      "2it [00:00, 17.40it/s]\n",
      "5it [00:00, 12.19it/s]\n",
      "1it [00:00, 14.23it/s]\n",
      "4it [00:00, 16.84it/s]\n",
      "1it [00:00, 16.20it/s]\n",
      "2it [00:00, 15.99it/s]\n",
      "2it [00:00, 10.78it/s]\n",
      "5it [00:00, 15.86it/s]\n",
      "4it [00:00, 16.15it/s]\n",
      "1it [00:00, 15.78it/s]\n",
      "1it [00:00, 17.37it/s]\n",
      "2it [00:00, 13.40it/s]\n",
      "4it [00:00, 14.06it/s]\n",
      "2it [00:00, 16.30it/s]\n",
      "2it [00:00, 16.95it/s]\n",
      "1it [00:00, 16.70it/s]\n",
      "1it [00:00, 16.15it/s]\n",
      "1it [00:00, 17.24it/s]\n",
      "2it [00:00, 12.20it/s]\n",
      "2it [00:00, 19.38it/s]\n",
      "2it [00:00, 16.61it/s]\n",
      "2it [00:00, 18.07it/s]\n",
      "5it [00:00, 16.21it/s]\n",
      "1it [00:00, 17.08it/s]\n",
      "4it [00:00, 15.58it/s]\n",
      "5it [00:00, 15.58it/s]\n",
      "2it [00:00,  3.32it/s]\n",
      "1it [00:00, 16.67it/s]\n",
      "1it [00:00, 16.09it/s]\n",
      "1it [00:00, 14.37it/s]\n",
      "0it [00:00, ?it/s]"
     ]
    },
    {
     "name": "stdout",
     "output_type": "stream",
     "text": [
      "4 epoch 72 iter loss val 5.544824123382568\n"
     ]
    },
    {
     "name": "stderr",
     "output_type": "stream",
     "text": [
      "3it [00:00, 13.78it/s]\n",
      "2it [00:00, 16.79it/s]\n",
      "1it [00:00, 16.07it/s]\n",
      "4it [00:00, 12.20it/s]\n",
      "5it [00:00, 15.73it/s]\n",
      "2it [00:00, 16.12it/s]\n",
      "1it [00:00,  2.69it/s]\n",
      "4it [00:00, 14.10it/s]\n",
      "2it [00:00, 16.88it/s]\n",
      "2it [00:00, 18.10it/s]\n",
      "2it [00:00, 16.79it/s]\n",
      "1it [00:00, 16.35it/s]\n",
      "1it [00:00, 15.30it/s]\n",
      "1it [00:00, 11.22it/s]\n",
      "2it [00:00, 17.10it/s]\n",
      "1it [00:00, 17.08it/s]\n",
      "1it [00:00, 17.79it/s]\n",
      "2it [00:00, 16.59it/s]\n",
      "1it [00:00, 15.92it/s]\n",
      "4it [00:00, 12.16it/s]\n",
      "2it [00:00, 16.82it/s]\n",
      "5it [00:00, 15.20it/s]\n",
      "5it [00:00, 16.47it/s]\n",
      "4it [00:00, 16.75it/s]\n",
      "2it [00:00, 17.98it/s]\n",
      "1it [00:00, 17.90it/s]\n",
      "2it [00:00, 18.10it/s]\n",
      "1it [00:00, 16.82it/s]\n",
      "2it [00:00, 14.54it/s]\n",
      "5it [00:00, 16.08it/s]\n",
      "2it [00:00, 13.26it/s]\n",
      "0it [00:00, ?it/s]"
     ]
    },
    {
     "name": "stdout",
     "output_type": "stream",
     "text": [
      "5 epoch 72 iter loss val 5.545177459716797\n"
     ]
    },
    {
     "name": "stderr",
     "output_type": "stream",
     "text": [
      "1it [00:00, 15.30it/s]\n",
      "1it [00:00, 17.77it/s]\n",
      "3it [00:00, 17.39it/s]\n",
      "2it [00:00, 16.74it/s]\n",
      "2it [00:00, 12.25it/s]\n",
      "4it [00:00, 17.09it/s]\n",
      "2it [00:00, 17.52it/s]\n",
      "2it [00:00, 17.31it/s]\n",
      "2it [00:00,  6.30it/s]\n",
      "5it [00:00, 12.71it/s]\n",
      "2it [00:00, 17.39it/s]\n",
      "2it [00:00, 16.88it/s]\n",
      "4it [00:00, 15.72it/s]\n",
      "1it [00:00, 15.54it/s]\n",
      "1it [00:00, 16.36it/s]\n",
      "1it [00:00, 16.25it/s]\n",
      "1it [00:00, 16.28it/s]\n",
      "5it [00:00, 16.20it/s]\n",
      "4it [00:00,  8.25it/s]\n",
      "2it [00:00, 14.84it/s]\n",
      "1it [00:00, 16.86it/s]\n",
      "1it [00:00, 18.78it/s]\n",
      "4it [00:00, 14.99it/s]\n",
      "5it [00:00, 14.60it/s]\n",
      "2it [00:00, 16.60it/s]\n",
      "1it [00:00, 17.02it/s]\n",
      "1it [00:00, 16.83it/s]\n",
      "1it [00:00, 16.16it/s]\n",
      "2it [00:00, 17.61it/s]\n",
      "5it [00:00, 15.62it/s]\n",
      "1it [00:00,  7.28it/s]"
     ]
    },
    {
     "name": "stdout",
     "output_type": "stream",
     "text": [
      "6 epoch 72 iter loss val 5.545177459716797\n"
     ]
    },
    {
     "name": "stderr",
     "output_type": "stream",
     "text": [
      "\n",
      "5it [00:00, 12.77it/s]\n",
      "3it [00:00, 16.84it/s]\n",
      "4it [00:00, 15.51it/s]\n",
      "2it [00:00, 16.46it/s]\n",
      "5it [00:00, 15.76it/s]\n",
      "2it [00:00, 16.50it/s]\n",
      "2it [00:00, 18.31it/s]\n",
      "1it [00:00, 16.13it/s]\n",
      "5it [00:00, 14.93it/s]\n",
      "1it [00:00, 17.42it/s]\n",
      "1it [00:00, 16.76it/s]\n",
      "1it [00:00, 16.94it/s]\n",
      "2it [00:00, 12.90it/s]\n",
      "1it [00:00, 16.68it/s]\n",
      "2it [00:00, 17.56it/s]\n",
      "4it [00:00, 15.20it/s]\n",
      "2it [00:00, 17.43it/s]\n",
      "1it [00:00, 12.41it/s]\n",
      "1it [00:00, 17.56it/s]\n",
      "4it [00:00, 17.86it/s]\n",
      "2it [00:00, 18.73it/s]\n",
      "1it [00:00, 17.04it/s]\n",
      "5it [00:00, 15.66it/s]\n",
      "2it [00:00, 13.16it/s]\n",
      "2it [00:00, 17.41it/s]\n",
      "1it [00:00, 15.98it/s]\n",
      "2it [00:00, 18.42it/s]\n",
      "4it [00:00, 13.50it/s]\n",
      "1it [00:00, 17.22it/s]\n",
      "2it [00:00, 18.01it/s]\n",
      "1it [00:00, 14.44it/s]\n",
      "0it [00:00, ?it/s]"
     ]
    },
    {
     "name": "stdout",
     "output_type": "stream",
     "text": [
      "7 epoch 72 iter loss val 5.441102027893066\n"
     ]
    },
    {
     "name": "stderr",
     "output_type": "stream",
     "text": [
      "5it [00:00, 12.60it/s]\n",
      "2it [00:00, 17.17it/s]\n",
      "4it [00:00, 16.12it/s]\n",
      "2it [00:00, 17.14it/s]\n",
      "1it [00:00, 17.13it/s]\n",
      "3it [00:00,  9.66it/s]\n",
      "1it [00:00, 16.07it/s]\n",
      "1it [00:00, 17.01it/s]\n",
      "5it [00:00,  6.40it/s]\n",
      "4it [00:00, 17.04it/s]\n",
      "2it [00:00, 16.28it/s]\n",
      "1it [00:00, 10.09it/s]\n",
      "2it [00:00, 17.56it/s]\n",
      "2it [00:00, 17.40it/s]\n",
      "2it [00:00, 17.90it/s]\n",
      "1it [00:00, 16.86it/s]\n",
      "5it [00:00, 15.48it/s]\n",
      "1it [00:00, 15.75it/s]\n",
      "2it [00:00, 18.10it/s]\n",
      "2it [00:00, 17.75it/s]\n",
      "5it [00:00, 15.76it/s]\n",
      "1it [00:00, 16.01it/s]\n",
      "1it [00:00, 10.01it/s]\n",
      "1it [00:00, 17.65it/s]\n",
      "4it [00:00, 16.56it/s]\n",
      "2it [00:00, 17.18it/s]\n",
      "2it [00:00, 17.89it/s]\n",
      "4it [00:00, 14.19it/s]\n",
      "2it [00:00, 16.98it/s]\n",
      "1it [00:00, 16.67it/s]\n",
      "1it [00:00,  9.47it/s]"
     ]
    },
    {
     "name": "stdout",
     "output_type": "stream",
     "text": [
      "8 epoch 72 iter loss val 5.539292335510254\n"
     ]
    },
    {
     "name": "stderr",
     "output_type": "stream",
     "text": [
      "2it [00:00, 10.82it/s]\n",
      "5it [00:00, 13.53it/s]\n",
      "4it [00:00, 14.78it/s]\n",
      "1it [00:00, 18.52it/s]\n",
      "1it [00:00, 17.73it/s]\n",
      "2it [00:00, 16.68it/s]\n",
      "1it [00:00, 16.63it/s]\n",
      "2it [00:00, 18.10it/s]\n",
      "5it [00:00, 15.23it/s]\n",
      "2it [00:00, 11.01it/s]\n",
      "1it [00:00, 16.74it/s]\n",
      "5it [00:00, 16.11it/s]\n",
      "2it [00:00, 16.41it/s]\n",
      "2it [00:00, 13.75it/s]\n",
      "2it [00:00, 16.83it/s]\n",
      "2it [00:00, 16.59it/s]\n",
      "1it [00:00, 16.04it/s]\n",
      "5it [00:00, 14.45it/s]\n",
      "1it [00:00, 16.98it/s]\n",
      "4it [00:00, 15.43it/s]\n",
      "4it [00:00, 16.39it/s]\n",
      "1it [00:00, 17.29it/s]\n",
      "3it [00:00,  4.66it/s]\n",
      "1it [00:00, 16.54it/s]\n",
      "1it [00:00, 16.48it/s]\n",
      "1it [00:00, 16.07it/s]\n",
      "2it [00:00, 14.48it/s]\n",
      "4it [00:00, 16.21it/s]\n",
      "1it [00:00, 16.77it/s]\n",
      "2it [00:00, 16.81it/s]\n",
      "2it [00:00, 16.72it/s]\n",
      "1it [00:00,  9.36it/s]"
     ]
    },
    {
     "name": "stdout",
     "output_type": "stream",
     "text": [
      "9 epoch 72 iter loss val 5.54311466217041\n"
     ]
    },
    {
     "name": "stderr",
     "output_type": "stream",
     "text": [
      "4it [00:00, 12.90it/s]\n",
      "2it [00:00, 18.90it/s]\n",
      "4it [00:00, 16.16it/s]\n",
      "5it [00:00, 15.09it/s]\n",
      "5it [00:00, 16.19it/s]\n",
      "1it [00:00, 14.86it/s]\n",
      "2it [00:00, 16.12it/s]\n",
      "2it [00:00, 12.60it/s]\n",
      "5it [00:00, 16.27it/s]\n",
      "1it [00:00, 15.60it/s]\n",
      "1it [00:00, 17.14it/s]\n",
      "1it [00:00, 16.84it/s]\n",
      "2it [00:00, 17.34it/s]\n",
      "3it [00:00, 13.43it/s]\n",
      "4it [00:00, 14.87it/s]\n",
      "1it [00:00, 15.99it/s]\n",
      "2it [00:00, 17.07it/s]\n",
      "1it [00:00, 15.88it/s]\n",
      "2it [00:00, 17.16it/s]\n",
      "4it [00:00, 12.84it/s]\n",
      "5it [00:00, 15.76it/s]\n",
      "2it [00:00, 12.60it/s]\n",
      "2it [00:00, 17.80it/s]\n",
      "1it [00:00, 16.95it/s]\n",
      "2it [00:00, 17.44it/s]\n",
      "1it [00:00, 17.70it/s]\n",
      "1it [00:00, 16.42it/s]\n",
      "1it [00:00, 18.30it/s]\n",
      "2it [00:00, 16.77it/s]\n",
      "2it [00:00, 18.34it/s]\n",
      "1it [00:00, 16.67it/s]\n",
      "1it [00:00,  7.09it/s]"
     ]
    },
    {
     "name": "stdout",
     "output_type": "stream",
     "text": [
      "10 epoch 72 iter loss val 5.538579940795898\n"
     ]
    },
    {
     "name": "stderr",
     "output_type": "stream",
     "text": [
      "2it [00:00, 10.27it/s]\n",
      "4it [00:00, 14.98it/s]\n",
      "5it [00:00, 15.68it/s]\n",
      "1it [00:00, 16.00it/s]\n",
      "2it [00:00, 16.98it/s]\n",
      "1it [00:00, 15.99it/s]\n",
      "1it [00:00, 17.18it/s]\n",
      "3it [00:00, 16.27it/s]\n",
      "5it [00:00, 10.20it/s]\n",
      "1it [00:00, 15.68it/s]\n",
      "2it [00:00, 12.78it/s]\n",
      "2it [00:00, 17.99it/s]\n",
      "1it [00:00, 16.90it/s]\n",
      "1it [00:00, 15.97it/s]\n",
      "4it [00:00, 15.40it/s]\n",
      "4it [00:00, 15.63it/s]\n",
      "4it [00:00, 16.87it/s]\n",
      "5it [00:00, 15.52it/s]\n",
      "2it [00:00, 17.17it/s]\n",
      "1it [00:00, 15.13it/s]\n",
      "1it [00:00,  6.13it/s]\n",
      "2it [00:00, 17.35it/s]\n",
      "2it [00:00, 16.43it/s]\n",
      "1it [00:00, 14.48it/s]\n",
      "1it [00:00, 17.28it/s]\n",
      "1it [00:00, 11.61it/s]\n",
      "5it [00:00, 16.09it/s]\n",
      "2it [00:00, 17.55it/s]\n",
      "2it [00:00, 17.78it/s]\n",
      "2it [00:00, 17.87it/s]\n",
      "2it [00:00, 17.24it/s]\n",
      "1it [00:00, 13.43it/s]\n",
      "0it [00:00, ?it/s]"
     ]
    },
    {
     "name": "stdout",
     "output_type": "stream",
     "text": [
      "11 epoch 72 iter loss val 5.541121006011963\n"
     ]
    },
    {
     "name": "stderr",
     "output_type": "stream",
     "text": [
      "5it [00:00, 13.16it/s]\n",
      "1it [00:00, 15.76it/s]\n",
      "1it [00:00, 16.48it/s]\n",
      "2it [00:00, 17.12it/s]\n",
      "4it [00:00, 16.83it/s]\n",
      "2it [00:00, 13.20it/s]\n",
      "2it [00:00, 17.95it/s]\n",
      "1it [00:00, 16.56it/s]\n",
      "2it [00:00, 17.15it/s]\n",
      "2it [00:00, 16.50it/s]\n",
      "5it [00:00, 13.49it/s]\n",
      "4it [00:00, 10.34it/s]\n",
      "3it [00:00, 16.71it/s]\n",
      "1it [00:00, 16.75it/s]\n",
      "1it [00:00, 16.30it/s]\n",
      "1it [00:00, 16.23it/s]\n",
      "2it [00:00,  8.69it/s]\n",
      "2it [00:00, 17.46it/s]\n",
      "2it [00:00, 18.67it/s]\n",
      "5it [00:00, 13.25it/s]\n",
      "1it [00:00, 16.70it/s]\n",
      "2it [00:00, 16.60it/s]\n",
      "4it [00:00, 16.26it/s]\n",
      "1it [00:00, 17.57it/s]\n",
      "1it [00:00, 17.24it/s]\n",
      "1it [00:00, 16.95it/s]\n",
      "2it [00:00, 16.36it/s]\n",
      "2it [00:00, 17.06it/s]\n",
      "4it [00:00, 16.26it/s]\n",
      "5it [00:00, 15.67it/s]\n",
      "1it [00:00, 11.55it/s]\n",
      "0it [00:00, ?it/s]"
     ]
    },
    {
     "name": "stdout",
     "output_type": "stream",
     "text": [
      "12 epoch 72 iter loss val 5.545177459716797\n"
     ]
    },
    {
     "name": "stderr",
     "output_type": "stream",
     "text": [
      "2it [00:00,  6.41it/s]\n",
      "4it [00:00, 13.24it/s]\n",
      "2it [00:00, 17.25it/s]\n",
      "1it [00:00, 16.70it/s]\n",
      "2it [00:00, 18.16it/s]\n",
      "2it [00:00, 16.31it/s]\n",
      "3it [00:00, 15.00it/s]\n",
      "4it [00:00, 15.62it/s]\n",
      "2it [00:00, 17.46it/s]\n",
      "1it [00:00, 16.47it/s]\n",
      "2it [00:00, 15.81it/s]\n",
      "1it [00:00,  2.24it/s]\n",
      "5it [00:00, 14.83it/s]\n",
      "1it [00:00, 16.15it/s]\n",
      "1it [00:00, 16.56it/s]\n",
      "2it [00:00, 16.16it/s]\n",
      "5it [00:00, 15.55it/s]\n",
      "1it [00:00, 15.96it/s]\n",
      "2it [00:00, 17.30it/s]\n",
      "1it [00:00, 16.26it/s]\n",
      "5it [00:00, 13.65it/s]\n",
      "1it [00:00, 16.54it/s]\n",
      "2it [00:00, 17.70it/s]\n",
      "1it [00:00, 16.37it/s]\n",
      "2it [00:00, 13.04it/s]\n",
      "1it [00:00, 17.01it/s]\n",
      "2it [00:00, 17.63it/s]\n",
      "4it [00:00, 14.34it/s]\n",
      "4it [00:00, 13.88it/s]\n",
      "5it [00:00, 15.65it/s]\n",
      "0it [00:00, ?it/s]"
     ]
    },
    {
     "name": "stdout",
     "output_type": "stream",
     "text": [
      "13 epoch 72 iter loss val 5.545177459716797\n"
     ]
    },
    {
     "name": "stderr",
     "output_type": "stream",
     "text": [
      "4it [00:00, 13.29it/s]\n",
      "1it [00:00, 16.10it/s]\n",
      "5it [00:00, 15.63it/s]\n",
      "1it [00:00, 16.41it/s]\n",
      "3it [00:00, 16.51it/s]\n",
      "4it [00:00, 13.33it/s]\n",
      "1it [00:00, 16.07it/s]\n",
      "2it [00:00, 17.91it/s]\n",
      "2it [00:00,  9.52it/s]\n",
      "1it [00:00, 17.06it/s]\n",
      "2it [00:00, 17.89it/s]\n",
      "5it [00:00, 13.86it/s]\n",
      "2it [00:00, 16.93it/s]\n",
      "1it [00:00, 15.53it/s]\n",
      "2it [00:00, 18.33it/s]\n",
      "2it [00:00, 14.11it/s]\n",
      "1it [00:00, 18.50it/s]\n",
      "1it [00:00, 19.46it/s]\n",
      "1it [00:00, 15.82it/s]\n",
      "1it [00:00, 15.72it/s]\n",
      "5it [00:00, 15.99it/s]\n",
      "1it [00:00, 16.25it/s]\n",
      "2it [00:00, 17.60it/s]\n",
      "2it [00:00, 17.72it/s]\n",
      "2it [00:00, 17.21it/s]\n",
      "4it [00:00, 12.37it/s]\n",
      "2it [00:00, 17.21it/s]\n",
      "2it [00:00, 16.51it/s]\n",
      "5it [00:00, 15.56it/s]\n",
      "4it [00:00,  7.84it/s]\n",
      "1it [00:00, 16.48it/s]\n",
      "0it [00:00, ?it/s]"
     ]
    },
    {
     "name": "stdout",
     "output_type": "stream",
     "text": [
      "14 epoch 72 iter loss val 5.518808841705322\n"
     ]
    },
    {
     "name": "stderr",
     "output_type": "stream",
     "text": [
      "1it [00:00,  5.36it/s]\n",
      "5it [00:00, 11.08it/s]\n",
      "1it [00:00,  9.92it/s]\n",
      "1it [00:00, 17.86it/s]\n",
      "1it [00:00, 18.53it/s]\n",
      "4it [00:00, 14.76it/s]\n",
      "2it [00:00, 14.93it/s]\n",
      "3it [00:00, 14.80it/s]\n",
      "2it [00:00, 16.13it/s]\n",
      "5it [00:00, 10.58it/s]\n",
      "2it [00:00, 16.21it/s]\n",
      "2it [00:00, 17.60it/s]\n",
      "5it [00:00, 14.29it/s]\n",
      "2it [00:00, 16.71it/s]\n",
      "2it [00:00, 15.02it/s]\n",
      "4it [00:00, 14.25it/s]\n",
      "5it [00:00, 15.46it/s]\n",
      "1it [00:00, 16.42it/s]\n",
      "4it [00:00, 16.55it/s]\n",
      "1it [00:00, 15.76it/s]\n",
      "2it [00:00, 15.89it/s]\n",
      "2it [00:00, 17.47it/s]\n",
      "2it [00:00, 16.98it/s]\n",
      "4it [00:00, 15.28it/s]\n",
      "2it [00:00, 11.08it/s]\n",
      "1it [00:00, 17.32it/s]\n",
      "1it [00:00, 18.16it/s]\n",
      "1it [00:00, 17.33it/s]\n",
      "1it [00:00, 15.91it/s]\n",
      "2it [00:00, 16.27it/s]\n",
      "1it [00:00, 16.55it/s]\n",
      "1it [00:00, 12.37it/s]\n",
      "1it [00:00, 15.93it/s]"
     ]
    },
    {
     "name": "stdout",
     "output_type": "stream",
     "text": [
      "15 epoch 72 iter loss val 5.512820720672607\n"
     ]
    },
    {
     "name": "stderr",
     "output_type": "stream",
     "text": [
      "\n",
      "2it [00:00, 13.08it/s]\n",
      "3it [00:00, 16.82it/s]\n",
      "1it [00:00, 17.36it/s]\n",
      "5it [00:00, 15.33it/s]\n",
      "2it [00:00, 17.55it/s]\n",
      "2it [00:00, 18.11it/s]\n",
      "2it [00:00, 17.45it/s]\n",
      "2it [00:00, 16.09it/s]\n",
      "2it [00:00, 12.87it/s]\n",
      "2it [00:00, 18.87it/s]\n",
      "4it [00:00, 17.41it/s]\n",
      "4it [00:00, 14.54it/s]\n",
      "4it [00:00, 15.47it/s]\n",
      "1it [00:00, 15.85it/s]\n",
      "2it [00:00, 16.74it/s]\n",
      "1it [00:00, 14.95it/s]\n",
      "1it [00:00, 16.28it/s]\n",
      "1it [00:00, 15.62it/s]\n",
      "1it [00:00, 16.86it/s]\n",
      "2it [00:00, 16.32it/s]\n",
      "2it [00:00, 13.61it/s]\n",
      "4it [00:00, 16.82it/s]\n",
      "1it [00:00, 17.44it/s]\n",
      "2it [00:00, 16.58it/s]\n",
      "5it [00:00, 11.16it/s]\n",
      "5it [00:00, 15.81it/s]\n",
      "5it [00:00, 15.80it/s]\n",
      "1it [00:00, 10.97it/s]\n",
      "1it [00:00, 17.48it/s]\n",
      "1it [00:00,  9.24it/s]"
     ]
    },
    {
     "name": "stdout",
     "output_type": "stream",
     "text": [
      "16 epoch 72 iter loss val 5.508271217346191\n"
     ]
    },
    {
     "name": "stderr",
     "output_type": "stream",
     "text": [
      "5it [00:00, 14.96it/s]\n",
      "1it [00:00, 14.42it/s]\n",
      "2it [00:00, 11.91it/s]\n",
      "2it [00:00, 12.02it/s]\n",
      "2it [00:00, 17.77it/s]\n",
      "1it [00:00, 15.71it/s]\n",
      "2it [00:00, 16.03it/s]\n",
      "4it [00:00, 17.52it/s]\n",
      "1it [00:00, 16.21it/s]\n",
      "5it [00:00, 14.51it/s]\n",
      "3it [00:00, 14.12it/s]\n",
      "1it [00:00, 15.51it/s]\n",
      "2it [00:00, 17.28it/s]\n",
      "1it [00:00, 15.78it/s]\n",
      "4it [00:00, 15.78it/s]\n",
      "4it [00:00, 15.88it/s]\n",
      "4it [00:00, 13.10it/s]\n",
      "1it [00:00, 16.54it/s]\n",
      "1it [00:00, 17.19it/s]\n",
      "2it [00:00, 17.49it/s]\n",
      "2it [00:00, 14.02it/s]\n",
      "2it [00:00, 17.37it/s]\n",
      "1it [00:00, 17.13it/s]\n",
      "1it [00:00, 16.79it/s]\n",
      "1it [00:00, 16.89it/s]\n",
      "2it [00:00, 18.08it/s]\n",
      "5it [00:00, 14.91it/s]\n",
      "2it [00:00, 17.64it/s]\n",
      "1it [00:00, 15.94it/s]\n",
      "2it [00:00, 18.16it/s]\n",
      "5it [00:00, 15.45it/s]\n",
      "2it [00:00, 15.28it/s]"
     ]
    },
    {
     "name": "stdout",
     "output_type": "stream",
     "text": [
      "17 epoch 72 iter loss val 5.545177459716797\n"
     ]
    },
    {
     "name": "stderr",
     "output_type": "stream",
     "text": [
      "3it [00:00, 12.46it/s]\n",
      "5it [00:00, 15.13it/s]\n",
      "1it [00:00, 15.11it/s]\n",
      "4it [00:00,  9.26it/s]\n",
      "2it [00:00, 14.86it/s]\n",
      "1it [00:00, 15.35it/s]\n",
      "2it [00:00, 12.85it/s]\n",
      "2it [00:00, 17.06it/s]\n",
      "2it [00:00, 15.74it/s]\n",
      "1it [00:00, 16.25it/s]\n",
      "2it [00:00,  9.71it/s]\n",
      "1it [00:00, 16.12it/s]\n",
      "1it [00:00, 16.31it/s]\n",
      "2it [00:00, 15.87it/s]\n",
      "4it [00:00, 16.94it/s]\n",
      "2it [00:00, 14.14it/s]\n",
      "2it [00:00, 17.44it/s]\n",
      "4it [00:00, 14.68it/s]\n",
      "5it [00:00, 15.03it/s]\n",
      "1it [00:00, 16.36it/s]\n",
      "2it [00:00, 15.83it/s]\n",
      "1it [00:00,  9.90it/s]\n",
      "5it [00:00, 16.09it/s]\n",
      "2it [00:00, 15.42it/s]\n",
      "1it [00:00, 12.96it/s]\n",
      "5it [00:00, 13.91it/s]\n",
      "2it [00:00, 18.56it/s]\n",
      "1it [00:00, 17.46it/s]\n",
      "1it [00:00,  9.60it/s]\n",
      "4it [00:00, 16.76it/s]\n",
      "1it [00:00, 17.43it/s]\n",
      "1it [00:00, 14.93it/s]\n",
      "1it [00:00, 16.38it/s]\n",
      "0it [00:00, ?it/s]"
     ]
    },
    {
     "name": "stdout",
     "output_type": "stream",
     "text": [
      "18 epoch 72 iter loss val 5.518982410430908\n"
     ]
    },
    {
     "name": "stderr",
     "output_type": "stream",
     "text": [
      "2it [00:00, 13.72it/s]\n",
      "5it [00:00, 15.18it/s]\n",
      "1it [00:00, 16.13it/s]\n",
      "5it [00:00, 14.75it/s]\n",
      "2it [00:00, 16.64it/s]\n",
      "2it [00:00, 16.55it/s]\n",
      "2it [00:00, 14.52it/s]\n",
      "4it [00:00, 15.42it/s]\n",
      "1it [00:00, 15.39it/s]\n",
      "1it [00:00, 10.13it/s]\n",
      "2it [00:00, 17.15it/s]\n",
      "1it [00:00, 17.03it/s]\n",
      "4it [00:00, 16.23it/s]\n",
      "1it [00:00, 16.71it/s]\n",
      "1it [00:00, 15.75it/s]\n",
      "4it [00:00, 15.88it/s]\n",
      "2it [00:00, 18.00it/s]\n",
      "2it [00:00, 17.19it/s]\n",
      "2it [00:00, 11.36it/s]\n",
      "1it [00:00, 16.30it/s]\n",
      "1it [00:00, 15.60it/s]\n",
      "3it [00:00, 16.24it/s]\n",
      "1it [00:00, 13.40it/s]\n",
      "2it [00:00, 11.86it/s]\n",
      "2it [00:00, 16.87it/s]\n",
      "5it [00:00, 14.60it/s]\n",
      "5it [00:00, 13.32it/s]\n",
      "4it [00:00, 12.16it/s]\n",
      "2it [00:00, 16.35it/s]\n",
      "0it [00:00, ?it/s]"
     ]
    },
    {
     "name": "stdout",
     "output_type": "stream",
     "text": [
      "19 epoch 72 iter loss val 5.508062839508057\n"
     ]
    },
    {
     "name": "stderr",
     "output_type": "stream",
     "text": [
      "4it [00:00, 13.49it/s]\n",
      "2it [00:00, 17.12it/s]\n",
      "1it [00:00, 14.73it/s]\n",
      "3it [00:00, 15.91it/s]\n",
      "5it [00:00, 13.64it/s]\n",
      "2it [00:00, 15.28it/s]\n",
      "2it [00:00, 15.25it/s]\n",
      "2it [00:00, 13.48it/s]\n",
      "1it [00:00, 15.73it/s]\n",
      "5it [00:00, 14.58it/s]\n",
      "1it [00:00, 13.64it/s]\n",
      "4it [00:00, 17.23it/s]\n",
      "1it [00:00, 17.37it/s]\n",
      "1it [00:00, 17.66it/s]\n",
      "2it [00:00, 15.94it/s]\n",
      "4it [00:00, 15.86it/s]\n",
      "2it [00:00, 16.86it/s]\n",
      "2it [00:00, 17.03it/s]\n",
      "1it [00:00, 16.20it/s]\n",
      "4it [00:00, 14.76it/s]\n",
      "5it [00:00, 16.62it/s]\n",
      "2it [00:00, 14.11it/s]\n",
      "1it [00:00, 17.00it/s]\n",
      "1it [00:00, 18.23it/s]\n",
      "1it [00:00, 18.07it/s]\n",
      "2it [00:00, 17.58it/s]\n",
      "2it [00:00, 17.15it/s]\n",
      "5it [00:00, 16.27it/s]\n",
      "1it [00:00, 17.36it/s]\n",
      "1it [00:00, 16.10it/s]\n",
      "2it [00:00, 16.44it/s]\n",
      "2it [00:00, 15.87it/s]"
     ]
    },
    {
     "name": "stdout",
     "output_type": "stream",
     "text": [
      "20 epoch 72 iter loss val 5.51473331451416\n"
     ]
    },
    {
     "name": "stderr",
     "output_type": "stream",
     "text": [
      "\n",
      "4it [00:00, 14.64it/s]\n",
      "1it [00:00, 17.00it/s]\n",
      "2it [00:00, 18.43it/s]\n",
      "1it [00:00, 15.52it/s]\n",
      "2it [00:00, 16.72it/s]\n",
      "1it [00:00, 15.85it/s]\n",
      "1it [00:00, 16.35it/s]\n",
      "2it [00:00, 16.46it/s]\n",
      "2it [00:00, 17.82it/s]\n",
      "2it [00:00, 16.01it/s]\n",
      "4it [00:00, 15.46it/s]\n",
      "2it [00:00, 16.24it/s]\n",
      "1it [00:00, 15.52it/s]\n",
      "1it [00:00, 16.09it/s]\n",
      "3it [00:00,  4.70it/s]\n",
      "1it [00:00, 15.98it/s]\n",
      "1it [00:00, 12.98it/s]\n",
      "2it [00:00, 18.30it/s]\n",
      "1it [00:00, 16.76it/s]\n",
      "5it [00:00, 15.96it/s]\n",
      "4it [00:00, 16.41it/s]\n",
      "2it [00:00, 16.82it/s]\n",
      "2it [00:00, 16.30it/s]\n",
      "5it [00:00, 14.15it/s]\n",
      "1it [00:00, 16.25it/s]\n",
      "1it [00:00, 18.00it/s]\n",
      "2it [00:00, 17.12it/s]\n",
      "5it [00:00,  7.36it/s]\n",
      "5it [00:00, 16.44it/s]\n",
      "4it [00:00, 15.11it/s]\n",
      "1it [00:00, 13.03it/s]\n",
      "0it [00:00, ?it/s]"
     ]
    },
    {
     "name": "stdout",
     "output_type": "stream",
     "text": [
      "21 epoch 72 iter loss val 5.536036491394043\n"
     ]
    },
    {
     "name": "stderr",
     "output_type": "stream",
     "text": [
      "2it [00:00, 13.24it/s]\n",
      "2it [00:00, 16.73it/s]\n",
      "1it [00:00, 16.25it/s]\n",
      "2it [00:00, 16.71it/s]\n",
      "1it [00:00, 16.99it/s]\n",
      "4it [00:00, 14.44it/s]\n",
      "2it [00:00, 17.15it/s]\n",
      "1it [00:00, 16.31it/s]\n",
      "1it [00:00, 16.37it/s]\n",
      "1it [00:00, 12.27it/s]\n",
      "2it [00:00, 17.57it/s]\n",
      "1it [00:00, 16.99it/s]\n",
      "1it [00:00, 15.99it/s]\n",
      "2it [00:00, 17.68it/s]\n",
      "5it [00:00, 12.80it/s]\n",
      "2it [00:00, 16.78it/s]\n",
      "5it [00:00, 14.98it/s]\n",
      "5it [00:00, 15.76it/s]\n",
      "4it [00:00, 13.72it/s]\n",
      "5it [00:00, 13.84it/s]\n",
      "1it [00:00,  5.55it/s]\n",
      "2it [00:00, 18.49it/s]\n",
      "2it [00:00, 17.94it/s]\n",
      "4it [00:00, 17.12it/s]\n",
      "2it [00:00, 18.38it/s]\n",
      "3it [00:00, 17.03it/s]\n",
      "1it [00:00, 16.45it/s]\n",
      "1it [00:00, 17.65it/s]\n",
      "4it [00:00, 12.33it/s]\n",
      "2it [00:00, 17.20it/s]\n",
      "0it [00:00, ?it/s]"
     ]
    },
    {
     "name": "stdout",
     "output_type": "stream",
     "text": [
      "22 epoch 72 iter loss val 5.330434322357178\n"
     ]
    },
    {
     "name": "stderr",
     "output_type": "stream",
     "text": [
      "1it [00:00, 11.40it/s]\n",
      "1it [00:00, 16.64it/s]\n",
      "2it [00:00, 14.33it/s]\n",
      "5it [00:00, 15.22it/s]\n",
      "1it [00:00, 15.82it/s]\n",
      "1it [00:00,  9.13it/s]\n",
      "2it [00:00, 14.43it/s]\n",
      "1it [00:00, 17.77it/s]\n",
      "2it [00:00, 18.47it/s]\n",
      "2it [00:00, 16.16it/s]\n",
      "3it [00:00, 16.50it/s]\n",
      "2it [00:00, 14.04it/s]\n",
      "1it [00:00, 16.27it/s]\n",
      "5it [00:00, 15.75it/s]\n",
      "1it [00:00, 17.86it/s]\n",
      "2it [00:00, 17.72it/s]\n",
      "4it [00:00, 16.83it/s]\n",
      "2it [00:00, 12.82it/s]\n",
      "5it [00:00, 16.00it/s]\n",
      "2it [00:00, 17.58it/s]\n",
      "4it [00:00, 13.79it/s]\n",
      "2it [00:00, 17.39it/s]\n",
      "2it [00:00, 17.98it/s]\n",
      "1it [00:00, 17.38it/s]\n",
      "2it [00:00, 17.05it/s]\n",
      "1it [00:00, 18.26it/s]\n",
      "4it [00:00, 16.28it/s]\n",
      "4it [00:00, 15.79it/s]\n",
      "1it [00:00, 17.44it/s]\n",
      "5it [00:00, 15.56it/s]\n",
      "1it [00:00, 16.34it/s]\n",
      "0it [00:00, ?it/s]"
     ]
    },
    {
     "name": "stdout",
     "output_type": "stream",
     "text": [
      "23 epoch 72 iter loss val 5.48873233795166\n"
     ]
    },
    {
     "name": "stderr",
     "output_type": "stream",
     "text": [
      "4it [00:00, 10.82it/s]\n",
      "1it [00:00, 16.49it/s]\n",
      "4it [00:00,  7.38it/s]\n",
      "1it [00:00, 15.19it/s]\n",
      "1it [00:00, 17.04it/s]\n",
      "5it [00:00, 15.46it/s]\n",
      "5it [00:00, 16.35it/s]\n",
      "1it [00:00, 16.72it/s]\n",
      "2it [00:00, 11.14it/s]\n",
      "4it [00:00, 15.90it/s]\n",
      "1it [00:00, 16.75it/s]\n",
      "2it [00:00, 14.67it/s]\n",
      "2it [00:00, 19.35it/s]\n",
      "2it [00:00, 17.19it/s]\n",
      "2it [00:00, 15.97it/s]\n",
      "1it [00:00, 17.28it/s]\n",
      "2it [00:00, 17.46it/s]\n",
      "1it [00:00, 16.33it/s]\n",
      "3it [00:00, 17.11it/s]\n",
      "4it [00:00, 17.16it/s]\n",
      "5it [00:00, 15.79it/s]\n",
      "1it [00:00, 16.51it/s]\n",
      "2it [00:00, 17.84it/s]\n",
      "1it [00:00, 16.38it/s]\n",
      "1it [00:00, 18.00it/s]\n",
      "5it [00:00, 16.22it/s]\n",
      "2it [00:00, 18.35it/s]\n",
      "2it [00:00,  9.18it/s]\n",
      "1it [00:00, 17.49it/s]\n",
      "2it [00:00, 18.04it/s]\n",
      "2it [00:00, 15.38it/s]\n",
      "0it [00:00, ?it/s]"
     ]
    },
    {
     "name": "stdout",
     "output_type": "stream",
     "text": [
      "24 epoch 72 iter loss val 5.470895290374756\n"
     ]
    },
    {
     "name": "stderr",
     "output_type": "stream",
     "text": [
      "4it [00:00, 10.51it/s]\n",
      "2it [00:00, 16.38it/s]\n",
      "1it [00:00, 14.95it/s]\n",
      "2it [00:00,  9.20it/s]\n",
      "4it [00:00, 17.18it/s]\n",
      "2it [00:00, 17.99it/s]\n",
      "5it [00:00, 14.24it/s]\n",
      "1it [00:00, 16.01it/s]\n",
      "2it [00:00, 16.55it/s]\n",
      "2it [00:00, 16.35it/s]\n",
      "2it [00:00, 17.51it/s]\n",
      "1it [00:00, 18.37it/s]\n",
      "1it [00:00, 16.98it/s]\n",
      "1it [00:00, 17.45it/s]\n",
      "2it [00:00, 17.01it/s]\n",
      "2it [00:00, 17.77it/s]\n",
      "4it [00:00, 15.21it/s]\n",
      "1it [00:00, 16.43it/s]\n",
      "2it [00:00, 16.83it/s]\n",
      "5it [00:00, 11.87it/s]\n",
      "1it [00:00, 16.21it/s]\n",
      "1it [00:00, 16.79it/s]\n",
      "1it [00:00, 17.47it/s]\n",
      "4it [00:00, 12.70it/s]\n",
      "2it [00:00, 18.16it/s]\n",
      "5it [00:00, 15.51it/s]\n",
      "1it [00:00, 16.17it/s]\n",
      "1it [00:00, 17.51it/s]\n",
      "2it [00:00, 17.61it/s]\n",
      "5it [00:00, 15.77it/s]\n",
      "3it [00:00, 11.75it/s]\n",
      "0it [00:00, ?it/s]"
     ]
    },
    {
     "name": "stdout",
     "output_type": "stream",
     "text": [
      "25 epoch 72 iter loss val 5.478806972503662\n"
     ]
    },
    {
     "name": "stderr",
     "output_type": "stream",
     "text": [
      "3it [00:00, 13.86it/s]\n",
      "4it [00:00, 15.68it/s]\n",
      "2it [00:00, 17.24it/s]\n",
      "2it [00:00, 17.58it/s]\n",
      "2it [00:00,  3.77it/s]\n",
      "1it [00:00, 15.34it/s]\n",
      "1it [00:00, 16.28it/s]\n",
      "5it [00:00, 15.00it/s]\n",
      "2it [00:00, 11.69it/s]\n",
      "2it [00:00, 16.76it/s]\n",
      "1it [00:00, 16.23it/s]\n",
      "2it [00:00, 17.50it/s]\n",
      "2it [00:00, 17.25it/s]\n",
      "5it [00:00, 15.06it/s]\n",
      "4it [00:00, 16.71it/s]\n",
      "2it [00:00, 16.43it/s]\n",
      "1it [00:00, 17.60it/s]\n",
      "2it [00:00, 17.17it/s]\n",
      "1it [00:00, 17.78it/s]\n",
      "1it [00:00, 17.23it/s]\n",
      "1it [00:00, 17.40it/s]\n",
      "4it [00:00, 16.39it/s]\n",
      "2it [00:00, 16.71it/s]\n",
      "5it [00:00, 11.47it/s]\n",
      "1it [00:00, 17.67it/s]\n",
      "1it [00:00, 17.39it/s]\n",
      "1it [00:00, 18.27it/s]\n",
      "5it [00:00, 15.40it/s]\n",
      "1it [00:00, 15.82it/s]\n",
      "2it [00:00, 15.53it/s]\n",
      "4it [00:00, 15.87it/s]\n",
      "1it [00:00, 10.25it/s]\n",
      "0it [00:00, ?it/s]"
     ]
    },
    {
     "name": "stdout",
     "output_type": "stream",
     "text": [
      "26 epoch 72 iter loss val 5.525801658630371\n"
     ]
    },
    {
     "name": "stderr",
     "output_type": "stream",
     "text": [
      "1it [00:00, 14.73it/s]\n",
      "4it [00:00, 13.38it/s]\n",
      "2it [00:00, 15.92it/s]\n",
      "2it [00:00, 17.21it/s]\n",
      "1it [00:00, 16.40it/s]\n",
      "1it [00:00, 17.97it/s]\n",
      "5it [00:00, 15.43it/s]\n",
      "1it [00:00,  6.41it/s]\n",
      "2it [00:00, 17.92it/s]\n",
      "2it [00:00, 16.47it/s]\n",
      "3it [00:00, 11.30it/s]\n",
      "2it [00:00, 16.79it/s]\n",
      "4it [00:00, 16.15it/s]\n",
      "5it [00:00, 15.58it/s]\n",
      "2it [00:00, 17.00it/s]\n",
      "2it [00:00, 16.93it/s]\n",
      "1it [00:00, 15.74it/s]\n",
      "2it [00:00, 16.74it/s]\n",
      "1it [00:00, 16.60it/s]\n",
      "1it [00:00, 16.28it/s]\n",
      "2it [00:00, 16.79it/s]\n",
      "2it [00:00, 14.92it/s]\n",
      "1it [00:00, 15.60it/s]\n",
      "5it [00:00, 15.65it/s]\n",
      "5it [00:00, 14.04it/s]\n",
      "1it [00:00, 13.16it/s]\n",
      "4it [00:00, 17.75it/s]\n",
      "2it [00:00, 16.89it/s]\n",
      "1it [00:00, 15.66it/s]\n",
      "4it [00:00,  8.09it/s]\n",
      "2it [00:00, 14.17it/s]\n",
      "0it [00:00, ?it/s]"
     ]
    },
    {
     "name": "stdout",
     "output_type": "stream",
     "text": [
      "27 epoch 72 iter loss val 5.521627902984619\n"
     ]
    },
    {
     "name": "stderr",
     "output_type": "stream",
     "text": [
      "1it [00:00, 14.31it/s]\n",
      "1it [00:00, 15.43it/s]\n",
      "2it [00:00, 17.18it/s]\n",
      "1it [00:00, 16.34it/s]\n",
      "4it [00:00, 15.23it/s]\n",
      "2it [00:00, 15.85it/s]\n",
      "1it [00:00, 15.86it/s]\n",
      "4it [00:00,  8.50it/s]\n",
      "2it [00:00, 16.66it/s]\n",
      "1it [00:00,  9.60it/s]\n",
      "1it [00:00, 16.21it/s]\n",
      "5it [00:00, 15.06it/s]\n",
      "4it [00:00, 17.35it/s]\n",
      "2it [00:00, 18.44it/s]\n",
      "1it [00:00, 15.80it/s]\n",
      "2it [00:00, 12.72it/s]\n",
      "2it [00:00, 17.07it/s]\n",
      "3it [00:00, 17.41it/s]\n",
      "5it [00:00, 15.68it/s]\n",
      "1it [00:00, 16.06it/s]\n",
      "2it [00:00, 16.79it/s]\n",
      "5it [00:00, 16.19it/s]\n",
      "2it [00:00, 18.39it/s]\n",
      "1it [00:00, 17.44it/s]\n",
      "2it [00:00, 16.96it/s]\n",
      "2it [00:00, 16.87it/s]\n",
      "4it [00:00, 19.19it/s]\n",
      "1it [00:00, 16.80it/s]\n",
      "5it [00:00, 15.84it/s]\n",
      "1it [00:00, 17.06it/s]\n",
      "2it [00:00, 14.62it/s]\n",
      "0it [00:00, ?it/s]"
     ]
    },
    {
     "name": "stdout",
     "output_type": "stream",
     "text": [
      "28 epoch 72 iter loss val 5.466353893280029\n"
     ]
    },
    {
     "name": "stderr",
     "output_type": "stream",
     "text": [
      "2it [00:00, 11.81it/s]\n",
      "1it [00:00, 16.87it/s]\n",
      "2it [00:00, 17.70it/s]\n",
      "5it [00:00, 16.22it/s]\n",
      "1it [00:00, 15.51it/s]\n",
      "5it [00:00, 12.09it/s]\n",
      "2it [00:00, 16.61it/s]\n",
      "5it [00:00, 15.21it/s]\n",
      "4it [00:00, 17.11it/s]\n",
      "1it [00:00, 17.61it/s]\n",
      "4it [00:00, 16.44it/s]\n",
      "5it [00:00, 11.42it/s]\n",
      "3it [00:00, 14.48it/s]\n",
      "2it [00:00, 17.72it/s]\n",
      "1it [00:00, 17.15it/s]\n",
      "2it [00:00, 14.64it/s]\n",
      "2it [00:00, 17.90it/s]\n",
      "4it [00:00, 17.48it/s]\n",
      "2it [00:00, 17.09it/s]\n",
      "2it [00:00, 17.86it/s]\n",
      "4it [00:00, 13.21it/s]\n",
      "2it [00:00, 17.37it/s]\n",
      "1it [00:00, 15.87it/s]\n",
      "1it [00:00, 16.61it/s]\n",
      "1it [00:00, 17.36it/s]\n",
      "1it [00:00, 17.74it/s]\n",
      "1it [00:00, 17.78it/s]\n",
      "1it [00:00, 16.93it/s]\n",
      "1it [00:00,  2.22it/s]\n",
      "2it [00:00, 18.52it/s]\n",
      "0it [00:00, ?it/s]"
     ]
    },
    {
     "name": "stdout",
     "output_type": "stream",
     "text": [
      "29 epoch 72 iter loss val 5.4875168800354\n"
     ]
    },
    {
     "name": "stderr",
     "output_type": "stream",
     "text": [
      "5it [00:00, 13.05it/s]\n",
      "2it [00:00, 16.07it/s]\n",
      "4it [00:00, 16.10it/s]\n",
      "2it [00:00, 17.40it/s]\n",
      "1it [00:00, 17.35it/s]\n",
      "1it [00:00, 16.34it/s]\n",
      "5it [00:00, 11.61it/s]\n",
      "2it [00:00, 18.43it/s]\n",
      "4it [00:00, 13.54it/s]\n",
      "2it [00:00, 17.44it/s]\n",
      "1it [00:00, 17.32it/s]\n",
      "1it [00:00, 17.30it/s]\n",
      "2it [00:00, 18.73it/s]\n",
      "5it [00:00, 13.71it/s]\n",
      "4it [00:00, 15.60it/s]\n",
      "1it [00:00, 16.53it/s]\n",
      "4it [00:00, 17.12it/s]\n",
      "3it [00:00, 17.20it/s]\n",
      "2it [00:00, 13.08it/s]\n",
      "2it [00:00, 17.16it/s]\n",
      "1it [00:00, 15.43it/s]\n",
      "1it [00:00, 16.30it/s]\n",
      "1it [00:00, 17.32it/s]\n",
      "1it [00:00, 18.21it/s]\n",
      "2it [00:00, 17.08it/s]\n",
      "1it [00:00, 18.02it/s]\n",
      "1it [00:00, 17.21it/s]\n",
      "2it [00:00, 17.65it/s]\n",
      "2it [00:00, 18.13it/s]\n",
      "5it [00:00, 16.02it/s]\n",
      "2it [00:00, 17.74it/s]\n",
      "1it [00:00, 13.57it/s]\n",
      "1it [00:00, 15.63it/s]\n",
      "0it [00:00, ?it/s]"
     ]
    },
    {
     "name": "stdout",
     "output_type": "stream",
     "text": [
      "30 epoch 72 iter loss val 5.479106426239014\n"
     ]
    },
    {
     "name": "stderr",
     "output_type": "stream",
     "text": [
      "1it [00:00, 16.81it/s]\n",
      "4it [00:00, 11.69it/s]\n",
      "3it [00:00, 17.10it/s]\n",
      "4it [00:00,  9.28it/s]\n",
      "2it [00:00, 16.67it/s]\n",
      "1it [00:00, 15.04it/s]\n",
      "2it [00:00, 13.87it/s]\n",
      "2it [00:00, 18.69it/s]\n",
      "2it [00:00, 17.15it/s]\n",
      "5it [00:00, 15.16it/s]\n",
      "2it [00:00, 16.03it/s]\n",
      "2it [00:00, 16.94it/s]\n",
      "1it [00:00, 16.10it/s]\n",
      "2it [00:00, 18.29it/s]\n",
      "5it [00:00, 12.04it/s]\n",
      "5it [00:00, 12.83it/s]\n",
      "5it [00:00, 16.11it/s]\n",
      "2it [00:00, 18.79it/s]\n",
      "2it [00:00, 18.25it/s]\n",
      "1it [00:00, 16.02it/s]\n",
      "1it [00:00, 17.56it/s]\n",
      "4it [00:00, 15.12it/s]\n",
      "1it [00:00, 16.68it/s]\n",
      "2it [00:00, 17.43it/s]\n",
      "1it [00:00, 16.42it/s]\n",
      "2it [00:00, 17.28it/s]\n",
      "1it [00:00,  9.86it/s]\n",
      "4it [00:00, 17.31it/s]\n",
      "1it [00:00, 18.70it/s]\n",
      "0it [00:00, ?it/s]"
     ]
    },
    {
     "name": "stdout",
     "output_type": "stream",
     "text": [
      "31 epoch 72 iter loss val 5.460868835449219\n"
     ]
    },
    {
     "name": "stderr",
     "output_type": "stream",
     "text": [
      "2it [00:00, 14.23it/s]\n",
      "2it [00:00, 17.11it/s]\n",
      "2it [00:00, 17.91it/s]\n",
      "5it [00:00, 15.42it/s]\n",
      "1it [00:00, 15.94it/s]\n",
      "1it [00:00, 16.18it/s]\n",
      "4it [00:00, 14.32it/s]\n",
      "1it [00:00, 16.89it/s]\n",
      "2it [00:00, 17.96it/s]\n",
      "2it [00:00, 17.33it/s]\n",
      "4it [00:00, 15.60it/s]\n",
      "2it [00:00, 16.90it/s]\n",
      "4it [00:00, 16.13it/s]\n",
      "2it [00:00, 18.80it/s]\n",
      "5it [00:00, 14.94it/s]\n",
      "2it [00:00, 18.22it/s]\n",
      "2it [00:00, 16.38it/s]\n",
      "1it [00:00, 16.50it/s]\n",
      "1it [00:00, 16.29it/s]\n",
      "1it [00:00, 17.14it/s]\n",
      "1it [00:00, 16.62it/s]\n",
      "2it [00:00, 18.30it/s]\n",
      "4it [00:00, 13.45it/s]\n",
      "5it [00:00, 17.17it/s]\n",
      "2it [00:00, 18.92it/s]\n",
      "3it [00:00, 16.90it/s]\n",
      "1it [00:00, 11.98it/s]\n",
      "5it [00:00, 16.11it/s]\n",
      "1it [00:00, 16.36it/s]\n",
      "1it [00:00, 16.34it/s]\n",
      "1it [00:00, 16.32it/s]\n",
      "1it [00:00, 13.73it/s]\n",
      "0it [00:00, ?it/s]"
     ]
    },
    {
     "name": "stdout",
     "output_type": "stream",
     "text": [
      "32 epoch 72 iter loss val 5.464255332946777\n"
     ]
    },
    {
     "name": "stderr",
     "output_type": "stream",
     "text": [
      "1it [00:00, 15.63it/s]\n",
      "5it [00:00, 13.83it/s]\n",
      "4it [00:00, 15.79it/s]\n",
      "1it [00:00, 15.40it/s]\n",
      "2it [00:00, 13.06it/s]\n",
      "2it [00:00, 17.28it/s]\n",
      "4it [00:00, 17.01it/s]\n",
      "1it [00:00, 16.22it/s]\n",
      "4it [00:00, 15.46it/s]\n",
      "1it [00:00, 14.28it/s]\n",
      "2it [00:00, 17.71it/s]\n",
      "3it [00:00, 17.86it/s]\n",
      "2it [00:00, 17.42it/s]\n",
      "5it [00:00, 15.43it/s]\n",
      "2it [00:00, 17.60it/s]\n",
      "5it [00:00, 16.42it/s]\n",
      "1it [00:00, 16.19it/s]\n",
      "1it [00:00, 17.30it/s]\n",
      "4it [00:00, 10.96it/s]\n",
      "2it [00:00, 17.20it/s]\n",
      "1it [00:00, 16.36it/s]\n",
      "2it [00:00, 19.01it/s]\n",
      "1it [00:00, 16.25it/s]\n",
      "1it [00:00, 16.70it/s]\n",
      "2it [00:00, 16.93it/s]\n",
      "5it [00:00, 15.97it/s]\n",
      "2it [00:00, 17.93it/s]\n",
      "1it [00:00, 17.37it/s]\n",
      "2it [00:00, 18.15it/s]\n",
      "2it [00:00, 18.47it/s]\n",
      "2it [00:00, 14.97it/s]"
     ]
    },
    {
     "name": "stdout",
     "output_type": "stream",
     "text": [
      "33 epoch 72 iter loss val 5.535120010375977\n"
     ]
    },
    {
     "name": "stderr",
     "output_type": "stream",
     "text": [
      "\n",
      "2it [00:00, 17.52it/s]\n",
      "4it [00:00, 14.41it/s]\n",
      "1it [00:00, 17.01it/s]\n",
      "5it [00:00, 14.81it/s]\n",
      "2it [00:00, 17.51it/s]\n",
      "2it [00:00, 10.48it/s]\n",
      "1it [00:00, 16.63it/s]\n",
      "5it [00:00, 15.71it/s]\n",
      "2it [00:00,  9.31it/s]\n",
      "2it [00:00, 17.08it/s]\n",
      "5it [00:00, 14.78it/s]\n",
      "2it [00:00, 16.21it/s]\n",
      "5it [00:00, 15.13it/s]\n",
      "1it [00:00, 17.76it/s]\n",
      "4it [00:00, 16.03it/s]\n",
      "3it [00:00, 16.48it/s]\n",
      "1it [00:00,  6.88it/s]\n",
      "1it [00:00, 17.03it/s]\n",
      "1it [00:00, 17.29it/s]\n",
      "1it [00:00, 16.24it/s]\n",
      "2it [00:00, 17.10it/s]\n",
      "4it [00:00, 10.32it/s]\n",
      "2it [00:00, 18.47it/s]\n",
      "2it [00:00, 17.19it/s]\n",
      "1it [00:00, 17.16it/s]\n",
      "1it [00:00, 17.90it/s]\n",
      "1it [00:00, 18.74it/s]\n",
      "4it [00:00, 17.23it/s]\n",
      "2it [00:00, 16.75it/s]\n",
      "1it [00:00, 10.79it/s]\n",
      "1it [00:00, 11.61it/s]\n",
      "0it [00:00, ?it/s]"
     ]
    },
    {
     "name": "stdout",
     "output_type": "stream",
     "text": [
      "34 epoch 72 iter loss val 5.434035778045654\n"
     ]
    },
    {
     "name": "stderr",
     "output_type": "stream",
     "text": [
      "4it [00:00, 13.22it/s]\n",
      "2it [00:00, 15.71it/s]\n",
      "5it [00:00, 13.94it/s]\n",
      "1it [00:00, 15.81it/s]\n",
      "3it [00:00, 16.95it/s]\n",
      "2it [00:00, 16.23it/s]\n",
      "1it [00:00, 16.67it/s]\n",
      "2it [00:00, 13.96it/s]\n",
      "1it [00:00, 16.29it/s]\n",
      "2it [00:00, 18.55it/s]\n",
      "1it [00:00, 17.06it/s]\n",
      "2it [00:00, 16.62it/s]\n",
      "2it [00:00, 17.08it/s]\n",
      "1it [00:00, 17.18it/s]\n",
      "1it [00:00, 16.90it/s]\n",
      "2it [00:00, 16.30it/s]\n",
      "1it [00:00, 15.76it/s]\n",
      "4it [00:00, 15.53it/s]\n",
      "2it [00:00, 16.71it/s]\n",
      "4it [00:00, 15.62it/s]\n",
      "2it [00:00, 16.58it/s]\n",
      "5it [00:00, 13.30it/s]\n",
      "5it [00:00, 15.04it/s]\n",
      "1it [00:00, 15.58it/s]\n",
      "2it [00:00, 17.48it/s]\n",
      "4it [00:00, 15.53it/s]\n",
      "1it [00:00, 16.96it/s]\n",
      "1it [00:00, 17.90it/s]\n",
      "5it [00:00, 15.29it/s]\n",
      "2it [00:00, 17.27it/s]\n",
      "1it [00:00,  9.83it/s]"
     ]
    },
    {
     "name": "stdout",
     "output_type": "stream",
     "text": [
      "35 epoch 72 iter loss val 5.474560737609863\n"
     ]
    },
    {
     "name": "stderr",
     "output_type": "stream",
     "text": [
      "4it [00:00, 14.89it/s]\n",
      "1it [00:00, 15.01it/s]\n",
      "2it [00:00, 12.27it/s]\n",
      "2it [00:00, 12.17it/s]\n",
      "2it [00:00, 17.00it/s]\n",
      "1it [00:00, 16.97it/s]\n",
      "2it [00:00, 16.54it/s]\n",
      "1it [00:00, 14.90it/s]\n",
      "5it [00:00, 14.85it/s]\n",
      "1it [00:00, 15.01it/s]\n",
      "5it [00:00, 15.69it/s]\n",
      "1it [00:00, 10.90it/s]\n",
      "1it [00:00, 16.59it/s]\n",
      "1it [00:00, 16.04it/s]\n",
      "2it [00:00, 16.84it/s]\n",
      "1it [00:00, 16.91it/s]\n",
      "1it [00:00, 17.41it/s]\n",
      "4it [00:00, 15.46it/s]\n",
      "2it [00:00, 17.08it/s]\n",
      "2it [00:00, 17.48it/s]\n",
      "3it [00:00, 14.05it/s]\n",
      "1it [00:00, 12.38it/s]\n",
      "4it [00:00, 16.41it/s]\n",
      "1it [00:00, 16.28it/s]\n",
      "2it [00:00, 16.47it/s]\n",
      "2it [00:00, 17.69it/s]\n",
      "4it [00:00, 17.01it/s]\n",
      "5it [00:00, 14.03it/s]\n",
      "5it [00:00, 15.52it/s]\n",
      "2it [00:00, 16.32it/s]\n",
      "2it [00:00,  9.63it/s]\n",
      "1it [00:00, 12.66it/s]\n",
      "0it [00:00, ?it/s]"
     ]
    },
    {
     "name": "stdout",
     "output_type": "stream",
     "text": [
      "36 epoch 72 iter loss val 5.471570014953613\n"
     ]
    },
    {
     "name": "stderr",
     "output_type": "stream",
     "text": [
      "2it [00:00, 14.91it/s]\n",
      "2it [00:00, 17.37it/s]\n",
      "1it [00:00, 16.23it/s]\n",
      "2it [00:00, 17.02it/s]\n",
      "1it [00:00, 15.07it/s]\n",
      "1it [00:00, 16.11it/s]\n",
      "2it [00:00, 13.29it/s]\n",
      "4it [00:00, 15.13it/s]\n",
      "5it [00:00, 10.54it/s]\n",
      "3it [00:00, 17.04it/s]\n",
      "2it [00:00, 12.52it/s]\n",
      "4it [00:00, 15.87it/s]\n",
      "1it [00:00, 17.09it/s]\n",
      "2it [00:00, 16.73it/s]\n",
      "1it [00:00, 16.14it/s]\n",
      "5it [00:00, 15.21it/s]\n",
      "1it [00:00, 16.01it/s]\n",
      "5it [00:00, 14.79it/s]\n",
      "1it [00:00, 16.31it/s]\n",
      "1it [00:00, 16.52it/s]\n",
      "1it [00:00, 17.03it/s]\n",
      "1it [00:00, 16.64it/s]\n",
      "2it [00:00, 16.05it/s]\n",
      "4it [00:00, 17.29it/s]\n",
      "2it [00:00, 17.43it/s]\n",
      "2it [00:00, 15.95it/s]\n",
      "2it [00:00, 14.96it/s]\n",
      "2it [00:00, 17.67it/s]\n",
      "4it [00:00, 13.43it/s]\n",
      "5it [00:00, 15.93it/s]\n",
      "1it [00:00, 13.12it/s]\n",
      "0it [00:00, ?it/s]"
     ]
    },
    {
     "name": "stdout",
     "output_type": "stream",
     "text": [
      "37 epoch 72 iter loss val 5.419399261474609\n"
     ]
    },
    {
     "name": "stderr",
     "output_type": "stream",
     "text": [
      "2it [00:00, 14.66it/s]\n",
      "2it [00:00, 13.54it/s]\n",
      "5it [00:00, 14.82it/s]\n",
      "2it [00:00, 16.60it/s]\n",
      "3it [00:00, 15.45it/s]\n",
      "1it [00:00, 16.86it/s]\n",
      "2it [00:00, 17.19it/s]\n",
      "2it [00:00, 17.37it/s]\n",
      "1it [00:00, 16.21it/s]\n",
      "5it [00:00, 14.33it/s]\n",
      "2it [00:00, 19.49it/s]\n",
      "5it [00:00, 15.41it/s]\n",
      "1it [00:00, 16.61it/s]\n",
      "1it [00:00, 16.81it/s]\n",
      "2it [00:00, 16.10it/s]\n",
      "5it [00:00, 13.10it/s]\n",
      "2it [00:00, 17.18it/s]\n",
      "4it [00:00, 16.92it/s]\n",
      "4it [00:00, 15.72it/s]\n",
      "1it [00:00, 16.24it/s]\n",
      "4it [00:00, 16.30it/s]\n",
      "2it [00:00, 16.82it/s]\n",
      "4it [00:00, 13.14it/s]\n",
      "1it [00:00, 18.26it/s]\n",
      "2it [00:00, 18.49it/s]\n",
      "1it [00:00, 17.33it/s]\n",
      "1it [00:00, 16.71it/s]\n",
      "1it [00:00, 17.36it/s]\n",
      "2it [00:00, 18.98it/s]\n",
      "1it [00:00, 17.65it/s]\n",
      "0it [00:00, ?it/s]"
     ]
    },
    {
     "name": "stdout",
     "output_type": "stream",
     "text": [
      "38 epoch 72 iter loss val 5.4406843185424805\n"
     ]
    },
    {
     "name": "stderr",
     "output_type": "stream",
     "text": [
      "5it [00:00, 14.64it/s]\n",
      "2it [00:00,  9.81it/s]\n",
      "2it [00:00, 16.90it/s]\n",
      "2it [00:00, 15.93it/s]\n",
      "2it [00:00, 16.21it/s]\n",
      "2it [00:00, 14.46it/s]\n",
      "4it [00:00, 17.47it/s]\n",
      "2it [00:00, 17.59it/s]\n",
      "1it [00:00, 17.77it/s]\n",
      "1it [00:00, 16.54it/s]\n",
      "1it [00:00,  7.72it/s]\n",
      "2it [00:00, 12.97it/s]\n",
      "2it [00:00, 18.36it/s]\n",
      "1it [00:00, 15.39it/s]\n",
      "1it [00:00, 17.38it/s]\n",
      "4it [00:00, 15.40it/s]\n",
      "1it [00:00, 15.54it/s]\n",
      "5it [00:00, 14.07it/s]\n",
      "2it [00:00, 17.50it/s]\n",
      "4it [00:00, 17.71it/s]\n",
      "2it [00:00, 18.61it/s]\n",
      "5it [00:00, 13.60it/s]\n",
      "1it [00:00, 15.99it/s]\n",
      "1it [00:00, 15.99it/s]\n",
      "1it [00:00, 16.91it/s]\n",
      "4it [00:00, 14.05it/s]\n",
      "1it [00:00, 17.15it/s]\n",
      "2it [00:00, 18.51it/s]\n",
      "1it [00:00, 16.60it/s]\n",
      "3it [00:00, 17.85it/s]\n",
      "5it [00:00, 16.95it/s]\n",
      "0it [00:00, ?it/s]"
     ]
    },
    {
     "name": "stdout",
     "output_type": "stream",
     "text": [
      "39 epoch 72 iter loss val 5.545177459716797\n"
     ]
    },
    {
     "name": "stderr",
     "output_type": "stream",
     "text": [
      "5it [00:00,  8.09it/s]\n",
      "1it [00:00, 14.99it/s]\n",
      "1it [00:00, 16.40it/s]\n",
      "2it [00:00, 14.50it/s]\n",
      "2it [00:00, 13.19it/s]\n",
      "1it [00:00, 15.76it/s]\n",
      "2it [00:00, 19.17it/s]\n",
      "4it [00:00, 16.13it/s]\n",
      "2it [00:00, 13.02it/s]\n",
      "1it [00:00, 15.95it/s]\n",
      "2it [00:00, 18.18it/s]\n",
      "2it [00:00, 16.94it/s]\n",
      "1it [00:00, 16.56it/s]\n",
      "2it [00:00, 16.52it/s]\n",
      "2it [00:00, 17.08it/s]\n",
      "1it [00:00, 10.29it/s]\n",
      "3it [00:00, 17.03it/s]\n",
      "4it [00:00, 15.35it/s]\n",
      "5it [00:00, 15.51it/s]\n",
      "4it [00:00, 15.93it/s]\n",
      "5it [00:00, 16.30it/s]\n",
      "5it [00:00, 14.09it/s]\n",
      "2it [00:00, 17.78it/s]\n",
      "1it [00:00, 16.60it/s]\n",
      "2it [00:00, 17.44it/s]\n",
      "1it [00:00, 16.30it/s]\n",
      "1it [00:00, 16.68it/s]\n",
      "2it [00:00, 16.11it/s]\n",
      "1it [00:00, 18.42it/s]\n",
      "1it [00:00, 17.96it/s]\n",
      "4it [00:00, 15.21it/s]\n",
      "1it [00:00,  7.70it/s]"
     ]
    },
    {
     "name": "stdout",
     "output_type": "stream",
     "text": [
      "40 epoch 72 iter loss val 5.506252765655518\n"
     ]
    },
    {
     "name": "stderr",
     "output_type": "stream",
     "text": [
      "\n",
      "2it [00:00, 16.35it/s]\n",
      "5it [00:00, 14.61it/s]\n",
      "2it [00:00, 15.54it/s]\n",
      "1it [00:00, 11.07it/s]\n",
      "1it [00:00, 15.84it/s]\n",
      "1it [00:00, 16.16it/s]\n",
      "1it [00:00, 16.45it/s]\n",
      "1it [00:00, 14.81it/s]\n",
      "4it [00:00, 17.04it/s]\n",
      "2it [00:00,  5.05it/s]\n",
      "2it [00:00, 16.93it/s]\n",
      "2it [00:00, 17.83it/s]\n",
      "5it [00:00, 14.00it/s]\n",
      "2it [00:00, 16.69it/s]\n",
      "2it [00:00, 17.28it/s]\n",
      "2it [00:00, 17.33it/s]\n",
      "2it [00:00, 16.68it/s]\n",
      "5it [00:00, 12.29it/s]\n",
      "3it [00:00, 18.08it/s]\n",
      "1it [00:00, 15.74it/s]\n",
      "2it [00:00, 18.08it/s]\n",
      "1it [00:00, 15.69it/s]\n",
      "5it [00:00,  7.44it/s]\n",
      "4it [00:00, 15.46it/s]\n",
      "1it [00:00, 17.62it/s]\n",
      "2it [00:00, 17.04it/s]\n",
      "1it [00:00, 17.41it/s]\n",
      "4it [00:00, 16.04it/s]\n",
      "4it [00:00, 12.93it/s]\n",
      "1it [00:00, 16.42it/s]\n",
      "0it [00:00, ?it/s]"
     ]
    },
    {
     "name": "stdout",
     "output_type": "stream",
     "text": [
      "41 epoch 72 iter loss val 5.446592807769775\n"
     ]
    },
    {
     "name": "stderr",
     "output_type": "stream",
     "text": [
      "4it [00:00, 12.63it/s]\n",
      "1it [00:00, 14.85it/s]\n",
      "5it [00:00, 13.80it/s]\n",
      "2it [00:00, 15.98it/s]\n",
      "2it [00:00, 15.58it/s]\n",
      "1it [00:00, 13.54it/s]\n",
      "3it [00:00, 16.29it/s]\n",
      "1it [00:00, 15.62it/s]\n",
      "1it [00:00, 14.90it/s]\n",
      "2it [00:00, 16.08it/s]\n",
      "2it [00:00, 18.38it/s]\n",
      "2it [00:00, 17.42it/s]\n",
      "2it [00:00, 17.40it/s]\n",
      "5it [00:00, 15.73it/s]\n",
      "4it [00:00, 16.20it/s]\n",
      "2it [00:00, 18.99it/s]\n",
      "2it [00:00, 15.50it/s]\n",
      "5it [00:00, 15.41it/s]\n",
      "2it [00:00, 16.23it/s]\n",
      "1it [00:00, 15.92it/s]\n",
      "4it [00:00, 15.67it/s]\n",
      "2it [00:00, 16.98it/s]\n",
      "1it [00:00, 16.54it/s]\n",
      "4it [00:00, 16.66it/s]\n",
      "2it [00:00, 14.33it/s]\n",
      "1it [00:00, 16.82it/s]\n",
      "1it [00:00, 18.10it/s]\n",
      "1it [00:00, 17.47it/s]\n",
      "1it [00:00, 16.33it/s]\n",
      "1it [00:00, 16.50it/s]\n",
      "5it [00:00, 16.50it/s]\n",
      "0it [00:00, ?it/s]"
     ]
    },
    {
     "name": "stdout",
     "output_type": "stream",
     "text": [
      "42 epoch 72 iter loss val 5.545177459716797\n"
     ]
    },
    {
     "name": "stderr",
     "output_type": "stream",
     "text": [
      "3it [00:00, 14.54it/s]\n",
      "4it [00:00, 13.55it/s]\n",
      "4it [00:00, 14.66it/s]\n",
      "5it [00:00, 14.21it/s]\n",
      "2it [00:00, 16.93it/s]\n",
      "4it [00:00, 15.57it/s]\n",
      "1it [00:00,  9.93it/s]\n",
      "5it [00:00, 15.66it/s]\n",
      "1it [00:00, 16.41it/s]\n",
      "2it [00:00, 18.21it/s]\n",
      "1it [00:00, 16.96it/s]\n",
      "1it [00:00, 16.51it/s]\n",
      "2it [00:00, 16.49it/s]\n",
      "1it [00:00, 16.18it/s]\n",
      "1it [00:00, 16.96it/s]\n",
      "2it [00:00, 13.12it/s]\n",
      "1it [00:00, 16.40it/s]\n",
      "2it [00:00, 17.19it/s]\n",
      "5it [00:00, 16.14it/s]\n",
      "2it [00:00, 16.66it/s]\n",
      "2it [00:00, 15.53it/s]\n",
      "2it [00:00, 17.67it/s]\n",
      "2it [00:00, 17.24it/s]\n",
      "2it [00:00, 16.52it/s]\n",
      "4it [00:00, 17.96it/s]\n",
      "1it [00:00, 16.37it/s]\n",
      "1it [00:00, 17.95it/s]\n",
      "1it [00:00, 18.11it/s]\n",
      "2it [00:00, 17.38it/s]\n",
      "1it [00:00, 16.14it/s]\n",
      "5it [00:00, 16.09it/s]\n",
      "1it [00:00,  7.19it/s]\n",
      "0it [00:00, ?it/s]"
     ]
    },
    {
     "name": "stdout",
     "output_type": "stream",
     "text": [
      "43 epoch 72 iter loss val 5.545177459716797\n"
     ]
    },
    {
     "name": "stderr",
     "output_type": "stream",
     "text": [
      "2it [00:00, 14.21it/s]\n",
      "1it [00:00, 14.82it/s]\n",
      "2it [00:00, 12.86it/s]\n",
      "5it [00:00, 14.37it/s]\n",
      "4it [00:00, 14.84it/s]\n",
      "1it [00:00, 12.37it/s]\n",
      "1it [00:00, 16.79it/s]\n",
      "1it [00:00, 16.57it/s]\n",
      "1it [00:00, 17.06it/s]\n",
      "2it [00:00, 16.50it/s]\n",
      "4it [00:00, 12.32it/s]\n",
      "3it [00:00, 17.43it/s]\n",
      "4it [00:00, 14.16it/s]\n",
      "2it [00:00, 16.45it/s]\n",
      "2it [00:00, 16.19it/s]\n",
      "5it [00:00, 13.85it/s]\n",
      "2it [00:00, 17.66it/s]\n",
      "2it [00:00, 17.50it/s]\n",
      "5it [00:00, 10.83it/s]\n",
      "1it [00:00, 17.48it/s]\n",
      "2it [00:00, 16.90it/s]\n",
      "1it [00:00, 16.05it/s]\n",
      "5it [00:00, 15.19it/s]\n",
      "1it [00:00, 16.32it/s]\n",
      "1it [00:00, 15.59it/s]\n",
      "4it [00:00, 17.43it/s]\n",
      "1it [00:00, 16.75it/s]\n",
      "2it [00:00, 17.34it/s]\n",
      "2it [00:00, 13.00it/s]\n",
      "2it [00:00, 18.59it/s]\n",
      "0it [00:00, ?it/s]"
     ]
    },
    {
     "name": "stdout",
     "output_type": "stream",
     "text": [
      "44 epoch 72 iter loss val 5.334130764007568\n"
     ]
    },
    {
     "name": "stderr",
     "output_type": "stream",
     "text": [
      "3it [00:00, 14.63it/s]\n",
      "2it [00:00, 14.20it/s]\n",
      "1it [00:00, 15.65it/s]\n",
      "4it [00:00, 15.10it/s]\n",
      "1it [00:00, 16.03it/s]\n",
      "1it [00:00, 16.19it/s]\n",
      "1it [00:00, 15.90it/s]\n",
      "5it [00:00, 15.61it/s]\n",
      "2it [00:00, 17.30it/s]\n",
      "2it [00:00, 17.23it/s]\n",
      "2it [00:00, 16.77it/s]\n",
      "2it [00:00, 15.54it/s]\n",
      "5it [00:00, 12.87it/s]\n",
      "2it [00:00, 16.51it/s]\n",
      "1it [00:00, 16.34it/s]\n",
      "2it [00:00, 17.10it/s]\n",
      "2it [00:00, 16.59it/s]\n",
      "2it [00:00, 17.84it/s]\n",
      "1it [00:00, 17.02it/s]\n",
      "1it [00:00, 17.85it/s]\n",
      "1it [00:00, 16.33it/s]\n",
      "1it [00:00, 15.47it/s]\n",
      "4it [00:00, 17.14it/s]\n",
      "2it [00:00, 17.34it/s]\n",
      "1it [00:00, 15.70it/s]\n",
      "2it [00:00, 17.20it/s]\n",
      "5it [00:00, 14.98it/s]\n",
      "5it [00:00,  6.84it/s]\n",
      "4it [00:00, 13.63it/s]\n",
      "1it [00:00, 17.39it/s]\n",
      "4it [00:00, 17.35it/s]\n",
      "1it [00:00,  9.48it/s]"
     ]
    },
    {
     "name": "stdout",
     "output_type": "stream",
     "text": [
      "45 epoch 72 iter loss val 5.532923221588135\n"
     ]
    },
    {
     "name": "stderr",
     "output_type": "stream",
     "text": [
      "4it [00:00, 13.82it/s]\n",
      "1it [00:00, 15.83it/s]\n",
      "2it [00:00, 16.42it/s]\n",
      "2it [00:00, 17.14it/s]\n",
      "4it [00:00, 14.70it/s]\n",
      "5it [00:00, 15.26it/s]\n",
      "4it [00:00, 15.64it/s]\n",
      "1it [00:00, 16.10it/s]\n",
      "3it [00:00, 16.73it/s]\n",
      "1it [00:00, 16.32it/s]\n",
      "1it [00:00, 17.38it/s]\n",
      "2it [00:00, 15.62it/s]\n",
      "1it [00:00, 16.32it/s]\n",
      "1it [00:00, 17.39it/s]\n",
      "4it [00:00, 16.83it/s]\n",
      "1it [00:00, 16.23it/s]\n",
      "2it [00:00, 16.75it/s]\n",
      "2it [00:00, 16.54it/s]\n",
      "1it [00:00, 17.18it/s]\n",
      "2it [00:00, 16.58it/s]\n",
      "2it [00:00, 17.43it/s]\n",
      "5it [00:00, 15.77it/s]\n",
      "1it [00:00, 16.13it/s]\n",
      "2it [00:00, 17.23it/s]\n",
      "1it [00:00, 17.49it/s]\n",
      "2it [00:00, 12.98it/s]\n",
      "5it [00:00, 15.73it/s]\n",
      "1it [00:00, 15.67it/s]\n",
      "2it [00:00,  9.44it/s]\n",
      "2it [00:00, 17.74it/s]\n",
      "5it [00:00, 15.80it/s]\n",
      "0it [00:00, ?it/s]"
     ]
    },
    {
     "name": "stdout",
     "output_type": "stream",
     "text": [
      "46 epoch 72 iter loss val 5.545177459716797\n"
     ]
    },
    {
     "name": "stderr",
     "output_type": "stream",
     "text": [
      "5it [00:00, 12.47it/s]\n",
      "1it [00:00, 14.89it/s]\n",
      "2it [00:00, 16.35it/s]\n",
      "2it [00:00, 16.14it/s]\n",
      "2it [00:00, 17.05it/s]\n",
      "5it [00:00, 14.52it/s]\n",
      "2it [00:00, 16.82it/s]\n",
      "2it [00:00, 16.71it/s]\n",
      "1it [00:00, 16.76it/s]\n",
      "1it [00:00, 16.74it/s]\n",
      "4it [00:00, 14.20it/s]\n",
      "4it [00:00, 18.18it/s]\n",
      "5it [00:00, 15.36it/s]\n",
      "2it [00:00, 16.76it/s]\n",
      "2it [00:00, 18.57it/s]\n",
      "1it [00:00, 16.74it/s]\n",
      "4it [00:00, 16.44it/s]\n",
      "1it [00:00, 16.66it/s]\n",
      "4it [00:00, 16.00it/s]\n",
      "5it [00:00, 16.69it/s]\n",
      "1it [00:00, 15.83it/s]\n",
      "2it [00:00, 17.57it/s]\n",
      "2it [00:00, 16.46it/s]\n",
      "1it [00:00, 18.50it/s]\n",
      "2it [00:00, 17.44it/s]\n",
      "3it [00:00, 18.03it/s]\n",
      "2it [00:00, 17.99it/s]\n",
      "1it [00:00, 16.46it/s]\n",
      "1it [00:00, 16.69it/s]\n",
      "1it [00:00, 15.18it/s]\n",
      "1it [00:00, 15.99it/s]\n",
      "0it [00:00, ?it/s]"
     ]
    },
    {
     "name": "stdout",
     "output_type": "stream",
     "text": [
      "47 epoch 72 iter loss val 5.445704460144043\n"
     ]
    },
    {
     "name": "stderr",
     "output_type": "stream",
     "text": [
      "2it [00:00, 14.22it/s]\n",
      "2it [00:00, 15.55it/s]\n",
      "5it [00:00, 14.84it/s]\n",
      "2it [00:00, 15.99it/s]\n",
      "2it [00:00, 17.28it/s]\n",
      "4it [00:00, 16.06it/s]\n",
      "4it [00:00,  9.81it/s]\n",
      "2it [00:00, 16.35it/s]\n",
      "2it [00:00, 15.02it/s]\n",
      "4it [00:00, 16.89it/s]\n",
      "1it [00:00, 15.94it/s]\n",
      "2it [00:00, 17.35it/s]\n",
      "1it [00:00, 15.95it/s]\n",
      "1it [00:00, 15.34it/s]\n",
      "2it [00:00, 17.35it/s]\n",
      "5it [00:00, 15.61it/s]\n",
      "1it [00:00, 16.49it/s]\n",
      "2it [00:00, 17.59it/s]\n",
      "1it [00:00, 16.30it/s]\n",
      "1it [00:00, 16.75it/s]\n",
      "4it [00:00, 15.35it/s]\n",
      "1it [00:00, 17.46it/s]\n",
      "2it [00:00,  9.08it/s]\n",
      "5it [00:00, 15.52it/s]\n",
      "3it [00:00,  9.31it/s]\n",
      "1it [00:00, 16.18it/s]\n",
      "2it [00:00, 13.59it/s]\n",
      "1it [00:00, 17.77it/s]\n",
      "1it [00:00, 17.32it/s]\n",
      "1it [00:00, 17.02it/s]\n",
      "5it [00:00, 13.96it/s]\n",
      "1it [00:00, 13.03it/s]\n",
      "0it [00:00, ?it/s]"
     ]
    },
    {
     "name": "stdout",
     "output_type": "stream",
     "text": [
      "48 epoch 72 iter loss val 5.545177459716797\n"
     ]
    },
    {
     "name": "stderr",
     "output_type": "stream",
     "text": [
      "2it [00:00, 13.65it/s]\n",
      "4it [00:00, 16.36it/s]\n",
      "2it [00:00, 16.40it/s]\n",
      "5it [00:00, 15.70it/s]\n",
      "5it [00:00, 12.33it/s]\n",
      "2it [00:00, 15.34it/s]\n",
      "1it [00:00,  9.34it/s]\n",
      "1it [00:00, 13.89it/s]\n",
      "5it [00:00, 15.45it/s]\n",
      "1it [00:00, 16.43it/s]\n",
      "1it [00:00, 16.87it/s]\n",
      "1it [00:00, 17.09it/s]\n",
      "1it [00:00, 17.35it/s]\n",
      "1it [00:00, 15.95it/s]\n",
      "1it [00:00, 15.96it/s]\n",
      "2it [00:00, 17.68it/s]\n",
      "4it [00:00, 16.34it/s]\n",
      "3it [00:00, 16.61it/s]\n",
      "4it [00:00, 14.26it/s]\n",
      "2it [00:00, 12.94it/s]\n",
      "2it [00:00, 16.62it/s]\n",
      "5it [00:00, 15.45it/s]\n",
      "1it [00:00, 12.09it/s]\n",
      "2it [00:00, 17.18it/s]\n",
      "2it [00:00, 17.31it/s]\n",
      "4it [00:00, 15.82it/s]\n",
      "2it [00:00, 17.45it/s]\n",
      "1it [00:00, 17.22it/s]\n",
      "2it [00:00,  7.25it/s]\n",
      "2it [00:00, 17.60it/s]\n",
      "0it [00:00, ?it/s]"
     ]
    },
    {
     "name": "stdout",
     "output_type": "stream",
     "text": [
      "49 epoch 72 iter loss val 5.463231563568115\n"
     ]
    },
    {
     "name": "stderr",
     "output_type": "stream",
     "text": [
      "2it [00:00, 13.77it/s]\n",
      "1it [00:00, 13.91it/s]\n",
      "2it [00:00, 14.66it/s]\n",
      "2it [00:00, 16.58it/s]\n",
      "2it [00:00, 15.39it/s]\n",
      "2it [00:00, 15.60it/s]\n",
      "1it [00:00, 15.51it/s]\n",
      "1it [00:00, 14.90it/s]\n",
      "3it [00:00, 16.29it/s]\n",
      "2it [00:00, 17.04it/s]\n",
      "1it [00:00, 16.59it/s]\n",
      "1it [00:00, 15.62it/s]\n",
      "1it [00:00, 14.41it/s]\n",
      "4it [00:00, 16.53it/s]\n",
      "2it [00:00, 14.56it/s]\n",
      "5it [00:00, 13.58it/s]\n",
      "5it [00:00, 14.36it/s]\n",
      "5it [00:00, 12.64it/s]\n",
      "4it [00:00, 15.67it/s]\n",
      "2it [00:00, 13.32it/s]\n",
      "1it [00:00, 15.78it/s]\n",
      "2it [00:00, 15.80it/s]\n",
      "1it [00:00, 15.61it/s]\n",
      "4it [00:00, 14.65it/s]\n",
      "5it [00:00,  6.94it/s]\n",
      "1it [00:00, 16.23it/s]\n",
      "4it [00:00, 15.35it/s]\n",
      "1it [00:00, 16.21it/s]\n",
      "1it [00:00, 16.92it/s]\n",
      "2it [00:00, 15.27it/s]\n",
      "2it [00:00, 15.42it/s]\n",
      "1it [00:00, 10.49it/s]\n",
      "0it [00:00, ?it/s]"
     ]
    },
    {
     "name": "stdout",
     "output_type": "stream",
     "text": [
      "50 epoch 72 iter loss val 5.46703577041626\n"
     ]
    },
    {
     "name": "stderr",
     "output_type": "stream",
     "text": [
      "2it [00:00, 15.36it/s]\n",
      "4it [00:00, 14.40it/s]\n",
      "1it [00:00, 16.56it/s]\n",
      "1it [00:00, 16.34it/s]\n",
      "5it [00:00, 15.55it/s]\n",
      "1it [00:00, 15.96it/s]\n",
      "5it [00:00, 14.98it/s]\n",
      "1it [00:00, 16.59it/s]\n",
      "4it [00:00, 11.11it/s]\n",
      "2it [00:00, 18.09it/s]\n",
      "1it [00:00, 13.59it/s]\n",
      "2it [00:00, 17.22it/s]\n",
      "1it [00:00, 15.73it/s]\n",
      "3it [00:00, 13.84it/s]\n",
      "1it [00:00, 16.98it/s]\n",
      "5it [00:00, 15.41it/s]\n",
      "2it [00:00, 18.78it/s]\n",
      "4it [00:00, 17.84it/s]\n",
      "1it [00:00,  8.21it/s]\n",
      "1it [00:00, 17.09it/s]\n",
      "2it [00:00, 17.02it/s]\n",
      "2it [00:00, 16.67it/s]\n",
      "5it [00:00, 15.15it/s]\n",
      "1it [00:00, 17.07it/s]\n",
      "2it [00:00, 17.49it/s]\n",
      "2it [00:00, 15.66it/s]\n",
      "2it [00:00, 17.52it/s]\n",
      "4it [00:00, 16.20it/s]\n",
      "2it [00:00, 10.49it/s]\n",
      "2it [00:00, 17.58it/s]\n",
      "2it [00:00, 15.17it/s]"
     ]
    },
    {
     "name": "stdout",
     "output_type": "stream",
     "text": [
      "51 epoch 72 iter loss val 5.4675798416137695\n"
     ]
    },
    {
     "name": "stderr",
     "output_type": "stream",
     "text": [
      "\n",
      "5it [00:00, 13.56it/s]\n",
      "4it [00:00, 14.74it/s]\n",
      "5it [00:00, 14.40it/s]\n",
      "4it [00:00, 16.75it/s]\n",
      "2it [00:00, 17.91it/s]\n",
      "2it [00:00, 15.69it/s]\n",
      "1it [00:00, 11.38it/s]\n",
      "1it [00:00, 16.47it/s]\n",
      "1it [00:00, 15.71it/s]\n",
      "1it [00:00, 16.51it/s]\n",
      "2it [00:00, 16.37it/s]\n",
      "1it [00:00, 16.36it/s]\n",
      "2it [00:00, 17.47it/s]\n",
      "1it [00:00, 16.59it/s]\n",
      "2it [00:00, 15.10it/s]\n",
      "1it [00:00, 10.58it/s]\n",
      "2it [00:00, 17.76it/s]\n",
      "4it [00:00, 14.88it/s]\n",
      "1it [00:00, 15.28it/s]\n",
      "3it [00:00, 12.39it/s]\n",
      "2it [00:00, 17.30it/s]\n",
      "5it [00:00, 15.46it/s]\n",
      "2it [00:00, 15.77it/s]\n",
      "4it [00:00, 14.76it/s]\n",
      "1it [00:00, 17.71it/s]\n",
      "1it [00:00, 16.83it/s]\n",
      "1it [00:00, 17.41it/s]\n",
      "2it [00:00, 17.45it/s]\n",
      "5it [00:00, 15.72it/s]\n",
      "2it [00:00, 14.00it/s]\n",
      "1it [00:00,  9.53it/s]"
     ]
    },
    {
     "name": "stdout",
     "output_type": "stream",
     "text": [
      "52 epoch 72 iter loss val 5.4675703048706055\n"
     ]
    },
    {
     "name": "stderr",
     "output_type": "stream",
     "text": [
      "5it [00:00, 13.45it/s]\n",
      "2it [00:00, 15.37it/s]\n",
      "2it [00:00, 16.71it/s]\n",
      "1it [00:00, 10.72it/s]\n",
      "2it [00:00, 16.15it/s]\n",
      "5it [00:00, 13.01it/s]\n",
      "2it [00:00, 15.84it/s]\n",
      "1it [00:00, 15.60it/s]\n",
      "2it [00:00, 17.62it/s]\n",
      "1it [00:00, 16.06it/s]\n",
      "1it [00:00, 16.66it/s]\n",
      "1it [00:00, 16.43it/s]\n",
      "2it [00:00, 17.26it/s]\n",
      "1it [00:00, 11.28it/s]\n",
      "1it [00:00, 16.76it/s]\n",
      "2it [00:00, 17.72it/s]\n",
      "2it [00:00, 16.64it/s]\n",
      "4it [00:00, 12.34it/s]\n",
      "1it [00:00, 18.46it/s]\n",
      "5it [00:00, 16.41it/s]\n",
      "4it [00:00, 14.53it/s]\n",
      "1it [00:00, 17.01it/s]\n",
      "1it [00:00, 16.42it/s]\n",
      "2it [00:00, 16.49it/s]\n",
      "4it [00:00, 16.33it/s]\n",
      "3it [00:00, 17.72it/s]\n",
      "5it [00:00, 12.48it/s]\n",
      "2it [00:00, 17.63it/s]\n",
      "2it [00:00, 16.98it/s]\n",
      "1it [00:00, 16.18it/s]\n",
      "4it [00:00, 13.01it/s]\n",
      "0it [00:00, ?it/s]"
     ]
    },
    {
     "name": "stdout",
     "output_type": "stream",
     "text": [
      "53 epoch 72 iter loss val 5.499759197235107\n"
     ]
    },
    {
     "name": "stderr",
     "output_type": "stream",
     "text": [
      "4it [00:00, 14.22it/s]\n",
      "2it [00:00, 14.20it/s]\n",
      "1it [00:00, 15.53it/s]\n",
      "2it [00:00, 17.46it/s]\n",
      "2it [00:00, 14.06it/s]\n",
      "2it [00:00, 16.75it/s]\n",
      "1it [00:00, 16.55it/s]\n",
      "2it [00:00, 16.24it/s]\n",
      "1it [00:00, 16.11it/s]\n",
      "5it [00:00, 15.33it/s]\n",
      "1it [00:00, 15.08it/s]\n",
      "2it [00:00, 16.45it/s]\n",
      "1it [00:00, 15.40it/s]\n",
      "1it [00:00, 16.85it/s]\n",
      "1it [00:00, 10.12it/s]\n",
      "1it [00:00, 16.27it/s]\n",
      "5it [00:00, 15.97it/s]\n",
      "2it [00:00, 16.99it/s]\n",
      "5it [00:00, 16.57it/s]\n",
      "5it [00:00, 11.51it/s]\n",
      "2it [00:00, 16.99it/s]\n",
      "1it [00:00, 15.57it/s]\n",
      "4it [00:00, 13.46it/s]\n",
      "1it [00:00, 16.08it/s]\n",
      "4it [00:00, 15.57it/s]\n",
      "2it [00:00, 16.71it/s]\n",
      "2it [00:00, 12.37it/s]\n",
      "3it [00:00, 17.36it/s]\n",
      "2it [00:00, 18.12it/s]\n",
      "4it [00:00, 16.30it/s]\n",
      "1it [00:00, 17.25it/s]\n",
      "2it [00:00, 15.14it/s]"
     ]
    },
    {
     "name": "stdout",
     "output_type": "stream",
     "text": [
      "54 epoch 72 iter loss val 5.450164318084717\n"
     ]
    },
    {
     "name": "stderr",
     "output_type": "stream",
     "text": [
      "\n",
      "3it [00:00, 14.89it/s]\n",
      "4it [00:00, 14.07it/s]\n",
      "2it [00:00, 16.76it/s]\n",
      "1it [00:00, 15.85it/s]\n",
      "4it [00:00, 10.09it/s]\n",
      "5it [00:00, 14.49it/s]\n",
      "2it [00:00, 14.87it/s]\n",
      "4it [00:00, 15.81it/s]\n",
      "1it [00:00, 14.26it/s]\n",
      "2it [00:00, 18.15it/s]\n",
      "1it [00:00, 17.79it/s]\n",
      "5it [00:00, 15.67it/s]\n",
      "2it [00:00, 12.20it/s]\n",
      "1it [00:00, 16.80it/s]\n",
      "2it [00:00, 18.04it/s]\n",
      "1it [00:00, 14.90it/s]\n",
      "2it [00:00, 17.55it/s]\n",
      "2it [00:00, 12.22it/s]\n",
      "1it [00:00, 17.22it/s]\n",
      "5it [00:00, 16.10it/s]\n",
      "4it [00:00, 17.23it/s]\n",
      "1it [00:00,  9.14it/s]\n",
      "1it [00:00, 16.52it/s]\n",
      "1it [00:00, 16.73it/s]\n",
      "1it [00:00, 16.58it/s]\n",
      "2it [00:00, 16.69it/s]\n",
      "2it [00:00, 17.41it/s]\n",
      "2it [00:00, 17.54it/s]\n",
      "5it [00:00, 16.96it/s]\n",
      "1it [00:00, 18.38it/s]\n",
      "0it [00:00, ?it/s]"
     ]
    },
    {
     "name": "stdout",
     "output_type": "stream",
     "text": [
      "55 epoch 72 iter loss val 5.449742794036865\n"
     ]
    },
    {
     "name": "stderr",
     "output_type": "stream",
     "text": [
      "4it [00:00, 11.20it/s]\n",
      "1it [00:00, 13.04it/s]\n",
      "1it [00:00, 15.98it/s]\n",
      "5it [00:00, 15.68it/s]\n",
      "1it [00:00, 15.51it/s]\n",
      "2it [00:00, 13.53it/s]\n",
      "1it [00:00, 15.07it/s]\n",
      "1it [00:00, 16.09it/s]\n",
      "1it [00:00, 15.68it/s]\n",
      "2it [00:00, 15.60it/s]\n",
      "2it [00:00, 12.37it/s]\n",
      "1it [00:00, 16.25it/s]\n",
      "2it [00:00, 17.49it/s]\n",
      "5it [00:00, 16.60it/s]\n",
      "1it [00:00, 12.31it/s]\n",
      "2it [00:00, 17.31it/s]\n",
      "2it [00:00, 17.33it/s]\n",
      "2it [00:00, 16.21it/s]\n",
      "2it [00:00, 12.23it/s]\n",
      "4it [00:00, 16.88it/s]\n",
      "4it [00:00, 16.41it/s]\n",
      "2it [00:00, 11.00it/s]\n",
      "2it [00:00, 18.25it/s]\n",
      "1it [00:00, 16.21it/s]\n",
      "5it [00:00, 15.60it/s]\n",
      "2it [00:00, 16.93it/s]\n",
      "4it [00:00, 15.28it/s]\n",
      "1it [00:00, 16.37it/s]\n",
      "5it [00:00, 15.79it/s]\n",
      "1it [00:00, 16.43it/s]\n",
      "3it [00:00, 14.51it/s]\n",
      "0it [00:00, ?it/s]"
     ]
    },
    {
     "name": "stdout",
     "output_type": "stream",
     "text": [
      "56 epoch 72 iter loss val 5.4787278175354\n"
     ]
    },
    {
     "name": "stderr",
     "output_type": "stream",
     "text": [
      "2it [00:00, 14.22it/s]\n",
      "1it [00:00, 15.67it/s]\n",
      "1it [00:00, 16.18it/s]\n",
      "1it [00:00, 15.24it/s]\n",
      "1it [00:00, 15.65it/s]\n",
      "2it [00:00, 14.74it/s]\n",
      "2it [00:00, 13.70it/s]\n",
      "5it [00:00, 14.51it/s]\n",
      "1it [00:00,  9.74it/s]\n",
      "2it [00:00, 16.61it/s]\n",
      "2it [00:00, 16.80it/s]\n",
      "2it [00:00, 17.06it/s]\n",
      "4it [00:00, 15.92it/s]\n",
      "2it [00:00, 17.44it/s]\n",
      "1it [00:00, 16.39it/s]\n",
      "4it [00:00, 15.66it/s]\n",
      "2it [00:00, 15.90it/s]\n",
      "2it [00:00, 16.98it/s]\n",
      "2it [00:00, 16.97it/s]\n",
      "3it [00:00, 16.48it/s]\n",
      "1it [00:00, 16.01it/s]\n",
      "1it [00:00, 15.70it/s]\n",
      "5it [00:00, 16.15it/s]\n",
      "2it [00:00, 13.42it/s]\n",
      "4it [00:00, 14.83it/s]\n",
      "5it [00:00, 15.26it/s]\n",
      "1it [00:00,  6.16it/s]\n",
      "1it [00:00, 16.94it/s]\n",
      "1it [00:00, 17.53it/s]\n",
      "4it [00:00, 16.18it/s]\n",
      "5it [00:00, 15.58it/s]\n",
      "0it [00:00, ?it/s]"
     ]
    },
    {
     "name": "stdout",
     "output_type": "stream",
     "text": [
      "57 epoch 72 iter loss val 5.545177459716797\n"
     ]
    },
    {
     "name": "stderr",
     "output_type": "stream",
     "text": [
      "2it [00:00, 12.96it/s]\n",
      "1it [00:00, 13.69it/s]\n",
      "2it [00:00, 16.70it/s]\n",
      "2it [00:00, 17.01it/s]\n",
      "1it [00:00, 16.12it/s]\n",
      "2it [00:00, 13.62it/s]\n",
      "2it [00:00, 15.90it/s]\n",
      "1it [00:00, 16.72it/s]\n",
      "4it [00:00, 14.59it/s]\n",
      "2it [00:00, 16.73it/s]\n",
      "1it [00:00, 16.45it/s]\n",
      "5it [00:00, 13.58it/s]\n",
      "1it [00:00, 14.19it/s]\n",
      "1it [00:00, 17.06it/s]\n",
      "2it [00:00, 17.06it/s]\n",
      "1it [00:00, 17.34it/s]\n",
      "2it [00:00, 17.24it/s]\n",
      "1it [00:00, 17.19it/s]\n",
      "5it [00:00, 15.90it/s]\n",
      "2it [00:00, 17.60it/s]\n",
      "1it [00:00, 15.74it/s]\n",
      "1it [00:00, 12.03it/s]\n",
      "4it [00:00, 14.99it/s]\n",
      "2it [00:00, 17.23it/s]\n",
      "5it [00:00, 16.12it/s]\n",
      "4it [00:00, 16.67it/s]\n",
      "5it [00:00, 16.05it/s]\n",
      "2it [00:00, 18.73it/s]\n",
      "3it [00:00, 18.24it/s]\n",
      "4it [00:00, 16.40it/s]\n",
      "1it [00:00, 17.42it/s]\n",
      "0it [00:00, ?it/s]"
     ]
    },
    {
     "name": "stdout",
     "output_type": "stream",
     "text": [
      "58 epoch 72 iter loss val 5.445486545562744\n"
     ]
    },
    {
     "name": "stderr",
     "output_type": "stream",
     "text": [
      "2it [00:00,  6.95it/s]\n",
      "2it [00:00, 14.60it/s]\n",
      "1it [00:00, 14.37it/s]\n",
      "1it [00:00, 14.54it/s]\n",
      "4it [00:00, 14.96it/s]\n",
      "2it [00:00, 16.15it/s]\n",
      "1it [00:00, 13.65it/s]\n",
      "1it [00:00,  3.26it/s]\n",
      "2it [00:00, 16.08it/s]\n",
      "4it [00:00, 16.05it/s]\n",
      "1it [00:00, 17.23it/s]\n",
      "1it [00:00, 16.58it/s]\n",
      "5it [00:00, 15.74it/s]\n",
      "4it [00:00, 13.43it/s]\n",
      "1it [00:00, 16.17it/s]\n",
      "5it [00:00, 15.22it/s]\n",
      "2it [00:00, 16.25it/s]\n",
      "1it [00:00,  9.80it/s]\n",
      "5it [00:00, 14.09it/s]\n",
      "2it [00:00, 18.09it/s]\n",
      "2it [00:00, 17.80it/s]\n",
      "1it [00:00, 16.47it/s]\n",
      "2it [00:00, 17.21it/s]\n",
      "5it [00:00, 15.69it/s]\n",
      "3it [00:00, 16.94it/s]\n",
      "2it [00:00, 17.38it/s]\n",
      "2it [00:00, 18.22it/s]\n",
      "4it [00:00, 16.99it/s]\n",
      "2it [00:00, 16.74it/s]\n",
      "1it [00:00, 16.00it/s]\n",
      "1it [00:00, 16.69it/s]\n",
      "0it [00:00, ?it/s]"
     ]
    },
    {
     "name": "stdout",
     "output_type": "stream",
     "text": [
      "59 epoch 72 iter loss val 5.442234516143799\n"
     ]
    },
    {
     "name": "stderr",
     "output_type": "stream",
     "text": [
      "1it [00:00,  5.20it/s]\n",
      "1it [00:00, 14.12it/s]\n",
      "1it [00:00, 14.51it/s]\n",
      "4it [00:00, 13.90it/s]\n",
      "1it [00:00, 15.30it/s]\n",
      "2it [00:00, 16.88it/s]\n",
      "4it [00:00, 15.66it/s]\n",
      "2it [00:00, 15.48it/s]\n",
      "4it [00:00, 14.17it/s]\n",
      "1it [00:00, 16.01it/s]\n",
      "3it [00:00, 16.38it/s]\n",
      "4it [00:00, 16.33it/s]\n",
      "5it [00:00, 12.75it/s]\n",
      "1it [00:00, 17.02it/s]\n",
      "1it [00:00, 17.03it/s]\n",
      "5it [00:00, 14.64it/s]\n",
      "2it [00:00, 17.29it/s]\n",
      "2it [00:00, 17.08it/s]\n",
      "2it [00:00, 17.89it/s]\n",
      "2it [00:00, 17.35it/s]\n",
      "1it [00:00, 16.48it/s]\n",
      "5it [00:00, 14.20it/s]\n",
      "2it [00:00, 16.58it/s]\n",
      "2it [00:00, 16.18it/s]\n",
      "1it [00:00, 15.58it/s]\n",
      "2it [00:00, 16.37it/s]\n",
      "2it [00:00, 17.28it/s]\n",
      "5it [00:00, 14.35it/s]\n",
      "2it [00:00, 19.14it/s]\n",
      "1it [00:00, 16.36it/s]\n",
      "1it [00:00, 17.28it/s]\n",
      "0it [00:00, ?it/s]"
     ]
    },
    {
     "name": "stdout",
     "output_type": "stream",
     "text": [
      "60 epoch 72 iter loss val 5.453851222991943\n"
     ]
    },
    {
     "name": "stderr",
     "output_type": "stream",
     "text": [
      "5it [00:00, 11.63it/s]\n",
      "4it [00:00, 15.93it/s]\n",
      "4it [00:00, 16.78it/s]\n",
      "2it [00:00, 15.99it/s]\n",
      "2it [00:00, 12.85it/s]\n",
      "1it [00:00, 15.94it/s]\n",
      "1it [00:00, 16.62it/s]\n",
      "1it [00:00, 16.19it/s]\n",
      "2it [00:00, 18.08it/s]\n",
      "2it [00:00, 16.75it/s]\n",
      "1it [00:00,  9.64it/s]\n",
      "2it [00:00, 17.27it/s]\n",
      "2it [00:00, 17.35it/s]\n",
      "2it [00:00, 17.02it/s]\n",
      "5it [00:00, 13.10it/s]\n",
      "2it [00:00, 16.77it/s]\n",
      "4it [00:00, 14.61it/s]\n",
      "5it [00:00, 15.20it/s]\n",
      "1it [00:00, 15.62it/s]\n",
      "1it [00:00, 15.55it/s]\n",
      "1it [00:00, 16.28it/s]\n",
      "2it [00:00, 17.64it/s]\n",
      "2it [00:00, 18.04it/s]\n",
      "1it [00:00, 15.46it/s]\n",
      "5it [00:00, 15.11it/s]\n",
      "1it [00:00, 16.92it/s]\n",
      "2it [00:00, 17.20it/s]\n",
      "3it [00:00, 17.14it/s]\n",
      "4it [00:00, 16.60it/s]\n",
      "1it [00:00, 17.40it/s]\n",
      "1it [00:00, 18.04it/s]\n",
      "0it [00:00, ?it/s]"
     ]
    },
    {
     "name": "stdout",
     "output_type": "stream",
     "text": [
      "61 epoch 72 iter loss val 5.4538164138793945\n"
     ]
    },
    {
     "name": "stderr",
     "output_type": "stream",
     "text": [
      "2it [00:00, 13.89it/s]\n",
      "1it [00:00, 14.92it/s]\n",
      "5it [00:00, 11.13it/s]\n",
      "2it [00:00, 15.73it/s]\n",
      "1it [00:00, 15.50it/s]\n",
      "1it [00:00, 12.48it/s]\n",
      "5it [00:00, 16.62it/s]\n",
      "2it [00:00, 16.52it/s]\n",
      "2it [00:00, 15.52it/s]\n",
      "1it [00:00, 16.19it/s]\n",
      "1it [00:00, 17.40it/s]\n",
      "5it [00:00, 12.67it/s]\n",
      "2it [00:00, 16.91it/s]\n",
      "2it [00:00, 18.27it/s]\n",
      "2it [00:00, 16.24it/s]\n",
      "2it [00:00,  9.90it/s]\n",
      "2it [00:00, 18.02it/s]\n",
      "1it [00:00, 15.15it/s]\n",
      "4it [00:00, 15.09it/s]\n",
      "3it [00:00, 14.88it/s]\n",
      "4it [00:00, 16.84it/s]\n",
      "4it [00:00, 16.44it/s]\n",
      "1it [00:00, 15.83it/s]\n",
      "2it [00:00, 16.91it/s]\n",
      "1it [00:00, 15.63it/s]\n",
      "1it [00:00,  4.46it/s]\n",
      "1it [00:00, 17.02it/s]\n",
      "1it [00:00, 17.09it/s]\n",
      "2it [00:00, 15.27it/s]\n",
      "5it [00:00, 11.10it/s]\n",
      "4it [00:00, 15.89it/s]\n",
      "1it [00:00, 11.87it/s]\n",
      "0it [00:00, ?it/s]"
     ]
    },
    {
     "name": "stdout",
     "output_type": "stream",
     "text": [
      "62 epoch 72 iter loss val 5.50163459777832\n"
     ]
    },
    {
     "name": "stderr",
     "output_type": "stream",
     "text": [
      "4it [00:00, 12.86it/s]\n",
      "5it [00:00, 14.54it/s]\n",
      "2it [00:00, 16.38it/s]\n",
      "3it [00:00, 16.24it/s]\n",
      "2it [00:00, 16.41it/s]\n",
      "2it [00:00, 16.41it/s]\n",
      "1it [00:00, 15.68it/s]\n",
      "2it [00:00, 16.14it/s]\n",
      "2it [00:00, 15.91it/s]\n",
      "1it [00:00, 17.62it/s]\n",
      "1it [00:00, 10.35it/s]\n",
      "4it [00:00, 17.09it/s]\n",
      "1it [00:00, 16.49it/s]\n",
      "4it [00:00, 15.46it/s]\n",
      "2it [00:00, 13.96it/s]\n",
      "2it [00:00, 18.26it/s]\n",
      "1it [00:00, 18.16it/s]\n",
      "2it [00:00, 16.13it/s]\n",
      "1it [00:00, 16.84it/s]\n",
      "2it [00:00, 16.24it/s]\n",
      "1it [00:00,  3.76it/s]\n",
      "5it [00:00, 16.70it/s]\n",
      "1it [00:00, 16.11it/s]\n",
      "2it [00:00, 17.12it/s]\n",
      "2it [00:00, 16.16it/s]\n",
      "1it [00:00, 15.02it/s]\n",
      "5it [00:00, 17.37it/s]\n",
      "5it [00:00, 17.74it/s]\n",
      "4it [00:00, 13.39it/s]\n",
      "1it [00:00, 17.57it/s]\n",
      "1it [00:00,  9.74it/s]"
     ]
    },
    {
     "name": "stdout",
     "output_type": "stream",
     "text": [
      "63 epoch 72 iter loss val 5.446302890777588\n"
     ]
    },
    {
     "name": "stderr",
     "output_type": "stream",
     "text": [
      "4it [00:00, 12.74it/s]\n",
      "2it [00:00, 15.79it/s]\n",
      "2it [00:00, 15.31it/s]\n",
      "1it [00:00, 16.90it/s]\n",
      "5it [00:00, 14.74it/s]\n",
      "4it [00:00, 15.35it/s]\n",
      "2it [00:00, 16.09it/s]\n",
      "2it [00:00, 16.34it/s]\n",
      "5it [00:00, 16.30it/s]\n",
      "4it [00:00, 16.33it/s]\n",
      "2it [00:00, 16.65it/s]\n",
      "1it [00:00, 14.24it/s]\n",
      "5it [00:00, 15.47it/s]\n",
      "2it [00:00, 15.22it/s]\n",
      "1it [00:00, 16.76it/s]\n",
      "2it [00:00, 17.51it/s]\n",
      "2it [00:00, 16.65it/s]\n",
      "1it [00:00, 15.88it/s]\n",
      "1it [00:00, 17.47it/s]\n",
      "2it [00:00, 18.44it/s]\n",
      "1it [00:00, 16.03it/s]\n",
      "1it [00:00, 10.74it/s]\n",
      "2it [00:00, 16.76it/s]\n",
      "1it [00:00, 16.24it/s]\n",
      "5it [00:00, 15.37it/s]\n",
      "3it [00:00, 14.72it/s]\n",
      "1it [00:00, 16.89it/s]\n",
      "1it [00:00, 17.41it/s]\n",
      "1it [00:00, 17.18it/s]\n",
      "2it [00:00, 16.85it/s]\n",
      "4it [00:00, 15.29it/s]\n",
      "0it [00:00, ?it/s]"
     ]
    },
    {
     "name": "stdout",
     "output_type": "stream",
     "text": [
      "64 epoch 72 iter loss val 5.499014854431152\n"
     ]
    },
    {
     "name": "stderr",
     "output_type": "stream",
     "text": [
      "5it [00:00, 14.53it/s]\n",
      "1it [00:00, 15.47it/s]\n",
      "2it [00:00, 17.07it/s]\n",
      "1it [00:00, 16.06it/s]\n",
      "1it [00:00, 16.35it/s]\n",
      "4it [00:00, 15.64it/s]\n",
      "5it [00:00, 13.92it/s]\n",
      "2it [00:00, 17.65it/s]\n",
      "2it [00:00, 15.95it/s]\n",
      "1it [00:00, 15.55it/s]\n",
      "2it [00:00, 17.32it/s]\n",
      "5it [00:00, 13.19it/s]\n",
      "4it [00:00, 15.88it/s]\n",
      "2it [00:00, 15.40it/s]\n",
      "1it [00:00, 16.70it/s]\n",
      "4it [00:00, 16.79it/s]\n",
      "5it [00:00, 16.68it/s]\n",
      "1it [00:00, 15.82it/s]\n",
      "2it [00:00, 17.86it/s]\n",
      "2it [00:00, 16.73it/s]\n",
      "1it [00:00, 14.90it/s]\n",
      "4it [00:00, 11.97it/s]\n",
      "2it [00:00, 17.17it/s]\n",
      "1it [00:00, 14.89it/s]\n",
      "1it [00:00, 16.70it/s]\n",
      "1it [00:00, 14.34it/s]\n",
      "2it [00:00, 17.32it/s]\n",
      "1it [00:00, 16.56it/s]\n",
      "3it [00:00, 16.46it/s]\n",
      "2it [00:00, 16.92it/s]\n",
      "2it [00:00, 16.41it/s]\n",
      "0it [00:00, ?it/s]"
     ]
    },
    {
     "name": "stdout",
     "output_type": "stream",
     "text": [
      "65 epoch 72 iter loss val 5.467538833618164\n"
     ]
    },
    {
     "name": "stderr",
     "output_type": "stream",
     "text": [
      "5it [00:00, 14.58it/s]\n",
      "1it [00:00, 13.00it/s]\n",
      "2it [00:00, 15.83it/s]\n",
      "4it [00:00, 17.42it/s]\n",
      "1it [00:00, 15.45it/s]\n",
      "1it [00:00, 14.79it/s]\n",
      "5it [00:00, 11.83it/s]\n",
      "1it [00:00, 15.18it/s]\n",
      "2it [00:00, 13.61it/s]\n",
      "1it [00:00, 10.45it/s]\n",
      "4it [00:00, 15.01it/s]\n",
      "1it [00:00, 16.82it/s]\n",
      "2it [00:00, 17.10it/s]\n",
      "2it [00:00, 16.24it/s]\n",
      "2it [00:00, 16.71it/s]\n",
      "1it [00:00, 17.15it/s]\n",
      "2it [00:00, 17.72it/s]\n",
      "4it [00:00, 12.77it/s]\n",
      "1it [00:00, 17.00it/s]\n",
      "3it [00:00, 16.57it/s]\n",
      "1it [00:00, 15.08it/s]\n",
      "2it [00:00, 17.27it/s]\n",
      "2it [00:00, 18.20it/s]\n",
      "2it [00:00, 16.73it/s]\n",
      "5it [00:00, 15.12it/s]\n",
      "5it [00:00, 14.40it/s]\n",
      "1it [00:00, 16.76it/s]\n",
      "1it [00:00, 17.18it/s]\n",
      "2it [00:00, 16.61it/s]\n",
      "2it [00:00, 16.28it/s]\n",
      "4it [00:00, 16.88it/s]\n",
      "1it [00:00, 12.30it/s]\n",
      "0it [00:00, ?it/s]"
     ]
    },
    {
     "name": "stdout",
     "output_type": "stream",
     "text": [
      "66 epoch 72 iter loss val 5.532889366149902\n"
     ]
    },
    {
     "name": "stderr",
     "output_type": "stream",
     "text": [
      "1it [00:00, 14.68it/s]\n",
      "1it [00:00, 10.27it/s]\n",
      "2it [00:00, 15.12it/s]\n",
      "2it [00:00, 13.64it/s]\n",
      "2it [00:00, 14.02it/s]\n",
      "1it [00:00, 13.54it/s]\n",
      "2it [00:00,  8.39it/s]\n",
      "1it [00:00, 16.36it/s]\n",
      "2it [00:00, 14.63it/s]\n",
      "1it [00:00, 13.44it/s]\n",
      "2it [00:00, 16.21it/s]\n",
      "5it [00:00, 15.04it/s]\n",
      "1it [00:00, 16.41it/s]\n",
      "1it [00:00, 16.85it/s]\n",
      "5it [00:00, 15.96it/s]\n",
      "2it [00:00, 16.39it/s]\n",
      "1it [00:00, 15.23it/s]\n",
      "5it [00:00, 16.60it/s]\n",
      "2it [00:00, 18.02it/s]\n",
      "5it [00:00, 13.64it/s]\n",
      "2it [00:00, 17.18it/s]\n",
      "4it [00:00, 15.33it/s]\n",
      "3it [00:00, 10.94it/s]\n",
      "4it [00:00, 15.57it/s]\n",
      "1it [00:00, 15.77it/s]\n",
      "4it [00:00, 16.38it/s]\n",
      "2it [00:00, 16.95it/s]\n",
      "1it [00:00, 16.43it/s]\n",
      "2it [00:00, 16.40it/s]\n",
      "4it [00:00, 12.86it/s]\n",
      "0it [00:00, ?it/s]"
     ]
    },
    {
     "name": "stdout",
     "output_type": "stream",
     "text": [
      "67 epoch 72 iter loss val 5.286618232727051\n"
     ]
    },
    {
     "name": "stderr",
     "output_type": "stream",
     "text": [
      "2it [00:00,  8.79it/s]\n",
      "1it [00:00, 14.85it/s]\n",
      "2it [00:00, 16.17it/s]\n",
      "4it [00:00, 15.67it/s]\n",
      "1it [00:00, 15.43it/s]\n",
      "2it [00:00, 14.89it/s]\n",
      "5it [00:00,  9.72it/s]\n",
      "1it [00:00, 15.53it/s]\n",
      "5it [00:00, 13.81it/s]\n",
      "4it [00:00, 17.10it/s]\n",
      "1it [00:00, 14.86it/s]\n",
      "1it [00:00, 14.29it/s]\n",
      "2it [00:00, 14.91it/s]\n",
      "4it [00:00, 15.75it/s]\n",
      "1it [00:00, 15.15it/s]\n",
      "2it [00:00, 17.58it/s]\n",
      "2it [00:00, 16.20it/s]\n",
      "1it [00:00, 15.69it/s]\n",
      "1it [00:00, 16.47it/s]\n",
      "2it [00:00, 15.85it/s]\n",
      "3it [00:00, 13.91it/s]\n",
      "1it [00:00, 16.74it/s]\n",
      "5it [00:00, 15.69it/s]\n",
      "2it [00:00, 17.34it/s]\n",
      "2it [00:00,  5.77it/s]\n",
      "5it [00:00, 14.37it/s]\n",
      "1it [00:00, 16.89it/s]\n",
      "1it [00:00, 19.29it/s]\n",
      "2it [00:00, 17.17it/s]\n",
      "4it [00:00, 15.60it/s]\n",
      "2it [00:00, 16.69it/s]\n",
      "0it [00:00, ?it/s]"
     ]
    },
    {
     "name": "stdout",
     "output_type": "stream",
     "text": [
      "68 epoch 72 iter loss val 5.463130474090576\n"
     ]
    },
    {
     "name": "stderr",
     "output_type": "stream",
     "text": [
      "2it [00:00, 13.61it/s]\n",
      "2it [00:00, 16.63it/s]\n",
      "4it [00:00, 12.62it/s]\n",
      "1it [00:00, 15.17it/s]\n",
      "4it [00:00, 13.62it/s]\n",
      "2it [00:00, 17.25it/s]\n",
      "2it [00:00, 15.99it/s]\n",
      "1it [00:00, 14.91it/s]\n",
      "1it [00:00, 16.40it/s]\n",
      "4it [00:00, 15.43it/s]\n",
      "2it [00:00, 15.91it/s]\n",
      "1it [00:00, 15.98it/s]\n",
      "4it [00:00, 14.08it/s]\n",
      "3it [00:00, 16.80it/s]\n",
      "1it [00:00, 16.67it/s]\n",
      "2it [00:00, 17.51it/s]\n",
      "1it [00:00, 15.44it/s]\n",
      "2it [00:00, 16.84it/s]\n",
      "2it [00:00, 17.77it/s]\n",
      "2it [00:00, 17.38it/s]\n",
      "5it [00:00, 11.37it/s]\n",
      "1it [00:00, 14.76it/s]\n",
      "1it [00:00, 13.98it/s]\n",
      "5it [00:00, 14.24it/s]\n",
      "5it [00:00, 15.00it/s]\n",
      "1it [00:00, 15.36it/s]\n",
      "2it [00:00, 15.25it/s]\n",
      "2it [00:00, 13.83it/s]\n",
      "1it [00:00, 14.47it/s]\n",
      "5it [00:00, 14.30it/s]\n",
      "1it [00:00, 16.33it/s]\n",
      "2it [00:00, 14.63it/s]"
     ]
    },
    {
     "name": "stdout",
     "output_type": "stream",
     "text": [
      "69 epoch 72 iter loss val 5.416332721710205\n"
     ]
    },
    {
     "name": "stderr",
     "output_type": "stream",
     "text": [
      "\n",
      "4it [00:00, 10.96it/s]\n",
      "2it [00:00, 16.94it/s]\n",
      "2it [00:00, 16.28it/s]\n",
      "5it [00:00, 14.43it/s]\n",
      "2it [00:00, 16.99it/s]\n",
      "4it [00:00, 16.11it/s]\n",
      "1it [00:00, 17.03it/s]\n",
      "1it [00:00, 14.14it/s]\n",
      "5it [00:00, 12.89it/s]\n",
      "1it [00:00, 17.74it/s]\n",
      "2it [00:00, 16.42it/s]\n",
      "1it [00:00, 15.24it/s]\n",
      "5it [00:00, 15.27it/s]\n",
      "5it [00:00, 15.54it/s]\n",
      "1it [00:00, 16.59it/s]\n",
      "4it [00:00, 15.77it/s]\n",
      "1it [00:00, 15.38it/s]\n",
      "2it [00:00,  8.78it/s]\n",
      "4it [00:00, 16.43it/s]\n",
      "1it [00:00, 15.95it/s]\n",
      "2it [00:00, 17.67it/s]\n",
      "2it [00:00, 17.64it/s]\n",
      "1it [00:00, 16.15it/s]\n",
      "1it [00:00, 16.61it/s]\n",
      "3it [00:00, 17.69it/s]\n",
      "2it [00:00, 18.83it/s]\n",
      "2it [00:00, 17.94it/s]\n",
      "2it [00:00, 17.16it/s]\n",
      "1it [00:00, 16.18it/s]\n",
      "1it [00:00, 16.87it/s]\n",
      "1it [00:00,  9.81it/s]"
     ]
    },
    {
     "name": "stdout",
     "output_type": "stream",
     "text": [
      "70 epoch 72 iter loss val 5.440937042236328\n"
     ]
    },
    {
     "name": "stderr",
     "output_type": "stream",
     "text": [
      "4it [00:00, 12.17it/s]\n",
      "2it [00:00, 16.39it/s]\n",
      "2it [00:00, 16.25it/s]\n",
      "2it [00:00, 16.79it/s]\n",
      "1it [00:00, 16.37it/s]\n",
      "2it [00:00, 17.16it/s]\n",
      "1it [00:00, 11.82it/s]\n",
      "1it [00:00, 15.94it/s]\n",
      "2it [00:00, 16.73it/s]\n",
      "1it [00:00, 14.82it/s]\n",
      "2it [00:00, 15.93it/s]\n",
      "1it [00:00, 15.41it/s]\n",
      "2it [00:00,  9.09it/s]\n",
      "5it [00:00, 14.34it/s]\n",
      "4it [00:00, 17.39it/s]\n",
      "1it [00:00, 16.93it/s]\n",
      "3it [00:00, 16.84it/s]\n",
      "5it [00:00, 15.05it/s]\n",
      "2it [00:00, 17.03it/s]\n",
      "1it [00:00, 16.47it/s]\n",
      "1it [00:00, 16.45it/s]\n",
      "1it [00:00, 16.60it/s]\n",
      "1it [00:00, 16.40it/s]\n",
      "1it [00:00, 16.41it/s]\n",
      "2it [00:00, 17.21it/s]\n",
      "4it [00:00, 15.04it/s]\n",
      "5it [00:00, 12.27it/s]\n",
      "2it [00:00, 17.22it/s]\n",
      "5it [00:00, 16.11it/s]\n",
      "4it [00:00, 13.48it/s]\n",
      "2it [00:00, 17.56it/s]\n",
      "1it [00:00, 11.68it/s]\n",
      "0it [00:00, ?it/s]"
     ]
    },
    {
     "name": "stdout",
     "output_type": "stream",
     "text": [
      "71 epoch 72 iter loss val 5.442393779754639\n"
     ]
    },
    {
     "name": "stderr",
     "output_type": "stream",
     "text": [
      "1it [00:00,  2.14it/s]\n",
      "2it [00:00, 15.86it/s]\n",
      "2it [00:00, 16.21it/s]\n",
      "5it [00:00, 14.46it/s]\n",
      "4it [00:00, 14.92it/s]\n",
      "1it [00:00, 16.62it/s]\n",
      "4it [00:00, 14.91it/s]\n",
      "1it [00:00, 16.96it/s]\n",
      "2it [00:00, 15.68it/s]\n",
      "2it [00:00, 16.85it/s]\n",
      "1it [00:00, 15.82it/s]\n",
      "1it [00:00, 16.52it/s]\n",
      "3it [00:00, 15.11it/s]\n",
      "2it [00:00, 12.69it/s]\n",
      "4it [00:00, 16.71it/s]\n",
      "2it [00:00, 16.34it/s]\n",
      "1it [00:00, 14.82it/s]\n",
      "5it [00:00, 16.43it/s]\n",
      "2it [00:00, 18.19it/s]\n",
      "2it [00:00, 18.30it/s]\n",
      "5it [00:00, 16.24it/s]\n",
      "2it [00:00,  9.66it/s]\n",
      "1it [00:00, 16.84it/s]\n",
      "1it [00:00, 16.30it/s]\n",
      "1it [00:00, 13.75it/s]\n",
      "4it [00:00, 16.47it/s]\n",
      "1it [00:00, 17.61it/s]\n",
      "5it [00:00, 14.70it/s]\n",
      "2it [00:00, 17.63it/s]\n",
      "2it [00:00, 17.29it/s]\n",
      "1it [00:00, 11.68it/s]\n",
      "0it [00:00, ?it/s]"
     ]
    },
    {
     "name": "stdout",
     "output_type": "stream",
     "text": [
      "72 epoch 72 iter loss val 5.463196277618408\n"
     ]
    },
    {
     "name": "stderr",
     "output_type": "stream",
     "text": [
      "2it [00:00, 13.94it/s]\n",
      "1it [00:00,  9.62it/s]\n",
      "4it [00:00, 14.18it/s]\n",
      "4it [00:00, 11.64it/s]\n",
      "2it [00:00, 16.97it/s]\n",
      "2it [00:00, 15.97it/s]\n",
      "2it [00:00, 15.89it/s]\n",
      "1it [00:00, 16.31it/s]\n",
      "2it [00:00, 16.69it/s]\n",
      "1it [00:00, 16.43it/s]\n",
      "5it [00:00, 15.03it/s]\n",
      "5it [00:00, 16.08it/s]\n",
      "5it [00:00, 15.23it/s]\n",
      "2it [00:00, 18.39it/s]\n",
      "1it [00:00, 16.84it/s]\n",
      "2it [00:00, 17.00it/s]\n",
      "2it [00:00, 17.13it/s]\n",
      "5it [00:00, 16.21it/s]\n",
      "2it [00:00, 16.80it/s]\n",
      "4it [00:00, 16.35it/s]\n",
      "3it [00:00, 16.53it/s]\n",
      "2it [00:00, 17.71it/s]\n",
      "4it [00:00, 14.84it/s]\n",
      "1it [00:00, 15.93it/s]\n",
      "1it [00:00, 17.03it/s]\n",
      "1it [00:00, 15.36it/s]\n",
      "1it [00:00, 16.90it/s]\n",
      "1it [00:00, 16.20it/s]\n",
      "1it [00:00, 16.34it/s]\n",
      "2it [00:00, 18.24it/s]\n",
      "1it [00:00, 13.17it/s]\n",
      "0it [00:00, ?it/s]"
     ]
    },
    {
     "name": "stdout",
     "output_type": "stream",
     "text": [
      "73 epoch 72 iter loss val 5.336115837097168\n"
     ]
    },
    {
     "name": "stderr",
     "output_type": "stream",
     "text": [
      "2it [00:00, 15.44it/s]\n",
      "4it [00:00,  6.07it/s]\n",
      "3it [00:00, 13.12it/s]\n",
      "2it [00:00, 18.35it/s]\n",
      "4it [00:00, 14.86it/s]\n",
      "2it [00:00, 16.27it/s]\n",
      "2it [00:00, 14.09it/s]\n",
      "2it [00:00, 17.80it/s]\n",
      "2it [00:00, 16.95it/s]\n",
      "5it [00:00, 15.00it/s]\n",
      "5it [00:00, 13.29it/s]\n",
      "2it [00:00, 17.38it/s]\n",
      "4it [00:00, 15.47it/s]\n",
      "5it [00:00, 14.47it/s]\n",
      "1it [00:00, 16.52it/s]\n",
      "1it [00:00, 15.59it/s]\n",
      "5it [00:00, 14.99it/s]\n",
      "2it [00:00, 11.30it/s]\n",
      "1it [00:00, 16.76it/s]\n",
      "1it [00:00, 15.46it/s]\n",
      "1it [00:00, 16.44it/s]\n",
      "1it [00:00, 14.97it/s]\n",
      "1it [00:00, 15.74it/s]\n",
      "2it [00:00, 17.51it/s]\n",
      "4it [00:00, 15.39it/s]\n",
      "2it [00:00, 13.58it/s]\n",
      "1it [00:00, 15.91it/s]\n",
      "2it [00:00, 17.53it/s]\n",
      "1it [00:00, 16.21it/s]\n",
      "1it [00:00, 16.24it/s]\n",
      "1it [00:00, 13.04it/s]\n",
      "1it [00:00, 14.92it/s]"
     ]
    },
    {
     "name": "stdout",
     "output_type": "stream",
     "text": [
      "74 epoch 72 iter loss val 5.447953701019287\n"
     ]
    },
    {
     "name": "stderr",
     "output_type": "stream",
     "text": [
      "\n",
      "5it [00:00, 14.63it/s]\n",
      "1it [00:00, 16.96it/s]\n",
      "1it [00:00, 15.33it/s]\n",
      "1it [00:00, 16.02it/s]\n",
      "2it [00:00, 15.05it/s]\n",
      "5it [00:00, 13.08it/s]\n",
      "4it [00:00, 15.00it/s]\n",
      "1it [00:00, 11.41it/s]\n",
      "2it [00:00, 16.70it/s]\n",
      "2it [00:00, 19.36it/s]\n",
      "4it [00:00, 16.61it/s]\n",
      "1it [00:00, 17.28it/s]\n",
      "4it [00:00, 16.90it/s]\n",
      "2it [00:00, 10.87it/s]\n",
      "1it [00:00, 18.32it/s]\n",
      "5it [00:00, 15.50it/s]\n",
      "2it [00:00, 17.99it/s]\n",
      "2it [00:00, 12.81it/s]\n",
      "1it [00:00, 11.79it/s]\n",
      "2it [00:00, 18.93it/s]\n",
      "2it [00:00, 18.24it/s]\n",
      "5it [00:00, 14.64it/s]\n",
      "2it [00:00, 15.57it/s]\n",
      "2it [00:00, 12.64it/s]\n",
      "3it [00:00, 18.60it/s]\n",
      "1it [00:00, 17.03it/s]\n",
      "2it [00:00, 17.86it/s]\n",
      "1it [00:00, 17.40it/s]\n",
      "4it [00:00, 15.59it/s]\n",
      "2it [00:00, 14.77it/s]"
     ]
    },
    {
     "name": "stdout",
     "output_type": "stream",
     "text": [
      "75 epoch 72 iter loss val 5.532888889312744\n"
     ]
    },
    {
     "name": "stderr",
     "output_type": "stream",
     "text": [
      "\n",
      "4it [00:00, 13.18it/s]\n",
      "2it [00:00, 16.78it/s]\n",
      "2it [00:00, 16.11it/s]\n",
      "4it [00:00, 14.46it/s]\n",
      "3it [00:00, 16.56it/s]\n",
      "1it [00:00, 15.03it/s]\n",
      "1it [00:00, 10.03it/s]\n",
      "4it [00:00, 16.04it/s]\n",
      "1it [00:00, 15.50it/s]\n",
      "5it [00:00, 14.49it/s]\n",
      "1it [00:00, 16.87it/s]\n",
      "1it [00:00, 16.10it/s]\n",
      "1it [00:00, 16.22it/s]\n",
      "5it [00:00, 13.94it/s]\n",
      "1it [00:00, 17.66it/s]\n",
      "1it [00:00, 18.54it/s]\n",
      "2it [00:00, 18.60it/s]\n",
      "5it [00:00, 16.13it/s]\n",
      "2it [00:00, 16.72it/s]\n",
      "2it [00:00, 16.53it/s]\n",
      "1it [00:00, 15.87it/s]\n",
      "2it [00:00, 15.00it/s]\n",
      "2it [00:00, 19.17it/s]\n",
      "1it [00:00, 18.72it/s]\n",
      "5it [00:00, 16.47it/s]\n",
      "2it [00:00, 13.30it/s]\n",
      "4it [00:00, 17.67it/s]\n",
      "1it [00:00, 17.60it/s]\n",
      "2it [00:00, 19.47it/s]\n",
      "2it [00:00, 17.98it/s]\n",
      "0it [00:00, ?it/s]"
     ]
    },
    {
     "name": "stdout",
     "output_type": "stream",
     "text": [
      "76 epoch 72 iter loss val 5.461650848388672\n"
     ]
    },
    {
     "name": "stderr",
     "output_type": "stream",
     "text": [
      "2it [00:00, 13.15it/s]\n",
      "1it [00:00, 10.04it/s]\n",
      "2it [00:00, 15.91it/s]\n",
      "1it [00:00, 15.48it/s]\n",
      "2it [00:00, 16.01it/s]\n",
      "4it [00:00, 13.58it/s]\n",
      "1it [00:00, 12.72it/s]\n",
      "1it [00:00, 17.84it/s]\n",
      "4it [00:00, 15.95it/s]\n",
      "4it [00:00, 14.15it/s]\n",
      "2it [00:00, 16.42it/s]\n",
      "5it [00:00, 13.73it/s]\n",
      "3it [00:00, 16.79it/s]\n",
      "2it [00:00, 16.57it/s]\n",
      "1it [00:00, 11.55it/s]\n",
      "5it [00:00, 15.35it/s]\n",
      "2it [00:00, 17.88it/s]\n",
      "2it [00:00, 17.11it/s]\n",
      "1it [00:00, 17.49it/s]\n",
      "5it [00:00,  7.67it/s]\n",
      "1it [00:00, 16.74it/s]\n",
      "2it [00:00, 16.04it/s]\n",
      "4it [00:00, 15.93it/s]\n",
      "1it [00:00, 16.38it/s]\n",
      "1it [00:00, 16.08it/s]\n",
      "2it [00:00, 17.20it/s]\n",
      "1it [00:00, 17.47it/s]\n",
      "5it [00:00, 13.97it/s]\n",
      "1it [00:00, 18.44it/s]\n",
      "2it [00:00, 16.29it/s]\n",
      "2it [00:00, 17.95it/s]\n",
      "1it [00:00, 12.50it/s]\n",
      "0it [00:00, ?it/s]"
     ]
    },
    {
     "name": "stdout",
     "output_type": "stream",
     "text": [
      "77 epoch 72 iter loss val 5.466989517211914\n"
     ]
    },
    {
     "name": "stderr",
     "output_type": "stream",
     "text": [
      "1it [00:00, 14.86it/s]\n",
      "4it [00:00,  9.94it/s]\n",
      "1it [00:00, 14.36it/s]\n",
      "1it [00:00, 15.37it/s]\n",
      "2it [00:00, 14.09it/s]\n",
      "2it [00:00, 12.25it/s]\n",
      "1it [00:00, 15.29it/s]\n",
      "1it [00:00, 16.05it/s]\n",
      "1it [00:00, 16.37it/s]\n",
      "1it [00:00, 14.41it/s]\n",
      "2it [00:00, 15.66it/s]\n",
      "2it [00:00, 15.19it/s]\n",
      "2it [00:00, 13.77it/s]\n",
      "3it [00:00, 13.33it/s]\n",
      "2it [00:00, 16.63it/s]\n",
      "2it [00:00, 16.18it/s]\n",
      "5it [00:00, 12.39it/s]\n",
      "4it [00:00, 17.70it/s]\n",
      "4it [00:00, 17.52it/s]\n",
      "5it [00:00, 14.74it/s]\n",
      "1it [00:00, 16.21it/s]\n",
      "5it [00:00, 15.28it/s]\n",
      "1it [00:00, 15.64it/s]\n",
      "2it [00:00, 16.66it/s]\n",
      "4it [00:00, 12.65it/s]\n",
      "1it [00:00, 17.10it/s]\n",
      "2it [00:00, 17.88it/s]\n",
      "2it [00:00, 16.81it/s]\n",
      "2it [00:00, 15.78it/s]\n",
      "5it [00:00, 17.95it/s]\n",
      "1it [00:00, 12.26it/s]\n",
      "0it [00:00, ?it/s]"
     ]
    },
    {
     "name": "stdout",
     "output_type": "stream",
     "text": [
      "78 epoch 72 iter loss val 5.545177459716797\n"
     ]
    },
    {
     "name": "stderr",
     "output_type": "stream",
     "text": [
      "4it [00:00, 13.35it/s]\n",
      "2it [00:00, 15.79it/s]\n",
      "2it [00:00, 16.92it/s]\n",
      "4it [00:00, 15.36it/s]\n",
      "1it [00:00, 13.02it/s]\n",
      "1it [00:00, 12.86it/s]\n",
      "2it [00:00,  8.27it/s]\n",
      "2it [00:00, 15.54it/s]\n",
      "5it [00:00, 14.73it/s]\n",
      "2it [00:00, 16.88it/s]\n",
      "1it [00:00, 16.49it/s]\n",
      "1it [00:00, 13.97it/s]\n",
      "4it [00:00, 14.56it/s]\n",
      "1it [00:00, 13.51it/s]\n",
      "1it [00:00, 11.49it/s]\n",
      "2it [00:00, 17.85it/s]\n",
      "3it [00:00, 15.70it/s]\n",
      "4it [00:00, 15.72it/s]\n",
      "2it [00:00, 17.32it/s]\n",
      "2it [00:00, 17.63it/s]\n",
      "2it [00:00, 14.12it/s]\n",
      "1it [00:00, 16.74it/s]\n",
      "1it [00:00, 17.09it/s]\n",
      "1it [00:00, 18.46it/s]\n",
      "2it [00:00, 16.23it/s]\n",
      "2it [00:00, 17.29it/s]\n",
      "5it [00:00, 16.15it/s]\n",
      "1it [00:00, 16.56it/s]\n",
      "5it [00:00, 15.73it/s]\n",
      "5it [00:00, 16.04it/s]\n",
      "0it [00:00, ?it/s]"
     ]
    },
    {
     "name": "stdout",
     "output_type": "stream",
     "text": [
      "79 epoch 72 iter loss val 5.545177459716797\n"
     ]
    },
    {
     "name": "stderr",
     "output_type": "stream",
     "text": [
      "2it [00:00, 13.40it/s]\n",
      "1it [00:00, 10.69it/s]\n",
      "4it [00:00, 14.25it/s]\n",
      "2it [00:00, 13.08it/s]\n",
      "4it [00:00, 12.76it/s]\n",
      "1it [00:00, 15.01it/s]\n",
      "2it [00:00, 16.25it/s]\n",
      "2it [00:00, 15.86it/s]\n",
      "1it [00:00, 14.31it/s]\n",
      "2it [00:00, 15.18it/s]\n",
      "3it [00:00, 13.55it/s]\n",
      "1it [00:00, 15.95it/s]\n",
      "4it [00:00, 16.50it/s]\n",
      "1it [00:00, 15.73it/s]\n",
      "1it [00:00, 16.31it/s]\n",
      "1it [00:00, 16.29it/s]\n",
      "5it [00:00, 14.33it/s]\n",
      "2it [00:00, 16.45it/s]\n",
      "4it [00:00, 15.31it/s]\n",
      "1it [00:00, 15.72it/s]\n",
      "1it [00:00, 10.90it/s]\n",
      "2it [00:00, 17.26it/s]\n",
      "1it [00:00, 16.68it/s]\n",
      "2it [00:00, 17.36it/s]\n",
      "5it [00:00, 17.12it/s]\n",
      "2it [00:00,  9.42it/s]\n",
      "5it [00:00, 16.03it/s]\n",
      "1it [00:00, 15.35it/s]\n",
      "2it [00:00, 16.42it/s]\n",
      "5it [00:00, 15.59it/s]\n",
      "2it [00:00, 19.53it/s]\n",
      "1it [00:00,  7.47it/s]"
     ]
    },
    {
     "name": "stdout",
     "output_type": "stream",
     "text": [
      "80 epoch 72 iter loss val 5.398906230926514\n"
     ]
    },
    {
     "name": "stderr",
     "output_type": "stream",
     "text": [
      "2it [00:00,  9.42it/s]\n",
      "4it [00:00, 13.50it/s]\n",
      "2it [00:00, 15.79it/s]\n",
      "1it [00:00, 15.62it/s]\n",
      "1it [00:00, 15.75it/s]\n",
      "2it [00:00, 15.55it/s]\n",
      "1it [00:00, 15.17it/s]\n",
      "5it [00:00, 14.53it/s]\n",
      "1it [00:00, 15.04it/s]\n",
      "2it [00:00, 14.70it/s]\n",
      "5it [00:00, 15.31it/s]\n",
      "2it [00:00, 16.14it/s]\n",
      "5it [00:00, 14.37it/s]\n",
      "2it [00:00, 18.57it/s]\n",
      "1it [00:00, 16.02it/s]\n",
      "5it [00:00, 15.18it/s]\n",
      "1it [00:00, 15.99it/s]\n",
      "1it [00:00, 17.14it/s]\n",
      "4it [00:00, 16.95it/s]\n",
      "2it [00:00, 16.24it/s]\n",
      "4it [00:00, 16.23it/s]\n",
      "1it [00:00, 15.35it/s]\n",
      "1it [00:00, 10.21it/s]\n",
      "3it [00:00, 17.72it/s]\n",
      "2it [00:00, 16.94it/s]\n",
      "1it [00:00, 16.29it/s]\n",
      "2it [00:00, 18.67it/s]\n",
      "2it [00:00, 18.47it/s]\n",
      "2it [00:00, 17.05it/s]\n",
      "4it [00:00, 17.79it/s]\n",
      "1it [00:00, 18.40it/s]\n",
      "0it [00:00, ?it/s]"
     ]
    },
    {
     "name": "stdout",
     "output_type": "stream",
     "text": [
      "81 epoch 72 iter loss val 5.4449357986450195\n"
     ]
    },
    {
     "name": "stderr",
     "output_type": "stream",
     "text": [
      "4it [00:00,  9.14it/s]\n",
      "2it [00:00, 14.04it/s]\n",
      "1it [00:00, 16.78it/s]\n",
      "1it [00:00, 15.78it/s]\n",
      "1it [00:00, 15.11it/s]\n",
      "2it [00:00, 15.31it/s]\n",
      "1it [00:00, 15.35it/s]\n",
      "5it [00:00, 13.64it/s]\n",
      "2it [00:00, 16.37it/s]\n",
      "2it [00:00, 16.22it/s]\n",
      "2it [00:00, 17.22it/s]\n",
      "2it [00:00,  9.55it/s]\n",
      "2it [00:00, 16.41it/s]\n",
      "2it [00:00, 16.77it/s]\n",
      "3it [00:00, 16.77it/s]\n",
      "5it [00:00, 14.13it/s]\n",
      "4it [00:00, 15.35it/s]\n",
      "1it [00:00, 16.19it/s]\n",
      "4it [00:00, 13.90it/s]\n",
      "4it [00:00, 16.45it/s]\n",
      "1it [00:00, 16.09it/s]\n",
      "1it [00:00, 15.78it/s]\n",
      "5it [00:00, 14.69it/s]\n",
      "2it [00:00, 19.62it/s]\n",
      "2it [00:00, 17.04it/s]\n",
      "2it [00:00, 18.27it/s]\n",
      "1it [00:00, 16.33it/s]\n",
      "1it [00:00, 17.29it/s]\n",
      "1it [00:00, 17.08it/s]\n",
      "5it [00:00, 16.02it/s]\n",
      "1it [00:00, 15.32it/s]\n",
      "1it [00:00, 12.80it/s]\n",
      "0it [00:00, ?it/s]"
     ]
    },
    {
     "name": "stdout",
     "output_type": "stream",
     "text": [
      "82 epoch 72 iter loss val 5.451205253601074\n"
     ]
    },
    {
     "name": "stderr",
     "output_type": "stream",
     "text": [
      "2it [00:00, 13.36it/s]\n",
      "1it [00:00, 10.30it/s]\n",
      "1it [00:00, 16.80it/s]\n",
      "2it [00:00, 16.14it/s]\n",
      "1it [00:00, 15.49it/s]\n",
      "4it [00:00, 16.25it/s]\n",
      "2it [00:00, 15.68it/s]\n",
      "5it [00:00, 14.90it/s]\n",
      "2it [00:00, 15.82it/s]\n",
      "4it [00:00, 16.80it/s]\n",
      "4it [00:00, 12.69it/s]\n",
      "1it [00:00, 17.65it/s]\n",
      "2it [00:00, 18.34it/s]\n",
      "2it [00:00, 16.78it/s]\n",
      "5it [00:00, 15.61it/s]\n",
      "1it [00:00, 17.07it/s]\n",
      "3it [00:00, 18.19it/s]\n",
      "2it [00:00, 16.84it/s]\n",
      "2it [00:00, 18.78it/s]\n",
      "1it [00:00, 16.58it/s]\n",
      "4it [00:00, 16.03it/s]\n",
      "1it [00:00, 16.03it/s]\n",
      "5it [00:00, 16.32it/s]\n",
      "2it [00:00, 17.34it/s]\n",
      "1it [00:00, 14.97it/s]\n",
      "1it [00:00, 15.31it/s]\n",
      "2it [00:00, 17.79it/s]\n",
      "2it [00:00, 10.28it/s]\n",
      "1it [00:00, 18.01it/s]\n",
      "5it [00:00, 16.19it/s]\n",
      "1it [00:00, 13.59it/s]\n",
      "0it [00:00, ?it/s]"
     ]
    },
    {
     "name": "stdout",
     "output_type": "stream",
     "text": [
      "83 epoch 72 iter loss val 5.545177459716797\n"
     ]
    },
    {
     "name": "stderr",
     "output_type": "stream",
     "text": [
      "2it [00:00, 14.77it/s]\n",
      "5it [00:00, 15.36it/s]\n",
      "4it [00:00, 16.14it/s]\n",
      "1it [00:00, 11.36it/s]\n",
      "2it [00:00, 16.19it/s]\n",
      "2it [00:00, 16.12it/s]\n",
      "2it [00:00, 15.99it/s]\n",
      "3it [00:00, 16.19it/s]\n",
      "1it [00:00, 12.47it/s]\n",
      "2it [00:00, 12.94it/s]\n",
      "2it [00:00, 16.84it/s]\n",
      "1it [00:00, 15.83it/s]\n",
      "1it [00:00, 15.96it/s]\n",
      "2it [00:00, 16.68it/s]\n",
      "1it [00:00, 16.20it/s]\n",
      "1it [00:00, 15.93it/s]\n",
      "1it [00:00, 14.97it/s]\n",
      "1it [00:00, 15.36it/s]\n",
      "4it [00:00, 12.41it/s]\n",
      "2it [00:00, 18.96it/s]\n",
      "5it [00:00,  8.48it/s]\n",
      "1it [00:00, 17.14it/s]\n",
      "2it [00:00, 18.25it/s]\n",
      "2it [00:00, 17.05it/s]\n",
      "5it [00:00, 15.90it/s]\n",
      "4it [00:00, 15.25it/s]\n",
      "4it [00:00, 16.43it/s]\n",
      "1it [00:00, 16.47it/s]\n",
      "5it [00:00, 15.59it/s]\n",
      "2it [00:00, 17.87it/s]\n",
      "0it [00:00, ?it/s]"
     ]
    },
    {
     "name": "stdout",
     "output_type": "stream",
     "text": [
      "84 epoch 72 iter loss val 5.533690929412842\n"
     ]
    },
    {
     "name": "stderr",
     "output_type": "stream",
     "text": [
      "4it [00:00, 14.97it/s]\n",
      "2it [00:00, 12.98it/s]\n",
      "2it [00:00, 16.07it/s]\n",
      "2it [00:00, 15.67it/s]\n",
      "1it [00:00, 16.30it/s]\n",
      "4it [00:00, 13.56it/s]\n",
      "2it [00:00, 17.37it/s]\n",
      "4it [00:00, 16.83it/s]\n",
      "5it [00:00, 14.51it/s]\n",
      "1it [00:00, 16.82it/s]\n",
      "2it [00:00, 17.50it/s]\n",
      "5it [00:00, 15.14it/s]\n",
      "2it [00:00, 16.21it/s]\n",
      "5it [00:00, 12.69it/s]\n",
      "1it [00:00, 16.61it/s]\n",
      "1it [00:00, 16.36it/s]\n",
      "4it [00:00, 14.52it/s]\n",
      "2it [00:00, 19.26it/s]\n",
      "1it [00:00, 17.10it/s]\n",
      "1it [00:00, 16.76it/s]\n",
      "2it [00:00, 16.85it/s]\n",
      "2it [00:00, 16.97it/s]\n",
      "1it [00:00, 15.76it/s]\n",
      "5it [00:00, 14.98it/s]\n",
      "3it [00:00, 17.22it/s]\n",
      "2it [00:00, 16.61it/s]\n",
      "1it [00:00, 15.95it/s]\n",
      "1it [00:00, 16.63it/s]\n",
      "1it [00:00, 16.59it/s]\n",
      "1it [00:00, 15.65it/s]\n",
      "2it [00:00, 16.06it/s]\n",
      "0it [00:00, ?it/s]"
     ]
    },
    {
     "name": "stdout",
     "output_type": "stream",
     "text": [
      "85 epoch 72 iter loss val 5.463173866271973\n"
     ]
    },
    {
     "name": "stderr",
     "output_type": "stream",
     "text": [
      "2it [00:00, 14.39it/s]\n",
      "5it [00:00, 15.11it/s]\n",
      "2it [00:00, 16.22it/s]\n",
      "1it [00:00, 16.56it/s]\n",
      "1it [00:00, 15.56it/s]\n",
      "1it [00:00, 14.26it/s]\n",
      "5it [00:00,  6.98it/s]\n",
      "1it [00:00, 14.19it/s]\n",
      "1it [00:00, 16.43it/s]\n",
      "1it [00:00, 16.35it/s]\n",
      "5it [00:00, 15.80it/s]\n",
      "5it [00:00, 15.21it/s]\n",
      "2it [00:00, 17.08it/s]\n",
      "1it [00:00, 11.12it/s]\n",
      "2it [00:00, 13.45it/s]\n",
      "2it [00:00, 17.02it/s]\n",
      "4it [00:00, 16.35it/s]\n",
      "1it [00:00, 15.59it/s]\n",
      "1it [00:00, 18.57it/s]\n",
      "2it [00:00, 11.59it/s]\n",
      "1it [00:00, 17.19it/s]\n",
      "2it [00:00, 16.84it/s]\n",
      "2it [00:00, 17.56it/s]\n",
      "2it [00:00, 16.95it/s]\n",
      "3it [00:00, 17.77it/s]\n",
      "2it [00:00, 17.50it/s]\n",
      "4it [00:00, 15.31it/s]\n",
      "2it [00:00, 16.66it/s]\n",
      "4it [00:00, 16.63it/s]\n",
      "4it [00:00, 13.43it/s]\n",
      "1it [00:00, 16.65it/s]\n",
      "0it [00:00, ?it/s]"
     ]
    },
    {
     "name": "stdout",
     "output_type": "stream",
     "text": [
      "86 epoch 72 iter loss val 5.440584659576416\n"
     ]
    },
    {
     "name": "stderr",
     "output_type": "stream",
     "text": [
      "4it [00:00, 15.01it/s]\n",
      "2it [00:00, 12.72it/s]\n",
      "4it [00:00, 16.34it/s]\n",
      "2it [00:00, 15.19it/s]\n",
      "2it [00:00, 10.51it/s]\n",
      "1it [00:00, 16.41it/s]\n",
      "1it [00:00, 15.97it/s]\n",
      "1it [00:00, 15.25it/s]\n",
      "1it [00:00, 16.38it/s]\n",
      "5it [00:00, 15.05it/s]\n",
      "2it [00:00, 17.40it/s]\n",
      "2it [00:00, 12.51it/s]\n",
      "5it [00:00, 17.22it/s]\n",
      "4it [00:00, 17.43it/s]\n",
      "1it [00:00, 16.30it/s]\n",
      "2it [00:00, 17.42it/s]\n",
      "5it [00:00, 12.97it/s]\n",
      "1it [00:00, 15.81it/s]\n",
      "1it [00:00, 16.59it/s]\n",
      "1it [00:00, 10.17it/s]\n",
      "2it [00:00, 16.26it/s]\n",
      "2it [00:00, 17.29it/s]\n",
      "1it [00:00, 16.69it/s]\n",
      "2it [00:00, 17.46it/s]\n",
      "3it [00:00, 17.94it/s]\n",
      "2it [00:00, 17.62it/s]\n",
      "1it [00:00, 17.74it/s]\n",
      "5it [00:00, 14.43it/s]\n",
      "1it [00:00, 15.97it/s]\n",
      "2it [00:00, 16.68it/s]\n",
      "4it [00:00, 14.14it/s]\n",
      "0it [00:00, ?it/s]"
     ]
    },
    {
     "name": "stdout",
     "output_type": "stream",
     "text": [
      "87 epoch 72 iter loss val 5.532876014709473\n"
     ]
    },
    {
     "name": "stderr",
     "output_type": "stream",
     "text": [
      "2it [00:00,  3.67it/s]\n",
      "4it [00:00, 13.19it/s]\n",
      "2it [00:00, 16.87it/s]\n",
      "4it [00:00, 16.03it/s]\n",
      "1it [00:00, 16.06it/s]\n",
      "1it [00:00, 16.27it/s]\n",
      "1it [00:00, 14.57it/s]\n",
      "4it [00:00, 15.24it/s]\n",
      "2it [00:00, 19.34it/s]\n",
      "5it [00:00, 14.96it/s]\n",
      "1it [00:00, 15.35it/s]\n",
      "2it [00:00, 16.28it/s]\n",
      "2it [00:00, 14.06it/s]\n",
      "3it [00:00, 18.11it/s]\n",
      "4it [00:00, 15.02it/s]\n",
      "1it [00:00, 15.53it/s]\n",
      "2it [00:00, 16.03it/s]\n",
      "1it [00:00, 16.69it/s]\n",
      "1it [00:00, 17.15it/s]\n",
      "1it [00:00, 18.27it/s]\n",
      "5it [00:00, 14.78it/s]\n",
      "5it [00:00, 15.15it/s]\n",
      "2it [00:00, 17.92it/s]\n",
      "2it [00:00, 16.72it/s]\n",
      "2it [00:00, 18.39it/s]\n",
      "1it [00:00, 17.33it/s]\n",
      "2it [00:00, 17.45it/s]\n",
      "5it [00:00, 16.14it/s]\n",
      "1it [00:00, 17.51it/s]\n",
      "1it [00:00, 16.67it/s]\n",
      "2it [00:00, 16.83it/s]\n",
      "0it [00:00, ?it/s]"
     ]
    },
    {
     "name": "stdout",
     "output_type": "stream",
     "text": [
      "88 epoch 72 iter loss val 5.467513561248779\n"
     ]
    },
    {
     "name": "stderr",
     "output_type": "stream",
     "text": [
      "2it [00:00, 14.09it/s]\n",
      "1it [00:00, 14.28it/s]\n",
      "5it [00:00, 13.99it/s]\n",
      "1it [00:00, 15.57it/s]\n",
      "2it [00:00, 16.32it/s]\n",
      "1it [00:00, 15.56it/s]\n",
      "2it [00:00, 16.50it/s]\n",
      "2it [00:00, 16.73it/s]\n",
      "2it [00:00, 16.84it/s]\n",
      "1it [00:00, 15.82it/s]\n",
      "1it [00:00, 16.29it/s]\n",
      "5it [00:00, 15.62it/s]\n",
      "3it [00:00, 16.83it/s]\n",
      "1it [00:00, 10.20it/s]\n",
      "1it [00:00, 15.97it/s]\n",
      "5it [00:00, 15.92it/s]\n",
      "4it [00:00, 14.86it/s]\n",
      "1it [00:00,  7.71it/s]\n",
      "5it [00:00, 15.62it/s]\n",
      "4it [00:00, 17.27it/s]\n",
      "2it [00:00, 17.14it/s]\n",
      "2it [00:00, 16.76it/s]\n",
      "1it [00:00, 14.86it/s]\n",
      "2it [00:00, 17.53it/s]\n",
      "2it [00:00, 18.06it/s]\n",
      "4it [00:00, 15.37it/s]\n",
      "2it [00:00, 10.03it/s]\n",
      "1it [00:00, 17.07it/s]\n",
      "1it [00:00, 16.84it/s]\n",
      "4it [00:00, 17.04it/s]\n",
      "2it [00:00, 14.93it/s]\n",
      "0it [00:00, ?it/s]"
     ]
    },
    {
     "name": "stdout",
     "output_type": "stream",
     "text": [
      "89 epoch 72 iter loss val 5.466980934143066\n"
     ]
    },
    {
     "name": "stderr",
     "output_type": "stream",
     "text": [
      "5it [00:00, 13.09it/s]\n",
      "1it [00:00, 13.84it/s]\n",
      "5it [00:00, 14.74it/s]\n",
      "4it [00:00, 14.36it/s]\n",
      "4it [00:00, 15.79it/s]\n",
      "4it [00:00, 16.41it/s]\n",
      "1it [00:00, 15.82it/s]\n",
      "5it [00:00, 15.17it/s]\n",
      "2it [00:00, 16.95it/s]\n",
      "2it [00:00, 16.16it/s]\n",
      "1it [00:00, 15.50it/s]\n",
      "1it [00:00, 16.64it/s]\n",
      "1it [00:00, 16.50it/s]\n",
      "2it [00:00, 17.31it/s]\n",
      "2it [00:00, 17.30it/s]\n",
      "3it [00:00, 14.19it/s]\n",
      "2it [00:00, 16.38it/s]\n",
      "4it [00:00, 15.97it/s]\n",
      "2it [00:00, 16.65it/s]\n",
      "2it [00:00, 17.25it/s]\n",
      "2it [00:00, 17.16it/s]\n",
      "5it [00:00, 15.82it/s]\n",
      "2it [00:00, 16.33it/s]\n",
      "1it [00:00, 16.55it/s]\n",
      "1it [00:00, 16.98it/s]\n",
      "2it [00:00, 17.32it/s]\n",
      "1it [00:00, 17.99it/s]\n",
      "1it [00:00, 17.26it/s]\n",
      "2it [00:00, 17.38it/s]\n",
      "1it [00:00, 16.92it/s]\n",
      "1it [00:00, 16.62it/s]\n",
      "1it [00:00, 12.42it/s]\n",
      "0it [00:00, ?it/s]"
     ]
    },
    {
     "name": "stdout",
     "output_type": "stream",
     "text": [
      "90 epoch 72 iter loss val 5.456966400146484\n"
     ]
    },
    {
     "name": "stderr",
     "output_type": "stream",
     "text": [
      "2it [00:00,  9.16it/s]\n",
      "4it [00:00, 14.09it/s]\n",
      "2it [00:00, 14.96it/s]\n",
      "1it [00:00, 15.58it/s]\n",
      "5it [00:00, 14.28it/s]\n",
      "4it [00:00, 14.73it/s]\n",
      "5it [00:00, 16.84it/s]\n",
      "2it [00:00, 11.71it/s]\n",
      "2it [00:00, 16.60it/s]\n",
      "4it [00:00, 16.01it/s]\n",
      "2it [00:00, 16.11it/s]\n",
      "1it [00:00, 12.55it/s]\n",
      "2it [00:00, 13.24it/s]\n",
      "2it [00:00, 16.49it/s]\n",
      "2it [00:00, 15.84it/s]\n",
      "1it [00:00, 17.34it/s]\n",
      "2it [00:00, 16.50it/s]\n",
      "1it [00:00, 15.25it/s]\n",
      "1it [00:00, 16.60it/s]\n",
      "5it [00:00, 11.83it/s]\n",
      "4it [00:00, 16.20it/s]\n",
      "2it [00:00, 17.01it/s]\n",
      "1it [00:00, 13.27it/s]\n",
      "1it [00:00, 14.63it/s]\n",
      "1it [00:00, 16.85it/s]\n",
      "2it [00:00, 17.83it/s]\n",
      "1it [00:00, 16.58it/s]\n",
      "3it [00:00, 17.18it/s]\n",
      "1it [00:00, 16.37it/s]\n",
      "5it [00:00, 14.86it/s]\n",
      "0it [00:00, ?it/s]"
     ]
    },
    {
     "name": "stdout",
     "output_type": "stream",
     "text": [
      "91 epoch 72 iter loss val 5.545177459716797\n"
     ]
    },
    {
     "name": "stderr",
     "output_type": "stream",
     "text": [
      "2it [00:00, 13.24it/s]\n",
      "2it [00:00, 13.80it/s]\n",
      "5it [00:00, 14.76it/s]\n",
      "2it [00:00, 15.57it/s]\n",
      "2it [00:00, 13.79it/s]\n",
      "4it [00:00, 16.94it/s]\n",
      "4it [00:00, 15.52it/s]\n",
      "4it [00:00,  5.89it/s]\n",
      "5it [00:00, 13.43it/s]\n",
      "5it [00:00, 17.12it/s]\n",
      "2it [00:00, 15.84it/s]\n",
      "1it [00:00, 17.46it/s]\n",
      "1it [00:00, 17.57it/s]\n",
      "2it [00:00, 16.17it/s]\n",
      "1it [00:00,  9.76it/s]\n",
      "5it [00:00, 14.98it/s]\n",
      "2it [00:00, 16.28it/s]\n",
      "1it [00:00, 15.58it/s]\n",
      "1it [00:00, 16.10it/s]\n",
      "1it [00:00, 13.57it/s]\n",
      "2it [00:00, 18.80it/s]\n",
      "1it [00:00, 16.79it/s]\n",
      "1it [00:00, 17.51it/s]\n",
      "2it [00:00, 16.09it/s]\n",
      "1it [00:00, 16.84it/s]\n",
      "2it [00:00, 16.65it/s]\n",
      "2it [00:00, 18.22it/s]\n",
      "1it [00:00, 15.51it/s]\n",
      "1it [00:00,  9.88it/s]\n",
      "4it [00:00, 15.96it/s]\n",
      "3it [00:00, 16.79it/s]\n",
      "0it [00:00, ?it/s]"
     ]
    },
    {
     "name": "stdout",
     "output_type": "stream",
     "text": [
      "92 epoch 72 iter loss val 5.478684902191162\n"
     ]
    },
    {
     "name": "stderr",
     "output_type": "stream",
     "text": [
      "2it [00:00, 14.33it/s]\n",
      "5it [00:00, 14.17it/s]\n",
      "2it [00:00, 15.06it/s]\n",
      "2it [00:00, 16.54it/s]\n",
      "2it [00:00, 17.11it/s]\n",
      "1it [00:00, 16.86it/s]\n",
      "2it [00:00, 15.50it/s]\n",
      "4it [00:00, 12.48it/s]\n",
      "1it [00:00, 15.35it/s]\n",
      "2it [00:00, 16.92it/s]\n",
      "4it [00:00, 17.68it/s]\n",
      "1it [00:00, 10.23it/s]\n",
      "1it [00:00, 17.49it/s]\n",
      "5it [00:00, 14.64it/s]\n",
      "3it [00:00, 16.32it/s]\n",
      "1it [00:00, 15.74it/s]\n",
      "2it [00:00, 16.41it/s]\n",
      "1it [00:00, 16.66it/s]\n",
      "4it [00:00, 16.19it/s]\n",
      "2it [00:00, 16.92it/s]\n",
      "2it [00:00, 18.28it/s]\n",
      "5it [00:00, 14.54it/s]\n",
      "1it [00:00, 16.29it/s]\n",
      "1it [00:00, 15.49it/s]\n",
      "1it [00:00, 16.12it/s]\n",
      "1it [00:00, 17.42it/s]\n",
      "4it [00:00, 15.29it/s]\n",
      "1it [00:00, 16.82it/s]\n",
      "2it [00:00, 17.62it/s]\n",
      "2it [00:00, 17.30it/s]\n",
      "5it [00:00, 16.62it/s]\n",
      "1it [00:00, 12.31it/s]\n",
      "0it [00:00, ?it/s]"
     ]
    },
    {
     "name": "stdout",
     "output_type": "stream",
     "text": [
      "93 epoch 72 iter loss val 5.545177459716797\n"
     ]
    },
    {
     "name": "stderr",
     "output_type": "stream",
     "text": [
      "1it [00:00, 16.25it/s]\n",
      "3it [00:00, 15.07it/s]\n",
      "2it [00:00, 16.31it/s]\n",
      "4it [00:00, 10.02it/s]\n",
      "1it [00:00, 16.07it/s]\n",
      "4it [00:00, 15.20it/s]\n",
      "5it [00:00,  7.32it/s]\n",
      "5it [00:00, 15.45it/s]\n",
      "2it [00:00, 16.40it/s]\n",
      "1it [00:00, 15.49it/s]\n",
      "1it [00:00, 15.77it/s]\n",
      "2it [00:00, 17.07it/s]\n",
      "4it [00:00, 16.26it/s]\n",
      "1it [00:00, 13.86it/s]\n",
      "2it [00:00, 15.99it/s]\n",
      "1it [00:00, 10.31it/s]\n",
      "2it [00:00, 16.91it/s]\n",
      "2it [00:00, 16.55it/s]\n",
      "1it [00:00, 14.80it/s]\n",
      "2it [00:00, 16.09it/s]\n",
      "2it [00:00, 17.69it/s]\n",
      "2it [00:00, 17.43it/s]\n",
      "1it [00:00, 15.69it/s]\n",
      "1it [00:00, 15.99it/s]\n",
      "2it [00:00, 16.06it/s]\n",
      "1it [00:00, 11.89it/s]\n",
      "4it [00:00, 15.62it/s]\n",
      "5it [00:00, 15.80it/s]\n",
      "5it [00:00, 16.32it/s]\n",
      "2it [00:00, 16.27it/s]\n",
      "1it [00:00,  9.86it/s]"
     ]
    },
    {
     "name": "stdout",
     "output_type": "stream",
     "text": [
      "94 epoch 72 iter loss val 5.463163375854492\n"
     ]
    },
    {
     "name": "stderr",
     "output_type": "stream",
     "text": [
      "4it [00:00, 13.29it/s]\n",
      "4it [00:00, 14.74it/s]\n",
      "2it [00:00,  9.09it/s]\n",
      "2it [00:00, 18.28it/s]\n",
      "1it [00:00, 15.42it/s]\n",
      "4it [00:00, 14.82it/s]\n",
      "1it [00:00, 15.85it/s]\n",
      "1it [00:00, 14.73it/s]\n",
      "2it [00:00, 16.91it/s]\n",
      "2it [00:00, 17.45it/s]\n",
      "4it [00:00, 16.42it/s]\n",
      "2it [00:00, 17.54it/s]\n",
      "1it [00:00, 17.22it/s]\n",
      "1it [00:00, 15.77it/s]\n",
      "5it [00:00, 15.13it/s]\n",
      "2it [00:00, 16.62it/s]\n",
      "1it [00:00, 16.72it/s]\n",
      "2it [00:00, 17.51it/s]\n",
      "1it [00:00, 15.55it/s]\n",
      "5it [00:00, 12.71it/s]\n",
      "2it [00:00, 17.37it/s]\n",
      "1it [00:00, 15.62it/s]\n",
      "2it [00:00, 17.06it/s]\n",
      "2it [00:00, 16.39it/s]\n",
      "3it [00:00, 16.76it/s]\n",
      "1it [00:00, 16.62it/s]\n",
      "2it [00:00, 13.48it/s]\n",
      "1it [00:00, 16.84it/s]\n",
      "1it [00:00, 16.93it/s]\n",
      "5it [00:00, 15.48it/s]\n",
      "5it [00:00,  6.49it/s]\n",
      "1it [00:00,  7.66it/s]"
     ]
    },
    {
     "name": "stdout",
     "output_type": "stream",
     "text": [
      "95 epoch 72 iter loss val 5.419299602508545\n"
     ]
    },
    {
     "name": "stderr",
     "output_type": "stream",
     "text": [
      "2it [00:00, 10.85it/s]\n",
      "2it [00:00, 12.94it/s]\n",
      "2it [00:00, 12.82it/s]\n",
      "1it [00:00, 13.99it/s]\n",
      "2it [00:00, 15.13it/s]\n",
      "2it [00:00,  8.51it/s]\n",
      "3it [00:00, 14.70it/s]\n",
      "4it [00:00, 13.25it/s]\n",
      "1it [00:00, 14.22it/s]\n",
      "5it [00:00, 14.24it/s]\n",
      "4it [00:00, 15.17it/s]\n",
      "1it [00:00, 15.84it/s]\n",
      "1it [00:00, 15.15it/s]\n",
      "1it [00:00, 17.55it/s]\n",
      "2it [00:00, 11.83it/s]\n",
      "1it [00:00, 15.63it/s]\n",
      "4it [00:00, 15.58it/s]\n",
      "2it [00:00, 16.98it/s]\n",
      "1it [00:00, 11.36it/s]\n",
      "1it [00:00, 15.98it/s]\n",
      "2it [00:00, 17.12it/s]\n",
      "2it [00:00, 15.97it/s]\n",
      "5it [00:00, 13.26it/s]\n",
      "1it [00:00, 16.39it/s]\n",
      "4it [00:00, 14.93it/s]\n",
      "2it [00:00, 16.44it/s]\n",
      "1it [00:00, 16.92it/s]\n",
      "2it [00:00, 14.60it/s]\n",
      "1it [00:00, 15.69it/s]\n",
      "5it [00:00, 14.86it/s]\n",
      "5it [00:00, 15.81it/s]\n",
      "0it [00:00, ?it/s]"
     ]
    },
    {
     "name": "stdout",
     "output_type": "stream",
     "text": [
      "96 epoch 72 iter loss val 5.545177459716797\n"
     ]
    },
    {
     "name": "stderr",
     "output_type": "stream",
     "text": [
      "2it [00:00,  7.01it/s]\n",
      "4it [00:00, 12.38it/s]\n",
      "1it [00:00, 12.32it/s]\n",
      "1it [00:00, 15.62it/s]\n",
      "2it [00:00, 15.17it/s]\n",
      "4it [00:00, 13.54it/s]\n",
      "4it [00:00, 15.91it/s]\n",
      "1it [00:00, 13.52it/s]\n",
      "2it [00:00, 14.42it/s]\n",
      "1it [00:00, 10.78it/s]\n",
      "1it [00:00, 15.92it/s]\n",
      "5it [00:00, 15.10it/s]\n",
      "1it [00:00, 15.41it/s]\n",
      "1it [00:00, 16.67it/s]\n",
      "4it [00:00, 16.25it/s]\n",
      "5it [00:00, 14.84it/s]\n",
      "2it [00:00, 14.70it/s]\n",
      "2it [00:00, 16.98it/s]\n",
      "2it [00:00, 16.00it/s]\n",
      "5it [00:00, 14.69it/s]\n",
      "5it [00:00, 16.06it/s]\n",
      "2it [00:00, 14.80it/s]\n",
      "1it [00:00, 17.37it/s]\n",
      "3it [00:00, 16.58it/s]\n",
      "2it [00:00, 16.21it/s]\n",
      "1it [00:00, 16.36it/s]\n",
      "2it [00:00, 12.91it/s]\n",
      "2it [00:00, 17.02it/s]\n",
      "1it [00:00, 16.37it/s]\n",
      "2it [00:00, 16.38it/s]\n",
      "1it [00:00, 16.21it/s]\n",
      "0it [00:00, ?it/s]"
     ]
    },
    {
     "name": "stdout",
     "output_type": "stream",
     "text": [
      "97 epoch 72 iter loss val 5.4304094314575195\n"
     ]
    },
    {
     "name": "stderr",
     "output_type": "stream",
     "text": [
      "4it [00:00, 14.08it/s]\n",
      "3it [00:00, 11.98it/s]\n",
      "2it [00:00, 15.56it/s]\n",
      "5it [00:00, 13.33it/s]\n",
      "1it [00:00,  9.87it/s]\n",
      "2it [00:00, 15.63it/s]\n",
      "1it [00:00, 13.48it/s]\n",
      "1it [00:00, 14.98it/s]\n",
      "1it [00:00, 16.49it/s]\n",
      "1it [00:00, 11.12it/s]\n",
      "2it [00:00, 16.41it/s]\n",
      "2it [00:00, 16.51it/s]\n",
      "1it [00:00, 16.43it/s]\n",
      "5it [00:00, 14.06it/s]\n",
      "5it [00:00, 15.37it/s]\n",
      "2it [00:00, 10.78it/s]\n",
      "2it [00:00, 16.30it/s]\n",
      "4it [00:00, 15.23it/s]\n",
      "1it [00:00, 15.50it/s]\n",
      "2it [00:00, 16.19it/s]\n",
      "1it [00:00, 16.73it/s]\n",
      "2it [00:00, 18.86it/s]\n",
      "2it [00:00, 15.71it/s]\n",
      "5it [00:00, 13.53it/s]\n",
      "2it [00:00, 18.37it/s]\n",
      "2it [00:00, 16.91it/s]\n",
      "4it [00:00, 15.58it/s]\n",
      "1it [00:00, 16.31it/s]\n",
      "1it [00:00, 17.70it/s]\n",
      "1it [00:00, 15.79it/s]\n",
      "4it [00:00, 16.45it/s]\n",
      "1it [00:00,  9.48it/s]"
     ]
    },
    {
     "name": "stdout",
     "output_type": "stream",
     "text": [
      "98 epoch 72 iter loss val 5.532879829406738\n"
     ]
    },
    {
     "name": "stderr",
     "output_type": "stream",
     "text": [
      "2it [00:00, 12.37it/s]\n",
      "1it [00:00, 14.34it/s]\n",
      "2it [00:00, 12.68it/s]\n",
      "5it [00:00, 14.84it/s]\n",
      "2it [00:00, 12.13it/s]\n",
      "2it [00:00, 16.30it/s]\n",
      "5it [00:00, 14.58it/s]\n",
      "2it [00:00, 16.58it/s]\n",
      "2it [00:00, 11.99it/s]\n",
      "4it [00:00, 16.85it/s]\n",
      "2it [00:00, 16.93it/s]\n",
      "2it [00:00, 17.54it/s]\n",
      "4it [00:00, 16.55it/s]\n",
      "5it [00:00, 14.27it/s]\n",
      "4it [00:00, 15.89it/s]\n",
      "1it [00:00, 10.36it/s]\n",
      "2it [00:00, 16.94it/s]\n",
      "1it [00:00, 13.67it/s]\n",
      "2it [00:00, 15.77it/s]\n",
      "5it [00:00, 14.39it/s]\n",
      "1it [00:00, 15.05it/s]\n",
      "1it [00:00, 10.75it/s]\n",
      "1it [00:00, 15.37it/s]\n",
      "3it [00:00, 16.14it/s]\n",
      "2it [00:00, 16.52it/s]\n",
      "1it [00:00, 15.03it/s]\n",
      "1it [00:00, 13.58it/s]\n",
      "4it [00:00, 14.89it/s]\n",
      "1it [00:00, 16.34it/s]\n",
      "1it [00:00,  7.42it/s]\n",
      "1it [00:00, 17.78it/s]\n",
      "1it [00:00, 11.78it/s]\n",
      "0it [00:00, ?it/s]"
     ]
    },
    {
     "name": "stdout",
     "output_type": "stream",
     "text": [
      "99 epoch 72 iter loss val 5.430419445037842\n"
     ]
    },
    {
     "name": "stderr",
     "output_type": "stream",
     "text": [
      "2it [00:00, 15.31it/s]\n",
      "2it [00:00, 17.15it/s]\n",
      "1it [00:00, 15.94it/s]\n",
      "1it [00:00, 14.51it/s]\n",
      "2it [00:00, 14.42it/s]\n",
      "5it [00:00, 14.07it/s]\n",
      "2it [00:00, 16.26it/s]\n",
      "1it [00:00, 14.49it/s]\n",
      "1it [00:00, 15.21it/s]\n",
      "2it [00:00, 15.62it/s]\n",
      "4it [00:00, 16.31it/s]\n",
      "5it [00:00, 12.80it/s]\n",
      "2it [00:00, 15.23it/s]\n",
      "1it [00:00, 14.51it/s]\n",
      "2it [00:00, 16.41it/s]\n",
      "4it [00:00, 13.53it/s]\n",
      "1it [00:00, 16.49it/s]\n",
      "2it [00:00, 16.09it/s]\n",
      "3it [00:00, 16.09it/s]\n",
      "2it [00:00, 15.45it/s]\n",
      "5it [00:00, 12.61it/s]\n",
      "1it [00:00, 15.80it/s]\n",
      "2it [00:00, 16.75it/s]\n",
      "5it [00:00, 11.05it/s]\n",
      "1it [00:00, 17.55it/s]\n",
      "4it [00:00, 16.09it/s]\n",
      "1it [00:00, 17.06it/s]\n",
      "1it [00:00, 16.13it/s]\n",
      "2it [00:00, 13.69it/s]\n",
      "4it [00:00, 16.12it/s]\n",
      "1it [00:00, 11.47it/s]\n",
      "0it [00:00, ?it/s]"
     ]
    },
    {
     "name": "stdout",
     "output_type": "stream",
     "text": [
      "100 epoch 72 iter loss val 5.497537136077881\n"
     ]
    },
    {
     "name": "stderr",
     "output_type": "stream",
     "text": [
      "1it [00:00, 15.58it/s]\n",
      "1it [00:00, 15.58it/s]\n",
      "5it [00:00, 13.04it/s]\n",
      "2it [00:00, 15.43it/s]\n",
      "2it [00:00, 15.67it/s]\n",
      "4it [00:00, 14.32it/s]\n",
      "5it [00:00, 14.09it/s]\n",
      "1it [00:00, 16.98it/s]\n",
      "5it [00:00, 12.86it/s]\n",
      "1it [00:00, 13.99it/s]\n",
      "2it [00:00, 14.86it/s]\n",
      "1it [00:00, 16.21it/s]\n",
      "5it [00:00, 14.21it/s]\n",
      "1it [00:00, 16.12it/s]\n",
      "2it [00:00, 12.34it/s]\n",
      "4it [00:00, 15.70it/s]\n",
      "2it [00:00, 16.54it/s]\n",
      "2it [00:00, 17.77it/s]\n",
      "2it [00:00, 12.80it/s]\n",
      "1it [00:00, 16.20it/s]\n",
      "2it [00:00, 17.93it/s]\n",
      "3it [00:00, 16.85it/s]\n",
      "1it [00:00, 15.88it/s]\n",
      "1it [00:00, 15.29it/s]\n",
      "2it [00:00, 16.59it/s]\n",
      "4it [00:00, 16.83it/s]\n",
      "2it [00:00, 17.68it/s]\n",
      "2it [00:00, 11.48it/s]\n",
      "1it [00:00, 17.41it/s]\n",
      "4it [00:00, 16.72it/s]\n",
      "1it [00:00,  8.12it/s]"
     ]
    },
    {
     "name": "stdout",
     "output_type": "stream",
     "text": [
      "101 epoch 72 iter loss val 5.532870292663574\n"
     ]
    },
    {
     "name": "stderr",
     "output_type": "stream",
     "text": [
      "4it [00:00, 12.84it/s]\n",
      "5it [00:00, 14.84it/s]\n",
      "2it [00:00, 15.12it/s]\n",
      "2it [00:00, 16.63it/s]\n",
      "2it [00:00, 15.47it/s]\n",
      "1it [00:00, 16.12it/s]\n",
      "3it [00:00, 16.34it/s]\n",
      "5it [00:00, 10.89it/s]\n",
      "2it [00:00, 16.77it/s]\n",
      "2it [00:00, 15.75it/s]\n",
      "1it [00:00, 17.55it/s]\n",
      "1it [00:00, 16.67it/s]\n",
      "1it [00:00, 16.85it/s]\n",
      "4it [00:00, 11.40it/s]\n",
      "1it [00:00, 15.74it/s]\n",
      "5it [00:00, 15.80it/s]\n",
      "5it [00:00, 12.12it/s]\n",
      "2it [00:00, 17.00it/s]\n",
      "2it [00:00, 17.06it/s]\n",
      "4it [00:00, 15.81it/s]\n",
      "4it [00:00, 18.76it/s]\n",
      "2it [00:00, 17.77it/s]\n",
      "1it [00:00, 16.51it/s]\n",
      "2it [00:00, 16.79it/s]\n",
      "1it [00:00, 16.43it/s]\n",
      "1it [00:00, 16.97it/s]\n",
      "2it [00:00, 16.79it/s]\n",
      "1it [00:00, 15.68it/s]\n",
      "1it [00:00,  5.08it/s]\n",
      "1it [00:00, 19.07it/s]\n",
      "2it [00:00, 19.42it/s]\n",
      "0it [00:00, ?it/s]"
     ]
    },
    {
     "name": "stdout",
     "output_type": "stream",
     "text": [
      "102 epoch 72 iter loss val 5.447963714599609\n"
     ]
    },
    {
     "name": "stderr",
     "output_type": "stream",
     "text": [
      "5it [00:00, 12.82it/s]\n",
      "1it [00:00, 14.77it/s]\n",
      "1it [00:00, 17.47it/s]\n",
      "1it [00:00, 15.54it/s]\n",
      "2it [00:00, 14.80it/s]\n",
      "4it [00:00, 16.05it/s]\n",
      "1it [00:00, 16.74it/s]\n",
      "1it [00:00, 16.92it/s]\n",
      "1it [00:00, 15.56it/s]\n",
      "1it [00:00, 12.20it/s]\n",
      "2it [00:00, 17.02it/s]\n",
      "2it [00:00, 17.01it/s]\n",
      "1it [00:00, 14.66it/s]\n",
      "2it [00:00, 16.26it/s]\n",
      "2it [00:00, 15.95it/s]\n",
      "2it [00:00, 17.63it/s]\n",
      "2it [00:00, 14.41it/s]\n",
      "2it [00:00, 16.65it/s]\n",
      "1it [00:00, 15.75it/s]\n",
      "2it [00:00, 17.97it/s]\n",
      "5it [00:00, 12.21it/s]\n",
      "1it [00:00, 17.38it/s]\n",
      "2it [00:00, 17.28it/s]\n",
      "5it [00:00, 16.30it/s]\n",
      "4it [00:00, 12.07it/s]\n",
      "5it [00:00, 16.93it/s]\n",
      "4it [00:00, 16.63it/s]\n",
      "1it [00:00, 19.38it/s]\n",
      "2it [00:00, 19.50it/s]\n",
      "3it [00:00, 17.00it/s]\n",
      "4it [00:00, 15.41it/s]\n",
      "1it [00:00,  8.51it/s]"
     ]
    },
    {
     "name": "stdout",
     "output_type": "stream",
     "text": [
      "103 epoch 72 iter loss val 5.4991607666015625\n"
     ]
    },
    {
     "name": "stderr",
     "output_type": "stream",
     "text": [
      "5it [00:00, 13.58it/s]\n",
      "1it [00:00, 13.82it/s]\n",
      "2it [00:00, 14.58it/s]\n",
      "5it [00:00, 15.14it/s]\n",
      "1it [00:00, 16.05it/s]\n",
      "2it [00:00, 12.89it/s]\n",
      "4it [00:00,  9.40it/s]\n",
      "2it [00:00, 16.55it/s]\n",
      "2it [00:00, 16.27it/s]\n",
      "1it [00:00, 18.40it/s]\n",
      "1it [00:00, 10.88it/s]\n",
      "1it [00:00, 17.64it/s]\n",
      "2it [00:00, 18.04it/s]\n",
      "1it [00:00, 16.73it/s]\n",
      "2it [00:00, 16.71it/s]\n",
      "4it [00:00, 16.52it/s]\n",
      "2it [00:00, 17.99it/s]\n",
      "2it [00:00, 17.42it/s]\n",
      "1it [00:00, 11.11it/s]\n",
      "2it [00:00, 18.11it/s]\n",
      "1it [00:00, 18.45it/s]\n",
      "5it [00:00, 16.45it/s]\n",
      "1it [00:00, 15.04it/s]\n",
      "3it [00:00, 17.00it/s]\n",
      "4it [00:00, 16.66it/s]\n",
      "4it [00:00, 15.89it/s]\n",
      "2it [00:00, 17.34it/s]\n",
      "5it [00:00, 16.65it/s]\n",
      "1it [00:00, 15.76it/s]\n",
      "2it [00:00, 16.41it/s]\n",
      "1it [00:00, 17.43it/s]\n"
     ]
    },
    {
     "ename": "KeyboardInterrupt",
     "evalue": "",
     "output_type": "error",
     "traceback": [
      "\u001b[0;31m---------------------------------------------------------------------------\u001b[0m",
      "\u001b[0;31mKeyboardInterrupt\u001b[0m                         Traceback (most recent call last)",
      "\u001b[0;32m<ipython-input-22-e375631239fa>\u001b[0m in \u001b[0;36m<module>\u001b[0;34m()\u001b[0m\n\u001b[1;32m     17\u001b[0m             \u001b[0mtrainer\u001b[0m\u001b[0;34m.\u001b[0m\u001b[0mstep\u001b[0m\u001b[0;34m(\u001b[0m\u001b[0;36m1\u001b[0m\u001b[0;34m)\u001b[0m\u001b[0;34m\u001b[0m\u001b[0m\n\u001b[1;32m     18\u001b[0m             \u001b[0mi\u001b[0m \u001b[0;34m=\u001b[0m \u001b[0mi\u001b[0m \u001b[0;34m+\u001b[0m \u001b[0;36m1\u001b[0m\u001b[0;34m\u001b[0m\u001b[0m\n\u001b[0;32m---> 19\u001b[0;31m     \u001b[0mloss_for_epoch\u001b[0m\u001b[0;34m.\u001b[0m\u001b[0mappend\u001b[0m\u001b[0;34m(\u001b[0m\u001b[0mloss_values\u001b[0m\u001b[0;34m.\u001b[0m\u001b[0masscalar\u001b[0m\u001b[0;34m(\u001b[0m\u001b[0;34m)\u001b[0m\u001b[0;34m)\u001b[0m\u001b[0;34m\u001b[0m\u001b[0m\n\u001b[0m\u001b[1;32m     20\u001b[0m     \u001b[0mprint\u001b[0m\u001b[0;34m(\u001b[0m\u001b[0;34m\"{e} epoch {i} iter loss val {l}\"\u001b[0m\u001b[0;34m.\u001b[0m\u001b[0mformat\u001b[0m\u001b[0;34m(\u001b[0m\u001b[0me\u001b[0m\u001b[0;34m=\u001b[0m\u001b[0me\u001b[0m\u001b[0;34m,\u001b[0m\u001b[0mi\u001b[0m\u001b[0;34m=\u001b[0m\u001b[0mi\u001b[0m\u001b[0;34m,\u001b[0m\u001b[0ml\u001b[0m\u001b[0;34m=\u001b[0m\u001b[0mloss_values\u001b[0m\u001b[0;34m.\u001b[0m\u001b[0masscalar\u001b[0m\u001b[0;34m(\u001b[0m\u001b[0;34m)\u001b[0m\u001b[0;34m)\u001b[0m\u001b[0;34m)\u001b[0m\u001b[0;34m\u001b[0m\u001b[0m\n",
      "\u001b[0;32m/opt/venv/lib/python3.6/site-packages/mxnet/ndarray/ndarray.py\u001b[0m in \u001b[0;36masscalar\u001b[0;34m(self)\u001b[0m\n\u001b[1;32m   1809\u001b[0m         \u001b[0;32mif\u001b[0m \u001b[0mself\u001b[0m\u001b[0;34m.\u001b[0m\u001b[0mshape\u001b[0m \u001b[0;34m!=\u001b[0m \u001b[0;34m(\u001b[0m\u001b[0;36m1\u001b[0m\u001b[0;34m,\u001b[0m\u001b[0;34m)\u001b[0m\u001b[0;34m:\u001b[0m\u001b[0;34m\u001b[0m\u001b[0m\n\u001b[1;32m   1810\u001b[0m             \u001b[0;32mraise\u001b[0m \u001b[0mValueError\u001b[0m\u001b[0;34m(\u001b[0m\u001b[0;34m\"The current array is not a scalar\"\u001b[0m\u001b[0;34m)\u001b[0m\u001b[0;34m\u001b[0m\u001b[0m\n\u001b[0;32m-> 1811\u001b[0;31m         \u001b[0;32mreturn\u001b[0m \u001b[0mself\u001b[0m\u001b[0;34m.\u001b[0m\u001b[0masnumpy\u001b[0m\u001b[0;34m(\u001b[0m\u001b[0;34m)\u001b[0m\u001b[0;34m[\u001b[0m\u001b[0;36m0\u001b[0m\u001b[0;34m]\u001b[0m\u001b[0;34m\u001b[0m\u001b[0m\n\u001b[0m\u001b[1;32m   1812\u001b[0m \u001b[0;34m\u001b[0m\u001b[0m\n\u001b[1;32m   1813\u001b[0m     \u001b[0;32mdef\u001b[0m \u001b[0mastype\u001b[0m\u001b[0;34m(\u001b[0m\u001b[0mself\u001b[0m\u001b[0;34m,\u001b[0m \u001b[0mdtype\u001b[0m\u001b[0;34m)\u001b[0m\u001b[0;34m:\u001b[0m\u001b[0;34m\u001b[0m\u001b[0m\n",
      "\u001b[0;32m/opt/venv/lib/python3.6/site-packages/mxnet/ndarray/ndarray.py\u001b[0m in \u001b[0;36masnumpy\u001b[0;34m(self)\u001b[0m\n\u001b[1;32m   1791\u001b[0m             \u001b[0mself\u001b[0m\u001b[0;34m.\u001b[0m\u001b[0mhandle\u001b[0m\u001b[0;34m,\u001b[0m\u001b[0;34m\u001b[0m\u001b[0m\n\u001b[1;32m   1792\u001b[0m             \u001b[0mdata\u001b[0m\u001b[0;34m.\u001b[0m\u001b[0mctypes\u001b[0m\u001b[0;34m.\u001b[0m\u001b[0mdata_as\u001b[0m\u001b[0;34m(\u001b[0m\u001b[0mctypes\u001b[0m\u001b[0;34m.\u001b[0m\u001b[0mc_void_p\u001b[0m\u001b[0;34m)\u001b[0m\u001b[0;34m,\u001b[0m\u001b[0;34m\u001b[0m\u001b[0m\n\u001b[0;32m-> 1793\u001b[0;31m             ctypes.c_size_t(data.size)))\n\u001b[0m\u001b[1;32m   1794\u001b[0m         \u001b[0;32mreturn\u001b[0m \u001b[0mdata\u001b[0m\u001b[0;34m\u001b[0m\u001b[0m\n\u001b[1;32m   1795\u001b[0m \u001b[0;34m\u001b[0m\u001b[0m\n",
      "\u001b[0;31mKeyboardInterrupt\u001b[0m: "
     ]
    }
   ],
   "source": [
    "for e in range(args['num_steps']):\n",
    "    i = 0\n",
    "    for dataset in data_loader:\n",
    "        for inputs, targets in tqdm(dataset):\n",
    "            #print(\"input {i} target {t}\".format(i=inputs.shape,t=targets.shape))\n",
    "            inputs =inputs.copyto(mx.gpu())        \n",
    "            targets = targets.copyto(mx.gpu())     \n",
    "            with autograd.record():\n",
    "                outputs = wavenet(inputs)\n",
    "                loss_values = loss(outputs,targets)\n",
    "            loss_values.backward()\n",
    "            \n",
    "            \n",
    "            #if (i % 200 == 0):\n",
    "            #    loss_for_epoch.append(loss_values.asscalar())\n",
    "            #    print(\"{e} epoch {i} iter loss val {l}\".format(e=e,i=i,l=loss_values.asscalar()))\n",
    "            trainer.step(1)\n",
    "            i = i + 1\n",
    "    loss_for_epoch.append(loss_values.asscalar())\n",
    "    print(\"{e} epoch {i} iter loss val {l}\".format(e=e,i=i,l=loss_values.asscalar()))"
   ]
  },
  {
   "cell_type": "code",
   "execution_count": 23,
   "metadata": {
    "ExecuteTime": {
     "end_time": "2018-05-11T07:57:07.594752Z",
     "start_time": "2018-05-11T07:57:07.592181Z"
    }
   },
   "outputs": [],
   "source": [
    "filename = \"wavenet.params\""
   ]
  },
  {
   "cell_type": "code",
   "execution_count": 24,
   "metadata": {
    "ExecuteTime": {
     "end_time": "2018-05-11T07:57:38.378684Z",
     "start_time": "2018-05-11T07:57:38.226310Z"
    }
   },
   "outputs": [
    {
     "name": "stderr",
     "output_type": "stream",
     "text": [
      "/opt/venv/lib/python3.6/site-packages/mxnet/gluon/block.py:228: UserWarning: \"ResidualStack.res_blocks\" is a container with Blocks. Note that Blocks inside the list, tuple or dict will not be registered automatically. Make sure to register them using register_child() or switching to nn.Sequential/nn.HybridSequential instead. \n",
      "  .format(name=self.__class__.__name__ + \".\" + k))\n"
     ]
    }
   ],
   "source": [
    "wavenet.save_params(filename)"
   ]
  },
  {
   "cell_type": "code",
   "execution_count": 25,
   "metadata": {
    "ExecuteTime": {
     "end_time": "2018-04-23T02:13:18.482678Z",
     "start_time": "2018-04-23T02:13:18.475459Z"
    }
   },
   "outputs": [
    {
     "data": {
      "text/plain": [
       "5.518569"
      ]
     },
     "execution_count": 25,
     "metadata": {},
     "output_type": "execute_result"
    }
   ],
   "source": [
    "loss_for_epoch[-1]"
   ]
  },
  {
   "cell_type": "code",
   "execution_count": 37,
   "metadata": {
    "ExecuteTime": {
     "end_time": "2018-04-20T07:28:48.651717Z",
     "start_time": "2018-04-20T07:28:48.648455Z"
    }
   },
   "outputs": [
    {
     "data": {
      "text/plain": [
       "(1, 89)"
      ]
     },
     "execution_count": 37,
     "metadata": {},
     "output_type": "execute_result"
    }
   ],
   "source": [
    "targets.shape"
   ]
  },
  {
   "cell_type": "code",
   "execution_count": 63,
   "metadata": {
    "ExecuteTime": {
     "end_time": "2018-04-20T07:36:10.893897Z",
     "start_time": "2018-04-20T07:36:10.890779Z"
    }
   },
   "outputs": [],
   "source": [
    "inputs =inputs.copyto(mx.gpu())"
   ]
  },
  {
   "cell_type": "code",
   "execution_count": 64,
   "metadata": {
    "ExecuteTime": {
     "end_time": "2018-04-20T07:36:18.359637Z",
     "start_time": "2018-04-20T07:36:11.822061Z"
    }
   },
   "outputs": [
    {
     "name": "stderr",
     "output_type": "stream",
     "text": [
      "\n",
      "  0%|          | 0/50 [00:00<?, ?it/s]\u001b[A"
     ]
    },
    {
     "name": "stdout",
     "output_type": "stream",
     "text": [
      "casual network is executing...\n",
      "skip_connections is executing...\n",
      "output :(1, 512, 8000) output_size:2885\n"
     ]
    },
    {
     "name": "stderr",
     "output_type": "stream",
     "text": [
      "\n",
      "  4%|▍         | 2/50 [00:00<00:09,  5.14it/s]\u001b[A\n",
      "  6%|▌         | 3/50 [00:00<00:07,  5.97it/s]\u001b[A\n",
      " 10%|█         | 5/50 [00:00<00:07,  6.11it/s]\u001b[A\n",
      " 12%|█▏        | 6/50 [00:01<00:08,  5.25it/s]\u001b[A\n",
      " 16%|█▌        | 8/50 [00:01<00:06,  6.09it/s]\u001b[A\n",
      " 20%|██        | 10/50 [00:01<00:05,  6.78it/s]\u001b[A\n",
      " 22%|██▏       | 11/50 [00:01<00:05,  6.82it/s]\u001b[A\n",
      " 26%|██▌       | 13/50 [00:01<00:05,  6.88it/s]\u001b[A\n",
      " 28%|██▊       | 14/50 [00:02<00:05,  6.45it/s]\u001b[A\n",
      " 32%|███▏      | 16/50 [00:02<00:04,  6.89it/s]\u001b[A\n",
      " 36%|███▌      | 18/50 [00:02<00:04,  7.27it/s]\u001b[A\n",
      " 38%|███▊      | 19/50 [00:02<00:04,  6.54it/s]\u001b[A\n",
      " 42%|████▏     | 21/50 [00:03<00:04,  6.78it/s]\u001b[A\n",
      " 46%|████▌     | 23/50 [00:03<00:04,  6.58it/s]\u001b[A\n",
      " 48%|████▊     | 24/50 [00:03<00:03,  6.59it/s]\u001b[A\n",
      " 52%|█████▏    | 26/50 [00:03<00:03,  6.85it/s]\u001b[A\n",
      " 56%|█████▌    | 28/50 [00:03<00:03,  7.12it/s]\u001b[A\n",
      " 60%|██████    | 30/50 [00:04<00:02,  7.39it/s]\u001b[A\n",
      " 64%|██████▍   | 32/50 [00:04<00:02,  7.57it/s]\u001b[A\n",
      " 68%|██████▊   | 34/50 [00:04<00:02,  7.25it/s]\u001b[A\n",
      " 72%|███████▏  | 36/50 [00:04<00:01,  7.48it/s]\u001b[A\n",
      " 76%|███████▌  | 38/50 [00:04<00:01,  7.71it/s]\u001b[A\n",
      " 80%|████████  | 40/50 [00:05<00:01,  7.39it/s]\u001b[A\n",
      " 84%|████████▍ | 42/50 [00:05<00:01,  7.53it/s]\u001b[A\n",
      " 88%|████████▊ | 44/50 [00:05<00:00,  7.72it/s]\u001b[A\n",
      " 92%|█████████▏| 46/50 [00:06<00:00,  7.40it/s]\u001b[A\n",
      " 96%|█████████▌| 48/50 [00:06<00:00,  7.55it/s]\u001b[A\n",
      "100%|██████████| 50/50 [00:06<00:00,  7.72it/s]\u001b[A\n",
      "\u001b[A"
     ]
    },
    {
     "name": "stdout",
     "output_type": "stream",
     "text": [
      "skip connection finished\n",
      "densenet is executing...\n"
     ]
    }
   ],
   "source": [
    "output = wavenet(inputs)"
   ]
  },
  {
   "cell_type": "code",
   "execution_count": 65,
   "metadata": {
    "ExecuteTime": {
     "end_time": "2018-04-20T07:36:20.457942Z",
     "start_time": "2018-04-20T07:36:20.454248Z"
    }
   },
   "outputs": [
    {
     "data": {
      "text/plain": [
       "(1, 2885, 256)"
      ]
     },
     "execution_count": 65,
     "metadata": {},
     "output_type": "execute_result"
    }
   ],
   "source": [
    "output.shape"
   ]
  },
  {
   "cell_type": "code",
   "execution_count": 66,
   "metadata": {
    "ExecuteTime": {
     "end_time": "2018-04-20T07:36:20.800755Z",
     "start_time": "2018-04-20T07:36:20.794539Z"
    }
   },
   "outputs": [
    {
     "data": {
      "text/plain": [
       "\n",
       "[[[1.77778289e-04 7.86370656e-05 1.45762417e-04 ... 7.66266836e-04\n",
       "   8.07149336e-05 2.03454052e-04]\n",
       "  [3.71660484e-04 7.03012774e-05 1.09471643e-04 ... 7.74058339e-04\n",
       "   5.66828239e-05 1.16148069e-04]\n",
       "  [1.89093218e-04 4.02802507e-05 1.96026303e-04 ... 2.61639245e-04\n",
       "   6.08311675e-05 1.06477855e-04]\n",
       "  ...\n",
       "  [4.51185006e-05 1.23523525e-04 1.10579262e-04 ... 7.20732569e-05\n",
       "   3.11169191e-04 1.32637040e-04]\n",
       "  [1.83395343e-04 3.56197066e-04 2.07478806e-04 ... 1.86811871e-04\n",
       "   1.28316542e-03 2.84411362e-04]\n",
       "  [1.02342688e-04 1.97070374e-04 1.46624341e-04 ... 3.69880901e-04\n",
       "   8.58376152e-04 1.37892275e-04]]]\n",
       "<NDArray 1x2885x256 @gpu(0)>"
      ]
     },
     "execution_count": 66,
     "metadata": {},
     "output_type": "execute_result"
    }
   ],
   "source": [
    "output"
   ]
  },
  {
   "cell_type": "code",
   "execution_count": 67,
   "metadata": {
    "ExecuteTime": {
     "end_time": "2018-04-20T07:36:21.881800Z",
     "start_time": "2018-04-20T07:36:21.878965Z"
    }
   },
   "outputs": [],
   "source": [
    "targets =targets.copyto(mx.gpu())"
   ]
  },
  {
   "cell_type": "code",
   "execution_count": 69,
   "metadata": {
    "ExecuteTime": {
     "end_time": "2018-04-20T07:36:28.231824Z",
     "start_time": "2018-04-20T07:36:28.228533Z"
    }
   },
   "outputs": [],
   "source": [
    "b = loss(output,targets)"
   ]
  },
  {
   "cell_type": "code",
   "execution_count": 70,
   "metadata": {
    "ExecuteTime": {
     "end_time": "2018-04-20T07:36:34.184057Z",
     "start_time": "2018-04-20T07:36:34.179897Z"
    }
   },
   "outputs": [
    {
     "data": {
      "text/plain": [
       "5.5452123"
      ]
     },
     "execution_count": 70,
     "metadata": {},
     "output_type": "execute_result"
    }
   ],
   "source": [
    "b.asscalar()"
   ]
  },
  {
   "cell_type": "code",
   "execution_count": null,
   "metadata": {},
   "outputs": [],
   "source": [
    "loss(inputs)"
   ]
  },
  {
   "cell_type": "code",
   "execution_count": 31,
   "metadata": {},
   "outputs": [
    {
     "data": {
      "text/plain": [
       "26624"
      ]
     },
     "execution_count": 31,
     "metadata": {},
     "output_type": "execute_result"
    }
   ],
   "source": [
    "104*256"
   ]
  },
  {
   "cell_type": "code",
   "execution_count": 24,
   "metadata": {},
   "outputs": [
    {
     "data": {
      "text/plain": [
       "(50, 104, 256)"
      ]
     },
     "execution_count": 24,
     "metadata": {},
     "output_type": "execute_result"
    }
   ],
   "source": [
    "output.shape"
   ]
  },
  {
   "cell_type": "code",
   "execution_count": 21,
   "metadata": {},
   "outputs": [],
   "source": [
    "filenames = [x for x in sorted(os.listdir( args['data_dir']))]"
   ]
  },
  {
   "cell_type": "code",
   "execution_count": 22,
   "metadata": {},
   "outputs": [
    {
     "data": {
      "text/plain": [
       "['.ipynb_checkpoints', 'miku.wav']"
      ]
     },
     "execution_count": 22,
     "metadata": {},
     "output_type": "execute_result"
    }
   ],
   "source": [
    "filenames"
   ]
  },
  {
   "cell_type": "code",
   "execution_count": null,
   "metadata": {},
   "outputs": [],
   "source": [
    "audio = dataset.asnumpy()\n",
    "audio = np.pad(audio, [[0, 0], [wavenet.receptive_fields, 0], [0, 0]], 'constant')"
   ]
  },
  {
   "cell_type": "code",
   "execution_count": 20,
   "metadata": {},
   "outputs": [
    {
     "ename": "TypeError",
     "evalue": "'NoneType' object is not iterable",
     "output_type": "error",
     "traceback": [
      "\u001b[0;31m---------------------------------------------------------------------------\u001b[0m",
      "\u001b[0;31mTypeError\u001b[0m                                 Traceback (most recent call last)",
      "\u001b[0;32m<ipython-input-20-f251621c4b20>\u001b[0m in \u001b[0;36m<module>\u001b[0;34m()\u001b[0m\n\u001b[0;32m----> 1\u001b[0;31m \u001b[0ma\u001b[0m\u001b[0;34m,\u001b[0m\u001b[0mb\u001b[0m \u001b[0;34m=\u001b[0m \u001b[0mdata_loader\u001b[0m\u001b[0;34m.\u001b[0m\u001b[0m_collate_fn\u001b[0m\u001b[0;34m(\u001b[0m\u001b[0mdataset\u001b[0m\u001b[0;34m)\u001b[0m\u001b[0;34m\u001b[0m\u001b[0m\n\u001b[0m",
      "\u001b[0;31mTypeError\u001b[0m: 'NoneType' object is not iterable"
     ]
    }
   ],
   "source": [
    "a,b = data_loader._collate_fn(dataset)"
   ]
  },
  {
   "cell_type": "code",
   "execution_count": 43,
   "metadata": {},
   "outputs": [],
   "source": [
    "audio = dataset.asnumpy()"
   ]
  },
  {
   "cell_type": "code",
   "execution_count": 24,
   "metadata": {},
   "outputs": [],
   "source": [
    "audio = np.pad(audio, [[0, 0], [wavenet.receptive_fields, 0], [0, 0]], 'constant')"
   ]
  },
  {
   "cell_type": "code",
   "execution_count": 28,
   "metadata": {},
   "outputs": [
    {
     "data": {
      "text/plain": [
       "(2393984, 256)"
      ]
     },
     "execution_count": 28,
     "metadata": {},
     "output_type": "execute_result"
    }
   ],
   "source": [
    "audio[0].shape"
   ]
  },
  {
   "cell_type": "code",
   "execution_count": 29,
   "metadata": {},
   "outputs": [],
   "source": [
    "inputs = audio[:, :args['sample_size'], :]"
   ]
  },
  {
   "cell_type": "code",
   "execution_count": 30,
   "metadata": {},
   "outputs": [
    {
     "data": {
      "text/plain": [
       "(1, 100000, 256)"
      ]
     },
     "execution_count": 30,
     "metadata": {},
     "output_type": "execute_result"
    }
   ],
   "source": [
    "inputs.shape"
   ]
  },
  {
   "cell_type": "code",
   "execution_count": 32,
   "metadata": {},
   "outputs": [],
   "source": [
    "targets = audio[:, wavenet.receptive_fields:args['sample_size'], :]"
   ]
  },
  {
   "cell_type": "code",
   "execution_count": 33,
   "metadata": {},
   "outputs": [
    {
     "data": {
      "text/plain": [
       "(1, 94885, 256)"
      ]
     },
     "execution_count": 33,
     "metadata": {},
     "output_type": "execute_result"
    }
   ],
   "source": [
    "targets.shape"
   ]
  },
  {
   "cell_type": "code",
   "execution_count": 35,
   "metadata": {},
   "outputs": [
    {
     "ename": "IndexError",
     "evalue": "arrays used as indices must be of integer (or boolean) type",
     "output_type": "error",
     "traceback": [
      "\u001b[0;31m---------------------------------------------------------------------------\u001b[0m",
      "\u001b[0;31mIndexError\u001b[0m                                Traceback (most recent call last)",
      "\u001b[0;32m<ipython-input-35-bc6e4b4ffbf9>\u001b[0m in \u001b[0;36m<module>\u001b[0;34m()\u001b[0m\n\u001b[0;32m----> 1\u001b[0;31m \u001b[0mone_hot_encode\u001b[0m\u001b[0;34m(\u001b[0m\u001b[0mtargets\u001b[0m\u001b[0;34m,\u001b[0m\u001b[0;36m2\u001b[0m\u001b[0;34m)\u001b[0m\u001b[0;34m\u001b[0m\u001b[0m\n\u001b[0m",
      "\u001b[0;32m~/work/gluon_study/Wavenet/data.py\u001b[0m in \u001b[0;36mone_hot_encode\u001b[0;34m(data, channels)\u001b[0m\n\u001b[1;32m     19\u001b[0m \u001b[0;32mdef\u001b[0m \u001b[0mone_hot_encode\u001b[0m\u001b[0;34m(\u001b[0m\u001b[0mdata\u001b[0m\u001b[0;34m,\u001b[0m \u001b[0mchannels\u001b[0m\u001b[0;34m=\u001b[0m\u001b[0;36m256\u001b[0m\u001b[0;34m)\u001b[0m\u001b[0;34m:\u001b[0m\u001b[0;34m\u001b[0m\u001b[0m\n\u001b[1;32m     20\u001b[0m     \u001b[0mone_hot\u001b[0m \u001b[0;34m=\u001b[0m \u001b[0mnp\u001b[0m\u001b[0;34m.\u001b[0m\u001b[0mzeros\u001b[0m\u001b[0;34m(\u001b[0m\u001b[0;34m(\u001b[0m\u001b[0mdata\u001b[0m\u001b[0;34m.\u001b[0m\u001b[0msize\u001b[0m\u001b[0;34m,\u001b[0m \u001b[0mchannels\u001b[0m\u001b[0;34m)\u001b[0m\u001b[0;34m,\u001b[0m \u001b[0mdtype\u001b[0m\u001b[0;34m=\u001b[0m\u001b[0mfloat\u001b[0m\u001b[0;34m)\u001b[0m\u001b[0;34m\u001b[0m\u001b[0m\n\u001b[0;32m---> 21\u001b[0;31m     \u001b[0mone_hot\u001b[0m\u001b[0;34m[\u001b[0m\u001b[0mnp\u001b[0m\u001b[0;34m.\u001b[0m\u001b[0marange\u001b[0m\u001b[0;34m(\u001b[0m\u001b[0mdata\u001b[0m\u001b[0;34m.\u001b[0m\u001b[0msize\u001b[0m\u001b[0;34m)\u001b[0m\u001b[0;34m,\u001b[0m \u001b[0mdata\u001b[0m\u001b[0;34m.\u001b[0m\u001b[0mravel\u001b[0m\u001b[0;34m(\u001b[0m\u001b[0;34m)\u001b[0m\u001b[0;34m]\u001b[0m \u001b[0;34m=\u001b[0m \u001b[0;36m1\u001b[0m\u001b[0;34m\u001b[0m\u001b[0m\n\u001b[0m\u001b[1;32m     22\u001b[0m \u001b[0;34m\u001b[0m\u001b[0m\n\u001b[1;32m     23\u001b[0m     \u001b[0;32mreturn\u001b[0m \u001b[0mone_hot\u001b[0m\u001b[0;34m\u001b[0m\u001b[0m\n",
      "\u001b[0;31mIndexError\u001b[0m: arrays used as indices must be of integer (or boolean) type"
     ]
    }
   ],
   "source": [
    "one_hot_encode(targets,2)"
   ]
  },
  {
   "cell_type": "code",
   "execution_count": 23,
   "metadata": {
    "ExecuteTime": {
     "end_time": "2018-04-12T06:11:19.253466Z",
     "start_time": "2018-04-12T06:11:19.249702Z"
    }
   },
   "outputs": [],
   "source": [
    "x = nd.array([1,2])\n",
    "y = nd.array([3,4])"
   ]
  },
  {
   "cell_type": "code",
   "execution_count": 24,
   "metadata": {
    "ExecuteTime": {
     "end_time": "2018-04-12T06:11:19.972412Z",
     "start_time": "2018-04-12T06:11:19.969065Z"
    }
   },
   "outputs": [],
   "source": [
    "c = list()\n",
    "c.append(x)\n",
    "c.append(y)"
   ]
  },
  {
   "cell_type": "code",
   "execution_count": 25,
   "metadata": {
    "ExecuteTime": {
     "end_time": "2018-04-12T06:11:21.275538Z",
     "start_time": "2018-04-12T06:11:21.271690Z"
    }
   },
   "outputs": [
    {
     "data": {
      "text/plain": [
       "2"
      ]
     },
     "execution_count": 25,
     "metadata": {},
     "output_type": "execute_result"
    }
   ],
   "source": [
    "len(c)"
   ]
  },
  {
   "cell_type": "code",
   "execution_count": 27,
   "metadata": {
    "ExecuteTime": {
     "end_time": "2018-04-12T06:11:29.777158Z",
     "start_time": "2018-04-12T06:11:29.768656Z"
    }
   },
   "outputs": [
    {
     "ename": "SyntaxError",
     "evalue": "can't use starred expression here (<ipython-input-27-df4d4dcd2de2>, line 1)",
     "output_type": "error",
     "traceback": [
      "\u001b[0;36m  File \u001b[0;32m\"<ipython-input-27-df4d4dcd2de2>\"\u001b[0;36m, line \u001b[0;32m1\u001b[0m\n\u001b[0;31m    *c\u001b[0m\n\u001b[0m      ^\u001b[0m\n\u001b[0;31mSyntaxError\u001b[0m\u001b[0;31m:\u001b[0m can't use starred expression here\n"
     ]
    }
   ],
   "source": [
    "*c"
   ]
  },
  {
   "cell_type": "code",
   "execution_count": 20,
   "metadata": {
    "ExecuteTime": {
     "end_time": "2018-04-12T06:00:11.208604Z",
     "start_time": "2018-04-12T06:00:11.199456Z"
    }
   },
   "outputs": [],
   "source": [
    "d = np.asarray(c)"
   ]
  }
 ],
 "metadata": {
  "kernelspec": {
   "display_name": "Python 3",
   "language": "python",
   "name": "python3"
  },
  "language_info": {
   "codemirror_mode": {
    "name": "ipython",
    "version": 3
   },
   "file_extension": ".py",
   "mimetype": "text/x-python",
   "name": "python",
   "nbconvert_exporter": "python",
   "pygments_lexer": "ipython3",
   "version": "3.6.3"
  }
 },
 "nbformat": 4,
 "nbformat_minor": 2
}

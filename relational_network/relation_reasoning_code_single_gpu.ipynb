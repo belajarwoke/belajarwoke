{
 "cells": [
  {
   "cell_type": "code",
   "execution_count": 1,
   "metadata": {},
   "outputs": [],
   "source": [
    "import mxnet as mx\n",
    "from mxnet import gluon, autograd, nd\n",
    "from mxnet.gluon import nn,utils \n",
    "import mxnet.ndarray as F\n",
    "import numpy as np\n",
    "import os, sys\n",
    "from tqdm import tqdm\n",
    "\n",
    "import pickle\n",
    "import random\n",
    "from tqdm import tqdm"
   ]
  },
  {
   "cell_type": "code",
   "execution_count": 2,
   "metadata": {},
   "outputs": [],
   "source": [
    "gpu_idx = 4 # increase if you have more\n",
    "ctx = mx.gpu(gpu_idx)"
   ]
  },
  {
   "cell_type": "code",
   "execution_count": 3,
   "metadata": {},
   "outputs": [],
   "source": [
    "class ConvInputModel(nn.HybridBlock):\n",
    "    def __init__(self,**kwargs):\n",
    "        super(ConvInputModel,self).__init__(**kwargs)\n",
    "                \n",
    "        with self.name_scope():\n",
    "            self.conv1 = nn.Conv2D(channels=24,kernel_size=3,strides=2,padding=1,activation='relu')\n",
    "            self.bn1 = nn.BatchNorm()\n",
    "            self.conv2 = nn.Conv2D(channels=24,kernel_size=3,strides=2,padding=1,activation='relu')\n",
    "            self.bn2 = nn.BatchNorm()\n",
    "            self.conv3 = nn.Conv2D(channels=24,kernel_size=3,strides=2,padding=1,activation='relu')\n",
    "            self.bn3 = nn.BatchNorm()\n",
    "            self.conv4 = nn.Conv2D(channels=24,kernel_size=3,strides=2,padding=1,activation='relu')\n",
    "            self.bn4 = nn.BatchNorm()\n",
    "            \n",
    "    def forward(self,x):\n",
    "        x = self.conv1(x)\n",
    "        x = self.bn1(x)\n",
    "        x = self.conv2(x)\n",
    "        x = self.bn2(x)\n",
    "        x = self.conv3(x)\n",
    "        x = self.bn3(x)\n",
    "        x = self.conv4(x)\n",
    "        x = self.bn4(x)\n",
    "        \n",
    "        return x"
   ]
  },
  {
   "cell_type": "code",
   "execution_count": 4,
   "metadata": {},
   "outputs": [],
   "source": [
    "class FCOutputModel(nn.HybridBlock):\n",
    "    def __init__(self,**kwargs):\n",
    "        super(FCOutputModel,self).__init__(**kwargs)\n",
    "        \n",
    "        with self.name_scope():\n",
    "            self.fc2 = nn.Dense(256)\n",
    "            self.fc3 = nn.Dense(10)\n",
    "    \n",
    "    def forward(self,x):\n",
    "        x = self.fc2(x)\n",
    "        x = F.relu(x)\n",
    "        x = F.Dropout(x)\n",
    "        x = self.fc3(x)\n",
    "        \n",
    "        #return F.log_softmax(x)\n",
    "        return x"
   ]
  },
  {
   "cell_type": "code",
   "execution_count": 5,
   "metadata": {},
   "outputs": [],
   "source": [
    "class RN_Model(nn.HybridBlock):\n",
    "    def __init__(self,args,**kwargs):\n",
    "        super(RN_Model,self).__init__(**kwargs)\n",
    "    \n",
    "        with self.name_scope():\n",
    "            self.conv = ConvInputModel()\n",
    "            \n",
    "            self.g_fc1 = nn.Dense(256,activation='relu')\n",
    "            self.g_fc2 = nn.Dense(256,activation='relu')\n",
    "            self.g_fc3 = nn.Dense(256,activation='relu')\n",
    "            self.g_fc4 = nn.Dense(256,activation='relu')\n",
    "            \n",
    "            self.f_fc1 = nn.Dense(256,activation='relu')\n",
    "            \n",
    "            \n",
    "            #self.coord_oi = gluon.Parameter('oi',shape=(args.batch_size,2))\n",
    "            #self.coord_oj = gluon.Parameter('oj',shape=(args.batch_size,2))\n",
    "            #self.coord_tensor = gluon.Parameter('coord_tensor',shape=(args['batch_size'],25,2))\n",
    "        \n",
    "            ##initialize\n",
    "            #self.coord_oi.intialize()\n",
    "            #self.coord_oj.intialize()\n",
    "            #self.coord_tensor.initialize(ctx=ctx)\n",
    "            \n",
    "            \n",
    "            \n",
    "            self.fcout = FCOutputModel()\n",
    "            \n",
    "            \n",
    "\n",
    "    def forward(self,x,qst):\n",
    "        \n",
    "        self.coord_tensor = F.zeros((args['batch_size'], 25, 2),ctx=mx.gpu(gpu_idx))\n",
    "         # prepare coord tensor\n",
    "        def cvt_coord(i):\n",
    "                return [(i/5-2)/2., (i%5-2)/2.]\n",
    "        \n",
    "        for i in range(25):\n",
    "            self.coord_tensor[:,i,:] = F.array( cvt_coord(i) )\n",
    "        #self.coord_tensor.set_data(F.array(np_coord_tensor).copy())\n",
    "        \n",
    "        #input size = (64 * 3 * 75 * 75)\n",
    "        x = self.conv(x) ## x = (64 * 24 * 5 * 5)\n",
    "                \n",
    "        ##g part\n",
    "        mb = x.shape[0]\n",
    "        n_channels = x.shape[1]\n",
    "        d = x.shape[2]\n",
    "        \n",
    "        x_flat = x.reshape(shape=(mb,n_channels,d*d))\n",
    "        x_flat = F.swapaxes(x_flat,1,2) ## (64 * 25 * 24)\n",
    "        \n",
    "        ##add coordinates\n",
    "        x_flat = F.concat(x_flat,self.coord_tensor,dim=2) ##(64 * 25 * 26)\n",
    "        #x_flat = F.concat(x_flat,np_coord_tensor,dim=2)\n",
    "        \n",
    "        ##add question\n",
    "        qst = qst.expand_dims(1)\n",
    "        qst = F.repeat(qst,repeats=25,axis=1)\n",
    "        qst =qst.expand_dims(2)\n",
    "        \n",
    "        # cast all pairs against each other\n",
    "        x_i = x_flat.expand_dims(1)\n",
    "        x_i = F.repeat(x_i,repeats=25,axis=1)\n",
    "        \n",
    "        x_j = x_flat.expand_dims(2)\n",
    "        x_j = F.concat(x_j,qst,dim=3)\n",
    "        x_j = F.repeat(x_j,repeats=25,axis=2)\n",
    "        \n",
    "        #concatenate all\n",
    "        x_full = F.concat(x_i,x_j,dim=3)\n",
    "        \n",
    "        #reshape and apply dnn network\n",
    "        x_ = x_full.reshape((-1,63))\n",
    "        x_ = self.g_fc1(x_)\n",
    "        x_ = self.g_fc2(x_)\n",
    "        x_ = self.g_fc3(x_)\n",
    "        x_ = self.g_fc4(x_)\n",
    "        \n",
    "        x_g = x_.reshape((mb,-1,256))\n",
    "        x_g = x_g.sum(1)\n",
    "        \n",
    "        ##### f part #######\n",
    "        x_f = self.f_fc1(x_g)\n",
    "        \n",
    "        return self.fcout(x_f)\n",
    "            "
   ]
  },
  {
   "cell_type": "code",
   "execution_count": 6,
   "metadata": {},
   "outputs": [],
   "source": [
    "def load_data():\n",
    "    print('loading data...')\n",
    "    dirs = os.getcwd()\n",
    "    filename = os.path.join(dirs,'sort-of-clevr.pickle')\n",
    "    with open(filename, 'rb') as f:\n",
    "        train_datasets, test_datasets = pickle.load(f)\n",
    "    rel_train = []\n",
    "    rel_test = []\n",
    "    norel_train = []\n",
    "    norel_test = []\n",
    "    print('processing data...')\n",
    "\n",
    "    for img, relations, norelations in train_datasets:\n",
    "        img = np.swapaxes(img,0,2)\n",
    "        for qst,ans in zip(relations[0], relations[1]):\n",
    "            rel_train.append((img,qst,ans))\n",
    "        for qst,ans in zip(norelations[0], norelations[1]):\n",
    "            norel_train.append((img,qst,ans))\n",
    "\n",
    "    for img, relations, norelations in test_datasets:\n",
    "        img = np.swapaxes(img,0,2)\n",
    "        for qst,ans in zip(relations[0], relations[1]):\n",
    "            rel_test.append((img,qst,ans))\n",
    "        for qst,ans in zip(norelations[0], norelations[1]):\n",
    "            norel_test.append((img,qst,ans))\n",
    "    \n",
    "    return (rel_train, rel_test, norel_train, norel_test)"
   ]
  },
  {
   "cell_type": "code",
   "execution_count": 7,
   "metadata": {},
   "outputs": [
    {
     "name": "stdout",
     "output_type": "stream",
     "text": [
      "loading data...\n",
      "processing data...\n"
     ]
    }
   ],
   "source": [
    "rel_train, rel_test, norel_train, norel_test = load_data()"
   ]
  },
  {
   "cell_type": "code",
   "execution_count": 8,
   "metadata": {},
   "outputs": [],
   "source": [
    "import matplotlib as mpl\n",
    "import matplotlib.pyplot as plt"
   ]
  },
  {
   "cell_type": "code",
   "execution_count": 9,
   "metadata": {},
   "outputs": [],
   "source": [
    "def display_image(data):\n",
    "    img = data[0]\n",
    "    img = np.swapaxes(img,0,2)\n",
    "    plt.imshow((img * 255.0).astype('uint8'))"
   ]
  },
  {
   "cell_type": "code",
   "execution_count": 10,
   "metadata": {},
   "outputs": [
    {
     "data": {
      "image/png": "[encoded data removed]",
      "text/plain": [
       "<matplotlib.figure.Figure at 0x7f41841ec128>"
      ]
     },
     "metadata": {},
     "output_type": "display_data"
    }
   ],
   "source": [
    "display_image(rel_train[11])"
   ]
  },
  {
   "cell_type": "code",
   "execution_count": 11,
   "metadata": {},
   "outputs": [],
   "source": [
    "args = dict()\n",
    "args['batch_size'] = 64\n",
    "args['epoches'] = 30"
   ]
  },
  {
   "cell_type": "code",
   "execution_count": 12,
   "metadata": {},
   "outputs": [],
   "source": [
    "model = RN_Model(args)"
   ]
  },
  {
   "cell_type": "code",
   "execution_count": 13,
   "metadata": {},
   "outputs": [],
   "source": [
    "#parameter initialozation\n",
    "model.collect_params().initialize(ctx=ctx)"
   ]
  },
  {
   "cell_type": "code",
   "execution_count": 14,
   "metadata": {},
   "outputs": [],
   "source": [
    "#set optimizer\n",
    "trainer = gluon.Trainer(model.collect_params(),optimizer='adam',optimizer_params={'learning_rate':0.0001})"
   ]
  },
  {
   "cell_type": "code",
   "execution_count": 15,
   "metadata": {},
   "outputs": [],
   "source": [
    "#define loss function\n",
    "loss = gluon.loss.SoftmaxCrossEntropyLoss()"
   ]
  },
  {
   "cell_type": "code",
   "execution_count": 16,
   "metadata": {},
   "outputs": [],
   "source": [
    "def cvt_data_axis(data):\n",
    "    img = [e[0] for e in data]\n",
    "    qst = [e[1] for e in data]\n",
    "    ans = [e[2] for e in data]\n",
    "    return (img,qst,ans)"
   ]
  },
  {
   "cell_type": "code",
   "execution_count": 17,
   "metadata": {},
   "outputs": [],
   "source": [
    "def ndarray_conv(data, i,bs,ctx):\n",
    "    img = F.array(np.asarray(data[0][bs*i:bs*(i+1)]),ctx=ctx)\n",
    "    qst = F.array(np.asarray(data[1][bs*i:bs*(i+1)]),ctx=ctx)\n",
    "    ans = F.array(np.asarray(data[2][bs*i:bs*(i+1)]),ctx=ctx)\n",
    "\n",
    "    return img, qst, ans"
   ]
  },
  {
   "cell_type": "code",
   "execution_count": 18,
   "metadata": {},
   "outputs": [],
   "source": [
    "#Define Evaluation metric\n",
    "def evaluate_accuracy(data,  model, ctx):\n",
    "    data_conv = cvt_data_axis(data)\n",
    "    acc = mx.metric.Accuracy()\n",
    "    accuracy_mat = []\n",
    "    for batch_idx in range(len(data) // (args['batch_size'])):\n",
    "        input_img, input_qst, label = ndarray_conv(data_conv,batch_idx,args['batch_size'],ctx)\n",
    "        output = model(input_img,input_qst)\n",
    "        predictions = nd.argmax(output,axis=1)\n",
    "        acc.update(preds=predictions, labels=label)\n",
    "        accuracy_mat.append(acc.get()[1])\n",
    "    accuracy = sum(accuracy_mat) / len(accuracy_mat)\n",
    "    return accuracy"
   ]
  },
  {
   "cell_type": "code",
   "execution_count": 19,
   "metadata": {},
   "outputs": [
    {
     "name": "stderr",
     "output_type": "stream",
     "text": [
      "  3%|▎         | 1/30 [01:36<46:46, 96.77s/it]"
     ]
    },
    {
     "name": "stdout",
     "output_type": "stream",
     "text": [
      "Epoch 0. rel_Loss: 60.893042618585206 norel_Loss: 46.403109995856305 rel_ACC: 0.644911047027514 norel_ACC: 0.5670214128330142\n"
     ]
    },
    {
     "name": "stderr",
     "output_type": "stream",
     "text": [
      "\r",
      "  7%|▋         | 2/30 [03:12<45:02, 96.50s/it]"
     ]
    },
    {
     "name": "stdout",
     "output_type": "stream",
     "text": [
      "Epoch 1. rel_Loss: 42.143365450110956 norel_Loss: 42.378515830310945 rel_ACC: 0.6781246940256477 norel_ACC: 0.5436258549422645\n"
     ]
    },
    {
     "name": "stderr",
     "output_type": "stream",
     "text": [
      "\r",
      " 10%|█         | 3/30 [04:48<43:20, 96.31s/it]"
     ]
    },
    {
     "name": "stdout",
     "output_type": "stream",
     "text": [
      "Epoch 2. rel_Loss: 39.070834915440194 norel_Loss: 41.947911479907596 rel_ACC: 0.6041821044890893 norel_ACC: 0.6046974678016904\n"
     ]
    },
    {
     "name": "stderr",
     "output_type": "stream",
     "text": [
      "\r",
      " 13%|█▎        | 4/30 [06:26<41:56, 96.80s/it]"
     ]
    },
    {
     "name": "stdout",
     "output_type": "stream",
     "text": [
      "Epoch 3. rel_Loss: 37.8697338166539 norel_Loss: 41.59693840918862 rel_ACC: 0.6971469828077164 norel_ACC: 0.59409828421267\n"
     ]
    },
    {
     "name": "stderr",
     "output_type": "stream",
     "text": [
      "\r",
      " 17%|█▋        | 5/30 [08:03<40:19, 96.78s/it]"
     ]
    },
    {
     "name": "stdout",
     "output_type": "stream",
     "text": [
      "Epoch 4. rel_Loss: 37.16387513258503 norel_Loss: 41.38369719332764 rel_ACC: 0.6858356531643962 norel_ACC: 0.6037202684543874\n"
     ]
    },
    {
     "name": "stderr",
     "output_type": "stream",
     "text": [
      "\r",
      " 20%|██        | 6/30 [09:39<38:41, 96.73s/it]"
     ]
    },
    {
     "name": "stdout",
     "output_type": "stream",
     "text": [
      "Epoch 5. rel_Loss: 36.418964518043126 norel_Loss: 41.1787999911218 rel_ACC: 0.6907515301073822 norel_ACC: 0.6173677368478866\n"
     ]
    },
    {
     "name": "stderr",
     "output_type": "stream",
     "text": [
      "\r",
      " 23%|██▎       | 7/30 [11:13<36:44, 95.85s/it]"
     ]
    },
    {
     "name": "stdout",
     "output_type": "stream",
     "text": [
      "Epoch 6. rel_Loss: 35.80957102261674 norel_Loss: 41.037380153723284 rel_ACC: 0.4526636644662829 norel_ACC: 0.5843627877823574\n"
     ]
    },
    {
     "name": "stderr",
     "output_type": "stream",
     "text": [
      "\r",
      " 27%|██▋       | 8/30 [12:46<34:50, 95.02s/it]"
     ]
    },
    {
     "name": "stdout",
     "output_type": "stream",
     "text": [
      "Epoch 7. rel_Loss: 35.76402726973839 norel_Loss: 40.93745163731292 rel_ACC: 0.682895839084865 norel_ACC: 0.6281480997001231\n"
     ]
    },
    {
     "name": "stderr",
     "output_type": "stream",
     "text": [
      "\r",
      " 30%|███       | 9/30 [14:20<33:05, 94.54s/it]"
     ]
    },
    {
     "name": "stdout",
     "output_type": "stream",
     "text": [
      "Epoch 8. rel_Loss: 35.09499647039591 norel_Loss: 40.78940554867376 rel_ACC: 0.6930243255611401 norel_ACC: 0.6157892599453609\n"
     ]
    },
    {
     "name": "stderr",
     "output_type": "stream",
     "text": [
      "\r",
      " 33%|███▎      | 10/30 [15:54<31:27, 94.37s/it]"
     ]
    },
    {
     "name": "stdout",
     "output_type": "stream",
     "text": [
      "Epoch 9. rel_Loss: 35.068792082763515 norel_Loss: 40.654852153895185 rel_ACC: 0.7050078473135845 norel_ACC: 0.6237111940134058\n"
     ]
    },
    {
     "name": "stderr",
     "output_type": "stream",
     "text": [
      "\r",
      " 37%|███▋      | 11/30 [17:27<29:47, 94.09s/it]"
     ]
    },
    {
     "name": "stdout",
     "output_type": "stream",
     "text": [
      "Epoch 10. rel_Loss: 34.45732533674782 norel_Loss: 40.50836941340949 rel_ACC: 0.7153887958405648 norel_ACC: 0.6330182608120702\n"
     ]
    },
    {
     "name": "stderr",
     "output_type": "stream",
     "text": [
      "\r",
      " 40%|████      | 12/30 [19:01<28:14, 94.11s/it]"
     ]
    },
    {
     "name": "stdout",
     "output_type": "stream",
     "text": [
      "Epoch 11. rel_Loss: 34.28848905831205 norel_Loss: 39.979220369763816 rel_ACC: 0.7244517980134796 norel_ACC: 0.6555851352146868\n"
     ]
    },
    {
     "name": "stderr",
     "output_type": "stream",
     "text": [
      "\r",
      " 43%|████▎     | 13/30 [20:34<26:34, 93.80s/it]"
     ]
    },
    {
     "name": "stdout",
     "output_type": "stream",
     "text": [
      "Epoch 12. rel_Loss: 34.03899449448738 norel_Loss: 33.04881597141438 rel_ACC: 0.6871982450178838 norel_ACC: 0.8033757055754795\n"
     ]
    },
    {
     "name": "stderr",
     "output_type": "stream",
     "text": [
      "\r",
      " 47%|████▋     | 14/30 [22:09<25:05, 94.10s/it]"
     ]
    },
    {
     "name": "stdout",
     "output_type": "stream",
     "text": [
      "Epoch 13. rel_Loss: 33.08391691515603 norel_Loss: 21.230693239078732 rel_ACC: 0.7375869482910165 norel_ACC: 0.8738013557232153\n"
     ]
    },
    {
     "name": "stderr",
     "output_type": "stream",
     "text": [
      "\r",
      " 50%|█████     | 15/30 [23:42<23:24, 93.64s/it]"
     ]
    },
    {
     "name": "stdout",
     "output_type": "stream",
     "text": [
      "Epoch 14. rel_Loss: 29.219723887726968 norel_Loss: 14.129230334196583 rel_ACC: 0.7097258786288441 norel_ACC: 0.9237007898928189\n"
     ]
    },
    {
     "name": "stderr",
     "output_type": "stream",
     "text": [
      "\r",
      " 53%|█████▎    | 16/30 [25:15<21:48, 93.43s/it]"
     ]
    },
    {
     "name": "stdout",
     "output_type": "stream",
     "text": [
      "Epoch 15. rel_Loss: 25.972523863684657 norel_Loss: 5.446856615961494 rel_ACC: 0.8208384585581795 norel_ACC: 0.9838696777521365\n"
     ]
    },
    {
     "name": "stderr",
     "output_type": "stream",
     "text": [
      "\r",
      " 57%|█████▋    | 17/30 [26:49<20:17, 93.66s/it]"
     ]
    },
    {
     "name": "stdout",
     "output_type": "stream",
     "text": [
      "Epoch 16. rel_Loss: 23.600671994304594 norel_Loss: 1.9756318964045871 rel_ACC: 0.8356744533371067 norel_ACC: 0.9893192080477562\n"
     ]
    },
    {
     "name": "stderr",
     "output_type": "stream",
     "text": [
      "\r",
      " 60%|██████    | 18/30 [28:23<18:46, 93.90s/it]"
     ]
    },
    {
     "name": "stdout",
     "output_type": "stream",
     "text": [
      "Epoch 17. rel_Loss: 22.0311200642103 norel_Loss: 1.330527506059414 rel_ACC: 0.8578030324669422 norel_ACC: 0.9839485577764762\n"
     ]
    },
    {
     "name": "stderr",
     "output_type": "stream",
     "text": [
      "\r",
      " 63%|██████▎   | 19/30 [29:57<17:12, 93.89s/it]"
     ]
    },
    {
     "name": "stdout",
     "output_type": "stream",
     "text": [
      "Epoch 18. rel_Loss: 20.269255728444424 norel_Loss: 0.9753381701020231 rel_ACC: 0.8584965748631254 norel_ACC: 0.9919755317355601\n"
     ]
    },
    {
     "name": "stderr",
     "output_type": "stream",
     "text": [
      "\r",
      " 67%|██████▋   | 20/30 [31:30<15:37, 93.75s/it]"
     ]
    },
    {
     "name": "stdout",
     "output_type": "stream",
     "text": [
      "Epoch 19. rel_Loss: 18.924349501115834 norel_Loss: 0.778562094882565 rel_ACC: 0.8574065294991291 norel_ACC: 0.9900599997317426\n"
     ]
    },
    {
     "name": "stderr",
     "output_type": "stream",
     "text": [
      "\r",
      " 70%|███████   | 21/30 [33:04<14:02, 93.62s/it]"
     ]
    },
    {
     "name": "stdout",
     "output_type": "stream",
     "text": [
      "Epoch 20. rel_Loss: 17.520323550911375 norel_Loss: 0.6506747916388124 rel_ACC: 0.8699601075516599 norel_ACC: 0.9947022248002668\n"
     ]
    },
    {
     "name": "stderr",
     "output_type": "stream",
     "text": [
      "\r",
      " 73%|███████▎  | 22/30 [34:38<12:29, 93.69s/it]"
     ]
    },
    {
     "name": "stdout",
     "output_type": "stream",
     "text": [
      "Epoch 21. rel_Loss: 16.389930070731314 norel_Loss: 0.5393892024495025 rel_ACC: 0.8671745844875021 norel_ACC: 0.9905175595443768\n"
     ]
    },
    {
     "name": "stderr",
     "output_type": "stream",
     "text": [
      "\r",
      " 77%|███████▋  | 23/30 [36:10<10:53, 93.41s/it]"
     ]
    },
    {
     "name": "stdout",
     "output_type": "stream",
     "text": [
      "Epoch 22. rel_Loss: 15.407217384864115 norel_Loss: 0.4928368747507637 rel_ACC: 0.8723874135682871 norel_ACC: 0.9912690005947838\n"
     ]
    },
    {
     "name": "stderr",
     "output_type": "stream",
     "text": [
      "\r",
      " 80%|████████  | 24/30 [37:43<09:19, 93.18s/it]"
     ]
    },
    {
     "name": "stdout",
     "output_type": "stream",
     "text": [
      "Epoch 23. rel_Loss: 14.49431818096876 norel_Loss: 0.4151209252528118 rel_ACC: 0.882819099522611 norel_ACC: 0.9949190858181164\n"
     ]
    },
    {
     "name": "stderr",
     "output_type": "stream",
     "text": [
      "\r",
      " 83%|████████▎ | 25/30 [39:17<07:47, 93.51s/it]"
     ]
    },
    {
     "name": "stdout",
     "output_type": "stream",
     "text": [
      "Epoch 24. rel_Loss: 13.715022791919173 norel_Loss: 0.3518597316184891 rel_ACC: 0.8958902744579345 norel_ACC: 0.9910266718343536\n"
     ]
    },
    {
     "name": "stderr",
     "output_type": "stream",
     "text": [
      "\r",
      " 87%|████████▋ | 26/30 [40:52<06:15, 93.81s/it]"
     ]
    },
    {
     "name": "stdout",
     "output_type": "stream",
     "text": [
      "Epoch 25. rel_Loss: 12.940758954302927 norel_Loss: 0.33900085693208976 rel_ACC: 0.8986703625673379 norel_ACC: 0.9945220502453951\n"
     ]
    },
    {
     "name": "stderr",
     "output_type": "stream",
     "text": [
      "\r",
      " 90%|█████████ | 27/30 [42:26<04:41, 93.87s/it]"
     ]
    },
    {
     "name": "stdout",
     "output_type": "stream",
     "text": [
      "Epoch 26. rel_Loss: 12.14070699777111 norel_Loss: 0.2956663809945092 rel_ACC: 0.8907945339653153 norel_ACC: 0.9946423362502359\n"
     ]
    },
    {
     "name": "stderr",
     "output_type": "stream",
     "text": [
      "\r",
      " 93%|█████████▎| 28/30 [44:00<03:07, 93.93s/it]"
     ]
    },
    {
     "name": "stdout",
     "output_type": "stream",
     "text": [
      "Epoch 27. rel_Loss: 11.320969343029697 norel_Loss: 0.30255659231845544 rel_ACC: 0.8942954739157147 norel_ACC: 0.9986678913991329\n"
     ]
    },
    {
     "name": "stderr",
     "output_type": "stream",
     "text": [
      "\r",
      " 97%|█████████▋| 29/30 [45:35<01:34, 94.19s/it]"
     ]
    },
    {
     "name": "stdout",
     "output_type": "stream",
     "text": [
      "Epoch 28. rel_Loss: 10.770466038014357 norel_Loss: 0.28003496032806385 rel_ACC: 0.8653015925210129 norel_ACC: 0.99613278934671\n"
     ]
    },
    {
     "name": "stderr",
     "output_type": "stream",
     "text": [
      "\r",
      "100%|██████████| 30/30 [47:08<00:00, 94.01s/it]"
     ]
    },
    {
     "name": "stdout",
     "output_type": "stream",
     "text": [
      "Epoch 29. rel_Loss: 10.006709086824912 norel_Loss: 0.2696463917596134 rel_ACC: 0.8894645468368334 norel_ACC: 0.9982114652980479\n"
     ]
    },
    {
     "name": "stderr",
     "output_type": "stream",
     "text": [
      "\n"
     ]
    }
   ],
   "source": [
    "for epoch in tqdm(range(args['epoches'])):\n",
    "    cumulative_rel_loss = 0.0\n",
    "    cumulative_norel_loss = 0.0\n",
    "    \n",
    "    input_rel_train = rel_train.copy()\n",
    "    input_norel_train = norel_train.copy()\n",
    "    \n",
    "    #shuffle data\n",
    "    random.shuffle(input_rel_train)\n",
    "    random.shuffle(input_norel_train)\n",
    "    \n",
    "    rel = cvt_data_axis(input_rel_train)\n",
    "    norel = cvt_data_axis(input_norel_train)\n",
    "    \n",
    "    for batch_idx in range(len(rel[0]) // (args['batch_size'])):\n",
    "        input_rel_img, input_rel_qst, rel_label = ndarray_conv(rel,batch_idx,args['batch_size'],ctx)\n",
    "        \n",
    "        with autograd.record():\n",
    "            rel_output = model(input_rel_img,input_rel_qst)\n",
    "            rel_loss = loss(rel_output,rel_label)\n",
    "        rel_loss.backward()\n",
    "        trainer.step(args['batch_size'])\n",
    "        cumulative_rel_loss += nd.sum(rel_loss).asscalar()\n",
    "        \n",
    "        input_norel_img, input_norel_qst, norel_label = ndarray_conv(norel,batch_idx,args['batch_size'],ctx)  \n",
    "        with autograd.record():\n",
    "            norel_output = model(input_norel_img,input_norel_qst)\n",
    "            norel_loss = gluon.loss.SoftmaxCrossEntropyLoss()(norel_output,norel_label)\n",
    "        norel_loss.backward()\n",
    "        trainer.step(args['batch_size'])\n",
    "        cumulative_norel_loss += nd.sum(norel_loss).asscalar()\n",
    "        \n",
    "    rel_accuracy = evaluate_accuracy(rel_test, model, ctx)\n",
    "    norel_accuracy = evaluate_accuracy(norel_test, model, ctx)\n",
    "    #print(\"Epoch {e}. rel_Loss: {rl} \".format(e=epoch, rl=cumulative_loss/(len(rel[0]) // (args['batch_size']))))\n",
    "    print(\"Epoch {e}. rel_Loss: {rl} norel_Loss: {nrl} rel_ACC: {rl_acc} norel_ACC: {nrl_acc}\".format(e=epoch, rl=cumulative_rel_loss/(len(rel[0]) // args['batch_size'])\n",
    "                                                                                                      , nrl=cumulative_norel_loss/ (len(rel[0]) // args['batch_size']), rl_acc=rel_accuracy,nrl_acc=norel_accuracy))"
   ]
  },
  {
   "cell_type": "code",
   "execution_count": 20,
   "metadata": {},
   "outputs": [
    {
     "data": {
      "text/plain": [
       "RN_Model(\n",
       "  (conv): ConvInputModel(\n",
       "    (conv1): Conv2D(3 -> 24, kernel_size=(3, 3), stride=(2, 2), padding=(1, 1))\n",
       "    (bn1): BatchNorm(axis=1, eps=1e-05, momentum=0.9, fix_gamma=False, in_channels=24)\n",
       "    (conv2): Conv2D(24 -> 24, kernel_size=(3, 3), stride=(2, 2), padding=(1, 1))\n",
       "    (bn2): BatchNorm(axis=1, eps=1e-05, momentum=0.9, fix_gamma=False, in_channels=24)\n",
       "    (conv3): Conv2D(24 -> 24, kernel_size=(3, 3), stride=(2, 2), padding=(1, 1))\n",
       "    (bn3): BatchNorm(axis=1, eps=1e-05, momentum=0.9, fix_gamma=False, in_channels=24)\n",
       "    (conv4): Conv2D(24 -> 24, kernel_size=(3, 3), stride=(2, 2), padding=(1, 1))\n",
       "    (bn4): BatchNorm(axis=1, eps=1e-05, momentum=0.9, fix_gamma=False, in_channels=24)\n",
       "  )\n",
       "  (g_fc1): Dense(63 -> 256, Activation(relu))\n",
       "  (g_fc2): Dense(256 -> 256, Activation(relu))\n",
       "  (g_fc3): Dense(256 -> 256, Activation(relu))\n",
       "  (g_fc4): Dense(256 -> 256, Activation(relu))\n",
       "  (f_fc1): Dense(256 -> 256, Activation(relu))\n",
       "  (fcout): FCOutputModel(\n",
       "    (fc2): Dense(256 -> 256, linear)\n",
       "    (fc3): Dense(256 -> 10, linear)\n",
       "  )\n",
       ")"
      ]
     },
     "execution_count": 20,
     "metadata": {},
     "output_type": "execute_result"
    }
   ],
   "source": [
    "model"
   ]
  },
  {
   "cell_type": "code",
   "execution_count": 21,
   "metadata": {},
   "outputs": [
    {
     "data": {
      "text/plain": [
       "'/home/skinet/work/dl_study'"
      ]
     },
     "execution_count": 21,
     "metadata": {},
     "output_type": "execute_result"
    }
   ],
   "source": [
    "os.getcwd()"
   ]
  },
  {
   "cell_type": "code",
   "execution_count": 23,
   "metadata": {},
   "outputs": [],
   "source": [
    "##save the model\n",
    "filename = os.getcwd()+'/models/rl_single_gpu.params'\n",
    "model.save_params(filename)"
   ]
  }
 ],
 "metadata": {
  "kernelspec": {
   "display_name": "Python 3",
   "language": "python",
   "name": "python3"
  },
  "language_info": {
   "codemirror_mode": {
    "name": "ipython",
    "version": 3
   },
   "file_extension": ".py",
   "mimetype": "text/x-python",
   "name": "python",
   "nbconvert_exporter": "python",
   "pygments_lexer": "ipython3",
   "version": "3.6.3"
  }
 },
 "nbformat": 4,
 "nbformat_minor": 2
}

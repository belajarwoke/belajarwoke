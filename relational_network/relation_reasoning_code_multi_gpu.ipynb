{
 "cells": [
  {
   "cell_type": "code",
   "execution_count": 1,
   "metadata": {},
   "outputs": [],
   "source": [
    "import mxnet as mx\n",
    "from mxnet import gluon, autograd, nd\n",
    "from mxnet.gluon import nn,utils \n",
    "import mxnet.ndarray as F\n",
    "import numpy as np\n",
    "import os, sys\n",
    "from tqdm import tqdm\n",
    "\n",
    "import pickle\n",
    "import random\n",
    "from tqdm import tqdm"
   ]
  },
  {
   "cell_type": "code",
   "execution_count": 2,
   "metadata": {},
   "outputs": [],
   "source": [
    "GPU_COUNT = 4 # increase if you have more\n",
    "ctx = [mx.gpu(i) for i in range(GPU_COUNT)]"
   ]
  },
  {
   "cell_type": "code",
   "execution_count": 3,
   "metadata": {},
   "outputs": [],
   "source": [
    "class ConvInputModel(nn.HybridBlock):\n",
    "    def __init__(self,**kwargs):\n",
    "        super(ConvInputModel,self).__init__(**kwargs)\n",
    "                \n",
    "        with self.name_scope():\n",
    "            self.conv1 = nn.Conv2D(channels=24,kernel_size=3,strides=2,padding=1,activation='relu')\n",
    "            self.bn1 = nn.BatchNorm()\n",
    "            self.conv2 = nn.Conv2D(channels=24,kernel_size=3,strides=2,padding=1,activation='relu')\n",
    "            self.bn2 = nn.BatchNorm()\n",
    "            self.conv3 = nn.Conv2D(channels=24,kernel_size=3,strides=2,padding=1,activation='relu')\n",
    "            self.bn3 = nn.BatchNorm()\n",
    "            self.conv4 = nn.Conv2D(channels=24,kernel_size=3,strides=2,padding=1,activation='relu')\n",
    "            self.bn4 = nn.BatchNorm()\n",
    "            \n",
    "    def forward(self,x):\n",
    "        x = self.conv1(x)\n",
    "        x = self.bn1(x)\n",
    "        x = self.conv2(x)\n",
    "        x = self.bn2(x)\n",
    "        x = self.conv3(x)\n",
    "        x = self.bn3(x)\n",
    "        x = self.conv4(x)\n",
    "        x = self.bn4(x)\n",
    "        \n",
    "        return x"
   ]
  },
  {
   "cell_type": "code",
   "execution_count": 4,
   "metadata": {},
   "outputs": [],
   "source": [
    "class FCOutputModel(nn.HybridBlock):\n",
    "    def __init__(self,**kwargs):\n",
    "        super(FCOutputModel,self).__init__(**kwargs)\n",
    "        \n",
    "        with self.name_scope():\n",
    "            self.fc2 = nn.Dense(256)\n",
    "            self.fc3 = nn.Dense(10)\n",
    "    \n",
    "    def forward(self,x):\n",
    "        x = self.fc2(x)\n",
    "        x = F.relu(x)\n",
    "        x = F.Dropout(x)\n",
    "        x = self.fc3(x)\n",
    "        \n",
    "        #return F.log_softmax(x)\n",
    "        return x"
   ]
  },
  {
   "cell_type": "code",
   "execution_count": 5,
   "metadata": {},
   "outputs": [],
   "source": [
    "class RN_Model(nn.HybridBlock):\n",
    "    def __init__(self,args,**kwargs):\n",
    "        super(RN_Model,self).__init__(**kwargs)\n",
    "    \n",
    "        with self.name_scope():\n",
    "            self.conv = ConvInputModel()\n",
    "            \n",
    "            self.g_fc1 = nn.Dense(256,activation='relu')\n",
    "            self.g_fc2 = nn.Dense(256,activation='relu')\n",
    "            self.g_fc3 = nn.Dense(256,activation='relu')\n",
    "            self.g_fc4 = nn.Dense(256,activation='relu')\n",
    "            \n",
    "            self.f_fc1 = nn.Dense(256,activation='relu')\n",
    "            \n",
    "            \n",
    "            #self.coord_oi = gluon.Parameter('oi',shape=(args.batch_size,2))\n",
    "            #self.coord_oj = gluon.Parameter('oj',shape=(args.batch_size,2))\n",
    "            #self.coord_tensor = gluon.Parameter('coord_tensor',shape=(args['batch_size'],25,2))\n",
    "        \n",
    "            ##initialize\n",
    "            #self.coord_oi.intialize()\n",
    "            #self.coord_oj.intialize()\n",
    "            #self.coord_tensor.initialize(ctx=ctx)\n",
    "            \n",
    "            \n",
    "            \n",
    "            self.fcout = FCOutputModel()\n",
    "            \n",
    "            \n",
    "\n",
    "    def forward(self,x,qst):\n",
    "        \n",
    "        self.coord_tensor = F.zeros((args['batch_size'], 25, 2),ctx=mx.gpu())\n",
    "         # prepare coord tensor\n",
    "        def cvt_coord(i):\n",
    "                return [(i/5-2)/2., (i%5-2)/2.]\n",
    "        \n",
    "        for i in range(25):\n",
    "            self.coord_tensor[:,i,:] = F.array( cvt_coord(i) )\n",
    "        #self.coord_tensor.set_data(F.array(np_coord_tensor).copy())\n",
    "        \n",
    "        #input size = (64 * 3 * 75 * 75)\n",
    "        x = self.conv(x) ## x = (64 * 24 * 5 * 5)\n",
    "                \n",
    "        ##g part\n",
    "        mb = x.shape[0]\n",
    "        n_channels = x.shape[1]\n",
    "        d = x.shape[2]\n",
    "        \n",
    "        x_flat = x.reshape(shape=(mb,n_channels,d*d))\n",
    "        x_flat = F.swapaxes(x_flat,1,2) ## (64 * 25 * 24)\n",
    "        \n",
    "        ##add coordinates\n",
    "        x_flat = F.concat(x_flat,self.coord_tensor,dim=2)\n",
    "        #x_flat = F.concat(x_flat,np_coord_tensor,dim=2)\n",
    "        \n",
    "        ##add question\n",
    "        qst = qst.expand_dims(1)\n",
    "        qst = F.repeat(qst,repeats=25,axis=1)\n",
    "        qst =qst.expand_dims(2)\n",
    "        \n",
    "        # cast all pairs against each other\n",
    "        x_i = x_flat.expand_dims(1)\n",
    "        x_i = F.repeat(x_i,repeats=25,axis=1)\n",
    "        \n",
    "        x_j = x_flat.expand_dims(2)\n",
    "        x_j = F.concat(x_j,qst,dim=3)\n",
    "        x_j = F.repeat(x_j,repeats=25,axis=2)\n",
    "        \n",
    "        #concatenate all\n",
    "        x_full = F.concat(x_i,x_j,dim=3)\n",
    "        \n",
    "        #reshape and apply dnn network\n",
    "        x_ = x_full.reshape((-1,63))\n",
    "        x_ = self.g_fc1(x_)\n",
    "        x_ = self.g_fc2(x_)\n",
    "        x_ = self.g_fc3(x_)\n",
    "        x_ = self.g_fc4(x_)\n",
    "        \n",
    "        x_g = x_.reshape((mb,-1,256))\n",
    "        x_g = x_g.sum(1)\n",
    "        \n",
    "        ##### f part #######\n",
    "        x_f = self.f_fc1(x_g)\n",
    "        \n",
    "        return self.fcout(x_f)\n",
    "            "
   ]
  },
  {
   "cell_type": "code",
   "execution_count": 6,
   "metadata": {},
   "outputs": [],
   "source": [
    "def load_data():\n",
    "    print('loading data...')\n",
    "    dirs = os.getcwd()\n",
    "    filename = os.path.join(dirs,'sort-of-clevr.pickle')\n",
    "    with open(filename, 'rb') as f:\n",
    "        train_datasets, test_datasets = pickle.load(f)\n",
    "    rel_train = []\n",
    "    rel_test = []\n",
    "    norel_train = []\n",
    "    norel_test = []\n",
    "    print('processing data...')\n",
    "\n",
    "    for img, relations, norelations in train_datasets:\n",
    "        img = np.swapaxes(img,0,2)\n",
    "        for qst,ans in zip(relations[0], relations[1]):\n",
    "            rel_train.append((img,qst,ans))\n",
    "        for qst,ans in zip(norelations[0], norelations[1]):\n",
    "            norel_train.append((img,qst,ans))\n",
    "\n",
    "    for img, relations, norelations in test_datasets:\n",
    "        img = np.swapaxes(img,0,2)\n",
    "        for qst,ans in zip(relations[0], relations[1]):\n",
    "            rel_test.append((img,qst,ans))\n",
    "        for qst,ans in zip(norelations[0], norelations[1]):\n",
    "            norel_test.append((img,qst,ans))\n",
    "    \n",
    "    return (rel_train, rel_test, norel_train, norel_test)"
   ]
  },
  {
   "cell_type": "code",
   "execution_count": 7,
   "metadata": {},
   "outputs": [
    {
     "name": "stdout",
     "output_type": "stream",
     "text": [
      "loading data...\n",
      "processing data...\n"
     ]
    }
   ],
   "source": [
    "rel_train, rel_test, norel_train, norel_test = load_data()"
   ]
  },
  {
   "cell_type": "code",
   "execution_count": 8,
   "metadata": {},
   "outputs": [],
   "source": [
    "import matplotlib as mpl\n",
    "import matplotlib.pyplot as plt"
   ]
  },
  {
   "cell_type": "code",
   "execution_count": 9,
   "metadata": {},
   "outputs": [],
   "source": [
    "def display_image(data):\n",
    "    img = data[0]\n",
    "    img = np.swapaxes(img,0,2)\n",
    "    plt.imshow((img * 255.0).astype('uint8'))"
   ]
  },
  {
   "cell_type": "code",
   "execution_count": 10,
   "metadata": {},
   "outputs": [
    {
     "data": {
      "image/png": "[encoded data removed]",
      "text/plain": [
       "<matplotlib.figure.Figure at 0x7f66d03ec4a8>"
      ]
     },
     "metadata": {},
     "output_type": "display_data"
    }
   ],
   "source": [
    "display_image(rel_train[11])"
   ]
  },
  {
   "cell_type": "code",
   "execution_count": 11,
   "metadata": {},
   "outputs": [],
   "source": [
    "args = dict()\n",
    "args['batch_size'] = 64\n",
    "args['epoches'] = 10"
   ]
  },
  {
   "cell_type": "code",
   "execution_count": 12,
   "metadata": {},
   "outputs": [],
   "source": [
    "#coord_tensor = F.zeros((args['batch_size'], 25, 2))\n",
    "#coord_tensor = gluon.utils.split_and_load(coord_tensor,ctx)\n",
    "model = RN_Model(args)"
   ]
  },
  {
   "cell_type": "code",
   "execution_count": 13,
   "metadata": {},
   "outputs": [],
   "source": [
    "#parameter initialozation\n",
    "model.collect_params().initialize(ctx=ctx)"
   ]
  },
  {
   "cell_type": "code",
   "execution_count": 14,
   "metadata": {},
   "outputs": [],
   "source": [
    "#set optimizer\n",
    "trainer = gluon.Trainer(model.collect_params(),optimizer='adam',optimizer_params={'learning_rate':0.0001})"
   ]
  },
  {
   "cell_type": "code",
   "execution_count": 15,
   "metadata": {},
   "outputs": [],
   "source": [
    "#define loss function\n",
    "loss = gluon.loss.SoftmaxCrossEntropyLoss()"
   ]
  },
  {
   "cell_type": "code",
   "execution_count": 19,
   "metadata": {},
   "outputs": [],
   "source": [
    "# prepare coord tensor\n",
    "def cvt_coord(i):\n",
    "    return [(i/5-2)/2., (i%5-2)/2.]"
   ]
  },
  {
   "cell_type": "code",
   "execution_count": 16,
   "metadata": {},
   "outputs": [],
   "source": [
    "def cvt_data_axis(data):\n",
    "    img = [e[0] for e in data]\n",
    "    qst = [e[1] for e in data]\n",
    "    ans = [e[2] for e in data]\n",
    "    return (img,qst,ans)"
   ]
  },
  {
   "cell_type": "code",
   "execution_count": 17,
   "metadata": {},
   "outputs": [],
   "source": [
    "def ndarray_conv(data, i,bs,ctx):\n",
    "    img = F.array(np.asarray(data[0][bs*i:bs*(i+1)]))\n",
    "    qst = F.array(np.asarray(data[1][bs*i:bs*(i+1)]))\n",
    "    ans = F.array(np.asarray(data[2][bs*i:bs*(i+1)]))\n",
    "\n",
    "    return img, qst, ans"
   ]
  },
  {
   "cell_type": "code",
   "execution_count": 18,
   "metadata": {},
   "outputs": [
    {
     "name": "stderr",
     "output_type": "stream",
     "text": [
      "  0%|          | 0/10 [00:00<?, ?it/s]\n",
      "  0%|          | 0/382 [00:00<?, ?it/s]\u001b[A\n",
      "\u001b[A\n"
     ]
    },
    {
     "ename": "MXNetError",
     "evalue": "Shape inconsistent, Provided = [64,3,75,75], inferred shape=[64]",
     "output_type": "error",
     "traceback": [
      "\u001b[0;31m---------------------------------------------------------------------------\u001b[0m",
      "\u001b[0;31mMXNetError\u001b[0m                                Traceback (most recent call last)",
      "\u001b[0;32m<ipython-input-18-76b9b0f17d9a>\u001b[0m in \u001b[0;36m<module>\u001b[0;34m()\u001b[0m\n\u001b[1;32m     23\u001b[0m         \u001b[0mcoord_tensor\u001b[0m \u001b[0;34m=\u001b[0m \u001b[0mgluon\u001b[0m\u001b[0;34m.\u001b[0m\u001b[0mutils\u001b[0m\u001b[0;34m.\u001b[0m\u001b[0msplit_and_load\u001b[0m\u001b[0;34m(\u001b[0m\u001b[0mcoord_tensor\u001b[0m\u001b[0;34m,\u001b[0m\u001b[0mctx\u001b[0m\u001b[0;34m)\u001b[0m\u001b[0;34m\u001b[0m\u001b[0m\n\u001b[1;32m     24\u001b[0m         \u001b[0;32mwith\u001b[0m \u001b[0mautograd\u001b[0m\u001b[0;34m.\u001b[0m\u001b[0mrecord\u001b[0m\u001b[0;34m(\u001b[0m\u001b[0;34m)\u001b[0m\u001b[0;34m:\u001b[0m\u001b[0;34m\u001b[0m\u001b[0m\n\u001b[0;32m---> 25\u001b[0;31m             \u001b[0mrel_losses\u001b[0m \u001b[0;34m=\u001b[0m \u001b[0;34m[\u001b[0m\u001b[0mloss\u001b[0m\u001b[0;34m(\u001b[0m\u001b[0mmodel\u001b[0m\u001b[0;34m(\u001b[0m\u001b[0mX\u001b[0m\u001b[0;34m,\u001b[0m\u001b[0mY\u001b[0m\u001b[0;34m,\u001b[0m\u001b[0mW\u001b[0m\u001b[0;34m)\u001b[0m\u001b[0;34m,\u001b[0m\u001b[0mX\u001b[0m\u001b[0;34m)\u001b[0m \u001b[0;32mfor\u001b[0m \u001b[0mX\u001b[0m\u001b[0;34m,\u001b[0m \u001b[0mY\u001b[0m\u001b[0;34m,\u001b[0m \u001b[0mW\u001b[0m\u001b[0;34m,\u001b[0m \u001b[0mZ\u001b[0m \u001b[0;32min\u001b[0m \u001b[0mzip\u001b[0m\u001b[0;34m(\u001b[0m\u001b[0minput_rel_img\u001b[0m\u001b[0;34m,\u001b[0m\u001b[0minput_rel_qst\u001b[0m\u001b[0;34m,\u001b[0m\u001b[0mcoord_tensor\u001b[0m\u001b[0;34m,\u001b[0m\u001b[0mrel_label\u001b[0m\u001b[0;34m)\u001b[0m\u001b[0;34m]\u001b[0m\u001b[0;34m\u001b[0m\u001b[0m\n\u001b[0m\u001b[1;32m     26\u001b[0m             \u001b[0;31m#rel_output = model(input_rel_img,input_rel_qst)\u001b[0m\u001b[0;34m\u001b[0m\u001b[0;34m\u001b[0m\u001b[0m\n\u001b[1;32m     27\u001b[0m             \u001b[0;31m#rel_loss = loss(rel_output,rel_label)\u001b[0m\u001b[0;34m\u001b[0m\u001b[0;34m\u001b[0m\u001b[0m\n",
      "\u001b[0;32m<ipython-input-18-76b9b0f17d9a>\u001b[0m in \u001b[0;36m<listcomp>\u001b[0;34m(.0)\u001b[0m\n\u001b[1;32m     23\u001b[0m         \u001b[0mcoord_tensor\u001b[0m \u001b[0;34m=\u001b[0m \u001b[0mgluon\u001b[0m\u001b[0;34m.\u001b[0m\u001b[0mutils\u001b[0m\u001b[0;34m.\u001b[0m\u001b[0msplit_and_load\u001b[0m\u001b[0;34m(\u001b[0m\u001b[0mcoord_tensor\u001b[0m\u001b[0;34m,\u001b[0m\u001b[0mctx\u001b[0m\u001b[0;34m)\u001b[0m\u001b[0;34m\u001b[0m\u001b[0m\n\u001b[1;32m     24\u001b[0m         \u001b[0;32mwith\u001b[0m \u001b[0mautograd\u001b[0m\u001b[0;34m.\u001b[0m\u001b[0mrecord\u001b[0m\u001b[0;34m(\u001b[0m\u001b[0;34m)\u001b[0m\u001b[0;34m:\u001b[0m\u001b[0;34m\u001b[0m\u001b[0m\n\u001b[0;32m---> 25\u001b[0;31m             \u001b[0mrel_losses\u001b[0m \u001b[0;34m=\u001b[0m \u001b[0;34m[\u001b[0m\u001b[0mloss\u001b[0m\u001b[0;34m(\u001b[0m\u001b[0mmodel\u001b[0m\u001b[0;34m(\u001b[0m\u001b[0mX\u001b[0m\u001b[0;34m,\u001b[0m\u001b[0mY\u001b[0m\u001b[0;34m,\u001b[0m\u001b[0mW\u001b[0m\u001b[0;34m)\u001b[0m\u001b[0;34m,\u001b[0m\u001b[0mX\u001b[0m\u001b[0;34m)\u001b[0m \u001b[0;32mfor\u001b[0m \u001b[0mX\u001b[0m\u001b[0;34m,\u001b[0m \u001b[0mY\u001b[0m\u001b[0;34m,\u001b[0m \u001b[0mW\u001b[0m\u001b[0;34m,\u001b[0m \u001b[0mZ\u001b[0m \u001b[0;32min\u001b[0m \u001b[0mzip\u001b[0m\u001b[0;34m(\u001b[0m\u001b[0minput_rel_img\u001b[0m\u001b[0;34m,\u001b[0m\u001b[0minput_rel_qst\u001b[0m\u001b[0;34m,\u001b[0m\u001b[0mcoord_tensor\u001b[0m\u001b[0;34m,\u001b[0m\u001b[0mrel_label\u001b[0m\u001b[0;34m)\u001b[0m\u001b[0;34m]\u001b[0m\u001b[0;34m\u001b[0m\u001b[0m\n\u001b[0m\u001b[1;32m     26\u001b[0m             \u001b[0;31m#rel_output = model(input_rel_img,input_rel_qst)\u001b[0m\u001b[0;34m\u001b[0m\u001b[0;34m\u001b[0m\u001b[0m\n\u001b[1;32m     27\u001b[0m             \u001b[0;31m#rel_loss = loss(rel_output,rel_label)\u001b[0m\u001b[0;34m\u001b[0m\u001b[0;34m\u001b[0m\u001b[0m\n",
      "\u001b[0;32m/opt/venv/lib/python3.6/site-packages/mxnet/gluon/block.py\u001b[0m in \u001b[0;36m__call__\u001b[0;34m(self, *args)\u001b[0m\n\u001b[1;32m    304\u001b[0m     \u001b[0;32mdef\u001b[0m \u001b[0m__call__\u001b[0m\u001b[0;34m(\u001b[0m\u001b[0mself\u001b[0m\u001b[0;34m,\u001b[0m \u001b[0;34m*\u001b[0m\u001b[0margs\u001b[0m\u001b[0;34m)\u001b[0m\u001b[0;34m:\u001b[0m\u001b[0;34m\u001b[0m\u001b[0m\n\u001b[1;32m    305\u001b[0m         \u001b[0;34m\"\"\"Calls forward. Only accepts positional arguments.\"\"\"\u001b[0m\u001b[0;34m\u001b[0m\u001b[0m\n\u001b[0;32m--> 306\u001b[0;31m         \u001b[0;32mreturn\u001b[0m \u001b[0mself\u001b[0m\u001b[0;34m.\u001b[0m\u001b[0mforward\u001b[0m\u001b[0;34m(\u001b[0m\u001b[0;34m*\u001b[0m\u001b[0margs\u001b[0m\u001b[0;34m)\u001b[0m\u001b[0;34m\u001b[0m\u001b[0m\n\u001b[0m\u001b[1;32m    307\u001b[0m \u001b[0;34m\u001b[0m\u001b[0m\n\u001b[1;32m    308\u001b[0m     \u001b[0;32mdef\u001b[0m \u001b[0mforward\u001b[0m\u001b[0;34m(\u001b[0m\u001b[0mself\u001b[0m\u001b[0;34m,\u001b[0m \u001b[0;34m*\u001b[0m\u001b[0margs\u001b[0m\u001b[0;34m)\u001b[0m\u001b[0;34m:\u001b[0m\u001b[0;34m\u001b[0m\u001b[0m\n",
      "\u001b[0;32m/opt/venv/lib/python3.6/site-packages/mxnet/gluon/block.py\u001b[0m in \u001b[0;36mforward\u001b[0;34m(self, x, *args)\u001b[0m\n\u001b[1;32m    517\u001b[0m                     \u001b[0;32mreturn\u001b[0m \u001b[0mself\u001b[0m\u001b[0;34m.\u001b[0m\u001b[0m_call_cached_op\u001b[0m\u001b[0;34m(\u001b[0m\u001b[0mx\u001b[0m\u001b[0;34m,\u001b[0m \u001b[0;34m*\u001b[0m\u001b[0margs\u001b[0m\u001b[0;34m)\u001b[0m\u001b[0;34m\u001b[0m\u001b[0m\n\u001b[1;32m    518\u001b[0m                 \u001b[0mparams\u001b[0m \u001b[0;34m=\u001b[0m \u001b[0;34m{\u001b[0m\u001b[0mi\u001b[0m\u001b[0;34m:\u001b[0m \u001b[0mj\u001b[0m\u001b[0;34m.\u001b[0m\u001b[0mdata\u001b[0m\u001b[0;34m(\u001b[0m\u001b[0mctx\u001b[0m\u001b[0;34m)\u001b[0m \u001b[0;32mfor\u001b[0m \u001b[0mi\u001b[0m\u001b[0;34m,\u001b[0m \u001b[0mj\u001b[0m \u001b[0;32min\u001b[0m \u001b[0mself\u001b[0m\u001b[0;34m.\u001b[0m\u001b[0m_reg_params\u001b[0m\u001b[0;34m.\u001b[0m\u001b[0mitems\u001b[0m\u001b[0;34m(\u001b[0m\u001b[0;34m)\u001b[0m\u001b[0;34m}\u001b[0m\u001b[0;34m\u001b[0m\u001b[0m\n\u001b[0;32m--> 519\u001b[0;31m                 \u001b[0;32mreturn\u001b[0m \u001b[0mself\u001b[0m\u001b[0;34m.\u001b[0m\u001b[0mhybrid_forward\u001b[0m\u001b[0;34m(\u001b[0m\u001b[0mndarray\u001b[0m\u001b[0;34m,\u001b[0m \u001b[0mx\u001b[0m\u001b[0;34m,\u001b[0m \u001b[0;34m*\u001b[0m\u001b[0margs\u001b[0m\u001b[0;34m,\u001b[0m \u001b[0;34m**\u001b[0m\u001b[0mparams\u001b[0m\u001b[0;34m)\u001b[0m\u001b[0;34m\u001b[0m\u001b[0m\n\u001b[0m\u001b[1;32m    520\u001b[0m \u001b[0;34m\u001b[0m\u001b[0m\n\u001b[1;32m    521\u001b[0m         \u001b[0;32massert\u001b[0m \u001b[0misinstance\u001b[0m\u001b[0;34m(\u001b[0m\u001b[0mx\u001b[0m\u001b[0;34m,\u001b[0m \u001b[0mSymbol\u001b[0m\u001b[0;34m)\u001b[0m\u001b[0;34m,\u001b[0m\u001b[0;31m \u001b[0m\u001b[0;31m\\\u001b[0m\u001b[0;34m\u001b[0m\u001b[0m\n",
      "\u001b[0;32m/opt/venv/lib/python3.6/site-packages/mxnet/gluon/loss.py\u001b[0m in \u001b[0;36mhybrid_forward\u001b[0;34m(self, F, pred, label, sample_weight)\u001b[0m\n\u001b[1;32m    312\u001b[0m             \u001b[0mpred\u001b[0m \u001b[0;34m=\u001b[0m \u001b[0mF\u001b[0m\u001b[0;34m.\u001b[0m\u001b[0mlog_softmax\u001b[0m\u001b[0;34m(\u001b[0m\u001b[0mpred\u001b[0m\u001b[0;34m,\u001b[0m \u001b[0mself\u001b[0m\u001b[0;34m.\u001b[0m\u001b[0m_axis\u001b[0m\u001b[0;34m)\u001b[0m\u001b[0;34m\u001b[0m\u001b[0m\n\u001b[1;32m    313\u001b[0m         \u001b[0;32mif\u001b[0m \u001b[0mself\u001b[0m\u001b[0;34m.\u001b[0m\u001b[0m_sparse_label\u001b[0m\u001b[0;34m:\u001b[0m\u001b[0;34m\u001b[0m\u001b[0m\n\u001b[0;32m--> 314\u001b[0;31m             \u001b[0mloss\u001b[0m \u001b[0;34m=\u001b[0m \u001b[0;34m-\u001b[0m\u001b[0mF\u001b[0m\u001b[0;34m.\u001b[0m\u001b[0mpick\u001b[0m\u001b[0;34m(\u001b[0m\u001b[0mpred\u001b[0m\u001b[0;34m,\u001b[0m \u001b[0mlabel\u001b[0m\u001b[0;34m,\u001b[0m \u001b[0maxis\u001b[0m\u001b[0;34m=\u001b[0m\u001b[0mself\u001b[0m\u001b[0;34m.\u001b[0m\u001b[0m_axis\u001b[0m\u001b[0;34m,\u001b[0m \u001b[0mkeepdims\u001b[0m\u001b[0;34m=\u001b[0m\u001b[0;32mTrue\u001b[0m\u001b[0;34m)\u001b[0m\u001b[0;34m\u001b[0m\u001b[0m\n\u001b[0m\u001b[1;32m    315\u001b[0m         \u001b[0;32melse\u001b[0m\u001b[0;34m:\u001b[0m\u001b[0;34m\u001b[0m\u001b[0m\n\u001b[1;32m    316\u001b[0m             \u001b[0mlabel\u001b[0m \u001b[0;34m=\u001b[0m \u001b[0m_reshape_like\u001b[0m\u001b[0;34m(\u001b[0m\u001b[0mF\u001b[0m\u001b[0;34m,\u001b[0m \u001b[0mlabel\u001b[0m\u001b[0;34m,\u001b[0m \u001b[0mpred\u001b[0m\u001b[0;34m)\u001b[0m\u001b[0;34m\u001b[0m\u001b[0m\n",
      "\u001b[0;32m/opt/venv/lib/python3.6/site-packages/mxnet/ndarray/register.py\u001b[0m in \u001b[0;36mpick\u001b[0;34m(data, index, axis, keepdims, out, name, **kwargs)\u001b[0m\n",
      "\u001b[0;32m/opt/venv/lib/python3.6/site-packages/mxnet/_ctypes/ndarray.py\u001b[0m in \u001b[0;36m_imperative_invoke\u001b[0;34m(handle, ndargs, keys, vals, out)\u001b[0m\n\u001b[1;32m     90\u001b[0m         \u001b[0mc_str_array\u001b[0m\u001b[0;34m(\u001b[0m\u001b[0mkeys\u001b[0m\u001b[0;34m)\u001b[0m\u001b[0;34m,\u001b[0m\u001b[0;34m\u001b[0m\u001b[0m\n\u001b[1;32m     91\u001b[0m         \u001b[0mc_str_array\u001b[0m\u001b[0;34m(\u001b[0m\u001b[0;34m[\u001b[0m\u001b[0mstr\u001b[0m\u001b[0;34m(\u001b[0m\u001b[0ms\u001b[0m\u001b[0;34m)\u001b[0m \u001b[0;32mfor\u001b[0m \u001b[0ms\u001b[0m \u001b[0;32min\u001b[0m \u001b[0mvals\u001b[0m\u001b[0;34m]\u001b[0m\u001b[0;34m)\u001b[0m\u001b[0;34m,\u001b[0m\u001b[0;34m\u001b[0m\u001b[0m\n\u001b[0;32m---> 92\u001b[0;31m         ctypes.byref(out_stypes)))\n\u001b[0m\u001b[1;32m     93\u001b[0m \u001b[0;34m\u001b[0m\u001b[0m\n\u001b[1;32m     94\u001b[0m     \u001b[0;32mif\u001b[0m \u001b[0moriginal_output\u001b[0m \u001b[0;32mis\u001b[0m \u001b[0;32mnot\u001b[0m \u001b[0;32mNone\u001b[0m\u001b[0;34m:\u001b[0m\u001b[0;34m\u001b[0m\u001b[0m\n",
      "\u001b[0;32m/opt/venv/lib/python3.6/site-packages/mxnet/base.py\u001b[0m in \u001b[0;36mcheck_call\u001b[0;34m(ret)\u001b[0m\n\u001b[1;32m    144\u001b[0m     \"\"\"\n\u001b[1;32m    145\u001b[0m     \u001b[0;32mif\u001b[0m \u001b[0mret\u001b[0m \u001b[0;34m!=\u001b[0m \u001b[0;36m0\u001b[0m\u001b[0;34m:\u001b[0m\u001b[0;34m\u001b[0m\u001b[0m\n\u001b[0;32m--> 146\u001b[0;31m         \u001b[0;32mraise\u001b[0m \u001b[0mMXNetError\u001b[0m\u001b[0;34m(\u001b[0m\u001b[0mpy_str\u001b[0m\u001b[0;34m(\u001b[0m\u001b[0m_LIB\u001b[0m\u001b[0;34m.\u001b[0m\u001b[0mMXGetLastError\u001b[0m\u001b[0;34m(\u001b[0m\u001b[0;34m)\u001b[0m\u001b[0;34m)\u001b[0m\u001b[0;34m)\u001b[0m\u001b[0;34m\u001b[0m\u001b[0m\n\u001b[0m\u001b[1;32m    147\u001b[0m \u001b[0;34m\u001b[0m\u001b[0m\n\u001b[1;32m    148\u001b[0m \u001b[0;34m\u001b[0m\u001b[0m\n",
      "\u001b[0;31mMXNetError\u001b[0m: Shape inconsistent, Provided = [64,3,75,75], inferred shape=[64]"
     ]
    }
   ],
   "source": [
    "for epoch in tqdm(range(args['epoches'])):\n",
    "    cumulative_rel_loss = 0.0\n",
    "    cumulative_norel_loss = 0.0\n",
    "    \n",
    "    input_rel_train = rel_train.copy()\n",
    "    input_norel_train = norel_train.copy()\n",
    "    \n",
    "    #shuffle data\n",
    "    random.shuffle(input_rel_train)\n",
    "    random.shuffle(input_norel_train)\n",
    "    \n",
    "    rel = cvt_data_axis(input_rel_train)\n",
    "    norel = cvt_data_axis(input_norel_train)\n",
    "    \n",
    "    for batch_idx in tqdm(range(len(rel[0]) // (args['batch_size'] * 4))):\n",
    "        input_rel_img, input_rel_qst, rel_label = ndarray_conv(rel,batch_idx,args['batch_size']*4,ctx)\n",
    "        \n",
    "        #data split\n",
    "        input_rel_img = gluon.utils.split_and_load(input_rel_img,ctx)\n",
    "        input_rel_qst = gluon.utils.split_and_load(input_rel_qst,ctx)\n",
    "        rel_label = gluon.utils.split_and_load(rel_label,ctx)\n",
    "        coord_tensor = F.zeros((args['batch_size'] * 4, 25, 2))\n",
    "        coord_tensor = gluon.utils.split_and_load(coord_tensor,ctx)\n",
    "        with autograd.record():\n",
    "            rel_losses = [loss(model(X,Y,W),X) for X, Y, W, Z in zip(input_rel_img,input_rel_qst,coord_tensor,rel_label)]\n",
    "            #rel_output = model(input_rel_img,input_rel_qst)\n",
    "            #rel_loss = loss(rel_output,rel_label)\n",
    "        for l in rel_losses:\n",
    "            l.backward()\n",
    "        #rel_loss.backward()\n",
    "        trainer.step(args['batch_size'])\n",
    "        for l in rel_losses:\n",
    "            cumulative_rel_loss += nd.sum(l).asscalar()\n",
    "        #cumulative_rel_loss += nd.sum(rel_loss).asscalar()\n",
    "        \n",
    "        #input_norel_img, input_norel_qst, norel_label = ndarray_conv(norel,batch_idx,args['batch_size'],ctx)  \n",
    "       # with autograd.record():\n",
    "       #     norel_output = model(input_norel_img,input_norel_qst)\n",
    "       #     norel_loss = gluon.loss.SoftmaxCrossEntropyLoss()(norel_output,norel_label)\n",
    "       # norel_loss.backward()\n",
    "       # trainer.step(args['batch_size'])\n",
    "       # cumulative_norel_loss += nd.sum(norel_loss).asscalar()\n",
    "    print(\"Epoch {e}. rel_Loss: {rl} \".format(e=epoch, rl=cumulative_loss/(len(rel[0]) // (args['batch_size'] * 4))))\n",
    "    #print(\"Epoch {e}. rel_Loss: {rl} norel_Loss: {nrl}\".format(e=epoch, rl=cumulative_loss/(len(rel[0]) // args['batch_size']), nrl=cumulative_loss/ (len(rel[0]) // args['batch_size'])))"
   ]
  },
  {
   "cell_type": "code",
   "execution_count": 21,
   "metadata": {},
   "outputs": [
    {
     "data": {
      "text/plain": [
       "4"
      ]
     },
     "execution_count": 21,
     "metadata": {},
     "output_type": "execute_result"
    }
   ],
   "source": [
    "len(input_rel_img)"
   ]
  },
  {
   "cell_type": "code",
   "execution_count": 38,
   "metadata": {},
   "outputs": [
    {
     "data": {
      "text/plain": [
       "(16, 25, 2)"
      ]
     },
     "execution_count": 38,
     "metadata": {},
     "output_type": "execute_result"
    }
   ],
   "source": [
    "coord_tensor[0].shape"
   ]
  },
  {
   "cell_type": "code",
   "execution_count": 493,
   "metadata": {},
   "outputs": [
    {
     "data": {
      "text/plain": [
       "2"
      ]
     },
     "execution_count": 493,
     "metadata": {},
     "output_type": "execute_result"
    }
   ],
   "source": [
    "len(x_data_l)"
   ]
  },
  {
   "cell_type": "code",
   "execution_count": 488,
   "metadata": {},
   "outputs": [
    {
     "data": {
      "text/plain": [
       "[cpu(0), cpu(1)]"
      ]
     },
     "execution_count": 488,
     "metadata": {},
     "output_type": "execute_result"
    }
   ],
   "source": [
    "ctx"
   ]
  },
  {
   "cell_type": "code",
   "execution_count": 439,
   "metadata": {},
   "outputs": [
    {
     "ename": "NameError",
     "evalue": "name 'input_norel_train' is not defined",
     "output_type": "error",
     "traceback": [
      "\u001b[0;31m---------------------------------------------------------------------------\u001b[0m",
      "\u001b[0;31mNameError\u001b[0m                                 Traceback (most recent call last)",
      "\u001b[0;32m<ipython-input-439-29e3b4e21d49>\u001b[0m in \u001b[0;36m<module>\u001b[0;34m()\u001b[0m\n\u001b[0;32m----> 1\u001b[0;31m \u001b[0minput_norel_train\u001b[0m\u001b[0;34m\u001b[0m\u001b[0m\n\u001b[0m",
      "\u001b[0;31mNameError\u001b[0m: name 'input_norel_train' is not defined"
     ]
    }
   ],
   "source": [
    "input_norel_train"
   ]
  },
  {
   "cell_type": "code",
   "execution_count": 436,
   "metadata": {},
   "outputs": [],
   "source": [
    "input_rel_train = rel_train.copy()"
   ]
  },
  {
   "cell_type": "code",
   "execution_count": 231,
   "metadata": {},
   "outputs": [],
   "source": [
    "input_data = nd.random_normal(shape=(64,3,75,75))\n",
    "input_qst = nd.random_normal(shape=(64,11))"
   ]
  },
  {
   "cell_type": "code",
   "execution_count": 274,
   "metadata": {},
   "outputs": [],
   "source": []
  },
  {
   "cell_type": "code",
   "execution_count": 277,
   "metadata": {},
   "outputs": [
    {
     "data": {
      "text/plain": [
       "{'batch_size': 64}"
      ]
     },
     "execution_count": 277,
     "metadata": {},
     "output_type": "execute_result"
    }
   ],
   "source": [
    "args"
   ]
  },
  {
   "cell_type": "code",
   "execution_count": 338,
   "metadata": {},
   "outputs": [],
   "source": [
    "tmp1 = RN(args)"
   ]
  },
  {
   "cell_type": "code",
   "execution_count": 339,
   "metadata": {},
   "outputs": [],
   "source": [
    "tmp1.collect_params().initialize()"
   ]
  },
  {
   "cell_type": "code",
   "execution_count": 340,
   "metadata": {},
   "outputs": [],
   "source": [
    "out = tmp1(input_data,input_qst)"
   ]
  },
  {
   "cell_type": "code",
   "execution_count": 341,
   "metadata": {},
   "outputs": [
    {
     "data": {
      "text/plain": [
       "(64, 10)"
      ]
     },
     "execution_count": 341,
     "metadata": {},
     "output_type": "execute_result"
    }
   ],
   "source": [
    "out.shape"
   ]
  },
  {
   "cell_type": "code",
   "execution_count": 149,
   "metadata": {},
   "outputs": [
    {
     "data": {
      "text/plain": [
       "3"
      ]
     },
     "execution_count": 149,
     "metadata": {},
     "output_type": "execute_result"
    }
   ],
   "source": [
    "input_data.shape[1]"
   ]
  },
  {
   "cell_type": "code",
   "execution_count": 150,
   "metadata": {},
   "outputs": [],
   "source": [
    "x = tmp(input_data)"
   ]
  },
  {
   "cell_type": "code",
   "execution_count": 151,
   "metadata": {},
   "outputs": [
    {
     "data": {
      "text/plain": [
       "(64, 24, 5, 5)"
      ]
     },
     "execution_count": 151,
     "metadata": {},
     "output_type": "execute_result"
    }
   ],
   "source": [
    "x.shape"
   ]
  },
  {
   "cell_type": "code",
   "execution_count": 152,
   "metadata": {},
   "outputs": [],
   "source": [
    "mb = x.shape[0]\n",
    "n_channels = x.shape[1]\n",
    "d = x.shape[2]"
   ]
  },
  {
   "cell_type": "code",
   "execution_count": 155,
   "metadata": {},
   "outputs": [],
   "source": [
    "x_flat = x.reshape(shape=(mb,n_channels,d*d))\n",
    "x_flat = F.swapaxes(x_flat,1,2)"
   ]
  },
  {
   "cell_type": "code",
   "execution_count": 156,
   "metadata": {},
   "outputs": [
    {
     "data": {
      "text/plain": [
       "(64, 25, 24)"
      ]
     },
     "execution_count": 156,
     "metadata": {},
     "output_type": "execute_result"
    }
   ],
   "source": [
    "x_flat.shape"
   ]
  },
  {
   "cell_type": "code",
   "execution_count": 160,
   "metadata": {},
   "outputs": [],
   "source": [
    "a = np.arange(64*25*24)"
   ]
  },
  {
   "cell_type": "code",
   "execution_count": 164,
   "metadata": {},
   "outputs": [],
   "source": [
    "a = a.reshape((-1,25,24))"
   ]
  },
  {
   "cell_type": "code",
   "execution_count": 165,
   "metadata": {},
   "outputs": [
    {
     "data": {
      "text/plain": [
       "(64, 25, 24)"
      ]
     },
     "execution_count": 165,
     "metadata": {},
     "output_type": "execute_result"
    }
   ],
   "source": [
    "a.shape"
   ]
  },
  {
   "cell_type": "code",
   "execution_count": 213,
   "metadata": {},
   "outputs": [],
   "source": [
    "a_1 = np.expand_dims(a,axis=1)"
   ]
  },
  {
   "cell_type": "code",
   "execution_count": 214,
   "metadata": {},
   "outputs": [
    {
     "data": {
      "text/plain": [
       "(64, 1, 25, 24)"
      ]
     },
     "execution_count": 214,
     "metadata": {},
     "output_type": "execute_result"
    }
   ],
   "source": [
    "a_1.shape"
   ]
  },
  {
   "cell_type": "code",
   "execution_count": 215,
   "metadata": {},
   "outputs": [],
   "source": [
    "a_2 = np.repeat(a_1,repeats=25,axis=1)"
   ]
  },
  {
   "cell_type": "code",
   "execution_count": 216,
   "metadata": {},
   "outputs": [
    {
     "data": {
      "text/plain": [
       "(64, 25, 25, 24)"
      ]
     },
     "execution_count": 216,
     "metadata": {},
     "output_type": "execute_result"
    }
   ],
   "source": [
    "a_2.shape"
   ]
  },
  {
   "cell_type": "code",
   "execution_count": 226,
   "metadata": {},
   "outputs": [
    {
     "data": {
      "text/plain": [
       "(25, 24)"
      ]
     },
     "execution_count": 226,
     "metadata": {},
     "output_type": "execute_result"
    }
   ],
   "source": [
    "a_2[0][0].shape"
   ]
  },
  {
   "cell_type": "code",
   "execution_count": 74,
   "metadata": {},
   "outputs": [
    {
     "data": {
      "text/plain": [
       "(64, 25, 24)"
      ]
     },
     "execution_count": 74,
     "metadata": {},
     "output_type": "execute_result"
    }
   ],
   "source": [
    "x_flat.shape"
   ]
  },
  {
   "cell_type": "code",
   "execution_count": 169,
   "metadata": {},
   "outputs": [],
   "source": [
    "#arbitrary coordinate\n",
    "def cvt_coord(i):\n",
    "    #d=5, \n",
    "    return [(i/5-2)/2., (i%5-2)/2.]"
   ]
  },
  {
   "cell_type": "code",
   "execution_count": 170,
   "metadata": {},
   "outputs": [],
   "source": [
    "np_coord_tensor = np.zeros((64, 25, 2))\n",
    "for i in range(25):\n",
    "    np_coord_tensor[:,i,:] = np.array( cvt_coord(i) )"
   ]
  },
  {
   "cell_type": "code",
   "execution_count": 171,
   "metadata": {},
   "outputs": [],
   "source": [
    "np_coord_tensor = F.array(np_coord_tensor)"
   ]
  },
  {
   "cell_type": "code",
   "execution_count": 178,
   "metadata": {},
   "outputs": [],
   "source": [
    "x_flat = F.concat(x_flat,np_coord_tensor,dim=2)"
   ]
  },
  {
   "cell_type": "code",
   "execution_count": 227,
   "metadata": {},
   "outputs": [
    {
     "data": {
      "text/plain": [
       "(25, 25, 26)"
      ]
     },
     "execution_count": 227,
     "metadata": {},
     "output_type": "execute_result"
    }
   ],
   "source": [
    "#기준 위치\n",
    "x_i = x_flat.expand_dims(1)\n",
    "x_i = F.repeat(x_i,repeats=25,axis=1)\n",
    "x_i[2].shape"
   ]
  },
  {
   "cell_type": "code",
   "execution_count": 228,
   "metadata": {},
   "outputs": [],
   "source": [
    "x_j = x_flat.expand_dims(2)"
   ]
  },
  {
   "cell_type": "code",
   "execution_count": 230,
   "metadata": {},
   "outputs": [
    {
     "data": {
      "text/plain": [
       "(64, 25, 1, 26)"
      ]
     },
     "execution_count": 230,
     "metadata": {},
     "output_type": "execute_result"
    }
   ],
   "source": [
    "x_j.shape"
   ]
  },
  {
   "cell_type": "code",
   "execution_count": 293,
   "metadata": {},
   "outputs": [],
   "source": [
    "qst = input_qst.expand_dims(1)\n",
    "qst = F.repeat(qst,repeats=25,axis=1)\n",
    "qst = qst.expand_dims(2)"
   ]
  },
  {
   "cell_type": "code",
   "execution_count": 243,
   "metadata": {},
   "outputs": [
    {
     "data": {
      "text/plain": [
       "(64, 25, 1, 11)"
      ]
     },
     "execution_count": 243,
     "metadata": {},
     "output_type": "execute_result"
    }
   ],
   "source": [
    "qst.shape"
   ]
  },
  {
   "cell_type": "code",
   "execution_count": 245,
   "metadata": {},
   "outputs": [],
   "source": [
    "x_j = F.concat(x_j,qst,dim=3)"
   ]
  },
  {
   "cell_type": "code",
   "execution_count": 246,
   "metadata": {},
   "outputs": [
    {
     "data": {
      "text/plain": [
       "(64, 25, 1, 37)"
      ]
     },
     "execution_count": 246,
     "metadata": {},
     "output_type": "execute_result"
    }
   ],
   "source": [
    "x_j.shape"
   ]
  },
  {
   "cell_type": "code",
   "execution_count": 247,
   "metadata": {},
   "outputs": [],
   "source": [
    "x_j = F.repeat(x_j,repeats=25,axis=2)"
   ]
  },
  {
   "cell_type": "code",
   "execution_count": 248,
   "metadata": {},
   "outputs": [
    {
     "data": {
      "text/plain": [
       "(64, 25, 25, 37)"
      ]
     },
     "execution_count": 248,
     "metadata": {},
     "output_type": "execute_result"
    }
   ],
   "source": [
    "x_j.shape"
   ]
  },
  {
   "cell_type": "code",
   "execution_count": 249,
   "metadata": {},
   "outputs": [],
   "source": [
    "x_full = F.concat(x_i,x_j,dim=3)"
   ]
  },
  {
   "cell_type": "code",
   "execution_count": 250,
   "metadata": {},
   "outputs": [
    {
     "data": {
      "text/plain": [
       "(64, 25, 25, 63)"
      ]
     },
     "execution_count": 250,
     "metadata": {},
     "output_type": "execute_result"
    }
   ],
   "source": [
    "x_full.shape"
   ]
  },
  {
   "cell_type": "code",
   "execution_count": 251,
   "metadata": {},
   "outputs": [],
   "source": [
    "x_ = x_full.reshape((-1,63))"
   ]
  },
  {
   "cell_type": "code",
   "execution_count": 254,
   "metadata": {},
   "outputs": [
    {
     "data": {
      "text/plain": [
       "(64, 25, 25, 63)"
      ]
     },
     "execution_count": 254,
     "metadata": {},
     "output_type": "execute_result"
    }
   ],
   "source": [
    "x_full.shape"
   ]
  },
  {
   "cell_type": "code",
   "execution_count": 252,
   "metadata": {},
   "outputs": [
    {
     "data": {
      "text/plain": [
       "(40000, 63)"
      ]
     },
     "execution_count": 252,
     "metadata": {},
     "output_type": "execute_result"
    }
   ],
   "source": [
    "x_.shape"
   ]
  },
  {
   "cell_type": "code",
   "execution_count": 253,
   "metadata": {},
   "outputs": [
    {
     "data": {
      "text/plain": [
       "40000"
      ]
     },
     "execution_count": 253,
     "metadata": {},
     "output_type": "execute_result"
    }
   ],
   "source": [
    "mb * d*d*d*d"
   ]
  },
  {
   "cell_type": "code",
   "execution_count": 256,
   "metadata": {},
   "outputs": [],
   "source": [
    "x_g = x_.reshape((64,-1,63))"
   ]
  },
  {
   "cell_type": "code",
   "execution_count": 257,
   "metadata": {},
   "outputs": [
    {
     "data": {
      "text/plain": [
       "(64, 625, 63)"
      ]
     },
     "execution_count": 257,
     "metadata": {},
     "output_type": "execute_result"
    }
   ],
   "source": [
    "x_g.shape"
   ]
  },
  {
   "cell_type": "code",
   "execution_count": 269,
   "metadata": {},
   "outputs": [
    {
     "data": {
      "text/plain": [
       "(64, 63)"
      ]
     },
     "execution_count": 269,
     "metadata": {},
     "output_type": "execute_result"
    }
   ],
   "source": [
    "F.s"
   ]
  },
  {
   "cell_type": "code",
   "execution_count": 265,
   "metadata": {},
   "outputs": [
    {
     "ename": "AttributeError",
     "evalue": "'NDArray' object has no attribute 'squeeze'",
     "output_type": "error",
     "traceback": [
      "\u001b[0;31m---------------------------------------------------------------------------\u001b[0m",
      "\u001b[0;31mAttributeError\u001b[0m                            Traceback (most recent call last)",
      "\u001b[0;32m<ipython-input-265-e6c01af56750>\u001b[0m in \u001b[0;36m<module>\u001b[0;34m()\u001b[0m\n\u001b[0;32m----> 1\u001b[0;31m \u001b[0mx_g\u001b[0m\u001b[0;34m.\u001b[0m\u001b[0msum\u001b[0m\u001b[0;34m(\u001b[0m\u001b[0;36m1\u001b[0m\u001b[0;34m)\u001b[0m\u001b[0;34m.\u001b[0m\u001b[0msqueeze\u001b[0m\u001b[0;34m(\u001b[0m\u001b[0;34m)\u001b[0m\u001b[0;34m\u001b[0m\u001b[0m\n\u001b[0m",
      "\u001b[0;31mAttributeError\u001b[0m: 'NDArray' object has no attribute 'squeeze'"
     ]
    }
   ],
   "source": [
    "x_g.sum(1).squeeze()"
   ]
  },
  {
   "cell_type": "code",
   "execution_count": 260,
   "metadata": {},
   "outputs": [],
   "source": [
    "tmp = np.arange(10)\n",
    "tmp = tmp.reshape(5,2)"
   ]
  },
  {
   "cell_type": "code",
   "execution_count": 261,
   "metadata": {},
   "outputs": [
    {
     "data": {
      "text/plain": [
       "array([[0, 1],\n",
       "       [2, 3],\n",
       "       [4, 5],\n",
       "       [6, 7],\n",
       "       [8, 9]])"
      ]
     },
     "execution_count": 261,
     "metadata": {},
     "output_type": "execute_result"
    }
   ],
   "source": [
    "tmp"
   ]
  },
  {
   "cell_type": "code",
   "execution_count": 264,
   "metadata": {},
   "outputs": [
    {
     "data": {
      "text/plain": [
       "array([ 1,  5,  9, 13, 17])"
      ]
     },
     "execution_count": 264,
     "metadata": {},
     "output_type": "execute_result"
    }
   ],
   "source": [
    "tmp.sum(1)"
   ]
  },
  {
   "cell_type": "code",
   "execution_count": 335,
   "metadata": {},
   "outputs": [
    {
     "data": {
      "text/plain": [
       "\n",
       "[[ 0.  0.]]\n",
       "<NDArray 1x2 @cpu(0)>"
      ]
     },
     "execution_count": 335,
     "metadata": {},
     "output_type": "execute_result"
    }
   ],
   "source": [
    "F.zeros((1,2))"
   ]
  },
  {
   "cell_type": "code",
   "execution_count": 336,
   "metadata": {},
   "outputs": [
    {
     "data": {
      "text/plain": [
       "\n",
       "[[[-1.         -1.        ]\n",
       "  [-0.89999998 -0.5       ]\n",
       "  [-0.80000001  0.        ]\n",
       "  ..., \n",
       "  [ 1.20000005  0.        ]\n",
       "  [ 1.29999995  0.5       ]\n",
       "  [ 1.39999998  1.        ]]\n",
       "\n",
       " [[-1.         -1.        ]\n",
       "  [-0.89999998 -0.5       ]\n",
       "  [-0.80000001  0.        ]\n",
       "  ..., \n",
       "  [ 1.20000005  0.        ]\n",
       "  [ 1.29999995  0.5       ]\n",
       "  [ 1.39999998  1.        ]]\n",
       "\n",
       " [[-1.         -1.        ]\n",
       "  [-0.89999998 -0.5       ]\n",
       "  [-0.80000001  0.        ]\n",
       "  ..., \n",
       "  [ 1.20000005  0.        ]\n",
       "  [ 1.29999995  0.5       ]\n",
       "  [ 1.39999998  1.        ]]\n",
       "\n",
       " ..., \n",
       " [[-1.         -1.        ]\n",
       "  [-0.89999998 -0.5       ]\n",
       "  [-0.80000001  0.        ]\n",
       "  ..., \n",
       "  [ 1.20000005  0.        ]\n",
       "  [ 1.29999995  0.5       ]\n",
       "  [ 1.39999998  1.        ]]\n",
       "\n",
       " [[-1.         -1.        ]\n",
       "  [-0.89999998 -0.5       ]\n",
       "  [-0.80000001  0.        ]\n",
       "  ..., \n",
       "  [ 1.20000005  0.        ]\n",
       "  [ 1.29999995  0.5       ]\n",
       "  [ 1.39999998  1.        ]]\n",
       "\n",
       " [[-1.         -1.        ]\n",
       "  [-0.89999998 -0.5       ]\n",
       "  [-0.80000001  0.        ]\n",
       "  ..., \n",
       "  [ 1.20000005  0.        ]\n",
       "  [ 1.29999995  0.5       ]\n",
       "  [ 1.39999998  1.        ]]]\n",
       "<NDArray 64x25x2 @cpu(0)>"
      ]
     },
     "execution_count": 336,
     "metadata": {},
     "output_type": "execute_result"
    }
   ],
   "source": [
    "np_coord_tensor"
   ]
  },
  {
   "cell_type": "code",
   "execution_count": 495,
   "metadata": {},
   "outputs": [],
   "source": [
    "l =  [ 0.1,0.2,0.3,0.1]"
   ]
  },
  {
   "cell_type": "code",
   "execution_count": 496,
   "metadata": {},
   "outputs": [
    {
     "data": {
      "text/plain": [
       "0.7000000000000001"
      ]
     },
     "execution_count": 496,
     "metadata": {},
     "output_type": "execute_result"
    }
   ],
   "source": [
    "sum(l)"
   ]
  },
  {
   "cell_type": "code",
   "execution_count": 497,
   "metadata": {},
   "outputs": [
    {
     "data": {
      "text/plain": [
       "\n",
       "[ 0.8638171   2.19165182  2.2794652   1.93392825  1.67920315  0.66911793\n",
       "  3.90173435  0.64199305  0.81745774  1.59799993  3.23418808  1.56617522\n",
       "  2.06428051  3.23854423  2.92173195  1.44944358  2.17308736  1.64353788\n",
       "  1.88338935  4.87075329  0.95933688  2.94571495  5.46033525  1.49808955\n",
       "  2.86410332  3.43375087  1.05889845  1.29653597  1.77711678  1.50299072\n",
       "  0.64863592  2.32399464  1.25179076  2.41068554  4.2410779   2.47937489\n",
       "  1.86308432  1.49021065  3.76145196  2.03952098  1.21094859  0.54347241\n",
       "  2.50145411  2.61306548  4.89950943  0.86969173  1.96627736  1.082003\n",
       "  1.3611505   1.78630376  0.76254135  0.91958207  0.96428132  1.07121336\n",
       "  1.87720156  2.15225267  1.05590534  0.89416265  4.75213766  2.61064196\n",
       "  1.46157229  3.2163353   1.7334311   0.36240873]\n",
       "<NDArray 64 @cpu(0)>"
      ]
     },
     "execution_count": 497,
     "metadata": {},
     "output_type": "execute_result"
    }
   ],
   "source": [
    "rel_loss"
   ]
  },
  {
   "cell_type": "code",
   "execution_count": 36,
   "metadata": {},
   "outputs": [],
   "source": [
    " a = F.zeros((args['batch_size'], 25, 2))"
   ]
  },
  {
   "cell_type": "code",
   "execution_count": 37,
   "metadata": {},
   "outputs": [],
   "source": [
    "b = gluon.utils.split_and_load(a,ctx)"
   ]
  },
  {
   "cell_type": "code",
   "execution_count": 40,
   "metadata": {},
   "outputs": [
    {
     "data": {
      "text/plain": [
       "\n",
       "[[[ 0.  0.]\n",
       "  [ 0.  0.]\n",
       "  [ 0.  0.]\n",
       "  [ 0.  0.]\n",
       "  [ 0.  0.]\n",
       "  [ 0.  0.]\n",
       "  [ 0.  0.]\n",
       "  [ 0.  0.]\n",
       "  [ 0.  0.]\n",
       "  [ 0.  0.]\n",
       "  [ 0.  0.]\n",
       "  [ 0.  0.]\n",
       "  [ 0.  0.]\n",
       "  [ 0.  0.]\n",
       "  [ 0.  0.]\n",
       "  [ 0.  0.]\n",
       "  [ 0.  0.]\n",
       "  [ 0.  0.]\n",
       "  [ 0.  0.]\n",
       "  [ 0.  0.]\n",
       "  [ 0.  0.]\n",
       "  [ 0.  0.]\n",
       "  [ 0.  0.]\n",
       "  [ 0.  0.]\n",
       "  [ 0.  0.]]\n",
       "\n",
       " [[ 0.  0.]\n",
       "  [ 0.  0.]\n",
       "  [ 0.  0.]\n",
       "  [ 0.  0.]\n",
       "  [ 0.  0.]\n",
       "  [ 0.  0.]\n",
       "  [ 0.  0.]\n",
       "  [ 0.  0.]\n",
       "  [ 0.  0.]\n",
       "  [ 0.  0.]\n",
       "  [ 0.  0.]\n",
       "  [ 0.  0.]\n",
       "  [ 0.  0.]\n",
       "  [ 0.  0.]\n",
       "  [ 0.  0.]\n",
       "  [ 0.  0.]\n",
       "  [ 0.  0.]\n",
       "  [ 0.  0.]\n",
       "  [ 0.  0.]\n",
       "  [ 0.  0.]\n",
       "  [ 0.  0.]\n",
       "  [ 0.  0.]\n",
       "  [ 0.  0.]\n",
       "  [ 0.  0.]\n",
       "  [ 0.  0.]]\n",
       "\n",
       " [[ 0.  0.]\n",
       "  [ 0.  0.]\n",
       "  [ 0.  0.]\n",
       "  [ 0.  0.]\n",
       "  [ 0.  0.]\n",
       "  [ 0.  0.]\n",
       "  [ 0.  0.]\n",
       "  [ 0.  0.]\n",
       "  [ 0.  0.]\n",
       "  [ 0.  0.]\n",
       "  [ 0.  0.]\n",
       "  [ 0.  0.]\n",
       "  [ 0.  0.]\n",
       "  [ 0.  0.]\n",
       "  [ 0.  0.]\n",
       "  [ 0.  0.]\n",
       "  [ 0.  0.]\n",
       "  [ 0.  0.]\n",
       "  [ 0.  0.]\n",
       "  [ 0.  0.]\n",
       "  [ 0.  0.]\n",
       "  [ 0.  0.]\n",
       "  [ 0.  0.]\n",
       "  [ 0.  0.]\n",
       "  [ 0.  0.]]\n",
       "\n",
       " [[ 0.  0.]\n",
       "  [ 0.  0.]\n",
       "  [ 0.  0.]\n",
       "  [ 0.  0.]\n",
       "  [ 0.  0.]\n",
       "  [ 0.  0.]\n",
       "  [ 0.  0.]\n",
       "  [ 0.  0.]\n",
       "  [ 0.  0.]\n",
       "  [ 0.  0.]\n",
       "  [ 0.  0.]\n",
       "  [ 0.  0.]\n",
       "  [ 0.  0.]\n",
       "  [ 0.  0.]\n",
       "  [ 0.  0.]\n",
       "  [ 0.  0.]\n",
       "  [ 0.  0.]\n",
       "  [ 0.  0.]\n",
       "  [ 0.  0.]\n",
       "  [ 0.  0.]\n",
       "  [ 0.  0.]\n",
       "  [ 0.  0.]\n",
       "  [ 0.  0.]\n",
       "  [ 0.  0.]\n",
       "  [ 0.  0.]]\n",
       "\n",
       " [[ 0.  0.]\n",
       "  [ 0.  0.]\n",
       "  [ 0.  0.]\n",
       "  [ 0.  0.]\n",
       "  [ 0.  0.]\n",
       "  [ 0.  0.]\n",
       "  [ 0.  0.]\n",
       "  [ 0.  0.]\n",
       "  [ 0.  0.]\n",
       "  [ 0.  0.]\n",
       "  [ 0.  0.]\n",
       "  [ 0.  0.]\n",
       "  [ 0.  0.]\n",
       "  [ 0.  0.]\n",
       "  [ 0.  0.]\n",
       "  [ 0.  0.]\n",
       "  [ 0.  0.]\n",
       "  [ 0.  0.]\n",
       "  [ 0.  0.]\n",
       "  [ 0.  0.]\n",
       "  [ 0.  0.]\n",
       "  [ 0.  0.]\n",
       "  [ 0.  0.]\n",
       "  [ 0.  0.]\n",
       "  [ 0.  0.]]\n",
       "\n",
       " [[ 0.  0.]\n",
       "  [ 0.  0.]\n",
       "  [ 0.  0.]\n",
       "  [ 0.  0.]\n",
       "  [ 0.  0.]\n",
       "  [ 0.  0.]\n",
       "  [ 0.  0.]\n",
       "  [ 0.  0.]\n",
       "  [ 0.  0.]\n",
       "  [ 0.  0.]\n",
       "  [ 0.  0.]\n",
       "  [ 0.  0.]\n",
       "  [ 0.  0.]\n",
       "  [ 0.  0.]\n",
       "  [ 0.  0.]\n",
       "  [ 0.  0.]\n",
       "  [ 0.  0.]\n",
       "  [ 0.  0.]\n",
       "  [ 0.  0.]\n",
       "  [ 0.  0.]\n",
       "  [ 0.  0.]\n",
       "  [ 0.  0.]\n",
       "  [ 0.  0.]\n",
       "  [ 0.  0.]\n",
       "  [ 0.  0.]]\n",
       "\n",
       " [[ 0.  0.]\n",
       "  [ 0.  0.]\n",
       "  [ 0.  0.]\n",
       "  [ 0.  0.]\n",
       "  [ 0.  0.]\n",
       "  [ 0.  0.]\n",
       "  [ 0.  0.]\n",
       "  [ 0.  0.]\n",
       "  [ 0.  0.]\n",
       "  [ 0.  0.]\n",
       "  [ 0.  0.]\n",
       "  [ 0.  0.]\n",
       "  [ 0.  0.]\n",
       "  [ 0.  0.]\n",
       "  [ 0.  0.]\n",
       "  [ 0.  0.]\n",
       "  [ 0.  0.]\n",
       "  [ 0.  0.]\n",
       "  [ 0.  0.]\n",
       "  [ 0.  0.]\n",
       "  [ 0.  0.]\n",
       "  [ 0.  0.]\n",
       "  [ 0.  0.]\n",
       "  [ 0.  0.]\n",
       "  [ 0.  0.]]\n",
       "\n",
       " [[ 0.  0.]\n",
       "  [ 0.  0.]\n",
       "  [ 0.  0.]\n",
       "  [ 0.  0.]\n",
       "  [ 0.  0.]\n",
       "  [ 0.  0.]\n",
       "  [ 0.  0.]\n",
       "  [ 0.  0.]\n",
       "  [ 0.  0.]\n",
       "  [ 0.  0.]\n",
       "  [ 0.  0.]\n",
       "  [ 0.  0.]\n",
       "  [ 0.  0.]\n",
       "  [ 0.  0.]\n",
       "  [ 0.  0.]\n",
       "  [ 0.  0.]\n",
       "  [ 0.  0.]\n",
       "  [ 0.  0.]\n",
       "  [ 0.  0.]\n",
       "  [ 0.  0.]\n",
       "  [ 0.  0.]\n",
       "  [ 0.  0.]\n",
       "  [ 0.  0.]\n",
       "  [ 0.  0.]\n",
       "  [ 0.  0.]]\n",
       "\n",
       " [[ 0.  0.]\n",
       "  [ 0.  0.]\n",
       "  [ 0.  0.]\n",
       "  [ 0.  0.]\n",
       "  [ 0.  0.]\n",
       "  [ 0.  0.]\n",
       "  [ 0.  0.]\n",
       "  [ 0.  0.]\n",
       "  [ 0.  0.]\n",
       "  [ 0.  0.]\n",
       "  [ 0.  0.]\n",
       "  [ 0.  0.]\n",
       "  [ 0.  0.]\n",
       "  [ 0.  0.]\n",
       "  [ 0.  0.]\n",
       "  [ 0.  0.]\n",
       "  [ 0.  0.]\n",
       "  [ 0.  0.]\n",
       "  [ 0.  0.]\n",
       "  [ 0.  0.]\n",
       "  [ 0.  0.]\n",
       "  [ 0.  0.]\n",
       "  [ 0.  0.]\n",
       "  [ 0.  0.]\n",
       "  [ 0.  0.]]\n",
       "\n",
       " [[ 0.  0.]\n",
       "  [ 0.  0.]\n",
       "  [ 0.  0.]\n",
       "  [ 0.  0.]\n",
       "  [ 0.  0.]\n",
       "  [ 0.  0.]\n",
       "  [ 0.  0.]\n",
       "  [ 0.  0.]\n",
       "  [ 0.  0.]\n",
       "  [ 0.  0.]\n",
       "  [ 0.  0.]\n",
       "  [ 0.  0.]\n",
       "  [ 0.  0.]\n",
       "  [ 0.  0.]\n",
       "  [ 0.  0.]\n",
       "  [ 0.  0.]\n",
       "  [ 0.  0.]\n",
       "  [ 0.  0.]\n",
       "  [ 0.  0.]\n",
       "  [ 0.  0.]\n",
       "  [ 0.  0.]\n",
       "  [ 0.  0.]\n",
       "  [ 0.  0.]\n",
       "  [ 0.  0.]\n",
       "  [ 0.  0.]]\n",
       "\n",
       " [[ 0.  0.]\n",
       "  [ 0.  0.]\n",
       "  [ 0.  0.]\n",
       "  [ 0.  0.]\n",
       "  [ 0.  0.]\n",
       "  [ 0.  0.]\n",
       "  [ 0.  0.]\n",
       "  [ 0.  0.]\n",
       "  [ 0.  0.]\n",
       "  [ 0.  0.]\n",
       "  [ 0.  0.]\n",
       "  [ 0.  0.]\n",
       "  [ 0.  0.]\n",
       "  [ 0.  0.]\n",
       "  [ 0.  0.]\n",
       "  [ 0.  0.]\n",
       "  [ 0.  0.]\n",
       "  [ 0.  0.]\n",
       "  [ 0.  0.]\n",
       "  [ 0.  0.]\n",
       "  [ 0.  0.]\n",
       "  [ 0.  0.]\n",
       "  [ 0.  0.]\n",
       "  [ 0.  0.]\n",
       "  [ 0.  0.]]\n",
       "\n",
       " [[ 0.  0.]\n",
       "  [ 0.  0.]\n",
       "  [ 0.  0.]\n",
       "  [ 0.  0.]\n",
       "  [ 0.  0.]\n",
       "  [ 0.  0.]\n",
       "  [ 0.  0.]\n",
       "  [ 0.  0.]\n",
       "  [ 0.  0.]\n",
       "  [ 0.  0.]\n",
       "  [ 0.  0.]\n",
       "  [ 0.  0.]\n",
       "  [ 0.  0.]\n",
       "  [ 0.  0.]\n",
       "  [ 0.  0.]\n",
       "  [ 0.  0.]\n",
       "  [ 0.  0.]\n",
       "  [ 0.  0.]\n",
       "  [ 0.  0.]\n",
       "  [ 0.  0.]\n",
       "  [ 0.  0.]\n",
       "  [ 0.  0.]\n",
       "  [ 0.  0.]\n",
       "  [ 0.  0.]\n",
       "  [ 0.  0.]]\n",
       "\n",
       " [[ 0.  0.]\n",
       "  [ 0.  0.]\n",
       "  [ 0.  0.]\n",
       "  [ 0.  0.]\n",
       "  [ 0.  0.]\n",
       "  [ 0.  0.]\n",
       "  [ 0.  0.]\n",
       "  [ 0.  0.]\n",
       "  [ 0.  0.]\n",
       "  [ 0.  0.]\n",
       "  [ 0.  0.]\n",
       "  [ 0.  0.]\n",
       "  [ 0.  0.]\n",
       "  [ 0.  0.]\n",
       "  [ 0.  0.]\n",
       "  [ 0.  0.]\n",
       "  [ 0.  0.]\n",
       "  [ 0.  0.]\n",
       "  [ 0.  0.]\n",
       "  [ 0.  0.]\n",
       "  [ 0.  0.]\n",
       "  [ 0.  0.]\n",
       "  [ 0.  0.]\n",
       "  [ 0.  0.]\n",
       "  [ 0.  0.]]\n",
       "\n",
       " [[ 0.  0.]\n",
       "  [ 0.  0.]\n",
       "  [ 0.  0.]\n",
       "  [ 0.  0.]\n",
       "  [ 0.  0.]\n",
       "  [ 0.  0.]\n",
       "  [ 0.  0.]\n",
       "  [ 0.  0.]\n",
       "  [ 0.  0.]\n",
       "  [ 0.  0.]\n",
       "  [ 0.  0.]\n",
       "  [ 0.  0.]\n",
       "  [ 0.  0.]\n",
       "  [ 0.  0.]\n",
       "  [ 0.  0.]\n",
       "  [ 0.  0.]\n",
       "  [ 0.  0.]\n",
       "  [ 0.  0.]\n",
       "  [ 0.  0.]\n",
       "  [ 0.  0.]\n",
       "  [ 0.  0.]\n",
       "  [ 0.  0.]\n",
       "  [ 0.  0.]\n",
       "  [ 0.  0.]\n",
       "  [ 0.  0.]]\n",
       "\n",
       " [[ 0.  0.]\n",
       "  [ 0.  0.]\n",
       "  [ 0.  0.]\n",
       "  [ 0.  0.]\n",
       "  [ 0.  0.]\n",
       "  [ 0.  0.]\n",
       "  [ 0.  0.]\n",
       "  [ 0.  0.]\n",
       "  [ 0.  0.]\n",
       "  [ 0.  0.]\n",
       "  [ 0.  0.]\n",
       "  [ 0.  0.]\n",
       "  [ 0.  0.]\n",
       "  [ 0.  0.]\n",
       "  [ 0.  0.]\n",
       "  [ 0.  0.]\n",
       "  [ 0.  0.]\n",
       "  [ 0.  0.]\n",
       "  [ 0.  0.]\n",
       "  [ 0.  0.]\n",
       "  [ 0.  0.]\n",
       "  [ 0.  0.]\n",
       "  [ 0.  0.]\n",
       "  [ 0.  0.]\n",
       "  [ 0.  0.]]\n",
       "\n",
       " [[ 0.  0.]\n",
       "  [ 0.  0.]\n",
       "  [ 0.  0.]\n",
       "  [ 0.  0.]\n",
       "  [ 0.  0.]\n",
       "  [ 0.  0.]\n",
       "  [ 0.  0.]\n",
       "  [ 0.  0.]\n",
       "  [ 0.  0.]\n",
       "  [ 0.  0.]\n",
       "  [ 0.  0.]\n",
       "  [ 0.  0.]\n",
       "  [ 0.  0.]\n",
       "  [ 0.  0.]\n",
       "  [ 0.  0.]\n",
       "  [ 0.  0.]\n",
       "  [ 0.  0.]\n",
       "  [ 0.  0.]\n",
       "  [ 0.  0.]\n",
       "  [ 0.  0.]\n",
       "  [ 0.  0.]\n",
       "  [ 0.  0.]\n",
       "  [ 0.  0.]\n",
       "  [ 0.  0.]\n",
       "  [ 0.  0.]]]\n",
       "<NDArray 16x25x2 @gpu(1)>"
      ]
     },
     "execution_count": 40,
     "metadata": {},
     "output_type": "execute_result"
    }
   ],
   "source": [
    "b[1]"
   ]
  },
  {
   "cell_type": "code",
   "execution_count": 24,
   "metadata": {},
   "outputs": [
    {
     "data": {
      "text/plain": [
       "16.0"
      ]
     },
     "execution_count": 24,
     "metadata": {},
     "output_type": "execute_result"
    }
   ],
   "source": [
    "64/4"
   ]
  },
  {
   "cell_type": "code",
   "execution_count": null,
   "metadata": {},
   "outputs": [],
   "source": []
  }
 ],
 "metadata": {
  "kernelspec": {
   "display_name": "Python 3",
   "language": "python",
   "name": "python3"
  },
  "language_info": {
   "codemirror_mode": {
    "name": "ipython",
    "version": 3
   },
   "file_extension": ".py",
   "mimetype": "text/x-python",
   "name": "python",
   "nbconvert_exporter": "python",
   "pygments_lexer": "ipython3",
   "version": "3.6.3"
  }
 },
 "nbformat": 4,
 "nbformat_minor": 2
}
